{
 "cells": [
  {
   "cell_type": "code",
   "execution_count": 1,
   "metadata": {
    "editable": true
   },
   "outputs": [],
   "source": [
    "# Do all imports and installs here - Done\n",
    "from pyspark.sql import SparkSession\n",
    "from pyspark.sql.functions import udf\n",
    "import pandas as pd\n",
    "import re\n",
    "import configparser\n",
    "import os"
   ]
  },
  {
   "cell_type": "code",
   "execution_count": 2,
   "metadata": {
    "editable": true
   },
   "outputs": [
    {
     "data": {
      "text/plain": [
       "['etl.cfg']"
      ]
     },
     "execution_count": 2,
     "metadata": {},
     "output_type": "execute_result"
    }
   ],
   "source": [
    "# Parse configurations - Done\n",
    "config = configparser.ConfigParser()\n",
    "config.read('etl.cfg')"
   ]
  },
  {
   "cell_type": "code",
   "execution_count": 3,
   "metadata": {
    "editable": true
   },
   "outputs": [],
   "source": [
    "# Run on production version\n",
    "spark = SparkSession.builder\\\n",
    "            .config(\"spark.jars.repositories\", \"https://repos.spark-packages.org/\")\\\n",
    "            .config(\"spark.jars.packages\", \"saurfang:spark-sas7bdat:2.0.0-s_2.11\")\\\n",
    "            .enableHiveSupport()\\\n",
    "            .getOrCreate()"
   ]
  },
  {
   "cell_type": "code",
   "execution_count": 30,
   "metadata": {
    "editable": true
   },
   "outputs": [],
   "source": [
    "def convert_column_names(df):\n",
    "    '''\n",
    "    This procedure standardizing column names to snake case format. Format ex: customer_name, billing_address, total_price.\n",
    "    \n",
    "    Parameters\n",
    "    ----------\n",
    "    dataframe : string_of_dataframe\n",
    "        The input dataframe with column names might have elements of messy columns names, including accents, different delimiters, casing and multiple white spaces.\n",
    "        Snake case style replaces the white spaces and symbol delimiters with underscore and converts all characters to lower case\n",
    "    \n",
    "    Returns\n",
    "    -------\n",
    "    Dataframe with column names has been changed to snake case format.\n",
    "    '''\n",
    "    cols = df.columns\n",
    "    column_name_changed = []\n",
    "\n",
    "    for col in cols:\n",
    "        new_column = col.lstrip().rstrip().lower().replace (\" \", \"_\").replace (\"-\", \"_\") #strip beginning spaces, makes lowercase, add underscpre\n",
    "        column_name_changed.append(new_column)\n",
    "\n",
    "    df.columns = column_name_changed"
   ]
  },
  {
   "cell_type": "code",
   "execution_count": 5,
   "metadata": {
    "editable": true
   },
   "outputs": [],
   "source": [
    "input_data_source = config.get('DIR','INPUT_DIR')\n",
    "output_processed_data = config.get('DIR','OUTPUT_DIR')\n",
    "\n",
    "i94immi_dataset = config.get('DATA','I94_IMMI')\n",
    "worldtempe_dataset = config.get('DATA','WORLD_TEMPE')\n",
    "citydemo_dataset = config.get('DATA','CITY_DEMOGRAPHIC')\n",
    "airport_dataset = config.get('DATA','AIR_PORT')\n",
    "saslabel_dataset = config.get('DATA','SAS_LABEL')"
   ]
  },
  {
   "cell_type": "code",
   "execution_count": 6,
   "metadata": {
    "editable": true
   },
   "outputs": [
    {
     "data": {
      "text/plain": [
       "'../../data2/GlobalLandTemperaturesByCity.csv'"
      ]
     },
     "execution_count": 6,
     "metadata": {},
     "output_type": "execute_result"
    }
   ],
   "source": [
    "worldtempe_dataset"
   ]
  },
  {
   "cell_type": "code",
   "execution_count": 8,
   "metadata": {
    "editable": true
   },
   "outputs": [
    {
     "name": "stdout",
     "output_type": "stream",
     "text": [
      "<class 'pandas.core.frame.DataFrame'>\n",
      "RangeIndex: 8599212 entries, 0 to 8599211\n",
      "Data columns (total 7 columns):\n",
      "dt                               object\n",
      "AverageTemperature               float64\n",
      "AverageTemperatureUncertainty    float64\n",
      "City                             object\n",
      "Country                          object\n",
      "Latitude                         object\n",
      "Longitude                        object\n",
      "dtypes: float64(2), object(5)\n",
      "memory usage: 459.2+ MB\n"
     ]
    }
   ],
   "source": [
    "# For production only\n",
    "# worldtempe_dataset = '../../data2/GlobalLandTemperaturesByCity.csv'\n",
    "\n",
    "# worldtempe_dataset = 'GlobalLandTemperaturesByCity_part9.csv'\n",
    "worldtempe_df = pd.read_csv(worldtempe_dataset,sep=\",\")\n",
    "worldtempe_df.info()"
   ]
  },
  {
   "cell_type": "code",
   "execution_count": 9,
   "metadata": {
    "editable": true
   },
   "outputs": [
    {
     "data": {
      "text/html": [
       "<div>\n",
       "<style scoped>\n",
       "    .dataframe tbody tr th:only-of-type {\n",
       "        vertical-align: middle;\n",
       "    }\n",
       "\n",
       "    .dataframe tbody tr th {\n",
       "        vertical-align: top;\n",
       "    }\n",
       "\n",
       "    .dataframe thead th {\n",
       "        text-align: right;\n",
       "    }\n",
       "</style>\n",
       "<table border=\"1\" class=\"dataframe\">\n",
       "  <thead>\n",
       "    <tr style=\"text-align: right;\">\n",
       "      <th></th>\n",
       "      <th>dt</th>\n",
       "      <th>AverageTemperature</th>\n",
       "      <th>AverageTemperatureUncertainty</th>\n",
       "      <th>City</th>\n",
       "      <th>Country</th>\n",
       "      <th>Latitude</th>\n",
       "      <th>Longitude</th>\n",
       "    </tr>\n",
       "  </thead>\n",
       "  <tbody>\n",
       "    <tr>\n",
       "      <th>0</th>\n",
       "      <td>1743-11-01</td>\n",
       "      <td>6.068</td>\n",
       "      <td>1.737</td>\n",
       "      <td>Århus</td>\n",
       "      <td>Denmark</td>\n",
       "      <td>57.05N</td>\n",
       "      <td>10.33E</td>\n",
       "    </tr>\n",
       "    <tr>\n",
       "      <th>1</th>\n",
       "      <td>1743-12-01</td>\n",
       "      <td>NaN</td>\n",
       "      <td>NaN</td>\n",
       "      <td>Århus</td>\n",
       "      <td>Denmark</td>\n",
       "      <td>57.05N</td>\n",
       "      <td>10.33E</td>\n",
       "    </tr>\n",
       "    <tr>\n",
       "      <th>2</th>\n",
       "      <td>1744-01-01</td>\n",
       "      <td>NaN</td>\n",
       "      <td>NaN</td>\n",
       "      <td>Århus</td>\n",
       "      <td>Denmark</td>\n",
       "      <td>57.05N</td>\n",
       "      <td>10.33E</td>\n",
       "    </tr>\n",
       "    <tr>\n",
       "      <th>3</th>\n",
       "      <td>1744-02-01</td>\n",
       "      <td>NaN</td>\n",
       "      <td>NaN</td>\n",
       "      <td>Århus</td>\n",
       "      <td>Denmark</td>\n",
       "      <td>57.05N</td>\n",
       "      <td>10.33E</td>\n",
       "    </tr>\n",
       "    <tr>\n",
       "      <th>4</th>\n",
       "      <td>1744-03-01</td>\n",
       "      <td>NaN</td>\n",
       "      <td>NaN</td>\n",
       "      <td>Århus</td>\n",
       "      <td>Denmark</td>\n",
       "      <td>57.05N</td>\n",
       "      <td>10.33E</td>\n",
       "    </tr>\n",
       "  </tbody>\n",
       "</table>\n",
       "</div>"
      ],
      "text/plain": [
       "           dt  AverageTemperature  AverageTemperatureUncertainty   City  \\\n",
       "0  1743-11-01               6.068                          1.737  Århus   \n",
       "1  1743-12-01                 NaN                            NaN  Århus   \n",
       "2  1744-01-01                 NaN                            NaN  Århus   \n",
       "3  1744-02-01                 NaN                            NaN  Århus   \n",
       "4  1744-03-01                 NaN                            NaN  Århus   \n",
       "\n",
       "   Country Latitude Longitude  \n",
       "0  Denmark   57.05N    10.33E  \n",
       "1  Denmark   57.05N    10.33E  \n",
       "2  Denmark   57.05N    10.33E  \n",
       "3  Denmark   57.05N    10.33E  \n",
       "4  Denmark   57.05N    10.33E  "
      ]
     },
     "execution_count": 9,
     "metadata": {},
     "output_type": "execute_result"
    }
   ],
   "source": [
    "worldtempe_df.head()"
   ]
  },
  {
   "cell_type": "code",
   "execution_count": 10,
   "metadata": {
    "editable": true
   },
   "outputs": [
    {
     "data": {
      "text/plain": [
       "Papua New Guinea               1581\n",
       "Oman                           1653\n",
       "Djibouti                       1797\n",
       "Eritrea                        1797\n",
       "Botswana                       1881\n",
       "Lesotho                        1881\n",
       "Namibia                        1881\n",
       "Swaziland                      1881\n",
       "Central African Republic       1893\n",
       "Congo                          1893\n",
       "Costa Rica                     1953\n",
       "Rwanda                         1965\n",
       "Burundi                        1965\n",
       "Guinea Bissau                  1977\n",
       "Liberia                        1977\n",
       "Mauritania                     1977\n",
       "Bahrain                        2049\n",
       "Qatar                          2049\n",
       "Hong Kong                      2082\n",
       "South Korea                    2097\n",
       "Cambodia                       2265\n",
       "Singapore                      2265\n",
       "Suriname                       2277\n",
       "Guyana                         2277\n",
       "Mongolia                       2318\n",
       "Laos                           2371\n",
       "Azerbaijan                     2460\n",
       "Jordan                         2460\n",
       "Cyprus                         2669\n",
       "Mauritius                      2721\n",
       "                             ...   \n",
       "Taiwan                        62190\n",
       "Argentina                     62504\n",
       "Vietnam                       66330\n",
       "Malaysia                      72480\n",
       "Canada                        75445\n",
       "Ukraine                       77736\n",
       "Netherlands                   77736\n",
       "Romania                       80975\n",
       "Colombia                      88017\n",
       "Venezuela                     91080\n",
       "South Africa                  94050\n",
       "France                       116604\n",
       "Poland                       123082\n",
       "Philippines                  127700\n",
       "Italy                        136038\n",
       "Pakistan                     139231\n",
       "Turkey                       150306\n",
       "Iran                         151651\n",
       "Spain                        159594\n",
       "Nigeria                      172347\n",
       "Mexico                       209560\n",
       "United Kingdom               220252\n",
       "Germany                      262359\n",
       "Indonesia                    323255\n",
       "Japan                        358669\n",
       "Russia                       461234\n",
       "Brazil                       475580\n",
       "United States                687289\n",
       "China                        827802\n",
       "India                       1014906\n",
       "Name: Country, Length: 159, dtype: int64"
      ]
     },
     "execution_count": 10,
     "metadata": {},
     "output_type": "execute_result"
    }
   ],
   "source": [
    "worldtempe_df['Country'].value_counts().sort_values()"
   ]
  },
  {
   "cell_type": "code",
   "execution_count": 11,
   "metadata": {
    "editable": true
   },
   "outputs": [
    {
     "data": {
      "text/plain": [
       "(8599212, 7)"
      ]
     },
     "execution_count": 11,
     "metadata": {},
     "output_type": "execute_result"
    }
   ],
   "source": [
    "worldtempe_df.shape"
   ]
  },
  {
   "cell_type": "markdown",
   "metadata": {
    "editable": true
   },
   "source": [
    "### Cleaning Country"
   ]
  },
  {
   "cell_type": "markdown",
   "metadata": {
    "editable": true
   },
   "source": [
    "Filter out `Country` for single value `United States` and check dataframe size"
   ]
  },
  {
   "cell_type": "code",
   "execution_count": 12,
   "metadata": {
    "editable": true
   },
   "outputs": [],
   "source": [
    "worldtempe_df = worldtempe_df[worldtempe_df['Country']=='United States']"
   ]
  },
  {
   "cell_type": "code",
   "execution_count": 13,
   "metadata": {
    "editable": true
   },
   "outputs": [
    {
     "data": {
      "text/plain": [
       "United States    687289\n",
       "Name: Country, dtype: int64"
      ]
     },
     "execution_count": 13,
     "metadata": {},
     "output_type": "execute_result"
    }
   ],
   "source": [
    "worldtempe_df['Country'].value_counts().sort_values()"
   ]
  },
  {
   "cell_type": "code",
   "execution_count": 14,
   "metadata": {
    "editable": true
   },
   "outputs": [
    {
     "data": {
      "text/plain": [
       "(687289, 7)"
      ]
     },
     "execution_count": 14,
     "metadata": {},
     "output_type": "execute_result"
    }
   ],
   "source": [
    "worldtempe_df.shape"
   ]
  },
  {
   "cell_type": "markdown",
   "metadata": {
    "editable": true
   },
   "source": [
    "### Cleaning columns with datetime datetype"
   ]
  },
  {
   "cell_type": "code",
   "execution_count": 15,
   "metadata": {
    "editable": true
   },
   "outputs": [],
   "source": [
    "worldtempe_df['dt_converted'] = pd.to_datetime(worldtempe_df.dt)"
   ]
  },
  {
   "cell_type": "code",
   "execution_count": 16,
   "metadata": {
    "editable": true
   },
   "outputs": [
    {
     "name": "stdout",
     "output_type": "stream",
     "text": [
      "<class 'pandas.core.frame.DataFrame'>\n",
      "Int64Index: 687289 entries, 47555 to 8439246\n",
      "Data columns (total 8 columns):\n",
      "dt                               687289 non-null object\n",
      "AverageTemperature               661524 non-null float64\n",
      "AverageTemperatureUncertainty    661524 non-null float64\n",
      "City                             687289 non-null object\n",
      "Country                          687289 non-null object\n",
      "Latitude                         687289 non-null object\n",
      "Longitude                        687289 non-null object\n",
      "dt_converted                     687289 non-null datetime64[ns]\n",
      "dtypes: datetime64[ns](1), float64(2), object(5)\n",
      "memory usage: 47.2+ MB\n"
     ]
    }
   ],
   "source": [
    "worldtempe_df.info()"
   ]
  },
  {
   "cell_type": "code",
   "execution_count": 17,
   "metadata": {
    "editable": true
   },
   "outputs": [],
   "source": [
    "worldtempe_df=worldtempe_df[worldtempe_df['dt_converted']>\"1960-01-01\"].copy()"
   ]
  },
  {
   "cell_type": "code",
   "execution_count": 19,
   "metadata": {
    "editable": true
   },
   "outputs": [
    {
     "data": {
      "text/plain": [
       "(165508, 8)"
      ]
     },
     "execution_count": 19,
     "metadata": {},
     "output_type": "execute_result"
    }
   ],
   "source": [
    "worldtempe_df.shape"
   ]
  },
  {
   "cell_type": "code",
   "execution_count": 20,
   "metadata": {
    "editable": true
   },
   "outputs": [
    {
     "data": {
      "text/plain": [
       "Timestamp('2013-09-01 00:00:00')"
      ]
     },
     "execution_count": 20,
     "metadata": {},
     "output_type": "execute_result"
    }
   ],
   "source": [
    "worldtempe_df['dt_converted'].max()"
   ]
  },
  {
   "cell_type": "code",
   "execution_count": 21,
   "metadata": {
    "editable": true
   },
   "outputs": [
    {
     "data": {
      "text/plain": [
       "Timestamp('1960-02-01 00:00:00')"
      ]
     },
     "execution_count": 21,
     "metadata": {},
     "output_type": "execute_result"
    }
   ],
   "source": [
    "worldtempe_df['dt_converted'].min()"
   ]
  },
  {
   "cell_type": "code",
   "execution_count": 22,
   "metadata": {
    "editable": true
   },
   "outputs": [
    {
     "data": {
      "text/plain": [
       "dt                               0\n",
       "AverageTemperature               1\n",
       "AverageTemperatureUncertainty    1\n",
       "City                             0\n",
       "Country                          0\n",
       "Latitude                         0\n",
       "Longitude                        0\n",
       "dt_converted                     0\n",
       "dtype: int64"
      ]
     },
     "execution_count": 22,
     "metadata": {},
     "output_type": "execute_result"
    }
   ],
   "source": [
    "worldtempe_df.isnull().sum()"
   ]
  },
  {
   "cell_type": "code",
   "execution_count": 23,
   "metadata": {
    "editable": true
   },
   "outputs": [
    {
     "data": {
      "text/html": [
       "<div>\n",
       "<style scoped>\n",
       "    .dataframe tbody tr th:only-of-type {\n",
       "        vertical-align: middle;\n",
       "    }\n",
       "\n",
       "    .dataframe tbody tr th {\n",
       "        vertical-align: top;\n",
       "    }\n",
       "\n",
       "    .dataframe thead th {\n",
       "        text-align: right;\n",
       "    }\n",
       "</style>\n",
       "<table border=\"1\" class=\"dataframe\">\n",
       "  <thead>\n",
       "    <tr style=\"text-align: right;\">\n",
       "      <th></th>\n",
       "      <th>dt</th>\n",
       "      <th>AverageTemperature</th>\n",
       "      <th>AverageTemperatureUncertainty</th>\n",
       "      <th>City</th>\n",
       "      <th>Country</th>\n",
       "      <th>Latitude</th>\n",
       "      <th>Longitude</th>\n",
       "      <th>dt_converted</th>\n",
       "    </tr>\n",
       "  </thead>\n",
       "  <tbody>\n",
       "    <tr>\n",
       "      <th>287781</th>\n",
       "      <td>2013-09-01</td>\n",
       "      <td>NaN</td>\n",
       "      <td>NaN</td>\n",
       "      <td>Anchorage</td>\n",
       "      <td>United States</td>\n",
       "      <td>61.88N</td>\n",
       "      <td>151.13W</td>\n",
       "      <td>2013-09-01</td>\n",
       "    </tr>\n",
       "  </tbody>\n",
       "</table>\n",
       "</div>"
      ],
      "text/plain": [
       "                dt  AverageTemperature  AverageTemperatureUncertainty  \\\n",
       "287781  2013-09-01                 NaN                            NaN   \n",
       "\n",
       "             City        Country Latitude Longitude dt_converted  \n",
       "287781  Anchorage  United States   61.88N   151.13W   2013-09-01  "
      ]
     },
     "execution_count": 23,
     "metadata": {},
     "output_type": "execute_result"
    }
   ],
   "source": [
    "worldtempe_df[worldtempe_df['AverageTemperature'].isnull()]"
   ]
  },
  {
   "cell_type": "markdown",
   "metadata": {
    "editable": true
   },
   "source": [
    "*NULL* value doen't impact to join data ***i94 immigration*** on year 2016 only. Keep it as is."
   ]
  },
  {
   "cell_type": "markdown",
   "metadata": {
    "editable": true
   },
   "source": [
    "### Cleaning combination `City` and `dt_converted`"
   ]
  },
  {
   "cell_type": "code",
   "execution_count": 24,
   "metadata": {
    "editable": true
   },
   "outputs": [
    {
     "data": {
      "text/html": [
       "<div>\n",
       "<style scoped>\n",
       "    .dataframe tbody tr th:only-of-type {\n",
       "        vertical-align: middle;\n",
       "    }\n",
       "\n",
       "    .dataframe tbody tr th {\n",
       "        vertical-align: top;\n",
       "    }\n",
       "\n",
       "    .dataframe thead th {\n",
       "        text-align: right;\n",
       "    }\n",
       "</style>\n",
       "<table border=\"1\" class=\"dataframe\">\n",
       "  <thead>\n",
       "    <tr style=\"text-align: right;\">\n",
       "      <th></th>\n",
       "      <th>dt</th>\n",
       "      <th>AverageTemperature</th>\n",
       "      <th>AverageTemperatureUncertainty</th>\n",
       "      <th>City</th>\n",
       "      <th>Country</th>\n",
       "      <th>Latitude</th>\n",
       "      <th>Longitude</th>\n",
       "      <th>dt_converted</th>\n",
       "    </tr>\n",
       "  </thead>\n",
       "  <tbody>\n",
       "    <tr>\n",
       "      <th>7148658</th>\n",
       "      <td>2013-05-01</td>\n",
       "      <td>14.309</td>\n",
       "      <td>0.331</td>\n",
       "      <td>Springfield</td>\n",
       "      <td>United States</td>\n",
       "      <td>42.59N</td>\n",
       "      <td>72.00W</td>\n",
       "      <td>2013-05-01</td>\n",
       "    </tr>\n",
       "    <tr>\n",
       "      <th>7148659</th>\n",
       "      <td>2013-06-01</td>\n",
       "      <td>19.313</td>\n",
       "      <td>0.353</td>\n",
       "      <td>Springfield</td>\n",
       "      <td>United States</td>\n",
       "      <td>42.59N</td>\n",
       "      <td>72.00W</td>\n",
       "      <td>2013-06-01</td>\n",
       "    </tr>\n",
       "    <tr>\n",
       "      <th>7148660</th>\n",
       "      <td>2013-07-01</td>\n",
       "      <td>23.629</td>\n",
       "      <td>0.447</td>\n",
       "      <td>Springfield</td>\n",
       "      <td>United States</td>\n",
       "      <td>42.59N</td>\n",
       "      <td>72.00W</td>\n",
       "      <td>2013-07-01</td>\n",
       "    </tr>\n",
       "    <tr>\n",
       "      <th>7148661</th>\n",
       "      <td>2013-08-01</td>\n",
       "      <td>19.579</td>\n",
       "      <td>0.336</td>\n",
       "      <td>Springfield</td>\n",
       "      <td>United States</td>\n",
       "      <td>42.59N</td>\n",
       "      <td>72.00W</td>\n",
       "      <td>2013-08-01</td>\n",
       "    </tr>\n",
       "    <tr>\n",
       "      <th>7148662</th>\n",
       "      <td>2013-09-01</td>\n",
       "      <td>15.883</td>\n",
       "      <td>1.368</td>\n",
       "      <td>Springfield</td>\n",
       "      <td>United States</td>\n",
       "      <td>42.59N</td>\n",
       "      <td>72.00W</td>\n",
       "      <td>2013-09-01</td>\n",
       "    </tr>\n",
       "  </tbody>\n",
       "</table>\n",
       "</div>"
      ],
      "text/plain": [
       "                 dt  AverageTemperature  AverageTemperatureUncertainty  \\\n",
       "7148658  2013-05-01              14.309                          0.331   \n",
       "7148659  2013-06-01              19.313                          0.353   \n",
       "7148660  2013-07-01              23.629                          0.447   \n",
       "7148661  2013-08-01              19.579                          0.336   \n",
       "7148662  2013-09-01              15.883                          1.368   \n",
       "\n",
       "                City        Country Latitude Longitude dt_converted  \n",
       "7148658  Springfield  United States   42.59N    72.00W   2013-05-01  \n",
       "7148659  Springfield  United States   42.59N    72.00W   2013-06-01  \n",
       "7148660  Springfield  United States   42.59N    72.00W   2013-07-01  \n",
       "7148661  Springfield  United States   42.59N    72.00W   2013-08-01  \n",
       "7148662  Springfield  United States   42.59N    72.00W   2013-09-01  "
      ]
     },
     "execution_count": 24,
     "metadata": {},
     "output_type": "execute_result"
    }
   ],
   "source": [
    "worldtempe_df[worldtempe_df[['City','dt_converted']].duplicated()].tail()"
   ]
  },
  {
   "cell_type": "code",
   "execution_count": 25,
   "metadata": {
    "editable": true
   },
   "outputs": [
    {
     "data": {
      "text/html": [
       "<div>\n",
       "<style scoped>\n",
       "    .dataframe tbody tr th:only-of-type {\n",
       "        vertical-align: middle;\n",
       "    }\n",
       "\n",
       "    .dataframe tbody tr th {\n",
       "        vertical-align: top;\n",
       "    }\n",
       "\n",
       "    .dataframe thead th {\n",
       "        text-align: right;\n",
       "    }\n",
       "</style>\n",
       "<table border=\"1\" class=\"dataframe\">\n",
       "  <thead>\n",
       "    <tr style=\"text-align: right;\">\n",
       "      <th></th>\n",
       "      <th>dt</th>\n",
       "      <th>AverageTemperature</th>\n",
       "      <th>AverageTemperatureUncertainty</th>\n",
       "      <th>City</th>\n",
       "      <th>Country</th>\n",
       "      <th>Latitude</th>\n",
       "      <th>Longitude</th>\n",
       "      <th>dt_converted</th>\n",
       "    </tr>\n",
       "  </thead>\n",
       "  <tbody>\n",
       "    <tr>\n",
       "      <th>7142182</th>\n",
       "      <td>2013-07-01</td>\n",
       "      <td>25.132</td>\n",
       "      <td>0.211</td>\n",
       "      <td>Springfield</td>\n",
       "      <td>United States</td>\n",
       "      <td>37.78N</td>\n",
       "      <td>93.56W</td>\n",
       "      <td>2013-07-01</td>\n",
       "    </tr>\n",
       "    <tr>\n",
       "      <th>7145421</th>\n",
       "      <td>2013-07-01</td>\n",
       "      <td>23.824</td>\n",
       "      <td>0.142</td>\n",
       "      <td>Springfield</td>\n",
       "      <td>United States</td>\n",
       "      <td>39.38N</td>\n",
       "      <td>89.48W</td>\n",
       "      <td>2013-07-01</td>\n",
       "    </tr>\n",
       "    <tr>\n",
       "      <th>7148660</th>\n",
       "      <td>2013-07-01</td>\n",
       "      <td>23.629</td>\n",
       "      <td>0.447</td>\n",
       "      <td>Springfield</td>\n",
       "      <td>United States</td>\n",
       "      <td>42.59N</td>\n",
       "      <td>72.00W</td>\n",
       "      <td>2013-07-01</td>\n",
       "    </tr>\n",
       "  </tbody>\n",
       "</table>\n",
       "</div>"
      ],
      "text/plain": [
       "                 dt  AverageTemperature  AverageTemperatureUncertainty  \\\n",
       "7142182  2013-07-01              25.132                          0.211   \n",
       "7145421  2013-07-01              23.824                          0.142   \n",
       "7148660  2013-07-01              23.629                          0.447   \n",
       "\n",
       "                City        Country Latitude Longitude dt_converted  \n",
       "7142182  Springfield  United States   37.78N    93.56W   2013-07-01  \n",
       "7145421  Springfield  United States   39.38N    89.48W   2013-07-01  \n",
       "7148660  Springfield  United States   42.59N    72.00W   2013-07-01  "
      ]
     },
     "execution_count": 25,
     "metadata": {},
     "output_type": "execute_result"
    }
   ],
   "source": [
    "worldtempe_df[(worldtempe_df['City'] == 'Springfield') & (worldtempe_df.dt == '2013-07-01')]"
   ]
  },
  {
   "cell_type": "markdown",
   "metadata": {
    "editable": true
   },
   "source": [
    "Seem like there are multi temperature sensor was distributed many points of a city. The temperature results of a city are difference not much."
   ]
  },
  {
   "cell_type": "markdown",
   "metadata": {
    "editable": true
   },
   "source": [
    "### Standalizing column names format"
   ]
  },
  {
   "cell_type": "markdown",
   "metadata": {
    "editable": true
   },
   "source": [
    "Convert column names to ***snake_case*** format. Format ex: *customer_name, billing_address, ...*"
   ]
  },
  {
   "cell_type": "code",
   "execution_count": 33,
   "metadata": {
    "editable": true
   },
   "outputs": [
    {
     "data": {
      "text/plain": [
       "Index(['dt', 'averagetemperature', 'averagetemperatureuncertainty', 'city',\n",
       "       'country', 'latitude', 'longitude', 'dt_converted'],\n",
       "      dtype='object')"
      ]
     },
     "execution_count": 33,
     "metadata": {},
     "output_type": "execute_result"
    }
   ],
   "source": [
    "convert_column_names(worldtempe_df)\n",
    "worldtempe_df.columns"
   ]
  },
  {
   "cell_type": "markdown",
   "metadata": {
    "editable": true
   },
   "source": [
    "### Baseline dataframe World Teperature"
   ]
  },
  {
   "cell_type": "code",
   "execution_count": 34,
   "metadata": {
    "editable": true
   },
   "outputs": [],
   "source": [
    "worldtempe_df.to_csv('worldtempe_df_clean.csv', index=False)"
   ]
  },
  {
   "cell_type": "raw",
   "metadata": {
    "editable": true
   },
   "source": [
    "===========================================================================================================\n",
    "    \n",
    "==========================================================================================================="
   ]
  },
  {
   "cell_type": "code",
   "execution_count": 35,
   "metadata": {
    "editable": true
   },
   "outputs": [
    {
     "name": "stdout",
     "output_type": "stream",
     "text": [
      "<class 'pandas.core.frame.DataFrame'>\n",
      "RangeIndex: 165508 entries, 0 to 165507\n",
      "Data columns (total 8 columns):\n",
      "dt                               165508 non-null object\n",
      "averagetemperature               165507 non-null float64\n",
      "averagetemperatureuncertainty    165507 non-null float64\n",
      "city                             165508 non-null object\n",
      "country                          165508 non-null object\n",
      "latitude                         165508 non-null object\n",
      "longitude                        165508 non-null object\n",
      "dt_converted                     165508 non-null object\n",
      "dtypes: float64(2), object(6)\n",
      "memory usage: 10.1+ MB\n"
     ]
    }
   ],
   "source": [
    "worldtempe_df = pd.read_csv('worldtempe_df_clean.csv',sep=\",\")\n",
    "worldtempe_df.info()"
   ]
  },
  {
   "cell_type": "code",
   "execution_count": 36,
   "metadata": {
    "editable": true
   },
   "outputs": [
    {
     "data": {
      "text/html": [
       "<div>\n",
       "<style scoped>\n",
       "    .dataframe tbody tr th:only-of-type {\n",
       "        vertical-align: middle;\n",
       "    }\n",
       "\n",
       "    .dataframe tbody tr th {\n",
       "        vertical-align: top;\n",
       "    }\n",
       "\n",
       "    .dataframe thead th {\n",
       "        text-align: right;\n",
       "    }\n",
       "</style>\n",
       "<table border=\"1\" class=\"dataframe\">\n",
       "  <thead>\n",
       "    <tr style=\"text-align: right;\">\n",
       "      <th></th>\n",
       "      <th>dt</th>\n",
       "      <th>averagetemperature</th>\n",
       "      <th>averagetemperatureuncertainty</th>\n",
       "      <th>city</th>\n",
       "      <th>country</th>\n",
       "      <th>latitude</th>\n",
       "      <th>longitude</th>\n",
       "      <th>dt_converted</th>\n",
       "    </tr>\n",
       "  </thead>\n",
       "  <tbody>\n",
       "    <tr>\n",
       "      <th>0</th>\n",
       "      <td>1960-02-01</td>\n",
       "      <td>4.995</td>\n",
       "      <td>0.325</td>\n",
       "      <td>Abilene</td>\n",
       "      <td>United States</td>\n",
       "      <td>32.95N</td>\n",
       "      <td>100.53W</td>\n",
       "      <td>1960-02-01</td>\n",
       "    </tr>\n",
       "    <tr>\n",
       "      <th>1</th>\n",
       "      <td>1960-03-01</td>\n",
       "      <td>8.575</td>\n",
       "      <td>0.303</td>\n",
       "      <td>Abilene</td>\n",
       "      <td>United States</td>\n",
       "      <td>32.95N</td>\n",
       "      <td>100.53W</td>\n",
       "      <td>1960-03-01</td>\n",
       "    </tr>\n",
       "    <tr>\n",
       "      <th>2</th>\n",
       "      <td>1960-04-01</td>\n",
       "      <td>18.452</td>\n",
       "      <td>0.282</td>\n",
       "      <td>Abilene</td>\n",
       "      <td>United States</td>\n",
       "      <td>32.95N</td>\n",
       "      <td>100.53W</td>\n",
       "      <td>1960-04-01</td>\n",
       "    </tr>\n",
       "    <tr>\n",
       "      <th>3</th>\n",
       "      <td>1960-05-01</td>\n",
       "      <td>21.709</td>\n",
       "      <td>0.286</td>\n",
       "      <td>Abilene</td>\n",
       "      <td>United States</td>\n",
       "      <td>32.95N</td>\n",
       "      <td>100.53W</td>\n",
       "      <td>1960-05-01</td>\n",
       "    </tr>\n",
       "    <tr>\n",
       "      <th>4</th>\n",
       "      <td>1960-06-01</td>\n",
       "      <td>27.714</td>\n",
       "      <td>0.387</td>\n",
       "      <td>Abilene</td>\n",
       "      <td>United States</td>\n",
       "      <td>32.95N</td>\n",
       "      <td>100.53W</td>\n",
       "      <td>1960-06-01</td>\n",
       "    </tr>\n",
       "  </tbody>\n",
       "</table>\n",
       "</div>"
      ],
      "text/plain": [
       "           dt  averagetemperature  averagetemperatureuncertainty     city  \\\n",
       "0  1960-02-01               4.995                          0.325  Abilene   \n",
       "1  1960-03-01               8.575                          0.303  Abilene   \n",
       "2  1960-04-01              18.452                          0.282  Abilene   \n",
       "3  1960-05-01              21.709                          0.286  Abilene   \n",
       "4  1960-06-01              27.714                          0.387  Abilene   \n",
       "\n",
       "         country latitude longitude dt_converted  \n",
       "0  United States   32.95N   100.53W   1960-02-01  \n",
       "1  United States   32.95N   100.53W   1960-03-01  \n",
       "2  United States   32.95N   100.53W   1960-04-01  \n",
       "3  United States   32.95N   100.53W   1960-05-01  \n",
       "4  United States   32.95N   100.53W   1960-06-01  "
      ]
     },
     "execution_count": 36,
     "metadata": {},
     "output_type": "execute_result"
    }
   ],
   "source": [
    "worldtempe_df.head()"
   ]
  },
  {
   "cell_type": "code",
   "execution_count": 37,
   "metadata": {
    "editable": true
   },
   "outputs": [],
   "source": [
    "# Read out from CSV file to spark dataframe\n",
    "worldtempe_df = spark.read.csv(\"worldtempe_df_clean.csv\")"
   ]
  },
  {
   "cell_type": "code",
   "execution_count": 38,
   "metadata": {
    "editable": true
   },
   "outputs": [],
   "source": [
    "# Write dataframe to CSV partitions use Spark\n",
    "\n",
    "#rmdir(Path(\"worldtempe_df_clean\"))\n",
    "# worldtempe_df.write.options(header='True', delimiter=',').csv(\"worldtempe_df_clean\")\n",
    "worldtempe_df.write.mode('overwrite').csv(\"worldtempe_df_clean\")"
   ]
  },
  {
   "cell_type": "markdown",
   "metadata": {
    "editable": true
   },
   "source": [
    "### Staging cleaned `WORLD TEMPERATURE` from saved csv partitions"
   ]
  },
  {
   "cell_type": "code",
   "execution_count": 39,
   "metadata": {
    "editable": true
   },
   "outputs": [],
   "source": [
    "# Read out from csv partitions to staging dataframe\n",
    "worldtempe_df = spark.read.options(inferSchema=\"true\", delimiter=\",\", header = \"true\").csv(\"worldtempe_df_clean\")"
   ]
  },
  {
   "cell_type": "code",
   "execution_count": 40,
   "metadata": {
    "editable": true
   },
   "outputs": [
    {
     "name": "stdout",
     "output_type": "stream",
     "text": [
      "+-------------------+------------------+-----------------------------+-------+-------------+--------+---------+-------------------+\n",
      "|                 dt|averagetemperature|averagetemperatureuncertainty|   city|      country|latitude|longitude|       dt_converted|\n",
      "+-------------------+------------------+-----------------------------+-------+-------------+--------+---------+-------------------+\n",
      "|1960-02-01 00:00:00|             4.995|                        0.325|Abilene|United States|  32.95N|  100.53W|1960-02-01 00:00:00|\n",
      "|1960-03-01 00:00:00| 8.575000000000001|                        0.303|Abilene|United States|  32.95N|  100.53W|1960-03-01 00:00:00|\n",
      "|1960-04-01 00:00:00|            18.452|                        0.282|Abilene|United States|  32.95N|  100.53W|1960-04-01 00:00:00|\n",
      "|1960-05-01 00:00:00|            21.709|          0.28600000000000003|Abilene|United States|  32.95N|  100.53W|1960-05-01 00:00:00|\n",
      "|1960-06-01 00:00:00|27.714000000000002|                        0.387|Abilene|United States|  32.95N|  100.53W|1960-06-01 00:00:00|\n",
      "|1960-07-01 00:00:00|            27.646|                        0.326|Abilene|United States|  32.95N|  100.53W|1960-07-01 00:00:00|\n",
      "|1960-08-01 00:00:00|27.480999999999998|                        0.341|Abilene|United States|  32.95N|  100.53W|1960-08-01 00:00:00|\n",
      "|1960-09-01 00:00:00|            24.413|          0.24100000000000002|Abilene|United States|  32.95N|  100.53W|1960-09-01 00:00:00|\n",
      "|1960-10-01 00:00:00|            18.929|          0.28600000000000003|Abilene|United States|  32.95N|  100.53W|1960-10-01 00:00:00|\n",
      "|1960-11-01 00:00:00|12.530999999999999|                        0.235|Abilene|United States|  32.95N|  100.53W|1960-11-01 00:00:00|\n",
      "|1960-12-01 00:00:00|             4.114|                        0.214|Abilene|United States|  32.95N|  100.53W|1960-12-01 00:00:00|\n",
      "|1961-01-01 00:00:00|             3.827|                        0.337|Abilene|United States|  32.95N|  100.53W|1961-01-01 00:00:00|\n",
      "|1961-02-01 00:00:00|              7.63|                        0.349|Abilene|United States|  32.95N|  100.53W|1961-02-01 00:00:00|\n",
      "|1961-03-01 00:00:00|            12.799|          0.32899999999999996|Abilene|United States|  32.95N|  100.53W|1961-03-01 00:00:00|\n",
      "|1961-04-01 00:00:00|            17.142|                        0.397|Abilene|United States|  32.95N|  100.53W|1961-04-01 00:00:00|\n",
      "|1961-05-01 00:00:00|22.581999999999997|                        0.254|Abilene|United States|  32.95N|  100.53W|1961-05-01 00:00:00|\n",
      "|1961-06-01 00:00:00|             24.53|          0.33299999999999996|Abilene|United States|  32.95N|  100.53W|1961-06-01 00:00:00|\n",
      "|1961-07-01 00:00:00|            25.783|                         0.24|Abilene|United States|  32.95N|  100.53W|1961-07-01 00:00:00|\n",
      "|1961-08-01 00:00:00|26.052000000000003|                        0.205|Abilene|United States|  32.95N|  100.53W|1961-08-01 00:00:00|\n",
      "|1961-09-01 00:00:00|            22.876|                        0.391|Abilene|United States|  32.95N|  100.53W|1961-09-01 00:00:00|\n",
      "+-------------------+------------------+-----------------------------+-------+-------------+--------+---------+-------------------+\n",
      "only showing top 20 rows\n",
      "\n"
     ]
    }
   ],
   "source": [
    "# Verify loaded dataframe\n",
    "worldtempe_df.show()"
   ]
  },
  {
   "cell_type": "code",
   "execution_count": 41,
   "metadata": {
    "editable": true
   },
   "outputs": [],
   "source": [
    "# Create table from dataframe\n",
    "worldtempe_df.createOrReplaceTempView('worldtempe_table')"
   ]
  },
  {
   "cell_type": "code",
   "execution_count": null,
   "metadata": {
    "editable": true
   },
   "outputs": [],
   "source": [
    "# Verify created table will be using for staging\n",
    "spark.sql(\"\"\"\n",
    "    SELECT COUNT(*) as amount_worldtempe_rows\n",
    "    FROM worldtempe_table\n",
    "\"\"\").show()"
   ]
  }
 ],
 "metadata": {
  "kernelspec": {
   "display_name": "Python 3",
   "language": "python",
   "name": "python3"
  },
  "language_info": {
   "codemirror_mode": {
    "name": "ipython",
    "version": 3
   },
   "file_extension": ".py",
   "mimetype": "text/x-python",
   "name": "python",
   "nbconvert_exporter": "python",
   "pygments_lexer": "ipython3",
   "version": "3.6.3"
  },
  "vscode": {
   "interpreter": {
    "hash": "6f19dfd6b1cd7fd360d4f2c4802461aa893d068ea99183b3eab6718091575a5a"
   }
  }
 },
 "nbformat": 4,
 "nbformat_minor": 4
}
