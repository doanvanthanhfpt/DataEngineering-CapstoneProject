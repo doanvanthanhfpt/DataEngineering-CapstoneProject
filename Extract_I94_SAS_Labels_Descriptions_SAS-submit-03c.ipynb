{
 "cells": [
  {
   "cell_type": "code",
   "execution_count": null,
   "metadata": {
    "editable": true
   },
   "outputs": [],
   "source": [
    "# Do all imports and installs here - Done\n",
    "from pyspark.sql import SparkSession\n",
    "import pyspark.sql.functions as F\n",
    "from pyspark.sql.functions import udf\n",
    "import pandas as pd\n",
    "import re\n",
    "import configparser\n",
    "import os\n",
    "import shutil\n",
    "from pyspark.sql.types import StructType as R, StructField as Fld,\\\n",
    "    DoubleType as Dbl, StringType as Str, IntegerType as Int,\\\n",
    "    TimestampType as Timestamp, DateType as Date, LongType as Long\n",
    "from pathlib import Path"
   ]
  },
  {
   "cell_type": "code",
   "execution_count": null,
   "metadata": {
    "editable": true
   },
   "outputs": [],
   "source": [
    "# Run on production version\n",
    "spark = SparkSession.builder\\\n",
    "            .config(\"spark.jars.repositories\", \"https://repos.spark-packages.org/\")\\\n",
    "            .config(\"spark.jars.packages\", \"saurfang:spark-sas7bdat:2.0.0-s_2.11\")\\\n",
    "            .enableHiveSupport()\\\n",
    "            .getOrCreate()"
   ]
  },
  {
   "cell_type": "markdown",
   "metadata": {
    "editable": true
   },
   "source": [
    "### Extracts validation pair values from SAS Labels Description"
   ]
  },
  {
   "cell_type": "code",
   "execution_count": null,
   "metadata": {
    "editable": true
   },
   "outputs": [],
   "source": [
    "def get_validation_code_from_SAS_labels(sas_input_label):\n",
    "    '''\n",
    "    This procedure read a input SAS Labels Description and then write out validation code datasets.\n",
    "    The SAS Labels Description included validation code datasets with labels: I94RES (same to I94CIT), I94PORT, I94ADDR, I94MODE, I94VISA.\n",
    "    \n",
    "    Parameters\n",
    "    ----------\n",
    "    sas_input_label : string\n",
    "        The label name of validation code dataset. Its can be one of I94RES (same to I94CIT), I94PORT, I94ADDR, I94MODE, I94VISA.\n",
    "    \n",
    "    Returns\n",
    "    -------\n",
    "    validation_code_list : validation_value_pairs(tuple(str_valid_code, str_valid_value))\n",
    "        The return output is a specific SAS label list of validation code value pairs.\n",
    "    '''\n",
    "\n",
    "    # Read input SAS Labels Descriptions\n",
    "    with open('I94_SAS_Labels_Descriptions.SAS') as sas_validation_code:\n",
    "            labels_from_sas = sas_validation_code.read()\n",
    "\n",
    "    # Parse labels from SAS Label Description input\n",
    "    sas_labels = labels_from_sas[labels_from_sas.index(sas_input_label):]\n",
    "    sas_labels = sas_labels[:sas_labels.index(';')]\n",
    "    \n",
    "    # Processing line by line, remove separate charaters and then append value pair\n",
    "    lines = sas_labels.splitlines()\n",
    "    validation_code_list = []\n",
    "    for line in lines:\n",
    "        try:\n",
    "            valid_code, valid_value = line.split('=')\n",
    "            valid_code = valid_code.strip().strip(\"'\").strip('\"')\n",
    "            valid_value = valid_value.strip().strip(\"'\").strip('\"').strip()\n",
    "            validation_code_list.append((valid_code, valid_value))\n",
    "        except:\n",
    "            pass\n",
    "        \n",
    "    return validation_code_list"
   ]
  },
  {
   "cell_type": "code",
   "execution_count": null,
   "metadata": {
    "editable": true
   },
   "outputs": [],
   "source": [
    "def extract_staging_sas_label(label):\n",
    "    '''\n",
    "    asdjhkjf.\n",
    "    \n",
    "    Parameters\n",
    "    ----------\n",
    "    label: \n",
    "        a string input of specific label from \"SAS_Label_Descriptions.SAS\"\n",
    "        \n",
    "    Syntax note: \n",
    "        input value in string datatype, need inside a pair of single quotes. Ex: 'I94RES', 'I94PORTS'\n",
    "    \n",
    "    Returns\n",
    "    -------\n",
    "    Dataframe of input label.\n",
    "    '''\n",
    "    label_name = label\n",
    "    valid_code = label + \"_valid_code\"\n",
    "    valid_value = label + \"_valid_value\"\n",
    "    csv_output = label + \"_sas_label_validation\"\n",
    "    parent_dir = \"./\"\n",
    "    path = os.path.join(parent_dir, csv_output)\n",
    "    # os.mkdir(path)\n",
    "\n",
    "    schema = R([\n",
    "        Fld(valid_code, Str()),\n",
    "        Fld(valid_value, Str())\n",
    "    ])\n",
    "\n",
    "    df = spark.createDataFrame(\n",
    "        data=get_validation_code_from_SAS_labels(label_name),\n",
    "        schema=schema\n",
    "    )\n",
    "\n",
    "    shutil.rmtree(csv_output, ignore_errors=False, onerror=None)\n",
    "    df.write.options(header='True', delimiter=',').csv(csv_output)\n",
    "    # df.write.mode('overwrite').csv(csv_output)\n",
    "\n",
    "    df = spark.read.options(inferSchema=\"true\", delimiter=\",\", header = \"true\").csv(csv_output)\n",
    "\n",
    "    print(\"Top 20 rows of {} \".format(csv_output))\n",
    "    df.show()\n",
    "\n",
    "    print(\"Count rows of {}: {} \".format(csv_output, df.count()))\n",
    "    \n",
    "    print(\"Check unique value of {}: {} \".format(csv_output, df.select(valid_code).distinct().count()))\n",
    "\n",
    "    print(\"Staging csv files in: {}\".format(csv_output))\n",
    "\n",
    "    return df"
   ]
  },
  {
   "cell_type": "markdown",
   "metadata": {
    "editable": true
   },
   "source": [
    "### Extract and clean validation values from 'SAS_Labels_Descriptions.SAS'"
   ]
  },
  {
   "cell_type": "code",
   "execution_count": null,
   "metadata": {
    "editable": true
   },
   "outputs": [],
   "source": [
    "# `I94RES` label\n",
    "I94RES_staging_df = extract_staging_sas_label('I94RES')\n",
    "I94RES_staging_df = I94RES_staging_df.toPandas()\n",
    "I94RES_staging_df"
   ]
  },
  {
   "cell_type": "code",
   "execution_count": null,
   "metadata": {
    "editable": true
   },
   "outputs": [],
   "source": [
    "# `I94PORT` label\n",
    "I94PORT_staging_df = extract_staging_sas_label('I94PORT')\n",
    "I94PORT_staging_df = I94PORT_staging_df.toPandas()\n",
    "I94PORT_staging_df"
   ]
  },
  {
   "cell_type": "code",
   "execution_count": null,
   "metadata": {
    "editable": true
   },
   "outputs": [],
   "source": [
    "# `I94ADDR` label\n",
    "I94ADDR_staging_df = extract_staging_sas_label('I94ADDR')\n",
    "I94ADDR_staging_df = I94ADDR_staging_df.toPandas()\n",
    "I94ADDR_staging_df"
   ]
  },
  {
   "cell_type": "code",
   "execution_count": null,
   "metadata": {
    "editable": true
   },
   "outputs": [],
   "source": [
    "# `I94MODE` label\n",
    "I94MODE_staging_df = extract_staging_sas_label('I94MODE')\n",
    "I94MODE_staging_df = I94MODE_staging_df.toPandas()\n",
    "I94MODE_staging_df"
   ]
  },
  {
   "cell_type": "code",
   "execution_count": null,
   "metadata": {
    "editable": true
   },
   "outputs": [],
   "source": [
    "# `I94VISA` label\n",
    "I94VISA_staging_df = extract_staging_sas_label('I94VISA')\n",
    "I94VISA_staging_df = I94VISA_staging_df.toPandas()\n",
    "I94VISA_staging_df"
   ]
  },
  {
   "cell_type": "markdown",
   "metadata": {
    "editable": true
   },
   "source": [
    "### Clean validation values from 'SAS_Labels_Descriptions.SAS'"
   ]
  },
  {
   "cell_type": "markdown",
   "metadata": {
    "editable": true
   },
   "source": [
    "Split to ***I94PORT_code, City, State*** for ***dim_i94port***"
   ]
  },
  {
   "cell_type": "code",
   "execution_count": null,
   "metadata": {
    "editable": true
   },
   "outputs": [],
   "source": [
    "# Convert to pandas dataframe\n",
    "I94PORT_staging_df = I94PORT_staging_df.toPandas()\n",
    "I94PORT_staging_df"
   ]
  },
  {
   "cell_type": "code",
   "execution_count": null,
   "metadata": {
    "editable": true
   },
   "outputs": [],
   "source": [
    "# clean leading and trailing white space\n",
    "I94PORT_staging_df[\"I94PORT_valid_code\"] = I94PORT_staging_df[\"I94PORT_valid_code\"].str.lstrip().str.rstrip()\n",
    "I94PORT_staging_df[\"I94PORT_valid_value\"] = I94PORT_staging_df[\"I94PORT_valid_value\"].str.lstrip().str.rstrip()"
   ]
  },
  {
   "cell_type": "code",
   "execution_count": null,
   "metadata": {
    "editable": true
   },
   "outputs": [],
   "source": [
    "# split to port, city, state\n",
    "I94PORT_staging_df[\"I94PORT_city_name\"] = I94PORT_staging_df[\"I94PORT_valid_value\"].str.split(\",\").str.get(0)\n",
    "I94PORT_staging_df[\"I94PORT_state_code\"] = I94PORT_staging_df[\"I94PORT_valid_value\"].str.split(\",\").str.get(1)"
   ]
  },
  {
   "cell_type": "code",
   "execution_count": null,
   "metadata": {
    "editable": true
   },
   "outputs": [],
   "source": [
    "# clean leading and trailing white space\n",
    "I94PORT_pandas_df[\"I94PORT_city_name\"] = I94PORT_staging_df[\"I94PORT_city_name\"].str.lstrip().str.rstrip()\n",
    "I94PORT_pandas_df[\"I94PORT_state_code\"] = I94PORT_staging_df[\"I94PORT_state_code\"].str.lstrip().str.rstrip()"
   ]
  },
  {
   "cell_type": "code",
   "execution_count": null,
   "metadata": {
    "editable": true
   },
   "outputs": [],
   "source": [
    "I94PORT_staging_df"
   ]
  },
  {
   "cell_type": "code",
   "execution_count": null,
   "metadata": {
    "editable": true
   },
   "outputs": [],
   "source": [
    "# count amount airport of a city\n",
    "I94PORT_staging_df[\"I94PORT_city_name\"].str.title().value_counts()"
   ]
  },
  {
   "cell_type": "code",
   "execution_count": null,
   "metadata": {
    "editable": true
   },
   "outputs": [],
   "source": [
    "# drop missing value on I94PORT_state_code\n",
    "I94PORT_staging_df = I94PORT_staging_df.dropna(subset = [\"I94PORT_state_code\"])\n",
    "I94PORT_staging_df"
   ]
  },
  {
   "cell_type": "markdown",
   "metadata": {
    "editable": true
   },
   "source": [
    "### Staging validation values from 'SAS_Labels_Descriptions.SAS'"
   ]
  },
  {
   "cell_type": "code",
   "execution_count": null,
   "metadata": {
    "editable": true
   },
   "outputs": [],
   "source": [
    "# Staging `I94PORT` label\n",
    "I94PORT_staging_df.to_csv(\"i94port_staging.csv\", index = False, columns = [\"I94PORT_valid_code\", \"I94PORT_city_name\", \"I94PORT_state_code\"], encoding = \"utf-8\")"
   ]
  },
  {
   "cell_type": "code",
   "execution_count": null,
   "metadata": {
    "editable": true
   },
   "outputs": [],
   "source": []
  }
 ],
 "metadata": {
  "kernelspec": {
   "display_name": "Python 3",
   "language": "python",
   "name": "python3"
  },
  "language_info": {
   "codemirror_mode": {
    "name": "ipython",
    "version": 3
   },
   "file_extension": ".py",
   "mimetype": "text/x-python",
   "name": "python",
   "nbconvert_exporter": "python",
   "pygments_lexer": "ipython3",
   "version": "3.6.3"
  },
  "vscode": {
   "interpreter": {
    "hash": "6f19dfd6b1cd7fd360d4f2c4802461aa893d068ea99183b3eab6718091575a5a"
   }
  }
 },
 "nbformat": 4,
 "nbformat_minor": 4
}
