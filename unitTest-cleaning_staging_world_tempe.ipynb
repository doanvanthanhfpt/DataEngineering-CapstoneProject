{
 "cells": [
  {
   "cell_type": "code",
   "execution_count": 47,
   "metadata": {
    "editable": true
   },
   "outputs": [],
   "source": [
    "# Do all imports and installs here - Done\n",
    "from pyspark.sql import SparkSession\n",
    "from pyspark.sql.functions import udf\n",
    "import pandas as pd\n",
    "import re\n",
    "import configparser\n",
    "import os"
   ]
  },
  {
   "cell_type": "code",
   "execution_count": 48,
   "metadata": {
    "editable": true
   },
   "outputs": [
    {
     "data": {
      "text/plain": [
       "['etl.cfg']"
      ]
     },
     "execution_count": 48,
     "metadata": {},
     "output_type": "execute_result"
    }
   ],
   "source": [
    "# Parse configurations - Done\n",
    "config = configparser.ConfigParser()\n",
    "config.read('etl.cfg')"
   ]
  },
  {
   "cell_type": "markdown",
   "metadata": {},
   "source": [
    "#### Path \n",
    "input_data_source = '.'\n",
    "\n",
    "output_processed_data = './storage'\n",
    "\n",
    "#\n",
    "\n",
    "i94immi_data_source = '../../data/18-83510-I94-Data-2016/i94_apr16_sub.sas7bdat'\n",
    "\n",
    "worldtempe_data_source = '../../data2/GlobalLandTemperaturesByCity.csv'\n",
    "\n",
    "citydemo_data_source = './us-cities-demographics.csv'\n",
    "\n",
    "airport_data_source = './airport-codes_csv.csv'\n",
    "\n",
    "#\n",
    "\n",
    "i94_immi_splited_dir = './storage/.sas7bdat'\n",
    "\n",
    "world_tempe_splited_dir = './storage/.csv'"
   ]
  },
  {
   "cell_type": "code",
   "execution_count": 114,
   "metadata": {
    "editable": true
   },
   "outputs": [],
   "source": [
    "# Create spark session\n",
    "spark = SparkSession.builder\\\n",
    "            .config(\"spark.jars.repositories\", \"https://repos.spark-packages.org/\")\\\n",
    "            .config(\"spark.jars.packages\", \"saurfang:spark-sas7bdat:2.0.0-s_2.11\")\\\n",
    "            .enableHiveSupport()\\\n",
    "            .getOrCreate()"
   ]
  },
  {
   "cell_type": "code",
   "execution_count": null,
   "metadata": {
    "editable": true
   },
   "outputs": [],
   "source": [
    "# df = spark.read.options(header='True',inferSchema='True',delimiter=',').csv(worldtempe_data_source)\n",
    "# df = spark.read.options(header='True',inferSchema='True',delimiter=';').csv(citydemo_data_source)\n",
    "# df = spark.read.options(header='True',inferSchema='True',delimiter=',').csv(airport_data_source)\n",
    "# df = spark.read.format('com.github.saurfang.sas.spark').load('../../data/18-83510-I94-Data-2016/i94_apr16_sub.sas7bdat')"
   ]
  },
  {
   "cell_type": "code",
   "execution_count": 49,
   "metadata": {
    "editable": true
   },
   "outputs": [
    {
     "name": "stdout",
     "output_type": "stream",
     "text": [
      "<class 'pandas.core.frame.DataFrame'>\n",
      "RangeIndex: 100000 entries, 0 to 99999\n",
      "Data columns (total 7 columns):\n",
      " #   Column                         Non-Null Count   Dtype  \n",
      "---  ------                         --------------   -----  \n",
      " 0   dt                             100000 non-null  object \n",
      " 1   AverageTemperature             96552 non-null   float64\n",
      " 2   AverageTemperatureUncertainty  96552 non-null   float64\n",
      " 3   City                           100000 non-null  object \n",
      " 4   Country                        100000 non-null  object \n",
      " 5   Latitude                       100000 non-null  object \n",
      " 6   Longitude                      100000 non-null  object \n",
      "dtypes: float64(2), object(5)\n",
      "memory usage: 5.3+ MB\n"
     ]
    }
   ],
   "source": [
    "# For production only\n",
    "# worldtempe_dataset = '../../data2/GlobalLandTemperaturesByCity.csv'\n",
    "\n",
    "worldtempe_dataset = 'GlobalLandTemperaturesByCity_part9.csv'\n",
    "worldtempe_df = pd.read_csv(worldtempe_dataset,sep=\",\")\n",
    "worldtempe_df.info()"
   ]
  },
  {
   "cell_type": "code",
   "execution_count": 50,
   "metadata": {},
   "outputs": [],
   "source": [
    "worldtempe_df['dt'] = pd.to_datetime(worldtempe_df['dt'])"
   ]
  },
  {
   "cell_type": "code",
   "execution_count": 51,
   "metadata": {},
   "outputs": [
    {
     "name": "stdout",
     "output_type": "stream",
     "text": [
      "<class 'pandas.core.frame.DataFrame'>\n",
      "RangeIndex: 100000 entries, 0 to 99999\n",
      "Data columns (total 7 columns):\n",
      " #   Column                         Non-Null Count   Dtype         \n",
      "---  ------                         --------------   -----         \n",
      " 0   dt                             100000 non-null  datetime64[ns]\n",
      " 1   AverageTemperature             96552 non-null   float64       \n",
      " 2   AverageTemperatureUncertainty  96552 non-null   float64       \n",
      " 3   City                           100000 non-null  object        \n",
      " 4   Country                        100000 non-null  object        \n",
      " 5   Latitude                       100000 non-null  object        \n",
      " 6   Longitude                      100000 non-null  object        \n",
      "dtypes: datetime64[ns](1), float64(2), object(4)\n",
      "memory usage: 5.3+ MB\n"
     ]
    }
   ],
   "source": [
    "worldtempe_df.info()"
   ]
  },
  {
   "cell_type": "code",
   "execution_count": 52,
   "metadata": {},
   "outputs": [
    {
     "data": {
      "text/plain": [
       "2013"
      ]
     },
     "execution_count": 52,
     "metadata": {},
     "output_type": "execute_result"
    }
   ],
   "source": [
    "worldtempe_df['year'] = worldtempe_df['dt'].dt.year"
   ]
  },
  {
   "cell_type": "code",
   "execution_count": 57,
   "metadata": {},
   "outputs": [
    {
     "data": {
      "text/plain": [
       "91916    2013\n",
       "38604    2013\n",
       "86685    2013\n",
       "86686    2013\n",
       "86687    2013\n",
       "         ... \n",
       "63714    1743\n",
       "63713    1743\n",
       "3182     1743\n",
       "3181     1743\n",
       "55342    1743\n",
       "Name: year, Length: 100000, dtype: int64"
      ]
     },
     "execution_count": 57,
     "metadata": {},
     "output_type": "execute_result"
    }
   ],
   "source": [
    "# Range of years\n",
    "worldtempe_df['year'].sort_values(ascending=False)"
   ]
  },
  {
   "cell_type": "code",
   "execution_count": 58,
   "metadata": {},
   "outputs": [
    {
     "data": {
      "text/plain": [
       "271"
      ]
     },
     "execution_count": 58,
     "metadata": {},
     "output_type": "execute_result"
    }
   ],
   "source": [
    "worldtempe_df['year'].nunique()"
   ]
  },
  {
   "cell_type": "code",
   "execution_count": 59,
   "metadata": {},
   "outputs": [],
   "source": [
    "worldtempe_df['month'] = worldtempe_df['dt'].dt.month"
   ]
  },
  {
   "cell_type": "code",
   "execution_count": 60,
   "metadata": {},
   "outputs": [
    {
     "data": {
      "text/plain": [
       "True"
      ]
     },
     "execution_count": 60,
     "metadata": {},
     "output_type": "execute_result"
    }
   ],
   "source": [
    "worldtempe_df.isnull().values.any()"
   ]
  },
  {
   "cell_type": "code",
   "execution_count": 61,
   "metadata": {},
   "outputs": [
    {
     "data": {
      "text/plain": [
       "dt                                  0\n",
       "AverageTemperature               3448\n",
       "AverageTemperatureUncertainty    3448\n",
       "City                                0\n",
       "Country                             0\n",
       "Latitude                            0\n",
       "Longitude                           0\n",
       "year                                0\n",
       "month                               0\n",
       "dtype: int64"
      ]
     },
     "execution_count": 61,
     "metadata": {},
     "output_type": "execute_result"
    }
   ],
   "source": [
    "worldtempe_df.isnull().sum()"
   ]
  },
  {
   "cell_type": "code",
   "execution_count": 65,
   "metadata": {},
   "outputs": [
    {
     "data": {
      "text/html": [
       "<div>\n",
       "<style scoped>\n",
       "    .dataframe tbody tr th:only-of-type {\n",
       "        vertical-align: middle;\n",
       "    }\n",
       "\n",
       "    .dataframe tbody tr th {\n",
       "        vertical-align: top;\n",
       "    }\n",
       "\n",
       "    .dataframe thead th {\n",
       "        text-align: right;\n",
       "    }\n",
       "</style>\n",
       "<table border=\"1\" class=\"dataframe\">\n",
       "  <thead>\n",
       "    <tr style=\"text-align: right;\">\n",
       "      <th></th>\n",
       "      <th>dt</th>\n",
       "      <th>AverageTemperature</th>\n",
       "      <th>AverageTemperatureUncertainty</th>\n",
       "      <th>City</th>\n",
       "      <th>Country</th>\n",
       "      <th>Latitude</th>\n",
       "      <th>Longitude</th>\n",
       "      <th>year</th>\n",
       "      <th>month</th>\n",
       "    </tr>\n",
       "  </thead>\n",
       "  <tbody>\n",
       "    <tr>\n",
       "      <th>0</th>\n",
       "      <td>1748-09-01</td>\n",
       "      <td>NaN</td>\n",
       "      <td>NaN</td>\n",
       "      <td>Belgorod</td>\n",
       "      <td>Russia</td>\n",
       "      <td>50.63N</td>\n",
       "      <td>36.76E</td>\n",
       "      <td>1748</td>\n",
       "      <td>9</td>\n",
       "    </tr>\n",
       "    <tr>\n",
       "      <th>1</th>\n",
       "      <td>1748-10-01</td>\n",
       "      <td>NaN</td>\n",
       "      <td>NaN</td>\n",
       "      <td>Belgorod</td>\n",
       "      <td>Russia</td>\n",
       "      <td>50.63N</td>\n",
       "      <td>36.76E</td>\n",
       "      <td>1748</td>\n",
       "      <td>10</td>\n",
       "    </tr>\n",
       "    <tr>\n",
       "      <th>2</th>\n",
       "      <td>1748-11-01</td>\n",
       "      <td>NaN</td>\n",
       "      <td>NaN</td>\n",
       "      <td>Belgorod</td>\n",
       "      <td>Russia</td>\n",
       "      <td>50.63N</td>\n",
       "      <td>36.76E</td>\n",
       "      <td>1748</td>\n",
       "      <td>11</td>\n",
       "    </tr>\n",
       "    <tr>\n",
       "      <th>3</th>\n",
       "      <td>1748-12-01</td>\n",
       "      <td>NaN</td>\n",
       "      <td>NaN</td>\n",
       "      <td>Belgorod</td>\n",
       "      <td>Russia</td>\n",
       "      <td>50.63N</td>\n",
       "      <td>36.76E</td>\n",
       "      <td>1748</td>\n",
       "      <td>12</td>\n",
       "    </tr>\n",
       "    <tr>\n",
       "      <th>4</th>\n",
       "      <td>1749-01-01</td>\n",
       "      <td>NaN</td>\n",
       "      <td>NaN</td>\n",
       "      <td>Belgorod</td>\n",
       "      <td>Russia</td>\n",
       "      <td>50.63N</td>\n",
       "      <td>36.76E</td>\n",
       "      <td>1749</td>\n",
       "      <td>1</td>\n",
       "    </tr>\n",
       "    <tr>\n",
       "      <th>...</th>\n",
       "      <td>...</td>\n",
       "      <td>...</td>\n",
       "      <td>...</td>\n",
       "      <td>...</td>\n",
       "      <td>...</td>\n",
       "      <td>...</td>\n",
       "      <td>...</td>\n",
       "      <td>...</td>\n",
       "      <td>...</td>\n",
       "    </tr>\n",
       "    <tr>\n",
       "      <th>99957</th>\n",
       "      <td>1812-09-01</td>\n",
       "      <td>NaN</td>\n",
       "      <td>NaN</td>\n",
       "      <td>Bhilwara</td>\n",
       "      <td>India</td>\n",
       "      <td>24.92N</td>\n",
       "      <td>74.48E</td>\n",
       "      <td>1812</td>\n",
       "      <td>9</td>\n",
       "    </tr>\n",
       "    <tr>\n",
       "      <th>99958</th>\n",
       "      <td>1812-10-01</td>\n",
       "      <td>NaN</td>\n",
       "      <td>NaN</td>\n",
       "      <td>Bhilwara</td>\n",
       "      <td>India</td>\n",
       "      <td>24.92N</td>\n",
       "      <td>74.48E</td>\n",
       "      <td>1812</td>\n",
       "      <td>10</td>\n",
       "    </tr>\n",
       "    <tr>\n",
       "      <th>99959</th>\n",
       "      <td>1812-11-01</td>\n",
       "      <td>NaN</td>\n",
       "      <td>NaN</td>\n",
       "      <td>Bhilwara</td>\n",
       "      <td>India</td>\n",
       "      <td>24.92N</td>\n",
       "      <td>74.48E</td>\n",
       "      <td>1812</td>\n",
       "      <td>11</td>\n",
       "    </tr>\n",
       "    <tr>\n",
       "      <th>99960</th>\n",
       "      <td>1812-12-01</td>\n",
       "      <td>NaN</td>\n",
       "      <td>NaN</td>\n",
       "      <td>Bhilwara</td>\n",
       "      <td>India</td>\n",
       "      <td>24.92N</td>\n",
       "      <td>74.48E</td>\n",
       "      <td>1812</td>\n",
       "      <td>12</td>\n",
       "    </tr>\n",
       "    <tr>\n",
       "      <th>99977</th>\n",
       "      <td>1814-05-01</td>\n",
       "      <td>NaN</td>\n",
       "      <td>NaN</td>\n",
       "      <td>Bhilwara</td>\n",
       "      <td>India</td>\n",
       "      <td>24.92N</td>\n",
       "      <td>74.48E</td>\n",
       "      <td>1814</td>\n",
       "      <td>5</td>\n",
       "    </tr>\n",
       "  </tbody>\n",
       "</table>\n",
       "<p>3448 rows × 9 columns</p>\n",
       "</div>"
      ],
      "text/plain": [
       "              dt  AverageTemperature  AverageTemperatureUncertainty      City  \\\n",
       "0     1748-09-01                 NaN                            NaN  Belgorod   \n",
       "1     1748-10-01                 NaN                            NaN  Belgorod   \n",
       "2     1748-11-01                 NaN                            NaN  Belgorod   \n",
       "3     1748-12-01                 NaN                            NaN  Belgorod   \n",
       "4     1749-01-01                 NaN                            NaN  Belgorod   \n",
       "...          ...                 ...                            ...       ...   \n",
       "99957 1812-09-01                 NaN                            NaN  Bhilwara   \n",
       "99958 1812-10-01                 NaN                            NaN  Bhilwara   \n",
       "99959 1812-11-01                 NaN                            NaN  Bhilwara   \n",
       "99960 1812-12-01                 NaN                            NaN  Bhilwara   \n",
       "99977 1814-05-01                 NaN                            NaN  Bhilwara   \n",
       "\n",
       "      Country Latitude Longitude  year  month  \n",
       "0      Russia   50.63N    36.76E  1748      9  \n",
       "1      Russia   50.63N    36.76E  1748     10  \n",
       "2      Russia   50.63N    36.76E  1748     11  \n",
       "3      Russia   50.63N    36.76E  1748     12  \n",
       "4      Russia   50.63N    36.76E  1749      1  \n",
       "...       ...      ...       ...   ...    ...  \n",
       "99957   India   24.92N    74.48E  1812      9  \n",
       "99958   India   24.92N    74.48E  1812     10  \n",
       "99959   India   24.92N    74.48E  1812     11  \n",
       "99960   India   24.92N    74.48E  1812     12  \n",
       "99977   India   24.92N    74.48E  1814      5  \n",
       "\n",
       "[3448 rows x 9 columns]"
      ]
     },
     "execution_count": 65,
     "metadata": {},
     "output_type": "execute_result"
    }
   ],
   "source": [
    "worldtempe_df[worldtempe_df['AverageTemperature'].isnull()]"
   ]
  },
  {
   "cell_type": "code",
   "execution_count": 63,
   "metadata": {},
   "outputs": [],
   "source": [
    "def nan_percentage_calc(df):\n",
    "    nan_demographics_df = pd.DataFrame(data=df.isnull().sum(), columns=['NaN'])\n",
    "    nan_demographics_df.drop(nan_demographics_df[nan_demographics_df['NaN'] == 0].index, inplace = True)\n",
    "    nan_demographics_df['% of NaN'] = (nan_demographics_df['NaN']/df.count())*100\n",
    "    return nan_demographics_df"
   ]
  },
  {
   "cell_type": "code",
   "execution_count": 64,
   "metadata": {},
   "outputs": [
    {
     "data": {
      "text/html": [
       "<div>\n",
       "<style scoped>\n",
       "    .dataframe tbody tr th:only-of-type {\n",
       "        vertical-align: middle;\n",
       "    }\n",
       "\n",
       "    .dataframe tbody tr th {\n",
       "        vertical-align: top;\n",
       "    }\n",
       "\n",
       "    .dataframe thead th {\n",
       "        text-align: right;\n",
       "    }\n",
       "</style>\n",
       "<table border=\"1\" class=\"dataframe\">\n",
       "  <thead>\n",
       "    <tr style=\"text-align: right;\">\n",
       "      <th></th>\n",
       "      <th>NaN</th>\n",
       "      <th>% of NaN</th>\n",
       "    </tr>\n",
       "  </thead>\n",
       "  <tbody>\n",
       "    <tr>\n",
       "      <th>AverageTemperature</th>\n",
       "      <td>3448</td>\n",
       "      <td>3.571133</td>\n",
       "    </tr>\n",
       "    <tr>\n",
       "      <th>AverageTemperatureUncertainty</th>\n",
       "      <td>3448</td>\n",
       "      <td>3.571133</td>\n",
       "    </tr>\n",
       "  </tbody>\n",
       "</table>\n",
       "</div>"
      ],
      "text/plain": [
       "                                NaN  % of NaN\n",
       "AverageTemperature             3448  3.571133\n",
       "AverageTemperatureUncertainty  3448  3.571133"
      ]
     },
     "execution_count": 64,
     "metadata": {},
     "output_type": "execute_result"
    }
   ],
   "source": [
    "nan_percentage_calc(worldtempe_df)"
   ]
  },
  {
   "cell_type": "code",
   "execution_count": 66,
   "metadata": {},
   "outputs": [],
   "source": [
    "worldtempe_df.dropna(axis=0, inplace=True)"
   ]
  },
  {
   "cell_type": "code",
   "execution_count": 67,
   "metadata": {},
   "outputs": [
    {
     "data": {
      "text/html": [
       "<div>\n",
       "<style scoped>\n",
       "    .dataframe tbody tr th:only-of-type {\n",
       "        vertical-align: middle;\n",
       "    }\n",
       "\n",
       "    .dataframe tbody tr th {\n",
       "        vertical-align: top;\n",
       "    }\n",
       "\n",
       "    .dataframe thead th {\n",
       "        text-align: right;\n",
       "    }\n",
       "</style>\n",
       "<table border=\"1\" class=\"dataframe\">\n",
       "  <thead>\n",
       "    <tr style=\"text-align: right;\">\n",
       "      <th></th>\n",
       "      <th>NaN</th>\n",
       "      <th>% of NaN</th>\n",
       "    </tr>\n",
       "  </thead>\n",
       "  <tbody>\n",
       "    <tr>\n",
       "      <th>dt</th>\n",
       "      <td>NaN</td>\n",
       "      <td>NaN</td>\n",
       "    </tr>\n",
       "    <tr>\n",
       "      <th>AverageTemperature</th>\n",
       "      <td>NaN</td>\n",
       "      <td>NaN</td>\n",
       "    </tr>\n",
       "    <tr>\n",
       "      <th>AverageTemperatureUncertainty</th>\n",
       "      <td>NaN</td>\n",
       "      <td>NaN</td>\n",
       "    </tr>\n",
       "    <tr>\n",
       "      <th>City</th>\n",
       "      <td>NaN</td>\n",
       "      <td>NaN</td>\n",
       "    </tr>\n",
       "    <tr>\n",
       "      <th>Country</th>\n",
       "      <td>NaN</td>\n",
       "      <td>NaN</td>\n",
       "    </tr>\n",
       "    <tr>\n",
       "      <th>Latitude</th>\n",
       "      <td>NaN</td>\n",
       "      <td>NaN</td>\n",
       "    </tr>\n",
       "    <tr>\n",
       "      <th>Longitude</th>\n",
       "      <td>NaN</td>\n",
       "      <td>NaN</td>\n",
       "    </tr>\n",
       "    <tr>\n",
       "      <th>year</th>\n",
       "      <td>NaN</td>\n",
       "      <td>NaN</td>\n",
       "    </tr>\n",
       "    <tr>\n",
       "      <th>month</th>\n",
       "      <td>NaN</td>\n",
       "      <td>NaN</td>\n",
       "    </tr>\n",
       "  </tbody>\n",
       "</table>\n",
       "</div>"
      ],
      "text/plain": [
       "                               NaN  % of NaN\n",
       "dt                             NaN       NaN\n",
       "AverageTemperature             NaN       NaN\n",
       "AverageTemperatureUncertainty  NaN       NaN\n",
       "City                           NaN       NaN\n",
       "Country                        NaN       NaN\n",
       "Latitude                       NaN       NaN\n",
       "Longitude                      NaN       NaN\n",
       "year                           NaN       NaN\n",
       "month                          NaN       NaN"
      ]
     },
     "execution_count": 67,
     "metadata": {},
     "output_type": "execute_result"
    }
   ],
   "source": [
    "nan_percentage_calc(worldtempe_df)"
   ]
  },
  {
   "cell_type": "code",
   "execution_count": 68,
   "metadata": {},
   "outputs": [
    {
     "data": {
      "text/plain": [
       "dt                               0\n",
       "AverageTemperature               0\n",
       "AverageTemperatureUncertainty    0\n",
       "City                             0\n",
       "Country                          0\n",
       "Latitude                         0\n",
       "Longitude                        0\n",
       "year                             0\n",
       "month                            0\n",
       "dtype: int64"
      ]
     },
     "execution_count": 68,
     "metadata": {},
     "output_type": "execute_result"
    }
   ],
   "source": [
    "worldtempe_df.isna().sum()"
   ]
  },
  {
   "cell_type": "code",
   "execution_count": 69,
   "metadata": {},
   "outputs": [
    {
     "data": {
      "text/plain": [
       "39"
      ]
     },
     "execution_count": 69,
     "metadata": {},
     "output_type": "execute_result"
    }
   ],
   "source": [
    "worldtempe_df['City'].nunique()"
   ]
  },
  {
   "cell_type": "code",
   "execution_count": 70,
   "metadata": {},
   "outputs": [
    {
     "data": {
      "text/plain": [
       "23"
      ]
     },
     "execution_count": 70,
     "metadata": {},
     "output_type": "execute_result"
    }
   ],
   "source": [
    "worldtempe_df['Country'].nunique()"
   ]
  },
  {
   "cell_type": "code",
   "execution_count": 71,
   "metadata": {},
   "outputs": [],
   "source": [
    "worldtempe_df = worldtempe_df[worldtempe_df['Country'] == 'United States']"
   ]
  },
  {
   "cell_type": "code",
   "execution_count": 72,
   "metadata": {},
   "outputs": [
    {
     "data": {
      "text/plain": [
       "Index(['dt', 'AverageTemperature', 'City', 'Country', 'year', 'month'], dtype='object')"
      ]
     },
     "execution_count": 72,
     "metadata": {},
     "output_type": "execute_result"
    }
   ],
   "source": [
    "# Dropping 3 columns\n",
    "\n",
    "worldtempe_df = worldtempe_df.drop(['AverageTemperatureUncertainty', 'Latitude', 'Longitude'], axis=1)\n",
    "worldtempe_df.columns"
   ]
  },
  {
   "cell_type": "code",
   "execution_count": 73,
   "metadata": {},
   "outputs": [],
   "source": [
    "def convert_column_names(df):\n",
    "    cols = df.columns\n",
    "    column_name_changed = []\n",
    "\n",
    "    for col in cols:\n",
    "        new_column = col.lstrip().rstrip().lower().replace (\" \", \"_\").replace (\"-\", \"_\") #strip beginning spaces, makes lowercase, add underscpre\n",
    "        column_name_changed.append(new_column)\n",
    "\n",
    "    df.columns = column_name_changed"
   ]
  },
  {
   "cell_type": "code",
   "execution_count": 74,
   "metadata": {},
   "outputs": [
    {
     "data": {
      "text/plain": [
       "Index(['dt', 'averagetemperature', 'city', 'country', 'year', 'month'], dtype='object')"
      ]
     },
     "execution_count": 74,
     "metadata": {},
     "output_type": "execute_result"
    }
   ],
   "source": [
    "convert_column_names(worldtempe_df)\n",
    "worldtempe_df.columns"
   ]
  },
  {
   "cell_type": "code",
   "execution_count": 75,
   "metadata": {},
   "outputs": [
    {
     "data": {
      "text/html": [
       "<div>\n",
       "<style scoped>\n",
       "    .dataframe tbody tr th:only-of-type {\n",
       "        vertical-align: middle;\n",
       "    }\n",
       "\n",
       "    .dataframe tbody tr th {\n",
       "        vertical-align: top;\n",
       "    }\n",
       "\n",
       "    .dataframe thead th {\n",
       "        text-align: right;\n",
       "    }\n",
       "</style>\n",
       "<table border=\"1\" class=\"dataframe\">\n",
       "  <thead>\n",
       "    <tr style=\"text-align: right;\">\n",
       "      <th></th>\n",
       "      <th>dt</th>\n",
       "      <th>averagetemperature</th>\n",
       "      <th>city</th>\n",
       "      <th>country</th>\n",
       "      <th>year</th>\n",
       "      <th>month</th>\n",
       "    </tr>\n",
       "  </thead>\n",
       "  <tbody>\n",
       "    <tr>\n",
       "      <th>9033</th>\n",
       "      <td>1828-01-01</td>\n",
       "      <td>-1.977</td>\n",
       "      <td>Bellevue</td>\n",
       "      <td>United States</td>\n",
       "      <td>1828</td>\n",
       "      <td>1</td>\n",
       "    </tr>\n",
       "    <tr>\n",
       "      <th>9034</th>\n",
       "      <td>1828-02-01</td>\n",
       "      <td>0.720</td>\n",
       "      <td>Bellevue</td>\n",
       "      <td>United States</td>\n",
       "      <td>1828</td>\n",
       "      <td>2</td>\n",
       "    </tr>\n",
       "    <tr>\n",
       "      <th>9035</th>\n",
       "      <td>1828-03-01</td>\n",
       "      <td>4.114</td>\n",
       "      <td>Bellevue</td>\n",
       "      <td>United States</td>\n",
       "      <td>1828</td>\n",
       "      <td>3</td>\n",
       "    </tr>\n",
       "    <tr>\n",
       "      <th>9037</th>\n",
       "      <td>1828-05-01</td>\n",
       "      <td>10.139</td>\n",
       "      <td>Bellevue</td>\n",
       "      <td>United States</td>\n",
       "      <td>1828</td>\n",
       "      <td>5</td>\n",
       "    </tr>\n",
       "    <tr>\n",
       "      <th>9038</th>\n",
       "      <td>1828-06-01</td>\n",
       "      <td>14.195</td>\n",
       "      <td>Bellevue</td>\n",
       "      <td>United States</td>\n",
       "      <td>1828</td>\n",
       "      <td>6</td>\n",
       "    </tr>\n",
       "  </tbody>\n",
       "</table>\n",
       "</div>"
      ],
      "text/plain": [
       "             dt  averagetemperature      city        country  year  month\n",
       "9033 1828-01-01              -1.977  Bellevue  United States  1828      1\n",
       "9034 1828-02-01               0.720  Bellevue  United States  1828      2\n",
       "9035 1828-03-01               4.114  Bellevue  United States  1828      3\n",
       "9037 1828-05-01              10.139  Bellevue  United States  1828      5\n",
       "9038 1828-06-01              14.195  Bellevue  United States  1828      6"
      ]
     },
     "execution_count": 75,
     "metadata": {},
     "output_type": "execute_result"
    }
   ],
   "source": [
    "worldtempe_df.head()"
   ]
  },
  {
   "cell_type": "code",
   "execution_count": 76,
   "metadata": {},
   "outputs": [
    {
     "data": {
      "text/html": [
       "<div>\n",
       "<style scoped>\n",
       "    .dataframe tbody tr th:only-of-type {\n",
       "        vertical-align: middle;\n",
       "    }\n",
       "\n",
       "    .dataframe tbody tr th {\n",
       "        vertical-align: top;\n",
       "    }\n",
       "\n",
       "    .dataframe thead th {\n",
       "        text-align: right;\n",
       "    }\n",
       "</style>\n",
       "<table border=\"1\" class=\"dataframe\">\n",
       "  <thead>\n",
       "    <tr style=\"text-align: right;\">\n",
       "      <th></th>\n",
       "      <th>dt</th>\n",
       "      <th>averagetemperature</th>\n",
       "      <th>city</th>\n",
       "      <th>country</th>\n",
       "      <th>year</th>\n",
       "      <th>month</th>\n",
       "    </tr>\n",
       "  </thead>\n",
       "  <tbody>\n",
       "    <tr>\n",
       "      <th>55337</th>\n",
       "      <td>2013-05-01</td>\n",
       "      <td>17.434</td>\n",
       "      <td>Berkeley</td>\n",
       "      <td>United States</td>\n",
       "      <td>2013</td>\n",
       "      <td>5</td>\n",
       "    </tr>\n",
       "    <tr>\n",
       "      <th>55338</th>\n",
       "      <td>2013-06-01</td>\n",
       "      <td>19.759</td>\n",
       "      <td>Berkeley</td>\n",
       "      <td>United States</td>\n",
       "      <td>2013</td>\n",
       "      <td>6</td>\n",
       "    </tr>\n",
       "    <tr>\n",
       "      <th>55339</th>\n",
       "      <td>2013-07-01</td>\n",
       "      <td>20.657</td>\n",
       "      <td>Berkeley</td>\n",
       "      <td>United States</td>\n",
       "      <td>2013</td>\n",
       "      <td>7</td>\n",
       "    </tr>\n",
       "    <tr>\n",
       "      <th>55340</th>\n",
       "      <td>2013-08-01</td>\n",
       "      <td>19.731</td>\n",
       "      <td>Berkeley</td>\n",
       "      <td>United States</td>\n",
       "      <td>2013</td>\n",
       "      <td>8</td>\n",
       "    </tr>\n",
       "    <tr>\n",
       "      <th>55341</th>\n",
       "      <td>2013-09-01</td>\n",
       "      <td>20.471</td>\n",
       "      <td>Berkeley</td>\n",
       "      <td>United States</td>\n",
       "      <td>2013</td>\n",
       "      <td>9</td>\n",
       "    </tr>\n",
       "  </tbody>\n",
       "</table>\n",
       "</div>"
      ],
      "text/plain": [
       "              dt  averagetemperature      city        country  year  month\n",
       "55337 2013-05-01              17.434  Berkeley  United States  2013      5\n",
       "55338 2013-06-01              19.759  Berkeley  United States  2013      6\n",
       "55339 2013-07-01              20.657  Berkeley  United States  2013      7\n",
       "55340 2013-08-01              19.731  Berkeley  United States  2013      8\n",
       "55341 2013-09-01              20.471  Berkeley  United States  2013      9"
      ]
     },
     "execution_count": 76,
     "metadata": {},
     "output_type": "execute_result"
    }
   ],
   "source": [
    "worldtempe_df.tail()"
   ]
  },
  {
   "cell_type": "code",
   "execution_count": 78,
   "metadata": {},
   "outputs": [
    {
     "data": {
      "text/plain": [
       "dt          averagetemperature  city      country        year  month\n",
       "1828-01-01  -1.977              Bellevue  United States  1828  1        1\n",
       "1956-11-01   12.420             Berkeley  United States  1956  11       1\n",
       "1955-08-01   18.872             Berkeley  United States  1955  8        1\n",
       "1955-09-01   11.868             Bellevue  United States  1955  9        1\n",
       "             18.615             Berkeley  United States  1955  9        1\n",
       "                                                                       ..\n",
       "1898-06-01   12.996             Bellevue  United States  1898  6        1\n",
       "             18.739             Berkeley  United States  1898  6        1\n",
       "1898-07-01   15.054             Bellevue  United States  1898  7        1\n",
       "             19.403             Berkeley  United States  1898  7        1\n",
       "2013-09-01   20.471             Berkeley  United States  2013  9        1\n",
       "Length: 4159, dtype: int64"
      ]
     },
     "execution_count": 78,
     "metadata": {},
     "output_type": "execute_result"
    }
   ],
   "source": [
    "worldtempe_df.value_counts()"
   ]
  },
  {
   "cell_type": "code",
   "execution_count": 79,
   "metadata": {},
   "outputs": [],
   "source": [
    "# Saving the clean df to a new csv\n",
    "worldtempe_df.to_csv('worldtempe_df_clean.csv', index=False)"
   ]
  }
 ],
 "metadata": {
  "kernelspec": {
   "display_name": "Python 3.10.8 ('project5')",
   "language": "python",
   "name": "python3"
  },
  "language_info": {
   "codemirror_mode": {
    "name": "ipython",
    "version": 3
   },
   "file_extension": ".py",
   "mimetype": "text/x-python",
   "name": "python",
   "nbconvert_exporter": "python",
   "pygments_lexer": "ipython3",
   "version": "3.10.8"
  },
  "vscode": {
   "interpreter": {
    "hash": "6f19dfd6b1cd7fd360d4f2c4802461aa893d068ea99183b3eab6718091575a5a"
   }
  }
 },
 "nbformat": 4,
 "nbformat_minor": 4
}
