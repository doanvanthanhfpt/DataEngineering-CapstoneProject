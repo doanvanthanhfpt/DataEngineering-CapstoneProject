{
 "cells": [
  {
   "cell_type": "code",
   "execution_count": 6,
   "metadata": {
    "editable": true
   },
   "outputs": [],
   "source": [
    "# Do all imports and installs here - Done\n",
    "from pyspark.sql import SparkSession\n",
    "from pyspark.sql.functions import udf\n",
    "import pandas as pd\n",
    "import re\n",
    "import configparser\n",
    "import os\n",
    "from pyspark.sql.types import StructType as R, StructField as Fld,\\\n",
    "    DoubleType as Dbl, StringType as Str, IntegerType as Int,\\\n",
    "    TimestampType as Timestamp, DateType as Date, LongType as Long\n"
   ]
  },
  {
   "cell_type": "code",
   "execution_count": 2,
   "metadata": {
    "editable": true
   },
   "outputs": [
    {
     "data": {
      "text/plain": [
       "['etl.cfg']"
      ]
     },
     "execution_count": 2,
     "metadata": {},
     "output_type": "execute_result"
    }
   ],
   "source": [
    "# Parse configurations - Done\n",
    "config = configparser.ConfigParser()\n",
    "config.read('etl.cfg')"
   ]
  },
  {
   "cell_type": "markdown",
   "metadata": {},
   "source": [
    "#### Path \n",
    "input_data_source = '.'\n",
    "\n",
    "output_processed_data = './storage'\n",
    "\n",
    "#\n",
    "\n",
    "i94immi_data_source = '../../data/18-83510-I94-Data-2016/i94_apr16_sub.sas7bdat'\n",
    "\n",
    "worldtempe_data_source = '../../data2/GlobalLandTemperaturesByCity.csv'\n",
    "\n",
    "citydemo_data_source = './us-cities-demographics.csv'\n",
    "\n",
    "airport_data_source = './airport-codes_csv.csv'\n",
    "\n",
    "#\n",
    "\n",
    "i94_immi_splited_dir = './storage/.sas7bdat'\n",
    "\n",
    "world_tempe_splited_dir = './storage/.csv'"
   ]
  },
  {
   "cell_type": "code",
   "execution_count": 10,
   "metadata": {
    "editable": true
   },
   "outputs": [],
   "source": [
    "# Create spark session\n",
    "spark = SparkSession.builder\\\n",
    "            .config(\"spark.jars.repositories\", \"https://repos.spark-packages.org/\")\\\n",
    "            .config(\"spark.jars.packages\", \"saurfang:spark-sas7bdat:2.0.0-s_2.11\")\\\n",
    "            .enableHiveSupport()\\\n",
    "            .getOrCreate()"
   ]
  },
  {
   "cell_type": "code",
   "execution_count": null,
   "metadata": {
    "editable": true
   },
   "outputs": [],
   "source": [
    "# df = spark.read.options(header='True',inferSchema='True',delimiter=',').csv(worldtempe_data_source)\n",
    "# df = spark.read.options(header='True',inferSchema='True',delimiter=';').csv(citydemo_data_source)\n",
    "# df = spark.read.options(header='True',inferSchema='True',delimiter=',').csv(airport_data_source)\n",
    "# df = spark.read.format('com.github.saurfang.sas.spark').load('../../data/18-83510-I94-Data-2016/i94_apr16_sub.sas7bdat')"
   ]
  },
  {
   "cell_type": "code",
   "execution_count": 94,
   "metadata": {
    "editable": true
   },
   "outputs": [
    {
     "data": {
      "text/html": [
       "<div>\n",
       "<style scoped>\n",
       "    .dataframe tbody tr th:only-of-type {\n",
       "        vertical-align: middle;\n",
       "    }\n",
       "\n",
       "    .dataframe tbody tr th {\n",
       "        vertical-align: top;\n",
       "    }\n",
       "\n",
       "    .dataframe thead th {\n",
       "        text-align: right;\n",
       "    }\n",
       "</style>\n",
       "<table border=\"1\" class=\"dataframe\">\n",
       "  <thead>\n",
       "    <tr style=\"text-align: right;\">\n",
       "      <th></th>\n",
       "      <th>ident</th>\n",
       "      <th>type</th>\n",
       "      <th>name</th>\n",
       "      <th>elevation_ft</th>\n",
       "      <th>continent</th>\n",
       "      <th>iso_country</th>\n",
       "      <th>iso_region</th>\n",
       "      <th>municipality</th>\n",
       "      <th>gps_code</th>\n",
       "      <th>iata_code</th>\n",
       "      <th>local_code</th>\n",
       "      <th>coordinates</th>\n",
       "    </tr>\n",
       "  </thead>\n",
       "  <tbody>\n",
       "    <tr>\n",
       "      <th>0</th>\n",
       "      <td>00A</td>\n",
       "      <td>heliport</td>\n",
       "      <td>Total Rf Heliport</td>\n",
       "      <td>11.0</td>\n",
       "      <td>NaN</td>\n",
       "      <td>US</td>\n",
       "      <td>US-PA</td>\n",
       "      <td>Bensalem</td>\n",
       "      <td>00A</td>\n",
       "      <td>NaN</td>\n",
       "      <td>00A</td>\n",
       "      <td>-74.93360137939453, 40.07080078125</td>\n",
       "    </tr>\n",
       "    <tr>\n",
       "      <th>1</th>\n",
       "      <td>00AA</td>\n",
       "      <td>small_airport</td>\n",
       "      <td>Aero B Ranch Airport</td>\n",
       "      <td>3435.0</td>\n",
       "      <td>NaN</td>\n",
       "      <td>US</td>\n",
       "      <td>US-KS</td>\n",
       "      <td>Leoti</td>\n",
       "      <td>00AA</td>\n",
       "      <td>NaN</td>\n",
       "      <td>00AA</td>\n",
       "      <td>-101.473911, 38.704022</td>\n",
       "    </tr>\n",
       "    <tr>\n",
       "      <th>2</th>\n",
       "      <td>00AK</td>\n",
       "      <td>small_airport</td>\n",
       "      <td>Lowell Field</td>\n",
       "      <td>450.0</td>\n",
       "      <td>NaN</td>\n",
       "      <td>US</td>\n",
       "      <td>US-AK</td>\n",
       "      <td>Anchor Point</td>\n",
       "      <td>00AK</td>\n",
       "      <td>NaN</td>\n",
       "      <td>00AK</td>\n",
       "      <td>-151.695999146, 59.94919968</td>\n",
       "    </tr>\n",
       "    <tr>\n",
       "      <th>3</th>\n",
       "      <td>00AL</td>\n",
       "      <td>small_airport</td>\n",
       "      <td>Epps Airpark</td>\n",
       "      <td>820.0</td>\n",
       "      <td>NaN</td>\n",
       "      <td>US</td>\n",
       "      <td>US-AL</td>\n",
       "      <td>Harvest</td>\n",
       "      <td>00AL</td>\n",
       "      <td>NaN</td>\n",
       "      <td>00AL</td>\n",
       "      <td>-86.77030181884766, 34.86479949951172</td>\n",
       "    </tr>\n",
       "    <tr>\n",
       "      <th>4</th>\n",
       "      <td>00AR</td>\n",
       "      <td>closed</td>\n",
       "      <td>Newport Hospital &amp; Clinic Heliport</td>\n",
       "      <td>237.0</td>\n",
       "      <td>NaN</td>\n",
       "      <td>US</td>\n",
       "      <td>US-AR</td>\n",
       "      <td>Newport</td>\n",
       "      <td>NaN</td>\n",
       "      <td>NaN</td>\n",
       "      <td>NaN</td>\n",
       "      <td>-91.254898, 35.6087</td>\n",
       "    </tr>\n",
       "  </tbody>\n",
       "</table>\n",
       "</div>"
      ],
      "text/plain": [
       "  ident           type                                name  elevation_ft  \\\n",
       "0   00A       heliport                   Total Rf Heliport          11.0   \n",
       "1  00AA  small_airport                Aero B Ranch Airport        3435.0   \n",
       "2  00AK  small_airport                        Lowell Field         450.0   \n",
       "3  00AL  small_airport                        Epps Airpark         820.0   \n",
       "4  00AR         closed  Newport Hospital & Clinic Heliport         237.0   \n",
       "\n",
       "  continent iso_country iso_region  municipality gps_code iata_code  \\\n",
       "0       NaN          US      US-PA      Bensalem      00A       NaN   \n",
       "1       NaN          US      US-KS         Leoti     00AA       NaN   \n",
       "2       NaN          US      US-AK  Anchor Point     00AK       NaN   \n",
       "3       NaN          US      US-AL       Harvest     00AL       NaN   \n",
       "4       NaN          US      US-AR       Newport      NaN       NaN   \n",
       "\n",
       "  local_code                            coordinates  \n",
       "0        00A     -74.93360137939453, 40.07080078125  \n",
       "1       00AA                 -101.473911, 38.704022  \n",
       "2       00AK            -151.695999146, 59.94919968  \n",
       "3       00AL  -86.77030181884766, 34.86479949951172  \n",
       "4        NaN                    -91.254898, 35.6087  "
      ]
     },
     "execution_count": 94,
     "metadata": {},
     "output_type": "execute_result"
    }
   ],
   "source": [
    "airport_dataset = './airport-codes_csv.csv'\n",
    "airport_df = pd.read_csv(airport_dataset,sep=\",\")\n",
    "pd.set_option('display.max_columns', 50)\n",
    "airport_df.head()"
   ]
  },
  {
   "cell_type": "markdown",
   "metadata": {},
   "source": [
    "```\n",
    "==========================================================================================================\n",
    "extract from SAS_Labels\n",
    "==========================================================================================================\n",
    "```"
   ]
  },
  {
   "cell_type": "code",
   "execution_count": 7,
   "metadata": {},
   "outputs": [],
   "source": [
    "def extract_data_from_SAS_labels_descriptions(input_label):\n",
    "    '''\n",
    "    A procedure that returns a cleaned list of code value pairs for the provided input label\n",
    "    \n",
    "    Parameters\n",
    "    ----------\n",
    "    input_label : str\n",
    "        name of the label in the SAS labels descriptions file\n",
    "    \n",
    "    Returns\n",
    "    -------\n",
    "    code_value_list : list(tuple(str, str))\n",
    "        a list of code values pairs extracted from the SAS labels descriptions file and cleaned\n",
    "    '''\n",
    "\n",
    "    with open('I94_SAS_Labels_Descriptions.SAS') as labels_descriptions:\n",
    "            raw_labels = labels_descriptions.read()\n",
    "\n",
    "    # extract only label data\n",
    "    labels = raw_labels[raw_labels.index(input_label):]\n",
    "    labels = labels[:labels.index(';')]\n",
    "    \n",
    "    \n",
    "    # in each line remove unnecessary spaces and extract the code and its corresponding value \n",
    "    lines = labels.splitlines()\n",
    "    code_value_list = []\n",
    "    for line in lines:\n",
    "        try:\n",
    "            code, value = line.split('=')\n",
    "            code = code.strip().strip(\"'\").strip('\"')\n",
    "            value = value.strip().strip(\"'\").strip('\"').strip()\n",
    "            code_value_list.append((code, value))\n",
    "        except:\n",
    "            pass\n",
    "        \n",
    "    return code_value_list"
   ]
  },
  {
   "cell_type": "code",
   "execution_count": 8,
   "metadata": {},
   "outputs": [],
   "source": [
    "# define the schema the will be used for all label descriptions\n",
    "schema = R([\n",
    "        Fld(\"code\", Str()),\n",
    "        Fld(\"name\", Str())\n",
    "    ])"
   ]
  },
  {
   "cell_type": "code",
   "execution_count": 11,
   "metadata": {},
   "outputs": [
    {
     "data": {
      "text/html": [
       "<div>\n",
       "<style scoped>\n",
       "    .dataframe tbody tr th:only-of-type {\n",
       "        vertical-align: middle;\n",
       "    }\n",
       "\n",
       "    .dataframe tbody tr th {\n",
       "        vertical-align: top;\n",
       "    }\n",
       "\n",
       "    .dataframe thead th {\n",
       "        text-align: right;\n",
       "    }\n",
       "</style>\n",
       "<table border=\"1\" class=\"dataframe\">\n",
       "  <thead>\n",
       "    <tr style=\"text-align: right;\">\n",
       "      <th></th>\n",
       "      <th>code</th>\n",
       "      <th>name</th>\n",
       "    </tr>\n",
       "  </thead>\n",
       "  <tbody>\n",
       "    <tr>\n",
       "      <th>0</th>\n",
       "      <td>582</td>\n",
       "      <td>MEXICO Air Sea, and Not Reported (I-94, no lan...</td>\n",
       "    </tr>\n",
       "    <tr>\n",
       "      <th>1</th>\n",
       "      <td>236</td>\n",
       "      <td>AFGHANISTAN</td>\n",
       "    </tr>\n",
       "    <tr>\n",
       "      <th>2</th>\n",
       "      <td>101</td>\n",
       "      <td>ALBANIA</td>\n",
       "    </tr>\n",
       "    <tr>\n",
       "      <th>3</th>\n",
       "      <td>316</td>\n",
       "      <td>ALGERIA</td>\n",
       "    </tr>\n",
       "    <tr>\n",
       "      <th>4</th>\n",
       "      <td>102</td>\n",
       "      <td>ANDORRA</td>\n",
       "    </tr>\n",
       "  </tbody>\n",
       "</table>\n",
       "</div>"
      ],
      "text/plain": [
       "  code                                               name\n",
       "0  582  MEXICO Air Sea, and Not Reported (I-94, no lan...\n",
       "1  236                                        AFGHANISTAN\n",
       "2  101                                            ALBANIA\n",
       "3  316                                            ALGERIA\n",
       "4  102                                            ANDORRA"
      ]
     },
     "execution_count": 11,
     "metadata": {},
     "output_type": "execute_result"
    }
   ],
   "source": [
    "countries_df = spark.createDataFrame(\n",
    "        data=extract_data_from_SAS_labels_descriptions('I94RES'),\n",
    "        schema=schema\n",
    ")\n",
    "\n",
    "countries_df.limit(5).toPandas()"
   ]
  },
  {
   "cell_type": "code",
   "execution_count": 12,
   "metadata": {},
   "outputs": [
    {
     "data": {
      "text/html": [
       "<div>\n",
       "<style scoped>\n",
       "    .dataframe tbody tr th:only-of-type {\n",
       "        vertical-align: middle;\n",
       "    }\n",
       "\n",
       "    .dataframe tbody tr th {\n",
       "        vertical-align: top;\n",
       "    }\n",
       "\n",
       "    .dataframe thead th {\n",
       "        text-align: right;\n",
       "    }\n",
       "</style>\n",
       "<table border=\"1\" class=\"dataframe\">\n",
       "  <thead>\n",
       "    <tr style=\"text-align: right;\">\n",
       "      <th></th>\n",
       "      <th>code</th>\n",
       "      <th>name</th>\n",
       "    </tr>\n",
       "  </thead>\n",
       "  <tbody>\n",
       "    <tr>\n",
       "      <th>0</th>\n",
       "      <td>ALC</td>\n",
       "      <td>ALCAN, AK</td>\n",
       "    </tr>\n",
       "    <tr>\n",
       "      <th>1</th>\n",
       "      <td>ANC</td>\n",
       "      <td>ANCHORAGE, AK</td>\n",
       "    </tr>\n",
       "    <tr>\n",
       "      <th>2</th>\n",
       "      <td>BAR</td>\n",
       "      <td>BAKER AAF - BAKER ISLAND, AK</td>\n",
       "    </tr>\n",
       "    <tr>\n",
       "      <th>3</th>\n",
       "      <td>DAC</td>\n",
       "      <td>DALTONS CACHE, AK</td>\n",
       "    </tr>\n",
       "    <tr>\n",
       "      <th>4</th>\n",
       "      <td>PIZ</td>\n",
       "      <td>DEW STATION PT LAY DEW, AK</td>\n",
       "    </tr>\n",
       "  </tbody>\n",
       "</table>\n",
       "</div>"
      ],
      "text/plain": [
       "  code                          name\n",
       "0  ALC                     ALCAN, AK\n",
       "1  ANC                 ANCHORAGE, AK\n",
       "2  BAR  BAKER AAF - BAKER ISLAND, AK\n",
       "3  DAC             DALTONS CACHE, AK\n",
       "4  PIZ    DEW STATION PT LAY DEW, AK"
      ]
     },
     "execution_count": 12,
     "metadata": {},
     "output_type": "execute_result"
    }
   ],
   "source": [
    "ports_df = spark.createDataFrame(\n",
    "        data=extract_data_from_SAS_labels_descriptions('I94PORT'),\n",
    "        schema=schema\n",
    ")\n",
    "ports_df.limit(5).toPandas()"
   ]
  },
  {
   "cell_type": "code",
   "execution_count": 13,
   "metadata": {},
   "outputs": [
    {
     "data": {
      "text/html": [
       "<div>\n",
       "<style scoped>\n",
       "    .dataframe tbody tr th:only-of-type {\n",
       "        vertical-align: middle;\n",
       "    }\n",
       "\n",
       "    .dataframe tbody tr th {\n",
       "        vertical-align: top;\n",
       "    }\n",
       "\n",
       "    .dataframe thead th {\n",
       "        text-align: right;\n",
       "    }\n",
       "</style>\n",
       "<table border=\"1\" class=\"dataframe\">\n",
       "  <thead>\n",
       "    <tr style=\"text-align: right;\">\n",
       "      <th></th>\n",
       "      <th>code</th>\n",
       "      <th>name</th>\n",
       "    </tr>\n",
       "  </thead>\n",
       "  <tbody>\n",
       "    <tr>\n",
       "      <th>0</th>\n",
       "      <td>AL</td>\n",
       "      <td>ALABAMA</td>\n",
       "    </tr>\n",
       "    <tr>\n",
       "      <th>1</th>\n",
       "      <td>AK</td>\n",
       "      <td>ALASKA</td>\n",
       "    </tr>\n",
       "    <tr>\n",
       "      <th>2</th>\n",
       "      <td>AZ</td>\n",
       "      <td>ARIZONA</td>\n",
       "    </tr>\n",
       "    <tr>\n",
       "      <th>3</th>\n",
       "      <td>AR</td>\n",
       "      <td>ARKANSAS</td>\n",
       "    </tr>\n",
       "    <tr>\n",
       "      <th>4</th>\n",
       "      <td>CA</td>\n",
       "      <td>CALIFORNIA</td>\n",
       "    </tr>\n",
       "  </tbody>\n",
       "</table>\n",
       "</div>"
      ],
      "text/plain": [
       "  code        name\n",
       "0   AL     ALABAMA\n",
       "1   AK      ALASKA\n",
       "2   AZ     ARIZONA\n",
       "3   AR    ARKANSAS\n",
       "4   CA  CALIFORNIA"
      ]
     },
     "execution_count": 13,
     "metadata": {},
     "output_type": "execute_result"
    }
   ],
   "source": [
    "states_df = spark.createDataFrame(\n",
    "        data=extract_data_from_SAS_labels_descriptions('I94ADDR'),\n",
    "        schema=schema\n",
    ")\n",
    "\n",
    "states_df.limit(5).toPandas()"
   ]
  },
  {
   "cell_type": "code",
   "execution_count": 14,
   "metadata": {},
   "outputs": [
    {
     "data": {
      "text/html": [
       "<div>\n",
       "<style scoped>\n",
       "    .dataframe tbody tr th:only-of-type {\n",
       "        vertical-align: middle;\n",
       "    }\n",
       "\n",
       "    .dataframe tbody tr th {\n",
       "        vertical-align: top;\n",
       "    }\n",
       "\n",
       "    .dataframe thead th {\n",
       "        text-align: right;\n",
       "    }\n",
       "</style>\n",
       "<table border=\"1\" class=\"dataframe\">\n",
       "  <thead>\n",
       "    <tr style=\"text-align: right;\">\n",
       "      <th></th>\n",
       "      <th>code</th>\n",
       "      <th>name</th>\n",
       "    </tr>\n",
       "  </thead>\n",
       "  <tbody>\n",
       "    <tr>\n",
       "      <th>0</th>\n",
       "      <td>1</td>\n",
       "      <td>Air</td>\n",
       "    </tr>\n",
       "    <tr>\n",
       "      <th>1</th>\n",
       "      <td>2</td>\n",
       "      <td>Sea</td>\n",
       "    </tr>\n",
       "    <tr>\n",
       "      <th>2</th>\n",
       "      <td>3</td>\n",
       "      <td>Land</td>\n",
       "    </tr>\n",
       "    <tr>\n",
       "      <th>3</th>\n",
       "      <td>9</td>\n",
       "      <td>Not reported</td>\n",
       "    </tr>\n",
       "  </tbody>\n",
       "</table>\n",
       "</div>"
      ],
      "text/plain": [
       "  code          name\n",
       "0    1           Air\n",
       "1    2           Sea\n",
       "2    3          Land\n",
       "3    9  Not reported"
      ]
     },
     "execution_count": 14,
     "metadata": {},
     "output_type": "execute_result"
    }
   ],
   "source": [
    "travel_modes_df = spark.createDataFrame(\n",
    "        data=extract_data_from_SAS_labels_descriptions('I94MODE'),\n",
    "        schema=schema\n",
    ")\n",
    "\n",
    "travel_modes_df.limit(5).toPandas()"
   ]
  },
  {
   "cell_type": "code",
   "execution_count": 15,
   "metadata": {},
   "outputs": [
    {
     "data": {
      "text/html": [
       "<div>\n",
       "<style scoped>\n",
       "    .dataframe tbody tr th:only-of-type {\n",
       "        vertical-align: middle;\n",
       "    }\n",
       "\n",
       "    .dataframe tbody tr th {\n",
       "        vertical-align: top;\n",
       "    }\n",
       "\n",
       "    .dataframe thead th {\n",
       "        text-align: right;\n",
       "    }\n",
       "</style>\n",
       "<table border=\"1\" class=\"dataframe\">\n",
       "  <thead>\n",
       "    <tr style=\"text-align: right;\">\n",
       "      <th></th>\n",
       "      <th>code</th>\n",
       "      <th>name</th>\n",
       "    </tr>\n",
       "  </thead>\n",
       "  <tbody>\n",
       "    <tr>\n",
       "      <th>0</th>\n",
       "      <td>1</td>\n",
       "      <td>Business</td>\n",
       "    </tr>\n",
       "    <tr>\n",
       "      <th>1</th>\n",
       "      <td>2</td>\n",
       "      <td>Pleasure</td>\n",
       "    </tr>\n",
       "    <tr>\n",
       "      <th>2</th>\n",
       "      <td>3</td>\n",
       "      <td>Student</td>\n",
       "    </tr>\n",
       "  </tbody>\n",
       "</table>\n",
       "</div>"
      ],
      "text/plain": [
       "  code      name\n",
       "0    1  Business\n",
       "1    2  Pleasure\n",
       "2    3   Student"
      ]
     },
     "execution_count": 15,
     "metadata": {},
     "output_type": "execute_result"
    }
   ],
   "source": [
    "visa_categories_df = spark.createDataFrame(\n",
    "        data=extract_data_from_SAS_labels_descriptions('I94VISA'),\n",
    "        schema=schema\n",
    ")\n",
    "\n",
    "visa_categories_df.limit(5).toPandas()"
   ]
  },
  {
   "cell_type": "markdown",
   "metadata": {},
   "source": [
    "Performing verify extraced data"
   ]
  },
  {
   "cell_type": "code",
   "execution_count": 16,
   "metadata": {},
   "outputs": [
    {
     "data": {
      "text/plain": [
       "660"
      ]
     },
     "execution_count": 16,
     "metadata": {},
     "output_type": "execute_result"
    }
   ],
   "source": [
    "len(ports_df.toPandas()['code'].unique())"
   ]
  },
  {
   "cell_type": "code",
   "execution_count": 17,
   "metadata": {},
   "outputs": [
    {
     "data": {
      "text/plain": [
       "array(['ALC', 'ANC', 'BAR', 'DAC', 'PIZ', 'DTH', 'EGL', 'FRB', 'HOM',\n",
       "       'HYD', 'JUN', '5KE', 'KET', 'MOS', 'NIK', 'NOM', 'PKC', 'ORI',\n",
       "       'SKA', 'SNP', 'TKI', 'WRA', 'HSV', 'MOB', 'LIA', 'ROG', 'DOU',\n",
       "       'LUK', 'MAP', 'NAC', 'NOG', 'PHO', 'POR', 'SLU', 'SAS', 'TUC',\n",
       "       'YUI', 'AND', 'BUR', 'CAL', 'CAO', 'FRE', 'ICP', 'LNB', 'LOS',\n",
       "       'BFL', 'OAK', 'ONT', 'OTM', 'BLT', 'PSP', 'SAC', 'SLS', 'SDP',\n",
       "       'SFR', 'SNJ', 'SLO', 'SLI', 'SPC', 'SYS', 'SAA', 'STO', 'TEC',\n",
       "       'TRV', 'APA', 'ASE', 'COS', 'DEN', 'DRO', 'BDL', 'BGC', 'GRT',\n",
       "       'HAR', 'NWH', 'NWL', 'TST', 'WAS', 'DOV', 'DVD', 'WLL', 'BOC',\n",
       "       'SRQ', 'CAN', 'DAB', 'FRN', 'FTL', 'FMY', 'FPF', 'HUR', 'GNV',\n",
       "       'JAC', 'KEY', 'LEE', 'MLB', 'MIA', 'APF', 'OPF', 'ORL', 'PAN',\n",
       "       'PEN', 'PCF', 'PEV', 'PSJ', 'SFB', 'SGJ', 'SAU', 'FPR', 'SPE',\n",
       "       'TAM', 'WPB', 'ATL', 'BRU', 'AGS', 'SAV', 'AGA', 'HHW', 'OGG',\n",
       "       'KOA', 'LIH', 'CID', 'DSM', 'BOI', 'EPI', 'IDA', 'PTL', 'SPI',\n",
       "       'CHI', 'DPA', 'PIA', 'RFD', 'UGN', 'GAR', 'HMM', 'INP', 'MRL',\n",
       "       'SBN', 'ICT', 'LEX', 'LOU', 'BTN', 'LKC', 'LAK', 'MLU', 'MGC',\n",
       "       'NOL', 'BOS', 'GLO', 'BED', 'LYN', 'ADW', 'BAL', 'MKG', 'PAX',\n",
       "       'BGM', 'BOO', 'BWM', 'BCK', 'CLS', 'CRB', 'COB', 'EST', 'EPT',\n",
       "       'EPM', 'FOR', 'FTF', 'FTK', 'HML', 'HTM', 'JKM', 'KAL', 'LIM',\n",
       "       'LUB', 'MAD', 'POM', 'RGM', 'SBR', 'SRL', 'SPA', 'VNB', 'VCB',\n",
       "       'AGN', 'ALP', 'BCY', 'DET', 'GRP', 'GRO', 'ISL', 'MRC', 'MRY',\n",
       "       'PTK', 'PHU', 'RBT', 'SAG', 'SSM', 'SCL', 'YIP', 'BAU', 'CAR',\n",
       "       'GTF', 'INL', 'CRA', 'MIC', 'DUL', 'ELY', 'GPM', 'SVC', 'INT',\n",
       "       'LAN', 'MSP', 'LIN', 'NOY', 'PIN', '48Y', 'RAN', 'RST', 'ROS',\n",
       "       'SPM', 'WSB', 'WAR', 'KAN', 'SGF', 'STL', 'WHI', 'WHM', 'GPT',\n",
       "       'GTR', 'GUL', 'PAS', 'JAN', 'BIL', 'BTM', 'CHF', 'CTB', 'CUT',\n",
       "       'DLB', 'EUR', 'BZN', 'FCA', 'GGW', 'GRE', 'HVR', 'HEL', 'LWT',\n",
       "       'MGM', 'OPH', 'PIE', 'RAY', 'ROO', 'SCO', 'SWE', 'TRL', 'TUR',\n",
       "       'WCM', 'CLT', 'FAY', 'MRH', 'FOP', 'GSO', 'RDU', 'SSC', 'WIL',\n",
       "       'AMB', 'ANT', 'CRY', 'DNS', 'FAR', 'FRT', 'GRF', 'HNN', 'HNS',\n",
       "       'MAI', 'MND', 'NEC', 'NOO', 'NRG', 'PEM', 'SAR', 'SHR', 'SJO',\n",
       "       'WAL', 'WHO', 'WND', 'OMA', 'LEB', 'MHT', 'PNH', 'PSM', 'BYO',\n",
       "       'CNJ', 'HOB', 'JER', 'WRI', 'MMU', 'NEW', 'PER', 'ACY', 'ALA',\n",
       "       'ABQ', 'ANP', 'CRL', 'COL', 'CDD', 'DNM', 'LAS', 'LOB', 'RUI',\n",
       "       'STR', 'RNO', 'FLX', 'LVG', 'REN', 'ALB', 'AXB', 'BUF', 'CNH',\n",
       "       'CAP', 'CHM', 'CHT', 'CLA', 'FTC', 'LAG', 'LEW', 'MAS', 'MAG',\n",
       "       'MOO', 'MRR', 'NYC', 'NIA', 'OGD', 'OSW', 'ELM', 'ROC', 'ROU',\n",
       "       'SWF', 'SYR', 'THO', 'TRO', 'WAT', 'HPN', 'WRB', 'YOU', 'AKR',\n",
       "       'ATB', 'CIN', 'CLE', 'CLM', 'LOR', 'MBO', 'SDY', 'TOL', 'OKC',\n",
       "       'TUL', 'AST', 'COO', 'HIO', 'MED', 'NPT', 'POO', 'PUT', 'RDM',\n",
       "       'ERI', 'MDT', 'HSB', 'PHI', 'PIT', 'AGU', 'BQN', 'JCP', 'ENS',\n",
       "       'FAJ', 'HUM', 'JOB', 'MAY', 'PON', 'PSE', 'SAJ', 'VQS', 'PRO',\n",
       "       'PVD', 'CHL', 'CAE', 'GEO', 'GSP', 'GRR', 'MYR', 'SPF', 'HON',\n",
       "       'SAI', 'TYS', 'MEM', 'NSV', 'TRI', 'ADS', 'ADT', 'ANZ', 'AUS',\n",
       "       'BEA', 'BBP', 'SCC', 'BTC', 'BOA', 'BRO', 'CRP', 'DAL', 'DLR',\n",
       "       'DNA', 'EGP', 'ELP', 'FAB', 'FAL', 'FTH', 'AFW', 'FPT', 'GAL',\n",
       "       'HLG', 'HID', 'HOU', 'SGR', 'LLB', 'LCB', 'LRN', 'LAR', 'LSE',\n",
       "       'IND', 'LOI', 'MRS', 'MCA', 'MAF', 'PDN', 'PBB', 'PHR', 'PAR',\n",
       "       'ISB', 'POE', 'PRE', 'PGR', 'RIO', 'ROM', 'SNA', 'SNN', 'VIB',\n",
       "       'YSL', 'CHA', 'CHR', 'CRU', 'FRK', 'STT', 'LGU', 'SLC', 'CHO',\n",
       "       'DAA', 'HOP', 'HEF', 'NWN', 'NOR', 'RCM', 'ABS', 'ABG', 'BEB',\n",
       "       'BEE', 'BRG', 'CNA', 'DER', 'DLV', 'ERC', 'HIG', 'MOR', 'NPV',\n",
       "       'NRT', 'NRN', 'PIV', 'RIF', 'STA', 'SWB', 'WBE', 'ABE', 'ANA',\n",
       "       'BEL', 'BLI', 'BLA', 'BWA', 'CUR', 'DVL', 'EVE', 'FER', 'FRI',\n",
       "       'FWA', 'KLM', 'LAU', 'LON', 'MET', 'MWH', 'NEA', 'NIG', 'OLY',\n",
       "       'ORO', 'PWB', 'PIR', 'PNG', 'PTO', 'SEA', 'SPO', 'SUM', 'TAC',\n",
       "       'PSC', 'VAN', 'AGM', 'BAY', 'GRB', 'MNW', 'MIL', 'MSN', 'CHS',\n",
       "       'CLK', 'BLF', 'CSP', 'XXX', '888', 'UNK', 'CLG', 'EDA', 'YHC',\n",
       "       'HAL', 'MON', 'OTT', 'YXE', 'TOR', 'VCV', 'VIC', 'WIN', 'AMS',\n",
       "       'ARB', 'BAN', 'BEI', 'PEK', 'BDA', 'BOG', 'EZE', 'CUN', 'CRQ',\n",
       "       'MVD', 'DUB', 'FOU', 'FBA', 'MTY', 'HMO', 'GCM', 'GDL', 'HAM',\n",
       "       'ICN', 'IWA', 'CND', 'LAH', 'DUR', 'MAL', 'MDE', 'MEX', 'LHR',\n",
       "       'NBO', 'NAS', 'NCA', 'PTY', 'SPV', 'UIO', 'RIT', 'SNO', 'SLP',\n",
       "       'SAN', 'SRO', 'GRU', 'SHA', 'HIL', 'TOK', 'VER', 'LGW', 'ZZZ',\n",
       "       'CHN', 'CNC', 'MAA', 'AG0', 'BHM', 'BHX', 'CAK', 'FOK', 'LND',\n",
       "       'MAR', 'MLI', 'RIV', 'RME', 'VNY', 'YUM', 'FRG', 'HRL', 'ISP',\n",
       "       'JSJ', 'BUS', 'IAG', 'PHN', 'STN', 'VMB', 'T01', 'PHF', 'DRV',\n",
       "       'FTB', 'GAC', 'GMT', 'JFA', 'JMZ', 'NC8', 'NYL', 'OAI', 'PCW',\n",
       "       'WA5', 'WTR', 'X96', 'XNA', 'YGF', '5T6', '060', 'SP0', 'W55',\n",
       "       'X44', 'AUH', 'RYY', 'SUS', '74S', 'ATW', 'CPX', 'MTH', 'PFN',\n",
       "       'SCH', 'ASI', 'BKF', 'DAY', 'Y62', 'AG', 'BCM', 'DEC', 'PLB',\n",
       "       'CXO', 'JBQ', 'JIG', 'OGS', 'TIW', 'OTS', 'AMT', 'EGE', 'GPI',\n",
       "       'NGL', 'OLM', '.GA', 'CLX', 'CP ', 'FSC', 'NK', 'ADU', 'AKT',\n",
       "       'LIT', 'A2A', 'OSN'], dtype=object)"
      ]
     },
     "execution_count": 17,
     "metadata": {},
     "output_type": "execute_result"
    }
   ],
   "source": [
    "ports_df.toPandas()['code'].unique()"
   ]
  },
  {
   "cell_type": "code",
   "execution_count": 18,
   "metadata": {},
   "outputs": [
    {
     "data": {
      "text/plain": [
       "array(['AL', 'AK', 'AZ', 'AR', 'CA', 'CO', 'CT', 'DE', 'DC', 'FL', 'GA',\n",
       "       'GU', 'HI', 'ID', 'IL', 'IN', 'IA', 'KS', 'KY', 'LA', 'ME', 'MD',\n",
       "       'MA', 'MI', 'MN', 'MS', 'MO', 'MT', 'NC', 'ND', 'NE', 'NV', 'NH',\n",
       "       'NJ', 'NM', 'NY', 'OH', 'OK', 'OR', 'PA', 'PR', 'RI', 'SC', 'SD',\n",
       "       'TN', 'TX', 'UT', 'VT', 'VI', 'VA', 'WV', 'WA', 'WI', 'WY', '99'],\n",
       "      dtype=object)"
      ]
     },
     "execution_count": 18,
     "metadata": {},
     "output_type": "execute_result"
    }
   ],
   "source": [
    "states_df.toPandas()['code'].unique()"
   ]
  },
  {
   "cell_type": "code",
   "execution_count": 19,
   "metadata": {},
   "outputs": [
    {
     "data": {
      "text/plain": [
       "array(['ALABAMA', 'ALASKA', 'ARIZONA', 'ARKANSAS', 'CALIFORNIA',\n",
       "       'COLORADO', 'CONNECTICUT', 'DELAWARE', 'DIST. OF COLUMBIA',\n",
       "       'FLORIDA', 'GEORGIA', 'GUAM', 'HAWAII', 'IDAHO', 'ILLINOIS',\n",
       "       'INDIANA', 'IOWA', 'KANSAS', 'KENTUCKY', 'LOUISIANA', 'MAINE',\n",
       "       'MARYLAND', 'MASSACHUSETTS', 'MICHIGAN', 'MINNESOTA',\n",
       "       'MISSISSIPPI', 'MISSOURI', 'MONTANA', 'N. CAROLINA', 'N. DAKOTA',\n",
       "       'NEBRASKA', 'NEVADA', 'NEW HAMPSHIRE', 'NEW JERSEY', 'NEW MEXICO',\n",
       "       'NEW YORK', 'OHIO', 'OKLAHOMA', 'OREGON', 'PENNSYLVANIA',\n",
       "       'PUERTO RICO', 'RHODE ISLAND', 'S. CAROLINA', 'S. DAKOTA',\n",
       "       'TENNESSEE', 'TEXAS', 'UTAH', 'VERMONT', 'VIRGIN ISLANDS',\n",
       "       'VIRGINIA', 'W. VIRGINIA', 'WASHINGTON', 'WISCONSON', 'WYOMING',\n",
       "       'All Other Codes'], dtype=object)"
      ]
     },
     "execution_count": 19,
     "metadata": {},
     "output_type": "execute_result"
    }
   ],
   "source": [
    "states_df.toPandas()['name'].unique()"
   ]
  },
  {
   "cell_type": "code",
   "execution_count": 20,
   "metadata": {},
   "outputs": [
    {
     "data": {
      "text/plain": [
       "55"
      ]
     },
     "execution_count": 20,
     "metadata": {},
     "output_type": "execute_result"
    }
   ],
   "source": [
    "len(states_df.toPandas()['code'].unique())"
   ]
  },
  {
   "cell_type": "code",
   "execution_count": 32,
   "metadata": {},
   "outputs": [
    {
     "name": "stdout",
     "output_type": "stream",
     "text": [
      "+----+-----------------+\n",
      "|code|             name|\n",
      "+----+-----------------+\n",
      "|  AL|          ALABAMA|\n",
      "|  AK|           ALASKA|\n",
      "|  AZ|          ARIZONA|\n",
      "|  AR|         ARKANSAS|\n",
      "|  CA|       CALIFORNIA|\n",
      "|  CO|         COLORADO|\n",
      "|  CT|      CONNECTICUT|\n",
      "|  DE|         DELAWARE|\n",
      "|  DC|DIST. OF COLUMBIA|\n",
      "|  FL|          FLORIDA|\n",
      "|  GA|          GEORGIA|\n",
      "|  GU|             GUAM|\n",
      "|  HI|           HAWAII|\n",
      "|  ID|            IDAHO|\n",
      "|  IL|         ILLINOIS|\n",
      "|  IN|          INDIANA|\n",
      "|  IA|             IOWA|\n",
      "|  KS|           KANSAS|\n",
      "|  KY|         KENTUCKY|\n",
      "|  LA|        LOUISIANA|\n",
      "+----+-----------------+\n",
      "only showing top 20 rows\n",
      "\n"
     ]
    }
   ],
   "source": [
    "states_df.show()"
   ]
  },
  {
   "cell_type": "markdown",
   "metadata": {},
   "source": [
    "```\n",
    "==========================================================================================================\n",
    "Airport\n",
    "==========================================================================================================\n",
    "```"
   ]
  },
  {
   "cell_type": "code",
   "execution_count": 7,
   "metadata": {},
   "outputs": [
    {
     "data": {
      "text/plain": [
       "ident           247\n",
       "type            247\n",
       "name            247\n",
       "elevation_ft    231\n",
       "continent       247\n",
       "iso_country       0\n",
       "iso_region      247\n",
       "municipality    145\n",
       "gps_code         74\n",
       "iata_code        31\n",
       "local_code        0\n",
       "coordinates     247\n",
       "dtype: int64"
      ]
     },
     "execution_count": 7,
     "metadata": {},
     "output_type": "execute_result"
    }
   ],
   "source": [
    "airport_df[airport_df['iso_country'].isna()].count()"
   ]
  },
  {
   "cell_type": "code",
   "execution_count": 8,
   "metadata": {},
   "outputs": [
    {
     "data": {
      "text/plain": [
       "(247, 12)"
      ]
     },
     "execution_count": 8,
     "metadata": {},
     "output_type": "execute_result"
    }
   ],
   "source": [
    "# Check airport distribution by country\n",
    "airport_df[airport_df['iso_country'].isna()].shape"
   ]
  },
  {
   "cell_type": "code",
   "execution_count": 4,
   "metadata": {},
   "outputs": [
    {
     "data": {
      "text/plain": [
       "243"
      ]
     },
     "execution_count": 4,
     "metadata": {},
     "output_type": "execute_result"
    }
   ],
   "source": [
    "# Check country unique\n",
    "airport_df['iso_country'].nunique()"
   ]
  },
  {
   "cell_type": "code",
   "execution_count": 5,
   "metadata": {},
   "outputs": [
    {
     "data": {
      "text/plain": [
       "1"
      ]
     },
     "execution_count": 5,
     "metadata": {},
     "output_type": "execute_result"
    }
   ],
   "source": [
    "airport_df = airport_df[airport_df['iso_country'] == 'US']\n",
    "airport_df['iso_country'].nunique()"
   ]
  },
  {
   "cell_type": "code",
   "execution_count": 6,
   "metadata": {},
   "outputs": [
    {
     "data": {
      "text/plain": [
       "ident               0\n",
       "type                0\n",
       "name                0\n",
       "elevation_ft      239\n",
       "continent       22756\n",
       "iso_country         0\n",
       "iso_region          0\n",
       "municipality      102\n",
       "gps_code         1773\n",
       "iata_code       20738\n",
       "local_code       1521\n",
       "coordinates         0\n",
       "dtype: int64"
      ]
     },
     "execution_count": 6,
     "metadata": {},
     "output_type": "execute_result"
    }
   ],
   "source": [
    "airport_df.isnull().sum()"
   ]
  },
  {
   "cell_type": "code",
   "execution_count": 7,
   "metadata": {},
   "outputs": [
    {
     "data": {
      "text/plain": [
       "0"
      ]
     },
     "execution_count": 7,
     "metadata": {},
     "output_type": "execute_result"
    }
   ],
   "source": [
    "airport_df.duplicated().sum()"
   ]
  },
  {
   "cell_type": "code",
   "execution_count": 8,
   "metadata": {},
   "outputs": [],
   "source": [
    "airport_df = airport_df.drop(['elevation_ft', 'continent', 'gps_code', 'local_code', 'coordinates'], axis=1)"
   ]
  },
  {
   "cell_type": "code",
   "execution_count": 9,
   "metadata": {},
   "outputs": [
    {
     "data": {
      "text/html": [
       "<div>\n",
       "<style scoped>\n",
       "    .dataframe tbody tr th:only-of-type {\n",
       "        vertical-align: middle;\n",
       "    }\n",
       "\n",
       "    .dataframe tbody tr th {\n",
       "        vertical-align: top;\n",
       "    }\n",
       "\n",
       "    .dataframe thead th {\n",
       "        text-align: right;\n",
       "    }\n",
       "</style>\n",
       "<table border=\"1\" class=\"dataframe\">\n",
       "  <thead>\n",
       "    <tr style=\"text-align: right;\">\n",
       "      <th></th>\n",
       "      <th>ident</th>\n",
       "      <th>type</th>\n",
       "      <th>name</th>\n",
       "      <th>iso_country</th>\n",
       "      <th>iso_region</th>\n",
       "      <th>municipality</th>\n",
       "      <th>iata_code</th>\n",
       "    </tr>\n",
       "  </thead>\n",
       "  <tbody>\n",
       "    <tr>\n",
       "      <th>0</th>\n",
       "      <td>00A</td>\n",
       "      <td>heliport</td>\n",
       "      <td>Total Rf Heliport</td>\n",
       "      <td>US</td>\n",
       "      <td>US-PA</td>\n",
       "      <td>Bensalem</td>\n",
       "      <td>NaN</td>\n",
       "    </tr>\n",
       "    <tr>\n",
       "      <th>1</th>\n",
       "      <td>00AA</td>\n",
       "      <td>small_airport</td>\n",
       "      <td>Aero B Ranch Airport</td>\n",
       "      <td>US</td>\n",
       "      <td>US-KS</td>\n",
       "      <td>Leoti</td>\n",
       "      <td>NaN</td>\n",
       "    </tr>\n",
       "    <tr>\n",
       "      <th>2</th>\n",
       "      <td>00AK</td>\n",
       "      <td>small_airport</td>\n",
       "      <td>Lowell Field</td>\n",
       "      <td>US</td>\n",
       "      <td>US-AK</td>\n",
       "      <td>Anchor Point</td>\n",
       "      <td>NaN</td>\n",
       "    </tr>\n",
       "    <tr>\n",
       "      <th>3</th>\n",
       "      <td>00AL</td>\n",
       "      <td>small_airport</td>\n",
       "      <td>Epps Airpark</td>\n",
       "      <td>US</td>\n",
       "      <td>US-AL</td>\n",
       "      <td>Harvest</td>\n",
       "      <td>NaN</td>\n",
       "    </tr>\n",
       "    <tr>\n",
       "      <th>4</th>\n",
       "      <td>00AR</td>\n",
       "      <td>closed</td>\n",
       "      <td>Newport Hospital &amp; Clinic Heliport</td>\n",
       "      <td>US</td>\n",
       "      <td>US-AR</td>\n",
       "      <td>Newport</td>\n",
       "      <td>NaN</td>\n",
       "    </tr>\n",
       "  </tbody>\n",
       "</table>\n",
       "</div>"
      ],
      "text/plain": [
       "  ident           type                                name iso_country  \\\n",
       "0   00A       heliport                   Total Rf Heliport          US   \n",
       "1  00AA  small_airport                Aero B Ranch Airport          US   \n",
       "2  00AK  small_airport                        Lowell Field          US   \n",
       "3  00AL  small_airport                        Epps Airpark          US   \n",
       "4  00AR         closed  Newport Hospital & Clinic Heliport          US   \n",
       "\n",
       "  iso_region  municipality iata_code  \n",
       "0      US-PA      Bensalem       NaN  \n",
       "1      US-KS         Leoti       NaN  \n",
       "2      US-AK  Anchor Point       NaN  \n",
       "3      US-AL       Harvest       NaN  \n",
       "4      US-AR       Newport       NaN  "
      ]
     },
     "execution_count": 9,
     "metadata": {},
     "output_type": "execute_result"
    }
   ],
   "source": [
    "airport_df.head()"
   ]
  },
  {
   "cell_type": "code",
   "execution_count": 19,
   "metadata": {},
   "outputs": [],
   "source": [
    "airport_df = airport_df.dropna(subset=[\"iata_code\"])"
   ]
  },
  {
   "cell_type": "code",
   "execution_count": 24,
   "metadata": {},
   "outputs": [
    {
     "data": {
      "text/plain": [
       "(2019, 7)"
      ]
     },
     "execution_count": 24,
     "metadata": {},
     "output_type": "execute_result"
    }
   ],
   "source": [
    "airport_df.shape"
   ]
  },
  {
   "cell_type": "markdown",
   "metadata": {},
   "source": [
    "```\n",
    "==========================================================================================================\n",
    "Convert column name lower with _\n",
    "==========================================================================================================\n",
    "```"
   ]
  },
  {
   "cell_type": "code",
   "execution_count": 25,
   "metadata": {},
   "outputs": [],
   "source": [
    "def convert_column_names(df):\n",
    "    cols = df.columns\n",
    "    column_name_changed = []\n",
    "\n",
    "    for col in cols:\n",
    "        new_column = col.lstrip().rstrip().lower().replace (\" \", \"_\").replace (\"-\", \"_\") #strip beginning spaces, makes lowercase, add underscpre\n",
    "        column_name_changed.append(new_column)\n",
    "\n",
    "    df.columns = column_name_changed"
   ]
  },
  {
   "cell_type": "code",
   "execution_count": 27,
   "metadata": {},
   "outputs": [
    {
     "data": {
      "text/plain": [
       "Index(['ident', 'type', 'name', 'iso_country', 'iso_region', 'municipality',\n",
       "       'iata_code'],\n",
       "      dtype='object')"
      ]
     },
     "execution_count": 27,
     "metadata": {},
     "output_type": "execute_result"
    }
   ],
   "source": [
    "convert_column_names(airport_df)\n",
    "airport_df.columns"
   ]
  },
  {
   "cell_type": "markdown",
   "metadata": {},
   "source": [
    "```\n",
    "==========================================================================================================\n",
    "Adding i94_port to Temperature dataset\n",
    "==========================================================================================================\n",
    "```"
   ]
  },
  {
   "cell_type": "code",
   "execution_count": null,
   "metadata": {},
   "outputs": [],
   "source": [
    "def convert_city_to_i94port(city):\n",
    "\n",
    "    for port in i94_port:\n",
    "        if city.lower() in i94_port[port].lower():\n",
    "            return port\n",
    "\n",
    "\n",
    "temp_df_final = temp_df.withColumn('i94_port', convert_city_to_i94port(temp_df['city']))"
   ]
  },
  {
   "cell_type": "code",
   "execution_count": null,
   "metadata": {},
   "outputs": [],
   "source": [
    "# # Mapping the U.S cities to city port abbreviations (i94port from SAS label)\n",
    "\n",
    "# # Add iport94 code based on city name\n",
    "df_temperature_data = df_temperature_data.withColumn(\"i94port\", get_i94port(df_temperature_data.City))\n",
    "\n",
    "# Remove data points with no iport94 code\n",
    "df_temperature_data = df_temperature_data.filter(df_temperature_data.i94port != 'null')\n",
    "\n",
    "\n",
    "\n",
    "# Create udf to map city full name to city port abbreviation\n",
    "\n",
    "@udf(StringType())\n",
    "def city_to_port(city):\n",
    "    for key in valid_ports:\n",
    "        if city.lower() in valid_ports[key].lower():\n",
    "            return key\n",
    "\n",
    "# Clean temperature data\n",
    "\n",
    "# Only use temperatures from United States\n",
    "# Map full name to city port abbreviation\n",
    "# Remove invalid ports\n",
    "cleaned_temp_df = temperature_df.filter(temperature_df[\"Country\"] == \"United States\") \\\n",
    "    .withColumn(\"year\", year(temperature_df['dt'])) \\\n",
    "    .withColumn(\"month\", month(temperature_df[\"dt\"])) \\\n",
    "    .withColumn(\"i94port\", city_to_port(temperature_df[\"City\"])) \\\n",
    "    .withColumn(\"AverageTemperature\", col(\"AverageTemperature\").cast(\"float\")) \\\n",
    "    .dropna(how='any', subset=[\"i94port\"])\n",
    "\n",
    "\n",
    "\n",
    "@udf()\n",
    "def get_i94port(city):\n",
    "    '''\n",
    "    Input: City name \n",
    "    Output: Corresponding i94port\n",
    "    '''\n",
    "    \n",
    "    for key in i94portvalid:\n",
    "        if city.lower() in i94portvalid[key][0].lower():\n",
    "            return key\n",
    "\n",
    "        \n",
    "        \n",
    "        \n",
    "# Add iport94 code based on city name\n",
    "df_temperature_data = df_temperature_data.withColumn(\"i94port\", get_i94port(df_temperature_data.City))\n",
    "df_temperature_data.show()"
   ]
  },
  {
   "cell_type": "markdown",
   "metadata": {},
   "source": [
    "```\n",
    "==========================================================================================================\n",
    "Samples i94_port script\n",
    "==========================================================================================================\n",
    "```"
   ]
  },
  {
   "cell_type": "code",
   "execution_count": null,
   "metadata": {
    "editable": true
   },
   "outputs": [
    {
     "data": {
      "text/html": [
       "<div>\n",
       "<style scoped>\n",
       "    .dataframe tbody tr th:only-of-type {\n",
       "        vertical-align: middle;\n",
       "    }\n",
       "\n",
       "    .dataframe tbody tr th {\n",
       "        vertical-align: top;\n",
       "    }\n",
       "\n",
       "    .dataframe thead th {\n",
       "        text-align: right;\n",
       "    }\n",
       "</style>\n",
       "<table border=\"1\" class=\"dataframe\">\n",
       "  <thead>\n",
       "    <tr style=\"text-align: right;\">\n",
       "      <th></th>\n",
       "      <th>Unnamed: 0</th>\n",
       "      <th>cicid</th>\n",
       "      <th>i94yr</th>\n",
       "      <th>i94mon</th>\n",
       "      <th>i94cit</th>\n",
       "      <th>i94res</th>\n",
       "      <th>i94port</th>\n",
       "      <th>arrdate</th>\n",
       "      <th>i94mode</th>\n",
       "      <th>i94addr</th>\n",
       "      <th>depdate</th>\n",
       "      <th>i94bir</th>\n",
       "      <th>i94visa</th>\n",
       "      <th>count</th>\n",
       "      <th>dtadfile</th>\n",
       "      <th>visapost</th>\n",
       "      <th>occup</th>\n",
       "      <th>entdepa</th>\n",
       "      <th>entdepd</th>\n",
       "      <th>entdepu</th>\n",
       "      <th>matflag</th>\n",
       "      <th>biryear</th>\n",
       "      <th>dtaddto</th>\n",
       "      <th>gender</th>\n",
       "      <th>insnum</th>\n",
       "      <th>airline</th>\n",
       "      <th>admnum</th>\n",
       "      <th>fltno</th>\n",
       "      <th>visatype</th>\n",
       "      <th>arrive_date</th>\n",
       "      <th>departure_date</th>\n",
       "    </tr>\n",
       "  </thead>\n",
       "  <tbody>\n",
       "    <tr>\n",
       "      <th>0</th>\n",
       "      <td>2027561</td>\n",
       "      <td>4084316.0</td>\n",
       "      <td>2016.0</td>\n",
       "      <td>4.0</td>\n",
       "      <td>209.0</td>\n",
       "      <td>209.0</td>\n",
       "      <td>HHW</td>\n",
       "      <td>20566.0</td>\n",
       "      <td>1.0</td>\n",
       "      <td>HI</td>\n",
       "      <td>20573.0</td>\n",
       "      <td>61.0</td>\n",
       "      <td>2.0</td>\n",
       "      <td>1.0</td>\n",
       "      <td>20160422</td>\n",
       "      <td>NaN</td>\n",
       "      <td>NaN</td>\n",
       "      <td>G</td>\n",
       "      <td>O</td>\n",
       "      <td>NaN</td>\n",
       "      <td>M</td>\n",
       "      <td>1955.0</td>\n",
       "      <td>07202016</td>\n",
       "      <td>F</td>\n",
       "      <td>NaN</td>\n",
       "      <td>JL</td>\n",
       "      <td>5.658267e+10</td>\n",
       "      <td>00782</td>\n",
       "      <td>WT</td>\n",
       "      <td>2016-04-22</td>\n",
       "      <td>2016-04-29</td>\n",
       "    </tr>\n",
       "    <tr>\n",
       "      <th>1</th>\n",
       "      <td>2171295</td>\n",
       "      <td>4422636.0</td>\n",
       "      <td>2016.0</td>\n",
       "      <td>4.0</td>\n",
       "      <td>582.0</td>\n",
       "      <td>582.0</td>\n",
       "      <td>MCA</td>\n",
       "      <td>20567.0</td>\n",
       "      <td>1.0</td>\n",
       "      <td>TX</td>\n",
       "      <td>20568.0</td>\n",
       "      <td>26.0</td>\n",
       "      <td>2.0</td>\n",
       "      <td>1.0</td>\n",
       "      <td>20160423</td>\n",
       "      <td>MTR</td>\n",
       "      <td>NaN</td>\n",
       "      <td>G</td>\n",
       "      <td>R</td>\n",
       "      <td>NaN</td>\n",
       "      <td>M</td>\n",
       "      <td>1990.0</td>\n",
       "      <td>10222016</td>\n",
       "      <td>M</td>\n",
       "      <td>NaN</td>\n",
       "      <td>*GA</td>\n",
       "      <td>9.436200e+10</td>\n",
       "      <td>XBLNG</td>\n",
       "      <td>B2</td>\n",
       "      <td>2016-04-23</td>\n",
       "      <td>2016-04-24</td>\n",
       "    </tr>\n",
       "    <tr>\n",
       "      <th>2</th>\n",
       "      <td>589494</td>\n",
       "      <td>1195600.0</td>\n",
       "      <td>2016.0</td>\n",
       "      <td>4.0</td>\n",
       "      <td>148.0</td>\n",
       "      <td>112.0</td>\n",
       "      <td>OGG</td>\n",
       "      <td>20551.0</td>\n",
       "      <td>1.0</td>\n",
       "      <td>FL</td>\n",
       "      <td>20571.0</td>\n",
       "      <td>76.0</td>\n",
       "      <td>2.0</td>\n",
       "      <td>1.0</td>\n",
       "      <td>20160407</td>\n",
       "      <td>NaN</td>\n",
       "      <td>NaN</td>\n",
       "      <td>G</td>\n",
       "      <td>O</td>\n",
       "      <td>NaN</td>\n",
       "      <td>M</td>\n",
       "      <td>1940.0</td>\n",
       "      <td>07052016</td>\n",
       "      <td>M</td>\n",
       "      <td>NaN</td>\n",
       "      <td>LH</td>\n",
       "      <td>5.578047e+10</td>\n",
       "      <td>00464</td>\n",
       "      <td>WT</td>\n",
       "      <td>2016-04-07</td>\n",
       "      <td>2016-04-27</td>\n",
       "    </tr>\n",
       "    <tr>\n",
       "      <th>3</th>\n",
       "      <td>2631158</td>\n",
       "      <td>5291768.0</td>\n",
       "      <td>2016.0</td>\n",
       "      <td>4.0</td>\n",
       "      <td>297.0</td>\n",
       "      <td>297.0</td>\n",
       "      <td>LOS</td>\n",
       "      <td>20572.0</td>\n",
       "      <td>1.0</td>\n",
       "      <td>CA</td>\n",
       "      <td>20581.0</td>\n",
       "      <td>25.0</td>\n",
       "      <td>2.0</td>\n",
       "      <td>1.0</td>\n",
       "      <td>20160428</td>\n",
       "      <td>DOH</td>\n",
       "      <td>NaN</td>\n",
       "      <td>G</td>\n",
       "      <td>O</td>\n",
       "      <td>NaN</td>\n",
       "      <td>M</td>\n",
       "      <td>1991.0</td>\n",
       "      <td>10272016</td>\n",
       "      <td>M</td>\n",
       "      <td>NaN</td>\n",
       "      <td>QR</td>\n",
       "      <td>9.478970e+10</td>\n",
       "      <td>00739</td>\n",
       "      <td>B2</td>\n",
       "      <td>2016-04-28</td>\n",
       "      <td>2016-05-07</td>\n",
       "    </tr>\n",
       "    <tr>\n",
       "      <th>4</th>\n",
       "      <td>3032257</td>\n",
       "      <td>985523.0</td>\n",
       "      <td>2016.0</td>\n",
       "      <td>4.0</td>\n",
       "      <td>111.0</td>\n",
       "      <td>111.0</td>\n",
       "      <td>CHM</td>\n",
       "      <td>20550.0</td>\n",
       "      <td>3.0</td>\n",
       "      <td>NY</td>\n",
       "      <td>20553.0</td>\n",
       "      <td>19.0</td>\n",
       "      <td>2.0</td>\n",
       "      <td>1.0</td>\n",
       "      <td>20160406</td>\n",
       "      <td>NaN</td>\n",
       "      <td>NaN</td>\n",
       "      <td>Z</td>\n",
       "      <td>K</td>\n",
       "      <td>NaN</td>\n",
       "      <td>M</td>\n",
       "      <td>1997.0</td>\n",
       "      <td>07042016</td>\n",
       "      <td>F</td>\n",
       "      <td>NaN</td>\n",
       "      <td>NaN</td>\n",
       "      <td>4.232257e+10</td>\n",
       "      <td>LAND</td>\n",
       "      <td>WT</td>\n",
       "      <td>2016-04-06</td>\n",
       "      <td>2016-04-09</td>\n",
       "    </tr>\n",
       "    <tr>\n",
       "      <th>5</th>\n",
       "      <td>721257</td>\n",
       "      <td>1481650.0</td>\n",
       "      <td>2016.0</td>\n",
       "      <td>4.0</td>\n",
       "      <td>577.0</td>\n",
       "      <td>577.0</td>\n",
       "      <td>ATL</td>\n",
       "      <td>20552.0</td>\n",
       "      <td>1.0</td>\n",
       "      <td>GA</td>\n",
       "      <td>20606.0</td>\n",
       "      <td>51.0</td>\n",
       "      <td>2.0</td>\n",
       "      <td>1.0</td>\n",
       "      <td>20160408</td>\n",
       "      <td>NaN</td>\n",
       "      <td>NaN</td>\n",
       "      <td>T</td>\n",
       "      <td>N</td>\n",
       "      <td>NaN</td>\n",
       "      <td>M</td>\n",
       "      <td>1965.0</td>\n",
       "      <td>10072016</td>\n",
       "      <td>M</td>\n",
       "      <td>NaN</td>\n",
       "      <td>DL</td>\n",
       "      <td>7.368526e+08</td>\n",
       "      <td>910</td>\n",
       "      <td>B2</td>\n",
       "      <td>2016-04-08</td>\n",
       "      <td>2016-06-01</td>\n",
       "    </tr>\n",
       "    <tr>\n",
       "      <th>6</th>\n",
       "      <td>1072780</td>\n",
       "      <td>2197173.0</td>\n",
       "      <td>2016.0</td>\n",
       "      <td>4.0</td>\n",
       "      <td>245.0</td>\n",
       "      <td>245.0</td>\n",
       "      <td>SFR</td>\n",
       "      <td>20556.0</td>\n",
       "      <td>1.0</td>\n",
       "      <td>CA</td>\n",
       "      <td>20635.0</td>\n",
       "      <td>48.0</td>\n",
       "      <td>2.0</td>\n",
       "      <td>1.0</td>\n",
       "      <td>20160412</td>\n",
       "      <td>NaN</td>\n",
       "      <td>NaN</td>\n",
       "      <td>T</td>\n",
       "      <td>O</td>\n",
       "      <td>NaN</td>\n",
       "      <td>M</td>\n",
       "      <td>1968.0</td>\n",
       "      <td>10112016</td>\n",
       "      <td>F</td>\n",
       "      <td>NaN</td>\n",
       "      <td>CX</td>\n",
       "      <td>7.863122e+08</td>\n",
       "      <td>870</td>\n",
       "      <td>B2</td>\n",
       "      <td>2016-04-12</td>\n",
       "      <td>2016-06-30</td>\n",
       "    </tr>\n",
       "    <tr>\n",
       "      <th>7</th>\n",
       "      <td>112205</td>\n",
       "      <td>232708.0</td>\n",
       "      <td>2016.0</td>\n",
       "      <td>4.0</td>\n",
       "      <td>113.0</td>\n",
       "      <td>135.0</td>\n",
       "      <td>NYC</td>\n",
       "      <td>20546.0</td>\n",
       "      <td>1.0</td>\n",
       "      <td>NY</td>\n",
       "      <td>20554.0</td>\n",
       "      <td>33.0</td>\n",
       "      <td>2.0</td>\n",
       "      <td>1.0</td>\n",
       "      <td>20160402</td>\n",
       "      <td>NaN</td>\n",
       "      <td>NaN</td>\n",
       "      <td>G</td>\n",
       "      <td>O</td>\n",
       "      <td>NaN</td>\n",
       "      <td>M</td>\n",
       "      <td>1983.0</td>\n",
       "      <td>06302016</td>\n",
       "      <td>F</td>\n",
       "      <td>NaN</td>\n",
       "      <td>BA</td>\n",
       "      <td>5.547449e+10</td>\n",
       "      <td>00117</td>\n",
       "      <td>WT</td>\n",
       "      <td>2016-04-02</td>\n",
       "      <td>2016-04-10</td>\n",
       "    </tr>\n",
       "    <tr>\n",
       "      <th>8</th>\n",
       "      <td>2577162</td>\n",
       "      <td>5227851.0</td>\n",
       "      <td>2016.0</td>\n",
       "      <td>4.0</td>\n",
       "      <td>131.0</td>\n",
       "      <td>131.0</td>\n",
       "      <td>CHI</td>\n",
       "      <td>20572.0</td>\n",
       "      <td>1.0</td>\n",
       "      <td>IL</td>\n",
       "      <td>20575.0</td>\n",
       "      <td>39.0</td>\n",
       "      <td>2.0</td>\n",
       "      <td>1.0</td>\n",
       "      <td>20160428</td>\n",
       "      <td>NaN</td>\n",
       "      <td>NaN</td>\n",
       "      <td>O</td>\n",
       "      <td>O</td>\n",
       "      <td>NaN</td>\n",
       "      <td>M</td>\n",
       "      <td>1977.0</td>\n",
       "      <td>07262016</td>\n",
       "      <td>NaN</td>\n",
       "      <td>NaN</td>\n",
       "      <td>LX</td>\n",
       "      <td>5.941342e+10</td>\n",
       "      <td>00008</td>\n",
       "      <td>WT</td>\n",
       "      <td>2016-04-28</td>\n",
       "      <td>2016-05-01</td>\n",
       "    </tr>\n",
       "    <tr>\n",
       "      <th>9</th>\n",
       "      <td>10930</td>\n",
       "      <td>13213.0</td>\n",
       "      <td>2016.0</td>\n",
       "      <td>4.0</td>\n",
       "      <td>116.0</td>\n",
       "      <td>116.0</td>\n",
       "      <td>LOS</td>\n",
       "      <td>20545.0</td>\n",
       "      <td>1.0</td>\n",
       "      <td>CA</td>\n",
       "      <td>20553.0</td>\n",
       "      <td>35.0</td>\n",
       "      <td>2.0</td>\n",
       "      <td>1.0</td>\n",
       "      <td>20160401</td>\n",
       "      <td>NaN</td>\n",
       "      <td>NaN</td>\n",
       "      <td>O</td>\n",
       "      <td>O</td>\n",
       "      <td>NaN</td>\n",
       "      <td>M</td>\n",
       "      <td>1981.0</td>\n",
       "      <td>06292016</td>\n",
       "      <td>NaN</td>\n",
       "      <td>NaN</td>\n",
       "      <td>AA</td>\n",
       "      <td>5.544979e+10</td>\n",
       "      <td>00109</td>\n",
       "      <td>WT</td>\n",
       "      <td>2016-04-01</td>\n",
       "      <td>2016-04-09</td>\n",
       "    </tr>\n",
       "  </tbody>\n",
       "</table>\n",
       "</div>"
      ],
      "text/plain": [
       "   Unnamed: 0      cicid   i94yr  i94mon  i94cit  i94res i94port  arrdate  \\\n",
       "0     2027561  4084316.0  2016.0     4.0   209.0   209.0     HHW  20566.0   \n",
       "1     2171295  4422636.0  2016.0     4.0   582.0   582.0     MCA  20567.0   \n",
       "2      589494  1195600.0  2016.0     4.0   148.0   112.0     OGG  20551.0   \n",
       "3     2631158  5291768.0  2016.0     4.0   297.0   297.0     LOS  20572.0   \n",
       "4     3032257   985523.0  2016.0     4.0   111.0   111.0     CHM  20550.0   \n",
       "5      721257  1481650.0  2016.0     4.0   577.0   577.0     ATL  20552.0   \n",
       "6     1072780  2197173.0  2016.0     4.0   245.0   245.0     SFR  20556.0   \n",
       "7      112205   232708.0  2016.0     4.0   113.0   135.0     NYC  20546.0   \n",
       "8     2577162  5227851.0  2016.0     4.0   131.0   131.0     CHI  20572.0   \n",
       "9       10930    13213.0  2016.0     4.0   116.0   116.0     LOS  20545.0   \n",
       "\n",
       "   i94mode i94addr  depdate  i94bir  i94visa  count  dtadfile visapost occup  \\\n",
       "0      1.0      HI  20573.0    61.0      2.0    1.0  20160422      NaN   NaN   \n",
       "1      1.0      TX  20568.0    26.0      2.0    1.0  20160423      MTR   NaN   \n",
       "2      1.0      FL  20571.0    76.0      2.0    1.0  20160407      NaN   NaN   \n",
       "3      1.0      CA  20581.0    25.0      2.0    1.0  20160428      DOH   NaN   \n",
       "4      3.0      NY  20553.0    19.0      2.0    1.0  20160406      NaN   NaN   \n",
       "5      1.0      GA  20606.0    51.0      2.0    1.0  20160408      NaN   NaN   \n",
       "6      1.0      CA  20635.0    48.0      2.0    1.0  20160412      NaN   NaN   \n",
       "7      1.0      NY  20554.0    33.0      2.0    1.0  20160402      NaN   NaN   \n",
       "8      1.0      IL  20575.0    39.0      2.0    1.0  20160428      NaN   NaN   \n",
       "9      1.0      CA  20553.0    35.0      2.0    1.0  20160401      NaN   NaN   \n",
       "\n",
       "  entdepa entdepd  entdepu matflag  biryear   dtaddto gender  insnum airline  \\\n",
       "0       G       O      NaN       M   1955.0  07202016      F     NaN      JL   \n",
       "1       G       R      NaN       M   1990.0  10222016      M     NaN     *GA   \n",
       "2       G       O      NaN       M   1940.0  07052016      M     NaN      LH   \n",
       "3       G       O      NaN       M   1991.0  10272016      M     NaN      QR   \n",
       "4       Z       K      NaN       M   1997.0  07042016      F     NaN     NaN   \n",
       "5       T       N      NaN       M   1965.0  10072016      M     NaN      DL   \n",
       "6       T       O      NaN       M   1968.0  10112016      F     NaN      CX   \n",
       "7       G       O      NaN       M   1983.0  06302016      F     NaN      BA   \n",
       "8       O       O      NaN       M   1977.0  07262016    NaN     NaN      LX   \n",
       "9       O       O      NaN       M   1981.0  06292016    NaN     NaN      AA   \n",
       "\n",
       "         admnum  fltno visatype arrive_date departure_date  \n",
       "0  5.658267e+10  00782       WT  2016-04-22     2016-04-29  \n",
       "1  9.436200e+10  XBLNG       B2  2016-04-23     2016-04-24  \n",
       "2  5.578047e+10  00464       WT  2016-04-07     2016-04-27  \n",
       "3  9.478970e+10  00739       B2  2016-04-28     2016-05-07  \n",
       "4  4.232257e+10   LAND       WT  2016-04-06     2016-04-09  \n",
       "5  7.368526e+08    910       B2  2016-04-08     2016-06-01  \n",
       "6  7.863122e+08    870       B2  2016-04-12     2016-06-30  \n",
       "7  5.547449e+10  00117       WT  2016-04-02     2016-04-10  \n",
       "8  5.941342e+10  00008       WT  2016-04-28     2016-05-01  \n",
       "9  5.544979e+10  00109       WT  2016-04-01     2016-04-09  "
      ]
     },
     "metadata": {},
     "output_type": "display_data"
    }
   ],
   "source": [
    "pd.set_option('display.max_columns', 50)\n",
    "i94immi_df.head(10)"
   ]
  },
  {
   "cell_type": "markdown",
   "metadata": {
    "editable": true
   },
   "source": [
    "Verify record with missing value NA or NULL"
   ]
  },
  {
   "cell_type": "code",
   "execution_count": null,
   "metadata": {
    "editable": true
   },
   "outputs": [
    {
     "data": {
      "text/plain": [
       "Unnamed: 0           0\n",
       "cicid                0\n",
       "i94yr                0\n",
       "i94mon               0\n",
       "i94cit               0\n",
       "i94res               0\n",
       "i94port              0\n",
       "arrdate              0\n",
       "i94mode              0\n",
       "i94addr             59\n",
       "depdate             49\n",
       "i94bir               0\n",
       "i94visa              0\n",
       "count                0\n",
       "dtadfile             0\n",
       "visapost           618\n",
       "occup              996\n",
       "entdepa              0\n",
       "entdepd             46\n",
       "entdepu           1000\n",
       "matflag             46\n",
       "biryear              0\n",
       "dtaddto              0\n",
       "gender             141\n",
       "insnum             965\n",
       "airline             33\n",
       "admnum               0\n",
       "fltno                8\n",
       "visatype             0\n",
       "arrive_date          0\n",
       "departure_date      49\n",
       "dtype: int64"
      ]
     },
     "metadata": {},
     "output_type": "display_data"
    }
   ],
   "source": [
    "i94immi_df.isna().sum()"
   ]
  },
  {
   "cell_type": "code",
   "execution_count": null,
   "metadata": {
    "editable": true
   },
   "outputs": [
    {
     "data": {
      "text/plain": [
       "Unnamed: 0           0\n",
       "cicid                0\n",
       "i94yr                0\n",
       "i94mon               0\n",
       "i94cit               0\n",
       "i94res               0\n",
       "i94port              0\n",
       "arrdate              0\n",
       "i94mode              0\n",
       "i94addr             59\n",
       "depdate             49\n",
       "i94bir               0\n",
       "i94visa              0\n",
       "count                0\n",
       "dtadfile             0\n",
       "visapost           618\n",
       "occup              996\n",
       "entdepa              0\n",
       "entdepd             46\n",
       "entdepu           1000\n",
       "matflag             46\n",
       "biryear              0\n",
       "dtaddto              0\n",
       "gender             141\n",
       "insnum             965\n",
       "airline             33\n",
       "admnum               0\n",
       "fltno                8\n",
       "visatype             0\n",
       "arrive_date          0\n",
       "departure_date      49\n",
       "dtype: int64"
      ]
     },
     "metadata": {},
     "output_type": "display_data"
    }
   ],
   "source": [
    "i94immi_df.isnull().sum()"
   ]
  },
  {
   "cell_type": "markdown",
   "metadata": {
    "editable": true
   },
   "source": [
    "Remove records with missing value on column 'depdate'"
   ]
  },
  {
   "cell_type": "code",
   "execution_count": null,
   "metadata": {
    "editable": true
   },
   "outputs": [],
   "source": [
    "i94immi_df = i94immi_df.dropna(subset=\"i94yr\",how=\"all\")"
   ]
  },
  {
   "cell_type": "code",
   "execution_count": null,
   "metadata": {
    "editable": true
   },
   "outputs": [],
   "source": [
    "i94immi_df = i94immi_df.dropna(subset=\"i94mon\",how=\"all\")"
   ]
  },
  {
   "cell_type": "code",
   "execution_count": null,
   "metadata": {
    "editable": true
   },
   "outputs": [],
   "source": [
    "i94immi_df = i94immi_df.dropna(subset=\"arrdate\",how=\"all\")"
   ]
  },
  {
   "cell_type": "code",
   "execution_count": null,
   "metadata": {
    "editable": true
   },
   "outputs": [],
   "source": [
    "i94immi_df = i94immi_df.dropna(subset=\"depdate\",how=\"all\")"
   ]
  },
  {
   "cell_type": "code",
   "execution_count": null,
   "metadata": {
    "editable": true
   },
   "outputs": [],
   "source": [
    "i94immi_df = i94immi_df.dropna(subset=\"i94addr\",how=\"all\")"
   ]
  },
  {
   "cell_type": "code",
   "execution_count": null,
   "metadata": {
    "editable": true
   },
   "outputs": [],
   "source": [
    "i94immi_df = i94immi_df.dropna(subset=\"i94mode\",how=\"all\")"
   ]
  },
  {
   "cell_type": "code",
   "execution_count": null,
   "metadata": {
    "editable": true
   },
   "outputs": [],
   "source": [
    "i94immi_df = i94immi_df.dropna(subset=\"dtaddto\",how=\"all\")"
   ]
  },
  {
   "cell_type": "code",
   "execution_count": null,
   "metadata": {
    "editable": true
   },
   "outputs": [
    {
     "data": {
      "text/plain": [
       "Unnamed: 0        899\n",
       "cicid             899\n",
       "i94yr             899\n",
       "i94mon            899\n",
       "i94cit            899\n",
       "i94res            899\n",
       "i94port           899\n",
       "arrdate           899\n",
       "i94mode           899\n",
       "i94addr           899\n",
       "depdate           899\n",
       "i94bir            899\n",
       "i94visa           899\n",
       "count             899\n",
       "dtadfile          899\n",
       "visapost          345\n",
       "occup               3\n",
       "entdepa           899\n",
       "entdepd           899\n",
       "entdepu             0\n",
       "matflag           899\n",
       "biryear           899\n",
       "dtaddto           899\n",
       "gender            775\n",
       "insnum             18\n",
       "airline           880\n",
       "admnum            899\n",
       "fltno             898\n",
       "visatype          899\n",
       "arrive_date       899\n",
       "departure_date    899\n",
       "dtype: int64"
      ]
     },
     "metadata": {},
     "output_type": "display_data"
    }
   ],
   "source": [
    "i94immi_df.count()"
   ]
  },
  {
   "cell_type": "code",
   "execution_count": null,
   "metadata": {
    "editable": true
   },
   "outputs": [
    {
     "data": {
      "text/plain": [
       "Unnamed: 0          0\n",
       "cicid               0\n",
       "i94yr               0\n",
       "i94mon              0\n",
       "i94cit              0\n",
       "i94res              0\n",
       "i94port             0\n",
       "arrdate             0\n",
       "i94mode             0\n",
       "i94addr             0\n",
       "depdate             0\n",
       "i94bir              0\n",
       "i94visa             0\n",
       "count               0\n",
       "dtadfile            0\n",
       "visapost          554\n",
       "occup             896\n",
       "entdepa             0\n",
       "entdepd             0\n",
       "entdepu           899\n",
       "matflag             0\n",
       "biryear             0\n",
       "dtaddto             0\n",
       "gender            124\n",
       "insnum            881\n",
       "airline            19\n",
       "admnum              0\n",
       "fltno               1\n",
       "visatype            0\n",
       "arrive_date         0\n",
       "departure_date      0\n",
       "dtype: int64"
      ]
     },
     "metadata": {},
     "output_type": "display_data"
    }
   ],
   "source": [
    "i94immi_df.isnull().sum()"
   ]
  },
  {
   "cell_type": "code",
   "execution_count": null,
   "metadata": {
    "editable": true
   },
   "outputs": [],
   "source": [
    "i94immi_df = i94immi_df.drop(['count', 'tadfile', 'visapost', 'occup', 'entdepa', 'entdepd', 'entdepu', 'matflag'], axis=1)"
   ]
  },
  {
   "cell_type": "code",
   "execution_count": null,
   "metadata": {
    "editable": true
   },
   "outputs": [
    {
     "data": {
      "text/html": [
       "<div>\n",
       "<style scoped>\n",
       "    .dataframe tbody tr th:only-of-type {\n",
       "        vertical-align: middle;\n",
       "    }\n",
       "\n",
       "    .dataframe tbody tr th {\n",
       "        vertical-align: top;\n",
       "    }\n",
       "\n",
       "    .dataframe thead th {\n",
       "        text-align: right;\n",
       "    }\n",
       "</style>\n",
       "<table border=\"1\" class=\"dataframe\">\n",
       "  <thead>\n",
       "    <tr style=\"text-align: right;\">\n",
       "      <th></th>\n",
       "      <th>cicid</th>\n",
       "      <th>i94yr</th>\n",
       "      <th>i94mon</th>\n",
       "      <th>i94cit</th>\n",
       "      <th>arrdate</th>\n",
       "      <th>i94mode</th>\n",
       "      <th>depdate</th>\n",
       "      <th>i94visa</th>\n",
       "      <th>visatype</th>\n",
       "    </tr>\n",
       "  </thead>\n",
       "  <tbody>\n",
       "    <tr>\n",
       "      <th>0</th>\n",
       "      <td>4084316.0</td>\n",
       "      <td>2016</td>\n",
       "      <td>4</td>\n",
       "      <td>209</td>\n",
       "      <td>20566</td>\n",
       "      <td>1</td>\n",
       "      <td>20573</td>\n",
       "      <td>2</td>\n",
       "      <td>WT</td>\n",
       "    </tr>\n",
       "    <tr>\n",
       "      <th>1</th>\n",
       "      <td>4422636.0</td>\n",
       "      <td>2016</td>\n",
       "      <td>4</td>\n",
       "      <td>582</td>\n",
       "      <td>20567</td>\n",
       "      <td>1</td>\n",
       "      <td>20568</td>\n",
       "      <td>2</td>\n",
       "      <td>B2</td>\n",
       "    </tr>\n",
       "    <tr>\n",
       "      <th>2</th>\n",
       "      <td>1195600.0</td>\n",
       "      <td>2016</td>\n",
       "      <td>4</td>\n",
       "      <td>148</td>\n",
       "      <td>20551</td>\n",
       "      <td>1</td>\n",
       "      <td>20571</td>\n",
       "      <td>2</td>\n",
       "      <td>WT</td>\n",
       "    </tr>\n",
       "    <tr>\n",
       "      <th>3</th>\n",
       "      <td>5291768.0</td>\n",
       "      <td>2016</td>\n",
       "      <td>4</td>\n",
       "      <td>297</td>\n",
       "      <td>20572</td>\n",
       "      <td>1</td>\n",
       "      <td>20581</td>\n",
       "      <td>2</td>\n",
       "      <td>B2</td>\n",
       "    </tr>\n",
       "    <tr>\n",
       "      <th>4</th>\n",
       "      <td>985523.0</td>\n",
       "      <td>2016</td>\n",
       "      <td>4</td>\n",
       "      <td>111</td>\n",
       "      <td>20550</td>\n",
       "      <td>3</td>\n",
       "      <td>20553</td>\n",
       "      <td>2</td>\n",
       "      <td>WT</td>\n",
       "    </tr>\n",
       "  </tbody>\n",
       "</table>\n",
       "</div>"
      ],
      "text/plain": [
       "       cicid  i94yr  i94mon  i94cit  arrdate  i94mode  depdate  i94visa  \\\n",
       "0  4084316.0   2016       4     209    20566        1    20573        2   \n",
       "1  4422636.0   2016       4     582    20567        1    20568        2   \n",
       "2  1195600.0   2016       4     148    20551        1    20571        2   \n",
       "3  5291768.0   2016       4     297    20572        1    20581        2   \n",
       "4   985523.0   2016       4     111    20550        3    20553        2   \n",
       "\n",
       "  visatype  \n",
       "0       WT  \n",
       "1       B2  \n",
       "2       WT  \n",
       "3       B2  \n",
       "4       WT  "
      ]
     },
     "metadata": {},
     "output_type": "display_data"
    }
   ],
   "source": [
    "# Convert year and month to int64 data type\n",
    "i94immi_df['cicid'] = i94immi_df['cicid'].astype(int)\n",
    "i94immi_df['i94yr'] = i94immi_df['i94yr'].astype(int)\n",
    "i94immi_df['i94mon'] = i94immi_df['i94mon'].astype(int)\n",
    "i94immi_df['i94cit'] = i94immi_df['i94cit'].astype(int)\n",
    "i94immi_df['i94mode'] = i94immi_df['i94mode'].astype(int)\n",
    "i94immi_df['arrdate'] = i94immi_df['arrdate'].astype(int)\n",
    "i94immi_df['depdate'] = i94immi_df['depdate'].astype(int)\n",
    "i94immi_df['i94visa'] = i94immi_df['i94visa'].astype(int)\n",
    "\n",
    "i94immi_df.head()"
   ]
  },
  {
   "cell_type": "code",
   "execution_count": null,
   "metadata": {
    "editable": true
   },
   "outputs": [],
   "source": [
    "i94immi_columns = [\"cicid\",\"i94yr\",\"i94mon\",\"i94cit\",\"arrdate\",\"i94mode\",\"depdate\",\"i94visa\", 'visatype']\n",
    "i94immi_df = i94immi_df[i94immi_columns]\n"
   ]
  },
  {
   "cell_type": "code",
   "execution_count": null,
   "metadata": {
    "editable": true,
    "scrolled": true
   },
   "outputs": [
    {
     "data": {
      "text/html": [
       "<div>\n",
       "<style scoped>\n",
       "    .dataframe tbody tr th:only-of-type {\n",
       "        vertical-align: middle;\n",
       "    }\n",
       "\n",
       "    .dataframe tbody tr th {\n",
       "        vertical-align: top;\n",
       "    }\n",
       "\n",
       "    .dataframe thead th {\n",
       "        text-align: right;\n",
       "    }\n",
       "</style>\n",
       "<table border=\"1\" class=\"dataframe\">\n",
       "  <thead>\n",
       "    <tr style=\"text-align: right;\">\n",
       "      <th></th>\n",
       "      <th>cicid</th>\n",
       "      <th>i94yr</th>\n",
       "      <th>i94mon</th>\n",
       "      <th>i94cit</th>\n",
       "      <th>arrdate</th>\n",
       "      <th>i94mode</th>\n",
       "      <th>depdate</th>\n",
       "      <th>i94visa</th>\n",
       "      <th>visatype</th>\n",
       "    </tr>\n",
       "  </thead>\n",
       "  <tbody>\n",
       "    <tr>\n",
       "      <th>0</th>\n",
       "      <td>4084316.0</td>\n",
       "      <td>2016.0</td>\n",
       "      <td>4.0</td>\n",
       "      <td>209.0</td>\n",
       "      <td>20566.0</td>\n",
       "      <td>1.0</td>\n",
       "      <td>20573.0</td>\n",
       "      <td>2.0</td>\n",
       "      <td>WT</td>\n",
       "    </tr>\n",
       "    <tr>\n",
       "      <th>1</th>\n",
       "      <td>4422636.0</td>\n",
       "      <td>2016.0</td>\n",
       "      <td>4.0</td>\n",
       "      <td>582.0</td>\n",
       "      <td>20567.0</td>\n",
       "      <td>1.0</td>\n",
       "      <td>20568.0</td>\n",
       "      <td>2.0</td>\n",
       "      <td>B2</td>\n",
       "    </tr>\n",
       "    <tr>\n",
       "      <th>2</th>\n",
       "      <td>1195600.0</td>\n",
       "      <td>2016.0</td>\n",
       "      <td>4.0</td>\n",
       "      <td>148.0</td>\n",
       "      <td>20551.0</td>\n",
       "      <td>1.0</td>\n",
       "      <td>20571.0</td>\n",
       "      <td>2.0</td>\n",
       "      <td>WT</td>\n",
       "    </tr>\n",
       "    <tr>\n",
       "      <th>3</th>\n",
       "      <td>5291768.0</td>\n",
       "      <td>2016.0</td>\n",
       "      <td>4.0</td>\n",
       "      <td>297.0</td>\n",
       "      <td>20572.0</td>\n",
       "      <td>1.0</td>\n",
       "      <td>20581.0</td>\n",
       "      <td>2.0</td>\n",
       "      <td>B2</td>\n",
       "    </tr>\n",
       "    <tr>\n",
       "      <th>4</th>\n",
       "      <td>985523.0</td>\n",
       "      <td>2016.0</td>\n",
       "      <td>4.0</td>\n",
       "      <td>111.0</td>\n",
       "      <td>20550.0</td>\n",
       "      <td>3.0</td>\n",
       "      <td>20553.0</td>\n",
       "      <td>2.0</td>\n",
       "      <td>WT</td>\n",
       "    </tr>\n",
       "  </tbody>\n",
       "</table>\n",
       "</div>"
      ],
      "text/plain": [
       "       cicid   i94yr  i94mon  i94cit  arrdate  i94mode  depdate  i94visa  \\\n",
       "0  4084316.0  2016.0     4.0   209.0  20566.0      1.0  20573.0      2.0   \n",
       "1  4422636.0  2016.0     4.0   582.0  20567.0      1.0  20568.0      2.0   \n",
       "2  1195600.0  2016.0     4.0   148.0  20551.0      1.0  20571.0      2.0   \n",
       "3  5291768.0  2016.0     4.0   297.0  20572.0      1.0  20581.0      2.0   \n",
       "4   985523.0  2016.0     4.0   111.0  20550.0      3.0  20553.0      2.0   \n",
       "\n",
       "  visatype  \n",
       "0       WT  \n",
       "1       B2  \n",
       "2       WT  \n",
       "3       B2  \n",
       "4       WT  "
      ]
     },
     "metadata": {},
     "output_type": "display_data"
    }
   ],
   "source": [
    "# Show dataset sample records\n",
    "i94immi_df = i94immi_df.set_index('cicid')\n",
    "i94immi_df.head()"
   ]
  },
  {
   "cell_type": "code",
   "execution_count": null,
   "metadata": {
    "editable": true
   },
   "outputs": [
    {
     "name": "stdout",
     "output_type": "stream",
     "text": [
      "<class 'pandas.core.frame.DataFrame'>\n",
      "RangeIndex: 1000 entries, 0 to 999\n",
      "Data columns (total 9 columns):\n",
      " #   Column    Non-Null Count  Dtype  \n",
      "---  ------    --------------  -----  \n",
      " 0   cicid     1000 non-null   float64\n",
      " 1   i94yr     1000 non-null   float64\n",
      " 2   i94mon    1000 non-null   float64\n",
      " 3   i94cit    1000 non-null   float64\n",
      " 4   arrdate   1000 non-null   float64\n",
      " 5   i94mode   1000 non-null   float64\n",
      " 6   depdate   951 non-null    float64\n",
      " 7   i94visa   1000 non-null   float64\n",
      " 8   visatype  1000 non-null   object \n",
      "dtypes: float64(8), object(1)\n",
      "memory usage: 70.4+ KB\n"
     ]
    }
   ],
   "source": [
    "i94immi_df.info()"
   ]
  },
  {
   "cell_type": "code",
   "execution_count": null,
   "metadata": {
    "editable": true,
    "scrolled": true
   },
   "outputs": [
    {
     "data": {
      "text/plain": [
       "(951, 9)"
      ]
     },
     "metadata": {},
     "output_type": "display_data"
    }
   ],
   "source": [
    "# Show dataset sample records\n",
    "i94immi_df.shape"
   ]
  },
  {
   "cell_type": "code",
   "execution_count": null,
   "metadata": {
    "editable": true
   },
   "outputs": [
    {
     "name": "stdout",
     "output_type": "stream",
     "text": [
      "<class 'pandas.core.frame.DataFrame'>\n",
      "Int64Index: 951 entries, 0 to 999\n",
      "Data columns (total 9 columns):\n",
      " #   Column    Non-Null Count  Dtype \n",
      "---  ------    --------------  ----- \n",
      " 0   cicid     951 non-null    object\n",
      " 1   i94yr     951 non-null    int32 \n",
      " 2   i94mon    951 non-null    int32 \n",
      " 3   i94cit    951 non-null    int32 \n",
      " 4   arrdate   951 non-null    int32 \n",
      " 5   i94mode   951 non-null    int32 \n",
      " 6   depdate   951 non-null    int32 \n",
      " 7   i94visa   951 non-null    int32 \n",
      " 8   visatype  951 non-null    object\n",
      "dtypes: int32(7), object(2)\n",
      "memory usage: 48.3+ KB\n"
     ]
    }
   ],
   "source": [
    "i94immi_df.info()"
   ]
  },
  {
   "cell_type": "code",
   "execution_count": null,
   "metadata": {
    "editable": true
   },
   "outputs": [
    {
     "data": {
      "text/plain": [
       "cicid      i94yr  i94mon  i94cit  arrdate  i94mode  depdate  i94visa  visatype\n",
       "1000074.0  2016   4       129     20550    1        20564    2        WT          1\n",
       "480428.0   2016   4       148     20547    1        20559    2        WT          1\n",
       "4718122.0  2016   4       209     20569    1        20573    2        WT          1\n",
       "4718538.0  2016   4       209     20569    1        20574    2        WT          1\n",
       "4729596.0  2016   4       245     20569    1        20584    2        B2          1\n",
       "                                                                                 ..\n",
       "2863583.0  2016   4       689     20559    1        20569    2        B2          1\n",
       "2865787.0  2016   4       691     20559    1        20566    1        B1          1\n",
       "2865828.0  2016   4       691     20559    1        20600    2        B2          1\n",
       "2867437.0  2016   4       691     20559    1        20590    2        B2          1\n",
       "999282.0   2016   4       129     20550    1        20553    1        WB          1\n",
       "Length: 951, dtype: int64"
      ]
     },
     "metadata": {},
     "output_type": "display_data"
    }
   ],
   "source": [
    "# Check unique\n",
    "i94immi_df[i94immi_columns].value_counts()"
   ]
  },
  {
   "cell_type": "code",
   "execution_count": null,
   "metadata": {
    "editable": true
   },
   "outputs": [
    {
     "data": {
      "text/plain": [
       "cicid       951\n",
       "i94yr         1\n",
       "i94mon        1\n",
       "i94cit       87\n",
       "arrdate      30\n",
       "i94mode       3\n",
       "depdate     109\n",
       "i94visa       3\n",
       "visatype      8\n",
       "dtype: int64"
      ]
     },
     "metadata": {},
     "output_type": "display_data"
    }
   ],
   "source": [
    "# Check unique\n",
    "i94immi_df[i94immi_columns].nunique()"
   ]
  },
  {
   "cell_type": "code",
   "execution_count": null,
   "metadata": {
    "editable": true
   },
   "outputs": [
    {
     "data": {
      "text/html": [
       "<div>\n",
       "<style scoped>\n",
       "    .dataframe tbody tr th:only-of-type {\n",
       "        vertical-align: middle;\n",
       "    }\n",
       "\n",
       "    .dataframe tbody tr th {\n",
       "        vertical-align: top;\n",
       "    }\n",
       "\n",
       "    .dataframe thead th {\n",
       "        text-align: right;\n",
       "    }\n",
       "</style>\n",
       "<table border=\"1\" class=\"dataframe\">\n",
       "  <thead>\n",
       "    <tr style=\"text-align: right;\">\n",
       "      <th></th>\n",
       "      <th>cicid</th>\n",
       "      <th>i94yr</th>\n",
       "      <th>i94mon</th>\n",
       "      <th>i94cit</th>\n",
       "      <th>arrdate</th>\n",
       "      <th>i94mode</th>\n",
       "      <th>depdate</th>\n",
       "      <th>i94visa</th>\n",
       "      <th>visatype</th>\n",
       "    </tr>\n",
       "  </thead>\n",
       "  <tbody>\n",
       "    <tr>\n",
       "      <th>215</th>\n",
       "      <td>25478.0</td>\n",
       "      <td>2016</td>\n",
       "      <td>4</td>\n",
       "      <td>131</td>\n",
       "      <td>20545</td>\n",
       "      <td>1</td>\n",
       "      <td>20633</td>\n",
       "      <td>2</td>\n",
       "      <td>WT</td>\n",
       "    </tr>\n",
       "    <tr>\n",
       "      <th>770</th>\n",
       "      <td>67523.0</td>\n",
       "      <td>2016</td>\n",
       "      <td>4</td>\n",
       "      <td>245</td>\n",
       "      <td>20545</td>\n",
       "      <td>1</td>\n",
       "      <td>20560</td>\n",
       "      <td>1</td>\n",
       "      <td>B1</td>\n",
       "    </tr>\n",
       "    <tr>\n",
       "      <th>244</th>\n",
       "      <td>86265.0</td>\n",
       "      <td>2016</td>\n",
       "      <td>4</td>\n",
       "      <td>368</td>\n",
       "      <td>20545</td>\n",
       "      <td>1</td>\n",
       "      <td>20553</td>\n",
       "      <td>2</td>\n",
       "      <td>B2</td>\n",
       "    </tr>\n",
       "    <tr>\n",
       "      <th>867</th>\n",
       "      <td>18310.0</td>\n",
       "      <td>2016</td>\n",
       "      <td>4</td>\n",
       "      <td>123</td>\n",
       "      <td>20545</td>\n",
       "      <td>1</td>\n",
       "      <td>20548</td>\n",
       "      <td>2</td>\n",
       "      <td>WT</td>\n",
       "    </tr>\n",
       "    <tr>\n",
       "      <th>665</th>\n",
       "      <td>32582.0</td>\n",
       "      <td>2016</td>\n",
       "      <td>4</td>\n",
       "      <td>135</td>\n",
       "      <td>20545</td>\n",
       "      <td>1</td>\n",
       "      <td>20552</td>\n",
       "      <td>2</td>\n",
       "      <td>WT</td>\n",
       "    </tr>\n",
       "    <tr>\n",
       "      <th>...</th>\n",
       "      <td>...</td>\n",
       "      <td>...</td>\n",
       "      <td>...</td>\n",
       "      <td>...</td>\n",
       "      <td>...</td>\n",
       "      <td>...</td>\n",
       "      <td>...</td>\n",
       "      <td>...</td>\n",
       "      <td>...</td>\n",
       "    </tr>\n",
       "    <tr>\n",
       "      <th>115</th>\n",
       "      <td>5883463.0</td>\n",
       "      <td>2016</td>\n",
       "      <td>4</td>\n",
       "      <td>687</td>\n",
       "      <td>20574</td>\n",
       "      <td>1</td>\n",
       "      <td>20589</td>\n",
       "      <td>2</td>\n",
       "      <td>B2</td>\n",
       "    </tr>\n",
       "    <tr>\n",
       "      <th>109</th>\n",
       "      <td>5756066.0</td>\n",
       "      <td>2016</td>\n",
       "      <td>4</td>\n",
       "      <td>260</td>\n",
       "      <td>20574</td>\n",
       "      <td>3</td>\n",
       "      <td>20576</td>\n",
       "      <td>2</td>\n",
       "      <td>B2</td>\n",
       "    </tr>\n",
       "    <tr>\n",
       "      <th>256</th>\n",
       "      <td>5899181.0</td>\n",
       "      <td>2016</td>\n",
       "      <td>4</td>\n",
       "      <td>696</td>\n",
       "      <td>20574</td>\n",
       "      <td>1</td>\n",
       "      <td>20583</td>\n",
       "      <td>1</td>\n",
       "      <td>B1</td>\n",
       "    </tr>\n",
       "    <tr>\n",
       "      <th>371</th>\n",
       "      <td>6057910.0</td>\n",
       "      <td>2016</td>\n",
       "      <td>4</td>\n",
       "      <td>252</td>\n",
       "      <td>20574</td>\n",
       "      <td>1</td>\n",
       "      <td>20578</td>\n",
       "      <td>2</td>\n",
       "      <td>GMT</td>\n",
       "    </tr>\n",
       "    <tr>\n",
       "      <th>876</th>\n",
       "      <td>5680234.0</td>\n",
       "      <td>2016</td>\n",
       "      <td>4</td>\n",
       "      <td>123</td>\n",
       "      <td>20574</td>\n",
       "      <td>1</td>\n",
       "      <td>20579</td>\n",
       "      <td>2</td>\n",
       "      <td>WT</td>\n",
       "    </tr>\n",
       "  </tbody>\n",
       "</table>\n",
       "<p>951 rows × 9 columns</p>\n",
       "</div>"
      ],
      "text/plain": [
       "         cicid  i94yr  i94mon  i94cit  arrdate  i94mode  depdate  i94visa  \\\n",
       "215    25478.0   2016       4     131    20545        1    20633        2   \n",
       "770    67523.0   2016       4     245    20545        1    20560        1   \n",
       "244    86265.0   2016       4     368    20545        1    20553        2   \n",
       "867    18310.0   2016       4     123    20545        1    20548        2   \n",
       "665    32582.0   2016       4     135    20545        1    20552        2   \n",
       "..         ...    ...     ...     ...      ...      ...      ...      ...   \n",
       "115  5883463.0   2016       4     687    20574        1    20589        2   \n",
       "109  5756066.0   2016       4     260    20574        3    20576        2   \n",
       "256  5899181.0   2016       4     696    20574        1    20583        1   \n",
       "371  6057910.0   2016       4     252    20574        1    20578        2   \n",
       "876  5680234.0   2016       4     123    20574        1    20579        2   \n",
       "\n",
       "    visatype  \n",
       "215       WT  \n",
       "770       B1  \n",
       "244       B2  \n",
       "867       WT  \n",
       "665       WT  \n",
       "..       ...  \n",
       "115       B2  \n",
       "109       B2  \n",
       "256       B1  \n",
       "371      GMT  \n",
       "876       WT  \n",
       "\n",
       "[951 rows x 9 columns]"
      ]
     },
     "metadata": {},
     "output_type": "display_data"
    }
   ],
   "source": [
    "i94immi_df[i94immi_columns].sort_values('arrdate',na_position=\"last\")"
   ]
  },
  {
   "cell_type": "code",
   "execution_count": null,
   "metadata": {
    "editable": true
   },
   "outputs": [
    {
     "data": {
      "text/html": [
       "<div>\n",
       "<style scoped>\n",
       "    .dataframe tbody tr th:only-of-type {\n",
       "        vertical-align: middle;\n",
       "    }\n",
       "\n",
       "    .dataframe tbody tr th {\n",
       "        vertical-align: top;\n",
       "    }\n",
       "\n",
       "    .dataframe thead th {\n",
       "        text-align: right;\n",
       "    }\n",
       "</style>\n",
       "<table border=\"1\" class=\"dataframe\">\n",
       "  <thead>\n",
       "    <tr style=\"text-align: right;\">\n",
       "      <th></th>\n",
       "      <th>cicid</th>\n",
       "      <th>i94yr</th>\n",
       "      <th>i94mon</th>\n",
       "      <th>i94cit</th>\n",
       "      <th>arrdate</th>\n",
       "      <th>i94mode</th>\n",
       "      <th>depdate</th>\n",
       "      <th>i94visa</th>\n",
       "      <th>visatype</th>\n",
       "    </tr>\n",
       "  </thead>\n",
       "  <tbody>\n",
       "    <tr>\n",
       "      <th>892</th>\n",
       "      <td>1215382.0</td>\n",
       "      <td>2016</td>\n",
       "      <td>4</td>\n",
       "      <td>245</td>\n",
       "      <td>20551</td>\n",
       "      <td>1</td>\n",
       "      <td>20569</td>\n",
       "      <td>1</td>\n",
       "      <td>B1</td>\n",
       "    </tr>\n",
       "    <tr>\n",
       "      <th>421</th>\n",
       "      <td>1330915.0</td>\n",
       "      <td>2016</td>\n",
       "      <td>4</td>\n",
       "      <td>687</td>\n",
       "      <td>20551</td>\n",
       "      <td>1</td>\n",
       "      <td>20558</td>\n",
       "      <td>1</td>\n",
       "      <td>B1</td>\n",
       "    </tr>\n",
       "    <tr>\n",
       "      <th>126</th>\n",
       "      <td>1346007.0</td>\n",
       "      <td>2016</td>\n",
       "      <td>4</td>\n",
       "      <td>746</td>\n",
       "      <td>20551</td>\n",
       "      <td>1</td>\n",
       "      <td>20566</td>\n",
       "      <td>1</td>\n",
       "      <td>B1</td>\n",
       "    </tr>\n",
       "    <tr>\n",
       "      <th>627</th>\n",
       "      <td>1346274.0</td>\n",
       "      <td>2016</td>\n",
       "      <td>4</td>\n",
       "      <td>746</td>\n",
       "      <td>20551</td>\n",
       "      <td>1</td>\n",
       "      <td>20554</td>\n",
       "      <td>1</td>\n",
       "      <td>B1</td>\n",
       "    </tr>\n",
       "    <tr>\n",
       "      <th>123</th>\n",
       "      <td>1643294.0</td>\n",
       "      <td>2016</td>\n",
       "      <td>4</td>\n",
       "      <td>273</td>\n",
       "      <td>20553</td>\n",
       "      <td>1</td>\n",
       "      <td>20558</td>\n",
       "      <td>1</td>\n",
       "      <td>B1</td>\n",
       "    </tr>\n",
       "    <tr>\n",
       "      <th>...</th>\n",
       "      <td>...</td>\n",
       "      <td>...</td>\n",
       "      <td>...</td>\n",
       "      <td>...</td>\n",
       "      <td>...</td>\n",
       "      <td>...</td>\n",
       "      <td>...</td>\n",
       "      <td>...</td>\n",
       "      <td>...</td>\n",
       "    </tr>\n",
       "    <tr>\n",
       "      <th>420</th>\n",
       "      <td>982263.0</td>\n",
       "      <td>2016</td>\n",
       "      <td>4</td>\n",
       "      <td>103</td>\n",
       "      <td>20550</td>\n",
       "      <td>1</td>\n",
       "      <td>20592</td>\n",
       "      <td>2</td>\n",
       "      <td>WT</td>\n",
       "    </tr>\n",
       "    <tr>\n",
       "      <th>848</th>\n",
       "      <td>982461.0</td>\n",
       "      <td>2016</td>\n",
       "      <td>4</td>\n",
       "      <td>103</td>\n",
       "      <td>20550</td>\n",
       "      <td>1</td>\n",
       "      <td>20551</td>\n",
       "      <td>2</td>\n",
       "      <td>WT</td>\n",
       "    </tr>\n",
       "    <tr>\n",
       "      <th>4</th>\n",
       "      <td>985523.0</td>\n",
       "      <td>2016</td>\n",
       "      <td>4</td>\n",
       "      <td>111</td>\n",
       "      <td>20550</td>\n",
       "      <td>3</td>\n",
       "      <td>20553</td>\n",
       "      <td>2</td>\n",
       "      <td>WT</td>\n",
       "    </tr>\n",
       "    <tr>\n",
       "      <th>897</th>\n",
       "      <td>991350.0</td>\n",
       "      <td>2016</td>\n",
       "      <td>4</td>\n",
       "      <td>111</td>\n",
       "      <td>20550</td>\n",
       "      <td>1</td>\n",
       "      <td>20555</td>\n",
       "      <td>2</td>\n",
       "      <td>WT</td>\n",
       "    </tr>\n",
       "    <tr>\n",
       "      <th>209</th>\n",
       "      <td>997142.0</td>\n",
       "      <td>2016</td>\n",
       "      <td>4</td>\n",
       "      <td>124</td>\n",
       "      <td>20550</td>\n",
       "      <td>1</td>\n",
       "      <td>20554</td>\n",
       "      <td>2</td>\n",
       "      <td>WT</td>\n",
       "    </tr>\n",
       "  </tbody>\n",
       "</table>\n",
       "<p>951 rows × 9 columns</p>\n",
       "</div>"
      ],
      "text/plain": [
       "         cicid  i94yr  i94mon  i94cit  arrdate  i94mode  depdate  i94visa  \\\n",
       "892  1215382.0   2016       4     245    20551        1    20569        1   \n",
       "421  1330915.0   2016       4     687    20551        1    20558        1   \n",
       "126  1346007.0   2016       4     746    20551        1    20566        1   \n",
       "627  1346274.0   2016       4     746    20551        1    20554        1   \n",
       "123  1643294.0   2016       4     273    20553        1    20558        1   \n",
       "..         ...    ...     ...     ...      ...      ...      ...      ...   \n",
       "420   982263.0   2016       4     103    20550        1    20592        2   \n",
       "848   982461.0   2016       4     103    20550        1    20551        2   \n",
       "4     985523.0   2016       4     111    20550        3    20553        2   \n",
       "897   991350.0   2016       4     111    20550        1    20555        2   \n",
       "209   997142.0   2016       4     124    20550        1    20554        2   \n",
       "\n",
       "    visatype  \n",
       "892       B1  \n",
       "421       B1  \n",
       "126       B1  \n",
       "627       B1  \n",
       "123       B1  \n",
       "..       ...  \n",
       "420       WT  \n",
       "848       WT  \n",
       "4         WT  \n",
       "897       WT  \n",
       "209       WT  \n",
       "\n",
       "[951 rows x 9 columns]"
      ]
     },
     "metadata": {},
     "output_type": "display_data"
    }
   ],
   "source": [
    "i94immi_df.sort_values(by=['visatype','cicid'], ascending=True)"
   ]
  },
  {
   "cell_type": "code",
   "execution_count": null,
   "metadata": {
    "editable": true
   },
   "outputs": [
    {
     "data": {
      "text/plain": [
       "cicid      i94yr  i94mon  i94cit  arrdate  i94mode  depdate  i94visa  visatype\n",
       "1000074.0  2016   4       129     20550    1        20564    2        WT          1\n",
       "480428.0   2016   4       148     20547    1        20559    2        WT          1\n",
       "4718122.0  2016   4       209     20569    1        20573    2        WT          1\n",
       "4718538.0  2016   4       209     20569    1        20574    2        WT          1\n",
       "4729596.0  2016   4       245     20569    1        20584    2        B2          1\n",
       "                                                                                 ..\n",
       "2863583.0  2016   4       689     20559    1        20569    2        B2          1\n",
       "2865787.0  2016   4       691     20559    1        20566    1        B1          1\n",
       "2865828.0  2016   4       691     20559    1        20600    2        B2          1\n",
       "2867437.0  2016   4       691     20559    1        20590    2        B2          1\n",
       "999282.0   2016   4       129     20550    1        20553    1        WB          1\n",
       "Length: 951, dtype: int64"
      ]
     },
     "metadata": {},
     "output_type": "display_data"
    }
   ],
   "source": [
    "# Check unique\n",
    "i94immi_df[i94immi_columns].value_counts()"
   ]
  },
  {
   "cell_type": "code",
   "execution_count": null,
   "metadata": {
    "editable": true
   },
   "outputs": [
    {
     "data": {
      "text/plain": [
       "WT     45.215563\n",
       "B2     34.700315\n",
       "WB      9.463722\n",
       "B1      6.414301\n",
       "GMT     2.523659\n",
       "F1      0.841220\n",
       "CP      0.525762\n",
       "E2      0.315457\n",
       "Name: visatype, dtype: float64"
      ]
     },
     "metadata": {},
     "output_type": "display_data"
    }
   ],
   "source": [
    "i94immi_df['visatype'].value_counts(normalize=True)*100"
   ]
  },
  {
   "cell_type": "code",
   "execution_count": null,
   "metadata": {
    "editable": true
   },
   "outputs": [
    {
     "data": {
      "text/html": [
       "<div>\n",
       "<style scoped>\n",
       "    .dataframe tbody tr th:only-of-type {\n",
       "        vertical-align: middle;\n",
       "    }\n",
       "\n",
       "    .dataframe tbody tr th {\n",
       "        vertical-align: top;\n",
       "    }\n",
       "\n",
       "    .dataframe thead th {\n",
       "        text-align: right;\n",
       "    }\n",
       "</style>\n",
       "<table border=\"1\" class=\"dataframe\">\n",
       "  <thead>\n",
       "    <tr style=\"text-align: right;\">\n",
       "      <th></th>\n",
       "      <th>cicid</th>\n",
       "      <th>i94yr</th>\n",
       "      <th>i94mon</th>\n",
       "      <th>i94cit</th>\n",
       "      <th>arrdate</th>\n",
       "      <th>i94mode</th>\n",
       "      <th>depdate</th>\n",
       "      <th>i94visa</th>\n",
       "      <th>visatype</th>\n",
       "      <th>Visa Ranking</th>\n",
       "    </tr>\n",
       "  </thead>\n",
       "  <tbody>\n",
       "    <tr>\n",
       "      <th>30</th>\n",
       "      <td>5692439.0</td>\n",
       "      <td>2016</td>\n",
       "      <td>4</td>\n",
       "      <td>133</td>\n",
       "      <td>20574</td>\n",
       "      <td>1</td>\n",
       "      <td>20580</td>\n",
       "      <td>1</td>\n",
       "      <td>B1</td>\n",
       "      <td>31</td>\n",
       "    </tr>\n",
       "    <tr>\n",
       "      <th>34</th>\n",
       "      <td>4805034.0</td>\n",
       "      <td>2016</td>\n",
       "      <td>4</td>\n",
       "      <td>582</td>\n",
       "      <td>20569</td>\n",
       "      <td>1</td>\n",
       "      <td>20573</td>\n",
       "      <td>1</td>\n",
       "      <td>B1</td>\n",
       "      <td>31</td>\n",
       "    </tr>\n",
       "    <tr>\n",
       "      <th>41</th>\n",
       "      <td>692716.0</td>\n",
       "      <td>2016</td>\n",
       "      <td>4</td>\n",
       "      <td>245</td>\n",
       "      <td>20548</td>\n",
       "      <td>1</td>\n",
       "      <td>20651</td>\n",
       "      <td>1</td>\n",
       "      <td>B1</td>\n",
       "      <td>31</td>\n",
       "    </tr>\n",
       "    <tr>\n",
       "      <th>68</th>\n",
       "      <td>3293058.0</td>\n",
       "      <td>2016</td>\n",
       "      <td>4</td>\n",
       "      <td>691</td>\n",
       "      <td>20561</td>\n",
       "      <td>1</td>\n",
       "      <td>20565</td>\n",
       "      <td>1</td>\n",
       "      <td>B1</td>\n",
       "      <td>31</td>\n",
       "    </tr>\n",
       "    <tr>\n",
       "      <th>94</th>\n",
       "      <td>95870.0</td>\n",
       "      <td>2016</td>\n",
       "      <td>4</td>\n",
       "      <td>528</td>\n",
       "      <td>20545</td>\n",
       "      <td>1</td>\n",
       "      <td>20549</td>\n",
       "      <td>1</td>\n",
       "      <td>B1</td>\n",
       "      <td>31</td>\n",
       "    </tr>\n",
       "    <tr>\n",
       "      <th>...</th>\n",
       "      <td>...</td>\n",
       "      <td>...</td>\n",
       "      <td>...</td>\n",
       "      <td>...</td>\n",
       "      <td>...</td>\n",
       "      <td>...</td>\n",
       "      <td>...</td>\n",
       "      <td>...</td>\n",
       "      <td>...</td>\n",
       "      <td>...</td>\n",
       "    </tr>\n",
       "    <tr>\n",
       "      <th>989</th>\n",
       "      <td>1360834.0</td>\n",
       "      <td>2016</td>\n",
       "      <td>4</td>\n",
       "      <td>117</td>\n",
       "      <td>20552</td>\n",
       "      <td>1</td>\n",
       "      <td>20556</td>\n",
       "      <td>2</td>\n",
       "      <td>WT</td>\n",
       "      <td>736</td>\n",
       "    </tr>\n",
       "    <tr>\n",
       "      <th>992</th>\n",
       "      <td>3874218.0</td>\n",
       "      <td>2016</td>\n",
       "      <td>4</td>\n",
       "      <td>148</td>\n",
       "      <td>20565</td>\n",
       "      <td>1</td>\n",
       "      <td>20582</td>\n",
       "      <td>2</td>\n",
       "      <td>WT</td>\n",
       "      <td>736</td>\n",
       "    </tr>\n",
       "    <tr>\n",
       "      <th>994</th>\n",
       "      <td>5081809.0</td>\n",
       "      <td>2016</td>\n",
       "      <td>4</td>\n",
       "      <td>254</td>\n",
       "      <td>20571</td>\n",
       "      <td>1</td>\n",
       "      <td>20582</td>\n",
       "      <td>2</td>\n",
       "      <td>WT</td>\n",
       "      <td>736</td>\n",
       "    </tr>\n",
       "    <tr>\n",
       "      <th>995</th>\n",
       "      <td>4288772.0</td>\n",
       "      <td>2016</td>\n",
       "      <td>4</td>\n",
       "      <td>135</td>\n",
       "      <td>20567</td>\n",
       "      <td>1</td>\n",
       "      <td>20572</td>\n",
       "      <td>2</td>\n",
       "      <td>WT</td>\n",
       "      <td>736</td>\n",
       "    </tr>\n",
       "    <tr>\n",
       "      <th>997</th>\n",
       "      <td>2883298.0</td>\n",
       "      <td>2016</td>\n",
       "      <td>4</td>\n",
       "      <td>111</td>\n",
       "      <td>20560</td>\n",
       "      <td>1</td>\n",
       "      <td>20566</td>\n",
       "      <td>2</td>\n",
       "      <td>WT</td>\n",
       "      <td>736</td>\n",
       "    </tr>\n",
       "  </tbody>\n",
       "</table>\n",
       "<p>951 rows × 10 columns</p>\n",
       "</div>"
      ],
      "text/plain": [
       "         cicid  i94yr  i94mon  i94cit  arrdate  i94mode  depdate  i94visa  \\\n",
       "30   5692439.0   2016       4     133    20574        1    20580        1   \n",
       "34   4805034.0   2016       4     582    20569        1    20573        1   \n",
       "41    692716.0   2016       4     245    20548        1    20651        1   \n",
       "68   3293058.0   2016       4     691    20561        1    20565        1   \n",
       "94     95870.0   2016       4     528    20545        1    20549        1   \n",
       "..         ...    ...     ...     ...      ...      ...      ...      ...   \n",
       "989  1360834.0   2016       4     117    20552        1    20556        2   \n",
       "992  3874218.0   2016       4     148    20565        1    20582        2   \n",
       "994  5081809.0   2016       4     254    20571        1    20582        2   \n",
       "995  4288772.0   2016       4     135    20567        1    20572        2   \n",
       "997  2883298.0   2016       4     111    20560        1    20566        2   \n",
       "\n",
       "    visatype  Visa Ranking  \n",
       "30        B1            31  \n",
       "34        B1            31  \n",
       "41        B1            31  \n",
       "68        B1            31  \n",
       "94        B1            31  \n",
       "..       ...           ...  \n",
       "989       WT           736  \n",
       "992       WT           736  \n",
       "994       WT           736  \n",
       "995       WT           736  \n",
       "997       WT           736  \n",
       "\n",
       "[951 rows x 10 columns]"
      ]
     },
     "metadata": {},
     "output_type": "display_data"
    }
   ],
   "source": [
    "i94immi_df[\"visaranking\"] = i94immi_df[\"visatype\"].rank(ascending = True).astype(\"int\")\n",
    "i94immi_df.sort_values(by=['visatype','Visa Ranking'], ascending=True)"
   ]
  },
  {
   "cell_type": "code",
   "execution_count": null,
   "metadata": {
    "editable": true
   },
   "outputs": [
    {
     "data": {
      "text/plain": [
       "WT     430\n",
       "B2     330\n",
       "WB      90\n",
       "B1      61\n",
       "GMT     24\n",
       "F1       8\n",
       "CP       5\n",
       "E2       3\n",
       "Name: visatype, dtype: int64"
      ]
     },
     "metadata": {},
     "output_type": "display_data"
    }
   ],
   "source": [
    "i94immi_df['visatype'].value_counts()"
   ]
  },
  {
   "cell_type": "code",
   "execution_count": null,
   "metadata": {
    "editable": true
   },
   "outputs": [],
   "source": [
    "# Write to parquet partitioned by arrdate - Run on production\n",
    "i94immi_df.write.partitionBy(\"arrdate\").parquet(os.path.join(output_data, table), mode=\"overwrite\")"
   ]
  },
  {
   "cell_type": "code",
   "execution_count": null,
   "metadata": {},
   "outputs": [],
   "source": []
  },
  {
   "cell_type": "markdown",
   "metadata": {
    "editable": true
   },
   "source": [
    "=====================================================================================================\n",
    "\n",
    "====================================================================================================="
   ]
  },
  {
   "cell_type": "code",
   "execution_count": null,
   "metadata": {
    "editable": true
   },
   "outputs": [],
   "source": [
    "def nan_percentage_calc(df):\n",
    "    nan_demographics_df = pd.DataFrame(data=df.isnull().sum(), columns=['NaN'])\n",
    "    nan_demographics_df.drop(nan_demographics_df[nan_demographics_df['NaN'] == 0].index, inplace = True)\n",
    "    nan_demographics_df['% of NaN'] = (nan_demographics_df['NaN']/df.count())*100\n",
    "    return nan_demographics_df"
   ]
  },
  {
   "cell_type": "code",
   "execution_count": null,
   "metadata": {
    "editable": true
   },
   "outputs": [
    {
     "data": {
      "text/html": [
       "<div>\n",
       "<style scoped>\n",
       "    .dataframe tbody tr th:only-of-type {\n",
       "        vertical-align: middle;\n",
       "    }\n",
       "\n",
       "    .dataframe tbody tr th {\n",
       "        vertical-align: top;\n",
       "    }\n",
       "\n",
       "    .dataframe thead th {\n",
       "        text-align: right;\n",
       "    }\n",
       "</style>\n",
       "<table border=\"1\" class=\"dataframe\">\n",
       "  <thead>\n",
       "    <tr style=\"text-align: right;\">\n",
       "      <th></th>\n",
       "      <th>NaN</th>\n",
       "      <th>% of NaN</th>\n",
       "    </tr>\n",
       "  </thead>\n",
       "  <tbody>\n",
       "    <tr>\n",
       "      <th>AverageTemperature</th>\n",
       "      <td>3448</td>\n",
       "      <td>3.571133</td>\n",
       "    </tr>\n",
       "    <tr>\n",
       "      <th>AverageTemperatureUncertainty</th>\n",
       "      <td>3448</td>\n",
       "      <td>3.571133</td>\n",
       "    </tr>\n",
       "  </tbody>\n",
       "</table>\n",
       "</div>"
      ],
      "text/plain": [
       "                                NaN  % of NaN\n",
       "AverageTemperature             3448  3.571133\n",
       "AverageTemperatureUncertainty  3448  3.571133"
      ]
     },
     "metadata": {},
     "output_type": "display_data"
    }
   ],
   "source": [
    "nan_percentage_calc(worldtempe_df)"
   ]
  },
  {
   "cell_type": "code",
   "execution_count": null,
   "metadata": {
    "editable": true
   },
   "outputs": [],
   "source": [
    "worldtempe_df.dropna(axis=0, inplace=True)"
   ]
  },
  {
   "cell_type": "code",
   "execution_count": null,
   "metadata": {
    "editable": true
   },
   "outputs": [
    {
     "data": {
      "text/html": [
       "<div>\n",
       "<style scoped>\n",
       "    .dataframe tbody tr th:only-of-type {\n",
       "        vertical-align: middle;\n",
       "    }\n",
       "\n",
       "    .dataframe tbody tr th {\n",
       "        vertical-align: top;\n",
       "    }\n",
       "\n",
       "    .dataframe thead th {\n",
       "        text-align: right;\n",
       "    }\n",
       "</style>\n",
       "<table border=\"1\" class=\"dataframe\">\n",
       "  <thead>\n",
       "    <tr style=\"text-align: right;\">\n",
       "      <th></th>\n",
       "      <th>NaN</th>\n",
       "      <th>% of NaN</th>\n",
       "    </tr>\n",
       "  </thead>\n",
       "  <tbody>\n",
       "    <tr>\n",
       "      <th>dt</th>\n",
       "      <td>NaN</td>\n",
       "      <td>NaN</td>\n",
       "    </tr>\n",
       "    <tr>\n",
       "      <th>AverageTemperature</th>\n",
       "      <td>NaN</td>\n",
       "      <td>NaN</td>\n",
       "    </tr>\n",
       "    <tr>\n",
       "      <th>AverageTemperatureUncertainty</th>\n",
       "      <td>NaN</td>\n",
       "      <td>NaN</td>\n",
       "    </tr>\n",
       "    <tr>\n",
       "      <th>City</th>\n",
       "      <td>NaN</td>\n",
       "      <td>NaN</td>\n",
       "    </tr>\n",
       "    <tr>\n",
       "      <th>Country</th>\n",
       "      <td>NaN</td>\n",
       "      <td>NaN</td>\n",
       "    </tr>\n",
       "    <tr>\n",
       "      <th>Latitude</th>\n",
       "      <td>NaN</td>\n",
       "      <td>NaN</td>\n",
       "    </tr>\n",
       "    <tr>\n",
       "      <th>Longitude</th>\n",
       "      <td>NaN</td>\n",
       "      <td>NaN</td>\n",
       "    </tr>\n",
       "    <tr>\n",
       "      <th>year</th>\n",
       "      <td>NaN</td>\n",
       "      <td>NaN</td>\n",
       "    </tr>\n",
       "    <tr>\n",
       "      <th>month</th>\n",
       "      <td>NaN</td>\n",
       "      <td>NaN</td>\n",
       "    </tr>\n",
       "  </tbody>\n",
       "</table>\n",
       "</div>"
      ],
      "text/plain": [
       "                               NaN  % of NaN\n",
       "dt                             NaN       NaN\n",
       "AverageTemperature             NaN       NaN\n",
       "AverageTemperatureUncertainty  NaN       NaN\n",
       "City                           NaN       NaN\n",
       "Country                        NaN       NaN\n",
       "Latitude                       NaN       NaN\n",
       "Longitude                      NaN       NaN\n",
       "year                           NaN       NaN\n",
       "month                          NaN       NaN"
      ]
     },
     "metadata": {},
     "output_type": "display_data"
    }
   ],
   "source": [
    "nan_percentage_calc(worldtempe_df)"
   ]
  },
  {
   "cell_type": "code",
   "execution_count": null,
   "metadata": {
    "editable": true
   },
   "outputs": [
    {
     "data": {
      "text/plain": [
       "Index(['dt', 'AverageTemperature', 'City', 'Country', 'year', 'month'], dtype='object')"
      ]
     },
     "metadata": {},
     "output_type": "display_data"
    }
   ],
   "source": [
    "# Dropping 3 columns\n",
    "\n",
    "worldtempe_df = worldtempe_df.drop(['AverageTemperatureUncertainty', 'Latitude', 'Longitude'], axis=1)\n",
    "worldtempe_df.columns"
   ]
  },
  {
   "cell_type": "code",
   "execution_count": null,
   "metadata": {
    "editable": true
   },
   "outputs": [],
   "source": [
    "def convert_column_names(df):\n",
    "    cols = df.columns\n",
    "    column_name_changed = []\n",
    "\n",
    "    for col in cols:\n",
    "        new_column = col.lstrip().rstrip().lower().replace (\" \", \"_\").replace (\"-\", \"_\") #strip beginning spaces, makes lowercase, add underscpre\n",
    "        column_name_changed.append(new_column)\n",
    "\n",
    "    df.columns = column_name_changed"
   ]
  },
  {
   "cell_type": "code",
   "execution_count": null,
   "metadata": {
    "editable": true
   },
   "outputs": [
    {
     "data": {
      "text/plain": [
       "Index(['dt', 'averagetemperature', 'city', 'country', 'year', 'month'], dtype='object')"
      ]
     },
     "metadata": {},
     "output_type": "display_data"
    }
   ],
   "source": [
    "convert_column_names(worldtempe_df)\n",
    "worldtempe_df.columns"
   ]
  },
  {
   "cell_type": "markdown",
   "metadata": {},
   "source": [
    "```\n",
    "===========================================================================================================\n",
    "    demographics\n",
    "===========================================================================================================\n",
    "```"
   ]
  },
  {
   "cell_type": "code",
   "execution_count": null,
   "metadata": {},
   "outputs": [],
   "source": [
    "citydemo_df"
   ]
  },
  {
   "cell_type": "code",
   "execution_count": null,
   "metadata": {},
   "outputs": [
    {
     "data": {
      "text/plain": [
       "(2891, 12)"
      ]
     },
     "metadata": {},
     "output_type": "display_data"
    }
   ],
   "source": [
    "citydemo_df.shape"
   ]
  },
  {
   "cell_type": "code",
   "execution_count": null,
   "metadata": {},
   "outputs": [
    {
     "data": {
      "text/plain": [
       "567"
      ]
     },
     "metadata": {},
     "output_type": "display_data"
    }
   ],
   "source": [
    "citydemo_df['city'].nunique()"
   ]
  },
  {
   "cell_type": "code",
   "execution_count": null,
   "metadata": {},
   "outputs": [
    {
     "data": {
      "text/plain": [
       "49"
      ]
     },
     "metadata": {},
     "output_type": "display_data"
    }
   ],
   "source": [
    "citydemo_df['state'].nunique()"
   ]
  },
  {
   "cell_type": "code",
   "execution_count": null,
   "metadata": {},
   "outputs": [],
   "source": [
    "# Percentage ratio between male population with total population\n",
    "citydemo_df['pct_male_pop'] = (citydemo_df['male_population']/citydemo_df['total_population'])*100\n",
    "\n",
    "# Percentage ratio between female population with total population\n",
    "citydemo_df['pct_female_pop'] = (citydemo_df['Female Population']/citydemo_df['total_population'])*100\n",
    "\n",
    "# American Indian and Alaska Native\n",
    "citydemo_df['pct_native'] = (citydemo_df['American Indian and Alaska Native']/citydemo_df['total_population'])*100\n",
    "\n",
    "# Asian\n",
    "citydemo_df['pct_asian'] = (citydemo_df['Asian']/citydemo_df['total_population'])*100\n",
    "\n",
    "# Black or African-American\n",
    "citydemo_df['pct_black'] = (citydemo_df['Black or African-American']/citydemo_df['total_population'])*100\n",
    "\n",
    "# Hispanic or Latino\n",
    "citydemo_df['pct_hispanic'] = (citydemo_df['Hispanic or Latino']/citydemo_df['total_population'])*100\n",
    "\n",
    "# White\n",
    "citydemo_df['pct_white'] = (citydemo_df['White']/citydemo_df['citydemo_df'])*100"
   ]
  },
  {
   "cell_type": "code",
   "execution_count": null,
   "metadata": {},
   "outputs": [],
   "source": [
    "citydemo_df = citydemo_df.drop([], axis=1)\n",
    "citydemo_df.columns"
   ]
  },
  {
   "cell_type": "markdown",
   "metadata": {},
   "source": [
    "Perform convert data type"
   ]
  },
  {
   "cell_type": "code",
   "execution_count": null,
   "metadata": {},
   "outputs": [
    {
     "name": "stderr",
     "output_type": "stream",
     "text": [
      "C:\\Users\\Setup\\AppData\\Local\\Temp\\ipykernel_16864\\4193531186.py:1: SettingWithCopyWarning: \n",
      "A value is trying to be set on a copy of a slice from a DataFrame.\n",
      "Try using .loc[row_indexer,col_indexer] = value instead\n",
      "\n",
      "See the caveats in the documentation: https://pandas.pydata.org/pandas-docs/stable/user_guide/indexing.html#returning-a-view-versus-a-copy\n",
      "  citydemo_clean_column_name_df['state'] = citydemo_clean_column_name_df['state'].astype(str)\n",
      "C:\\Users\\Setup\\AppData\\Local\\Temp\\ipykernel_16864\\4193531186.py:2: SettingWithCopyWarning: \n",
      "A value is trying to be set on a copy of a slice from a DataFrame.\n",
      "Try using .loc[row_indexer,col_indexer] = value instead\n",
      "\n",
      "See the caveats in the documentation: https://pandas.pydata.org/pandas-docs/stable/user_guide/indexing.html#returning-a-view-versus-a-copy\n",
      "  citydemo_clean_column_name_df['median_age'] = citydemo_clean_column_name_df['median_age'].astype(int)\n",
      "C:\\Users\\Setup\\AppData\\Local\\Temp\\ipykernel_16864\\4193531186.py:3: SettingWithCopyWarning: \n",
      "A value is trying to be set on a copy of a slice from a DataFrame.\n",
      "Try using .loc[row_indexer,col_indexer] = value instead\n",
      "\n",
      "See the caveats in the documentation: https://pandas.pydata.org/pandas-docs/stable/user_guide/indexing.html#returning-a-view-versus-a-copy\n",
      "  citydemo_clean_column_name_df['male_population'] = citydemo_clean_column_name_df['male_population'].astype(int)\n",
      "C:\\Users\\Setup\\AppData\\Local\\Temp\\ipykernel_16864\\4193531186.py:4: SettingWithCopyWarning: \n",
      "A value is trying to be set on a copy of a slice from a DataFrame.\n",
      "Try using .loc[row_indexer,col_indexer] = value instead\n",
      "\n",
      "See the caveats in the documentation: https://pandas.pydata.org/pandas-docs/stable/user_guide/indexing.html#returning-a-view-versus-a-copy\n",
      "  citydemo_clean_column_name_df['female_population'] = citydemo_clean_column_name_df['female_population'].astype(int)\n",
      "C:\\Users\\Setup\\AppData\\Local\\Temp\\ipykernel_16864\\4193531186.py:5: SettingWithCopyWarning: \n",
      "A value is trying to be set on a copy of a slice from a DataFrame.\n",
      "Try using .loc[row_indexer,col_indexer] = value instead\n",
      "\n",
      "See the caveats in the documentation: https://pandas.pydata.org/pandas-docs/stable/user_guide/indexing.html#returning-a-view-versus-a-copy\n",
      "  citydemo_clean_column_name_df['total_population'] = citydemo_clean_column_name_df['total_population'].astype(int)\n",
      "C:\\Users\\Setup\\AppData\\Local\\Temp\\ipykernel_16864\\4193531186.py:6: SettingWithCopyWarning: \n",
      "A value is trying to be set on a copy of a slice from a DataFrame.\n",
      "Try using .loc[row_indexer,col_indexer] = value instead\n",
      "\n",
      "See the caveats in the documentation: https://pandas.pydata.org/pandas-docs/stable/user_guide/indexing.html#returning-a-view-versus-a-copy\n",
      "  citydemo_clean_column_name_df['number_of_veterans'] = citydemo_clean_column_name_df['number_of_veterans'].astype(int)\n",
      "C:\\Users\\Setup\\AppData\\Local\\Temp\\ipykernel_16864\\4193531186.py:7: SettingWithCopyWarning: \n",
      "A value is trying to be set on a copy of a slice from a DataFrame.\n",
      "Try using .loc[row_indexer,col_indexer] = value instead\n",
      "\n",
      "See the caveats in the documentation: https://pandas.pydata.org/pandas-docs/stable/user_guide/indexing.html#returning-a-view-versus-a-copy\n",
      "  citydemo_clean_column_name_df['foreign_born'] = citydemo_clean_column_name_df['foreign_born'].astype(int)\n"
     ]
    },
    {
     "data": {
      "text/html": [
       "<div>\n",
       "<style scoped>\n",
       "    .dataframe tbody tr th:only-of-type {\n",
       "        vertical-align: middle;\n",
       "    }\n",
       "\n",
       "    .dataframe tbody tr th {\n",
       "        vertical-align: top;\n",
       "    }\n",
       "\n",
       "    .dataframe thead th {\n",
       "        text-align: right;\n",
       "    }\n",
       "</style>\n",
       "<table border=\"1\" class=\"dataframe\">\n",
       "  <thead>\n",
       "    <tr style=\"text-align: right;\">\n",
       "      <th></th>\n",
       "      <th>city</th>\n",
       "      <th>state</th>\n",
       "      <th>median_age</th>\n",
       "      <th>male_population</th>\n",
       "      <th>female_population</th>\n",
       "      <th>total_population</th>\n",
       "      <th>number_of_veterans</th>\n",
       "      <th>foreign_born</th>\n",
       "      <th>average_household_size</th>\n",
       "      <th>state_code</th>\n",
       "      <th>race</th>\n",
       "      <th>count</th>\n",
       "    </tr>\n",
       "  </thead>\n",
       "  <tbody>\n",
       "    <tr>\n",
       "      <th>0</th>\n",
       "      <td>SILVER SPRING</td>\n",
       "      <td>Maryland</td>\n",
       "      <td>33</td>\n",
       "      <td>40601</td>\n",
       "      <td>41862</td>\n",
       "      <td>82463</td>\n",
       "      <td>1562</td>\n",
       "      <td>30908</td>\n",
       "      <td>2.60</td>\n",
       "      <td>MD</td>\n",
       "      <td>Hispanic or Latino</td>\n",
       "      <td>25924</td>\n",
       "    </tr>\n",
       "    <tr>\n",
       "      <th>1</th>\n",
       "      <td>QUINCY</td>\n",
       "      <td>Massachusetts</td>\n",
       "      <td>41</td>\n",
       "      <td>44129</td>\n",
       "      <td>49500</td>\n",
       "      <td>93629</td>\n",
       "      <td>4147</td>\n",
       "      <td>32935</td>\n",
       "      <td>2.39</td>\n",
       "      <td>MA</td>\n",
       "      <td>White</td>\n",
       "      <td>58723</td>\n",
       "    </tr>\n",
       "    <tr>\n",
       "      <th>2</th>\n",
       "      <td>HOOVER</td>\n",
       "      <td>Alabama</td>\n",
       "      <td>38</td>\n",
       "      <td>38040</td>\n",
       "      <td>46799</td>\n",
       "      <td>84839</td>\n",
       "      <td>4819</td>\n",
       "      <td>8229</td>\n",
       "      <td>2.58</td>\n",
       "      <td>AL</td>\n",
       "      <td>Asian</td>\n",
       "      <td>4759</td>\n",
       "    </tr>\n",
       "    <tr>\n",
       "      <th>3</th>\n",
       "      <td>RANCHO CUCAMONGA</td>\n",
       "      <td>California</td>\n",
       "      <td>34</td>\n",
       "      <td>88127</td>\n",
       "      <td>87105</td>\n",
       "      <td>175232</td>\n",
       "      <td>5821</td>\n",
       "      <td>33878</td>\n",
       "      <td>3.18</td>\n",
       "      <td>CA</td>\n",
       "      <td>Black or African-American</td>\n",
       "      <td>24437</td>\n",
       "    </tr>\n",
       "    <tr>\n",
       "      <th>4</th>\n",
       "      <td>NEWARK</td>\n",
       "      <td>New Jersey</td>\n",
       "      <td>34</td>\n",
       "      <td>138040</td>\n",
       "      <td>143873</td>\n",
       "      <td>281913</td>\n",
       "      <td>5829</td>\n",
       "      <td>86253</td>\n",
       "      <td>2.73</td>\n",
       "      <td>NJ</td>\n",
       "      <td>White</td>\n",
       "      <td>76402</td>\n",
       "    </tr>\n",
       "  </tbody>\n",
       "</table>\n",
       "</div>"
      ],
      "text/plain": [
       "               city          state  median_age  male_population  \\\n",
       "0     SILVER SPRING       Maryland          33            40601   \n",
       "1            QUINCY  Massachusetts          41            44129   \n",
       "2            HOOVER        Alabama          38            38040   \n",
       "3  RANCHO CUCAMONGA     California          34            88127   \n",
       "4            NEWARK     New Jersey          34           138040   \n",
       "\n",
       "   female_population  total_population  number_of_veterans  foreign_born  \\\n",
       "0              41862             82463                1562         30908   \n",
       "1              49500             93629                4147         32935   \n",
       "2              46799             84839                4819          8229   \n",
       "3              87105            175232                5821         33878   \n",
       "4             143873            281913                5829         86253   \n",
       "\n",
       "   average_household_size state_code                       race  count  \n",
       "0                    2.60         MD         Hispanic or Latino  25924  \n",
       "1                    2.39         MA                      White  58723  \n",
       "2                    2.58         AL                      Asian   4759  \n",
       "3                    3.18         CA  Black or African-American  24437  \n",
       "4                    2.73         NJ                      White  76402  "
      ]
     },
     "metadata": {},
     "output_type": "display_data"
    }
   ],
   "source": [
    "citydemo_clean_column_name_df['state'] = citydemo_clean_column_name_df['state'].astype(str)\n",
    "citydemo_clean_column_name_df['median_age'] = citydemo_clean_column_name_df['median_age'].astype(int)\n",
    "citydemo_clean_column_name_df['male_population'] = citydemo_clean_column_name_df['male_population'].astype(int)\n",
    "citydemo_clean_column_name_df['female_population'] = citydemo_clean_column_name_df['female_population'].astype(int)\n",
    "citydemo_clean_column_name_df['total_population'] = citydemo_clean_column_name_df['total_population'].astype(int)\n",
    "citydemo_clean_column_name_df['number_of_veterans'] = citydemo_clean_column_name_df['number_of_veterans'].astype(int)\n",
    "citydemo_clean_column_name_df['foreign_born'] = citydemo_clean_column_name_df['foreign_born'].astype(int)\n",
    "\n",
    "citydemo_clean_column_name_df.head()"
   ]
  },
  {
   "cell_type": "markdown",
   "metadata": {},
   "source": [
    "Verify converted datatype"
   ]
  },
  {
   "cell_type": "code",
   "execution_count": null,
   "metadata": {},
   "outputs": [
    {
     "name": "stdout",
     "output_type": "stream",
     "text": [
      "<class 'pandas.core.frame.DataFrame'>\n",
      "Int64Index: 2875 entries, 0 to 2890\n",
      "Data columns (total 12 columns):\n",
      " #   Column                  Non-Null Count  Dtype  \n",
      "---  ------                  --------------  -----  \n",
      " 0   city                    2875 non-null   object \n",
      " 1   state                   2875 non-null   object \n",
      " 2   median_age              2875 non-null   int32  \n",
      " 3   male_population         2875 non-null   int32  \n",
      " 4   female_population       2875 non-null   int32  \n",
      " 5   total_population        2875 non-null   int32  \n",
      " 6   number_of_veterans      2875 non-null   int32  \n",
      " 7   foreign_born            2875 non-null   int32  \n",
      " 8   average_household_size  2875 non-null   float64\n",
      " 9   state_code              2875 non-null   object \n",
      " 10  race                    2875 non-null   object \n",
      " 11  count                   2875 non-null   int64  \n",
      "dtypes: float64(1), int32(6), int64(1), object(4)\n",
      "memory usage: 224.6+ KB\n"
     ]
    }
   ],
   "source": [
    "citydemo_clean_column_name_df.info()"
   ]
  },
  {
   "cell_type": "markdown",
   "metadata": {},
   "source": [
    "```\n",
    "===========================================================================================================\n",
    "    teperature\n",
    "===========================================================================================================\n",
    "```"
   ]
  },
  {
   "cell_type": "code",
   "execution_count": null,
   "metadata": {},
   "outputs": [],
   "source": [
    "def nan_percentage_calc(df):\n",
    "    nan_demographics_df = pd.DataFrame(data=df.isnull().sum(), columns=['NaN'])\n",
    "    nan_demographics_df.drop(nan_demographics_df[nan_demographics_df['NaN'] == 0].index, inplace = True)\n",
    "    nan_demographics_df['% of NaN'] = (nan_demographics_df['NaN']/df.count())*100\n",
    "    return nan_demographics_df"
   ]
  },
  {
   "cell_type": "code",
   "execution_count": null,
   "metadata": {},
   "outputs": [],
   "source": [
    "worldtempe_df.dropna(axis=0, inplace=True)"
   ]
  },
  {
   "cell_type": "code",
   "execution_count": null,
   "metadata": {},
   "outputs": [],
   "source": [
    "nan_percentage_calc(worldtempe_df)"
   ]
  },
  {
   "cell_type": "code",
   "execution_count": null,
   "metadata": {},
   "outputs": [],
   "source": [
    "# Dropping 3 columns\n",
    "\n",
    "worldtempe_df = worldtempe_df.drop(['AverageTemperatureUncertainty', 'Latitude', 'Longitude'], axis=1)\n",
    "worldtempe_df.columns"
   ]
  },
  {
   "cell_type": "code",
   "execution_count": null,
   "metadata": {},
   "outputs": [],
   "source": [
    "def convert_column_names(df):\n",
    "    cols = df.columns\n",
    "    column_name_changed = []\n",
    "\n",
    "    for col in cols:\n",
    "        new_column = col.lstrip().rstrip().lower().replace (\" \", \"_\").replace (\"-\", \"_\") #strip beginning spaces, makes lowercase, add underscpre\n",
    "        column_name_changed.append(new_column)\n",
    "\n",
    "    df.columns = column_name_changed"
   ]
  },
  {
   "cell_type": "code",
   "execution_count": null,
   "metadata": {},
   "outputs": [],
   "source": [
    "convert_column_names(worldtempe_df)\n",
    "worldtempe_df.columns"
   ]
  }
 ],
 "metadata": {
  "kernelspec": {
   "display_name": "Python 3.10.8 ('project5')",
   "language": "python",
   "name": "python3"
  },
  "language_info": {
   "codemirror_mode": {
    "name": "ipython",
    "version": 3
   },
   "file_extension": ".py",
   "mimetype": "text/x-python",
   "name": "python",
   "nbconvert_exporter": "python",
   "pygments_lexer": "ipython3",
   "version": "3.10.8"
  },
  "vscode": {
   "interpreter": {
    "hash": "6f19dfd6b1cd7fd360d4f2c4802461aa893d068ea99183b3eab6718091575a5a"
   }
  }
 },
 "nbformat": 4,
 "nbformat_minor": 4
}
