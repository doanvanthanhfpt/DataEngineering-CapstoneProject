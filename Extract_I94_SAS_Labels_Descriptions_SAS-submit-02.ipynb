{
 "cells": [
  {
   "cell_type": "code",
   "execution_count": 1,
   "metadata": {},
   "outputs": [],
   "source": [
    "# Do all imports and installs here - Done\n",
    "from pyspark.sql import SparkSession\n",
    "from pyspark.sql.functions import udf\n",
    "import pandas as pd\n",
    "import re\n",
    "import configparser\n",
    "import os"
   ]
  },
  {
   "cell_type": "markdown",
   "metadata": {},
   "source": [
    "#### Extract dictionary informations from *I94_SAS_Labels_Descriptions.SAS*.\n",
    "    - I94CIT & I94RES --> i94cntyl.txt\n",
    "    - I94PORT --> i94prtl.txt\n",
    "    - I94MODE --> i94model.txt\n",
    "    - I94ADDR --> i94addrl\n",
    "    - I94VISA --> i94visa.txt"
   ]
  },
  {
   "cell_type": "code",
   "execution_count": 2,
   "metadata": {},
   "outputs": [],
   "source": [
    "with open('./I94_SAS_Labels_Descriptions.SAS') as f:\n",
    "    f_content = f.read()\n",
    "    f_content = f_content.replace('\\t', '')"
   ]
  },
  {
   "cell_type": "code",
   "execution_count": 12,
   "metadata": {},
   "outputs": [],
   "source": [
    "def code_mapper(file, idx):\n",
    "    f_content2 = f_content[f_content.index(idx):]\n",
    "    f_content2 = f_content2[:f_content2.index(';')].split('\\n')\n",
    "    f_content2 = [i.replace(\"'\", \"\") for i in f_content2]\n",
    "    dic = [i.split('=') for i in f_content2[1:]]\n",
    "    dic = dict([i[0].strip(), i[1].strip()] for i in dic if len(i) == 2)\n",
    "    return dic"
   ]
  },
  {
   "cell_type": "code",
   "execution_count": 13,
   "metadata": {},
   "outputs": [],
   "source": [
    "i94_cit_and_res = code_mapper(f_content, \"i94cntyl\")\n",
    "i94_port = code_mapper(f_content, \"i94prtl\")\n",
    "i94_mode = code_mapper(f_content, \"i94model\")\n",
    "i94_addr = code_mapper(f_content, \"i94addrl\")\n",
    "i94_visa = {'1':'Business',\n",
    "            '2': 'Pleasure',\n",
    "            '3' : 'Student'}"
   ]
  },
  {
   "cell_type": "code",
   "execution_count": 14,
   "metadata": {},
   "outputs": [
    {
     "data": {
      "text/html": [
       "<div>\n",
       "<style scoped>\n",
       "    .dataframe tbody tr th:only-of-type {\n",
       "        vertical-align: middle;\n",
       "    }\n",
       "\n",
       "    .dataframe tbody tr th {\n",
       "        vertical-align: top;\n",
       "    }\n",
       "\n",
       "    .dataframe thead th {\n",
       "        text-align: right;\n",
       "    }\n",
       "</style>\n",
       "<table border=\"1\" class=\"dataframe\">\n",
       "  <thead>\n",
       "    <tr style=\"text-align: right;\">\n",
       "      <th></th>\n",
       "      <th>582</th>\n",
       "      <th>236</th>\n",
       "      <th>101</th>\n",
       "      <th>316</th>\n",
       "      <th>102</th>\n",
       "      <th>324</th>\n",
       "      <th>529</th>\n",
       "      <th>518</th>\n",
       "      <th>687</th>\n",
       "      <th>151</th>\n",
       "      <th>...</th>\n",
       "      <th>400</th>\n",
       "      <th>485</th>\n",
       "      <th>503</th>\n",
       "      <th>589</th>\n",
       "      <th>592</th>\n",
       "      <th>791</th>\n",
       "      <th>849</th>\n",
       "      <th>914</th>\n",
       "      <th>944</th>\n",
       "      <th>996</th>\n",
       "    </tr>\n",
       "  </thead>\n",
       "  <tbody>\n",
       "    <tr>\n",
       "      <th>0</th>\n",
       "      <td>MEXICO Air Sea, and Not Reported (I-94, no lan...</td>\n",
       "      <td>AFGHANISTAN</td>\n",
       "      <td>ALBANIA</td>\n",
       "      <td>ALGERIA</td>\n",
       "      <td>ANDORRA</td>\n",
       "      <td>ANGOLA</td>\n",
       "      <td>ANGUILLA</td>\n",
       "      <td>ANTIGUA-BARBUDA</td>\n",
       "      <td>ARGENTINA</td>\n",
       "      <td>ARMENIA</td>\n",
       "      <td>...</td>\n",
       "      <td>No Country Code (400)</td>\n",
       "      <td>No Country Code (485)</td>\n",
       "      <td>No Country Code (503)</td>\n",
       "      <td>No Country Code (589)</td>\n",
       "      <td>No Country Code (592)</td>\n",
       "      <td>No Country Code (791)</td>\n",
       "      <td>No Country Code (849)</td>\n",
       "      <td>No Country Code (914)</td>\n",
       "      <td>No Country Code (944)</td>\n",
       "      <td>No Country Code (996)</td>\n",
       "    </tr>\n",
       "  </tbody>\n",
       "</table>\n",
       "<p>1 rows × 289 columns</p>\n",
       "</div>"
      ],
      "text/plain": [
       "                                                 582          236      101  \\\n",
       "0  MEXICO Air Sea, and Not Reported (I-94, no lan...  AFGHANISTAN  ALBANIA   \n",
       "\n",
       "       316      102     324       529              518        687      151  \\\n",
       "0  ALGERIA  ANDORRA  ANGOLA  ANGUILLA  ANTIGUA-BARBUDA  ARGENTINA  ARMENIA   \n",
       "\n",
       "   ...                    400                    485                    503  \\\n",
       "0  ...  No Country Code (400)  No Country Code (485)  No Country Code (503)   \n",
       "\n",
       "                     589                    592                    791  \\\n",
       "0  No Country Code (589)  No Country Code (592)  No Country Code (791)   \n",
       "\n",
       "                     849                    914                    944  \\\n",
       "0  No Country Code (849)  No Country Code (914)  No Country Code (944)   \n",
       "\n",
       "                     996  \n",
       "0  No Country Code (996)  \n",
       "\n",
       "[1 rows x 289 columns]"
      ]
     },
     "execution_count": 14,
     "metadata": {},
     "output_type": "execute_result"
    }
   ],
   "source": [
    "# i94_cit_and_res\n",
    "df = pd.DataFrame(dict([ (k,pd.Series(v)) for k,v in i94_cit_and_res.items() ]))\n",
    "df.to_csv('i94_cit_and_res.csv')\n",
    "\n",
    "df"
   ]
  },
  {
   "cell_type": "code",
   "execution_count": 15,
   "metadata": {},
   "outputs": [
    {
     "data": {
      "text/html": [
       "<div>\n",
       "<style scoped>\n",
       "    .dataframe tbody tr th:only-of-type {\n",
       "        vertical-align: middle;\n",
       "    }\n",
       "\n",
       "    .dataframe tbody tr th {\n",
       "        vertical-align: top;\n",
       "    }\n",
       "\n",
       "    .dataframe thead th {\n",
       "        text-align: right;\n",
       "    }\n",
       "</style>\n",
       "<table border=\"1\" class=\"dataframe\">\n",
       "  <thead>\n",
       "    <tr style=\"text-align: right;\">\n",
       "      <th></th>\n",
       "      <th>ALC</th>\n",
       "      <th>ANC</th>\n",
       "      <th>BAR</th>\n",
       "      <th>DAC</th>\n",
       "      <th>PIZ</th>\n",
       "      <th>DTH</th>\n",
       "      <th>EGL</th>\n",
       "      <th>FRB</th>\n",
       "      <th>HOM</th>\n",
       "      <th>HYD</th>\n",
       "      <th>...</th>\n",
       "      <th>.GA</th>\n",
       "      <th>CLX</th>\n",
       "      <th>CP</th>\n",
       "      <th>FSC</th>\n",
       "      <th>NK</th>\n",
       "      <th>ADU</th>\n",
       "      <th>AKT</th>\n",
       "      <th>LIT</th>\n",
       "      <th>A2A</th>\n",
       "      <th>OSN</th>\n",
       "    </tr>\n",
       "  </thead>\n",
       "  <tbody>\n",
       "    <tr>\n",
       "      <th>0</th>\n",
       "      <td>ALCAN, AK</td>\n",
       "      <td>ANCHORAGE, AK</td>\n",
       "      <td>BAKER AAF - BAKER ISLAND, AK</td>\n",
       "      <td>DALTONS CACHE, AK</td>\n",
       "      <td>DEW STATION PT LAY DEW, AK</td>\n",
       "      <td>DUTCH HARBOR, AK</td>\n",
       "      <td>EAGLE, AK</td>\n",
       "      <td>FAIRBANKS, AK</td>\n",
       "      <td>HOMER, AK</td>\n",
       "      <td>HYDER, AK</td>\n",
       "      <td>...</td>\n",
       "      <td>No PORT Code (.GA)</td>\n",
       "      <td>No PORT Code (CLX)</td>\n",
       "      <td>No PORT Code (CP)</td>\n",
       "      <td>No PORT Code (FSC)</td>\n",
       "      <td>No PORT Code (NK)</td>\n",
       "      <td>No PORT Code (ADU)</td>\n",
       "      <td>No PORT Code (AKT)</td>\n",
       "      <td>No PORT Code (LIT)</td>\n",
       "      <td>No PORT Code (A2A)</td>\n",
       "      <td>No PORT Code (OSN)</td>\n",
       "    </tr>\n",
       "  </tbody>\n",
       "</table>\n",
       "<p>1 rows × 660 columns</p>\n",
       "</div>"
      ],
      "text/plain": [
       "         ALC            ANC                           BAR                DAC  \\\n",
       "0  ALCAN, AK  ANCHORAGE, AK  BAKER AAF - BAKER ISLAND, AK  DALTONS CACHE, AK   \n",
       "\n",
       "                          PIZ               DTH        EGL            FRB  \\\n",
       "0  DEW STATION PT LAY DEW, AK  DUTCH HARBOR, AK  EAGLE, AK  FAIRBANKS, AK   \n",
       "\n",
       "         HOM        HYD  ...                 .GA                 CLX  \\\n",
       "0  HOMER, AK  HYDER, AK  ...  No PORT Code (.GA)  No PORT Code (CLX)   \n",
       "\n",
       "                  CP                 FSC                 NK  \\\n",
       "0  No PORT Code (CP)  No PORT Code (FSC)  No PORT Code (NK)   \n",
       "\n",
       "                  ADU                 AKT                 LIT  \\\n",
       "0  No PORT Code (ADU)  No PORT Code (AKT)  No PORT Code (LIT)   \n",
       "\n",
       "                  A2A                 OSN  \n",
       "0  No PORT Code (A2A)  No PORT Code (OSN)  \n",
       "\n",
       "[1 rows x 660 columns]"
      ]
     },
     "execution_count": 15,
     "metadata": {},
     "output_type": "execute_result"
    }
   ],
   "source": [
    "# i94_port\n",
    "\n",
    "df = pd.DataFrame(dict([ (k,pd.Series(v)) for k,v in i94_port.items() ]))\n",
    "df.to_csv('i94_port.csv')\n",
    "\n",
    "df"
   ]
  },
  {
   "cell_type": "code",
   "execution_count": 16,
   "metadata": {},
   "outputs": [
    {
     "data": {
      "text/html": [
       "<div>\n",
       "<style scoped>\n",
       "    .dataframe tbody tr th:only-of-type {\n",
       "        vertical-align: middle;\n",
       "    }\n",
       "\n",
       "    .dataframe tbody tr th {\n",
       "        vertical-align: top;\n",
       "    }\n",
       "\n",
       "    .dataframe thead th {\n",
       "        text-align: right;\n",
       "    }\n",
       "</style>\n",
       "<table border=\"1\" class=\"dataframe\">\n",
       "  <thead>\n",
       "    <tr style=\"text-align: right;\">\n",
       "      <th></th>\n",
       "      <th>1</th>\n",
       "      <th>2</th>\n",
       "      <th>3</th>\n",
       "      <th>9</th>\n",
       "    </tr>\n",
       "  </thead>\n",
       "  <tbody>\n",
       "    <tr>\n",
       "      <th>0</th>\n",
       "      <td>Air</td>\n",
       "      <td>Sea</td>\n",
       "      <td>Land</td>\n",
       "      <td>Not reported</td>\n",
       "    </tr>\n",
       "  </tbody>\n",
       "</table>\n",
       "</div>"
      ],
      "text/plain": [
       "     1    2     3             9\n",
       "0  Air  Sea  Land  Not reported"
      ]
     },
     "execution_count": 16,
     "metadata": {},
     "output_type": "execute_result"
    }
   ],
   "source": [
    "# i94_mode\n",
    "\n",
    "df = pd.DataFrame(dict([ (k,pd.Series(v)) for k,v in i94_mode.items() ]))\n",
    "df.to_csv('i94_mode.csv')\n",
    "\n",
    "df"
   ]
  },
  {
   "cell_type": "code",
   "execution_count": 17,
   "metadata": {
    "scrolled": true
   },
   "outputs": [
    {
     "data": {
      "text/html": [
       "<div>\n",
       "<style scoped>\n",
       "    .dataframe tbody tr th:only-of-type {\n",
       "        vertical-align: middle;\n",
       "    }\n",
       "\n",
       "    .dataframe tbody tr th {\n",
       "        vertical-align: top;\n",
       "    }\n",
       "\n",
       "    .dataframe thead th {\n",
       "        text-align: right;\n",
       "    }\n",
       "</style>\n",
       "<table border=\"1\" class=\"dataframe\">\n",
       "  <thead>\n",
       "    <tr style=\"text-align: right;\">\n",
       "      <th></th>\n",
       "      <th>AL</th>\n",
       "      <th>AK</th>\n",
       "      <th>AZ</th>\n",
       "      <th>AR</th>\n",
       "      <th>CA</th>\n",
       "      <th>CO</th>\n",
       "      <th>CT</th>\n",
       "      <th>DE</th>\n",
       "      <th>DC</th>\n",
       "      <th>FL</th>\n",
       "      <th>...</th>\n",
       "      <th>TX</th>\n",
       "      <th>UT</th>\n",
       "      <th>VT</th>\n",
       "      <th>VI</th>\n",
       "      <th>VA</th>\n",
       "      <th>WV</th>\n",
       "      <th>WA</th>\n",
       "      <th>WI</th>\n",
       "      <th>WY</th>\n",
       "      <th>99</th>\n",
       "    </tr>\n",
       "  </thead>\n",
       "  <tbody>\n",
       "    <tr>\n",
       "      <th>0</th>\n",
       "      <td>ALABAMA</td>\n",
       "      <td>ALASKA</td>\n",
       "      <td>ARIZONA</td>\n",
       "      <td>ARKANSAS</td>\n",
       "      <td>CALIFORNIA</td>\n",
       "      <td>COLORADO</td>\n",
       "      <td>CONNECTICUT</td>\n",
       "      <td>DELAWARE</td>\n",
       "      <td>DIST. OF COLUMBIA</td>\n",
       "      <td>FLORIDA</td>\n",
       "      <td>...</td>\n",
       "      <td>TEXAS</td>\n",
       "      <td>UTAH</td>\n",
       "      <td>VERMONT</td>\n",
       "      <td>VIRGIN ISLANDS</td>\n",
       "      <td>VIRGINIA</td>\n",
       "      <td>W. VIRGINIA</td>\n",
       "      <td>WASHINGTON</td>\n",
       "      <td>WISCONSON</td>\n",
       "      <td>WYOMING</td>\n",
       "      <td>All Other Codes</td>\n",
       "    </tr>\n",
       "  </tbody>\n",
       "</table>\n",
       "<p>1 rows × 55 columns</p>\n",
       "</div>"
      ],
      "text/plain": [
       "        AL      AK       AZ        AR          CA        CO           CT  \\\n",
       "0  ALABAMA  ALASKA  ARIZONA  ARKANSAS  CALIFORNIA  COLORADO  CONNECTICUT   \n",
       "\n",
       "         DE                 DC       FL  ...     TX    UT       VT  \\\n",
       "0  DELAWARE  DIST. OF COLUMBIA  FLORIDA  ...  TEXAS  UTAH  VERMONT   \n",
       "\n",
       "               VI        VA           WV          WA         WI       WY  \\\n",
       "0  VIRGIN ISLANDS  VIRGINIA  W. VIRGINIA  WASHINGTON  WISCONSON  WYOMING   \n",
       "\n",
       "                99  \n",
       "0  All Other Codes  \n",
       "\n",
       "[1 rows x 55 columns]"
      ]
     },
     "execution_count": 17,
     "metadata": {},
     "output_type": "execute_result"
    }
   ],
   "source": [
    "# i94_addr\n",
    "\n",
    "df = pd.DataFrame(dict([ (k,pd.Series(v)) for k,v in i94_addr.items() ]))\n",
    "df.to_csv('i94_addr.csv')\n",
    "\n",
    "df"
   ]
  },
  {
   "cell_type": "code",
   "execution_count": 18,
   "metadata": {},
   "outputs": [
    {
     "data": {
      "text/html": [
       "<div>\n",
       "<style scoped>\n",
       "    .dataframe tbody tr th:only-of-type {\n",
       "        vertical-align: middle;\n",
       "    }\n",
       "\n",
       "    .dataframe tbody tr th {\n",
       "        vertical-align: top;\n",
       "    }\n",
       "\n",
       "    .dataframe thead th {\n",
       "        text-align: right;\n",
       "    }\n",
       "</style>\n",
       "<table border=\"1\" class=\"dataframe\">\n",
       "  <thead>\n",
       "    <tr style=\"text-align: right;\">\n",
       "      <th></th>\n",
       "      <th>1</th>\n",
       "      <th>2</th>\n",
       "      <th>3</th>\n",
       "    </tr>\n",
       "  </thead>\n",
       "  <tbody>\n",
       "    <tr>\n",
       "      <th>0</th>\n",
       "      <td>Business</td>\n",
       "      <td>Pleasure</td>\n",
       "      <td>Student</td>\n",
       "    </tr>\n",
       "  </tbody>\n",
       "</table>\n",
       "</div>"
      ],
      "text/plain": [
       "          1         2        3\n",
       "0  Business  Pleasure  Student"
      ]
     },
     "execution_count": 18,
     "metadata": {},
     "output_type": "execute_result"
    }
   ],
   "source": [
    "# i94_visa\n",
    "\n",
    "df = pd.DataFrame(dict([ (k,pd.Series(v)) for k,v in i94_visa.items() ]))\n",
    "df.to_csv('i94_visa.csv')\n",
    "\n",
    "df"
   ]
  },
  {
   "cell_type": "code",
   "execution_count": 44,
   "metadata": {},
   "outputs": [],
   "source": [
    "def convert_city_to_i94port(city):\n",
    "    results = [v for k, v in i94_port.items() if re.match(city, k)]"
   ]
  },
  {
   "cell_type": "code",
   "execution_count": null,
   "metadata": {},
   "outputs": [],
   "source": [
    "from pyspark.sql.functions import udf,col\n",
    "convert_city_to_i94portUDF = udf(lambda z:convert_city_to_i94port(z))\n",
    "\n",
    "temp_df_final = temp_df.withColumn('i94_port', convert_city_to_i94portUDF(col(\"city\")))\n",
    "temp_df_final.show(2)"
   ]
  }
 ],
 "metadata": {
  "kernelspec": {
   "display_name": "Python 3 (ipykernel)",
   "language": "python",
   "name": "python3"
  },
  "language_info": {
   "codemirror_mode": {
    "name": "ipython",
    "version": 3
   },
   "file_extension": ".py",
   "mimetype": "text/x-python",
   "name": "python",
   "nbconvert_exporter": "python",
   "pygments_lexer": "ipython3",
   "version": "3.10.8"
  },
  "vscode": {
   "interpreter": {
    "hash": "6f19dfd6b1cd7fd360d4f2c4802461aa893d068ea99183b3eab6718091575a5a"
   }
  }
 },
 "nbformat": 4,
 "nbformat_minor": 4
}
