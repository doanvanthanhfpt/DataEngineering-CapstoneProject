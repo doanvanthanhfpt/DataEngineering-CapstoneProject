{
 "cells": [
  {
   "cell_type": "code",
   "execution_count": 87,
   "metadata": {
    "editable": true
   },
   "outputs": [],
   "source": [
    "# Do all imports and installs here - Done\n",
    "from pyspark.sql import SparkSession\n",
    "from pyspark.sql.functions import udf\n",
    "import pandas as pd\n",
    "import re\n",
    "import configparser\n",
    "import os\n",
    "from pyspark.sql.types import StructType as R, StructField as Fld,\\\n",
    "    DoubleType as Dbl, StringType as Str, IntegerType as Int,\\\n",
    "    TimestampType as Timestamp, DateType as Date, LongType as Long\n",
    "from pathlib import Path"
   ]
  },
  {
   "cell_type": "code",
   "execution_count": 77,
   "metadata": {
    "editable": true
   },
   "outputs": [],
   "source": [
    "# Run on production version\n",
    "spark = SparkSession.builder\\\n",
    "            .config(\"spark.jars.repositories\", \"https://repos.spark-packages.org/\")\\\n",
    "            .config(\"spark.jars.packages\", \"saurfang:spark-sas7bdat:2.0.0-s_2.11\")\\\n",
    "            .enableHiveSupport()\\\n",
    "            .getOrCreate()"
   ]
  },
  {
   "cell_type": "markdown",
   "metadata": {
    "editable": true
   },
   "source": [
    "### Procedure extracts validation pair values from SAS Labels Description"
   ]
  },
  {
   "cell_type": "code",
   "execution_count": 78,
   "metadata": {
    "editable": true
   },
   "outputs": [],
   "source": [
    "def get_validation_code_from_SAS_labels(sas_input_label):\n",
    "    '''\n",
    "    This procedure read a input SAS Labels Description and then write out validation code datasets.\n",
    "    The SAS Labels Description included validation code datasets with labels: I94RES (same to I94CIT), I94PORT, I94ADDR, I94MODE, I94VISA.\n",
    "    \n",
    "    Parameters\n",
    "    ----------\n",
    "    sas_input_label : string\n",
    "        The label name of validation code dataset. Its can be one of I94RES (same to I94CIT), I94PORT, I94ADDR, I94MODE, I94VISA.\n",
    "    \n",
    "    Returns\n",
    "    -------\n",
    "    validation_code_list : validation_value_pairs(tuple(str_valid_code, str_valid_value))\n",
    "        The return output is a specific SAS label list of validation code value pairs.\n",
    "    '''\n",
    "\n",
    "    # Read input SAS Labels Descriptions\n",
    "    with open('I94_SAS_Labels_Descriptions.SAS') as sas_validation_code:\n",
    "            labels_from_sas = sas_validation_code.read()\n",
    "\n",
    "    # Parse labels from SAS Label Description input\n",
    "    sas_labels = labels_from_sas[labels_from_sas.index(sas_input_label):]\n",
    "    sas_labels = sas_labels[:sas_labels.index(';')]\n",
    "    \n",
    "    # Processing line by line, remove separate charaters and then append value pair\n",
    "    lines = sas_labels.splitlines()\n",
    "    validation_code_list = []\n",
    "    for line in lines:\n",
    "        try:\n",
    "            valid_code, valid_value = line.split('=')\n",
    "            valid_code = valid_code.strip().strip(\"'\").strip('\"')\n",
    "            valid_value = valid_value.strip().strip(\"'\").strip('\"').strip()\n",
    "            validation_code_list.append((valid_code, valid_value))\n",
    "        except:\n",
    "            pass\n",
    "        \n",
    "    return validation_code_list"
   ]
  },
  {
   "cell_type": "code",
   "execution_count": 98,
   "metadata": {
    "editable": true
   },
   "outputs": [],
   "source": [
    "def rmdir(directory):\n",
    "    '''\n",
    "    This procedure perform pure recursive a directory.\n",
    "    \n",
    "    Parameters\n",
    "    ----------\n",
    "    directory : string_of_path_to_dir\n",
    "        The input directory is a path to target dir. This dir and all its belong child objects wil be deleted.\n",
    "        Syntax note: rmdir(Path(\"target_path_to_dir\"))\n",
    "            with Path(\"target_path_to_dir\") returns path to dir format as 'directory' input\n",
    "    \n",
    "    Returns\n",
    "    -------\n",
    "    None\n",
    "    '''\n",
    "    directory = Path(directory)\n",
    "    for item in directory.iterdir():\n",
    "        if item.is_dir():\n",
    "            rmdir(item)\n",
    "        else:\n",
    "            item.unlink()\n",
    "    directory.rmdir()"
   ]
  },
  {
   "cell_type": "code",
   "execution_count": 96,
   "metadata": {
    "editable": true
   },
   "outputs": [],
   "source": [
    "# Schema for validation value and code pairs. This schema is using for all labels of SAS Labels Description\n",
    "schema = R([\n",
    "        Fld(\"valid_code\", Str()),\n",
    "        Fld(\"valid_value\", Str())\n",
    "    ])"
   ]
  },
  {
   "cell_type": "markdown",
   "metadata": {
    "editable": true
   },
   "source": [
    "### Extract validation values from `I94RES` label"
   ]
  },
  {
   "cell_type": "code",
   "execution_count": 97,
   "metadata": {
    "editable": true
   },
   "outputs": [],
   "source": [
    "i94res_df = spark.createDataFrame(\n",
    "        data=get_validation_code_from_SAS_labels('I94RES'),\n",
    "        schema=schema\n",
    ")"
   ]
  },
  {
   "cell_type": "code",
   "execution_count": 81,
   "metadata": {
    "editable": true
   },
   "outputs": [
    {
     "name": "stdout",
     "output_type": "stream",
     "text": [
      "+----------+--------------------+\n",
      "|valid_code|         valid_value|\n",
      "+----------+--------------------+\n",
      "|       582|MEXICO Air Sea, a...|\n",
      "|       236|         AFGHANISTAN|\n",
      "|       101|             ALBANIA|\n",
      "|       316|             ALGERIA|\n",
      "|       102|             ANDORRA|\n",
      "|       324|              ANGOLA|\n",
      "|       529|            ANGUILLA|\n",
      "|       518|     ANTIGUA-BARBUDA|\n",
      "|       687|           ARGENTINA|\n",
      "|       151|             ARMENIA|\n",
      "|       532|               ARUBA|\n",
      "|       438|           AUSTRALIA|\n",
      "|       103|             AUSTRIA|\n",
      "|       152|          AZERBAIJAN|\n",
      "|       512|             BAHAMAS|\n",
      "|       298|             BAHRAIN|\n",
      "|       274|          BANGLADESH|\n",
      "|       513|            BARBADOS|\n",
      "|       104|             BELGIUM|\n",
      "|       581|              BELIZE|\n",
      "+----------+--------------------+\n",
      "only showing top 20 rows\n",
      "\n"
     ]
    }
   ],
   "source": [
    "i94res_df.show()"
   ]
  },
  {
   "cell_type": "code",
   "execution_count": 82,
   "metadata": {
    "editable": true
   },
   "outputs": [
    {
     "data": {
      "text/plain": [
       "289"
      ]
     },
     "execution_count": 82,
     "metadata": {},
     "output_type": "execute_result"
    }
   ],
   "source": [
    "i94res_df.count()"
   ]
  },
  {
   "cell_type": "code",
   "execution_count": 83,
   "metadata": {
    "editable": true
   },
   "outputs": [
    {
     "data": {
      "text/plain": [
       "array(['582', '236', '101', '316', '102', '324', '529', '518', '687',\n",
       "       '151', '532', '438', '103', '152', '512', '298', '274', '513',\n",
       "       '104', '581', '386', '509', '153', '242', '688', '717', '164',\n",
       "       '336', '689', '525', '217', '105', '393', '243', '375', '310',\n",
       "       '326', '526', '383', '384', '690', '245', '721', '270', '271',\n",
       "       '691', '317', '385', '467', '575', '165', '584', '218', '140',\n",
       "       '723', '108', '322', '519', '585', '240', '692', '368', '576',\n",
       "       '399', '372', '109', '369', '604', '413', '110', '111', '601',\n",
       "       '411', '387', '338', '758', '154', '112', '339', '143', '113',\n",
       "       '520', '507', '577', '382', '327', '603', '586', '726', '149',\n",
       "       '528', '206', '114', '115', '213', '759', '729', '204', '249',\n",
       "       '250', '116', '251', '117', '388', '514', '209', '253', '201',\n",
       "       '155', '340', '414', '732', '272', '156', '203', '118', '255',\n",
       "       '335', '370', '381', '119', '120', '121', '214', '167', '320',\n",
       "       '345', '273', '220', '392', '145', '472', '511', '389', '342',\n",
       "       '760', '473', '157', '122', '299', '735', '521', '332', '329',\n",
       "       '371', '440', '257', '123', '508', '409', '464', '579', '390',\n",
       "       '343', '470', '275', '124', '256', '258', '474', '743', '504',\n",
       "       '441', '693', '694', '260', '416', '107', '126', '297', '748',\n",
       "       '321', '127', '158', '376', '128', '330', '261', '391', '142',\n",
       "       '745', '347', '348', '207', '141', '166', '412', '397', '373',\n",
       "       '276', '129', '244', '346', '522', '523', '502', '524', '716',\n",
       "       '736', '749', '350', '602', '351', '130', '131', '262', '268',\n",
       "       '159', '353', '263', '304', '417', '516', '323', '264', '161',\n",
       "       '527', '420', '352', '162', '296', '135', '695', '163', '410',\n",
       "       '696', '266', '469', '757', '333', '465', '216', '139', '301',\n",
       "       '344', '315', '403', '712', '700', '719', '574', '720', '106',\n",
       "       '739', '394', '501', '404', '730', '731', '471', '737', '753',\n",
       "       '740', '710', '505', '0', '705', '583', '407', '999', '239', '134',\n",
       "       '506', '755', '311', '741', '54', '100', '187', '190', '200',\n",
       "       '219', '238', '277', '293', '300', '319', '365', '395', '400',\n",
       "       '485', '503', '589', '592', '791', '849', '914', '944', '996'],\n",
       "      dtype=object)"
      ]
     },
     "execution_count": 83,
     "metadata": {},
     "output_type": "execute_result"
    }
   ],
   "source": [
    "i94res_df.toPandas()['valid_code'].unique()"
   ]
  },
  {
   "cell_type": "code",
   "execution_count": 84,
   "metadata": {
    "editable": true
   },
   "outputs": [
    {
     "data": {
      "text/plain": [
       "289"
      ]
     },
     "execution_count": 84,
     "metadata": {},
     "output_type": "execute_result"
    }
   ],
   "source": [
    "len(i94res_df.toPandas()['valid_code'].unique())"
   ]
  },
  {
   "cell_type": "code",
   "execution_count": 94,
   "metadata": {
    "editable": true
   },
   "outputs": [],
   "source": [
    "rmdir(Path(\"i94res_sas_label_validation\"))\n",
    "i94res_df.write.options(header='True', delimiter=',').csv(\"i94res_sas_label_validation\")\n",
    "# i94res_df.write.mode('overwrite').csv(\"i94res_sas_label_validation\")"
   ]
  },
  {
   "cell_type": "markdown",
   "metadata": {
    "editable": true
   },
   "source": [
    "### Staging cleaned `I94REST` from saved csv partitions"
   ]
  },
  {
   "cell_type": "code",
   "execution_count": null,
   "metadata": {
    "editable": true
   },
   "outputs": [],
   "source": [
    "# Read out from csv partitions to staging dataframe\n",
    "i94res_df = spark.read.options(inferSchema=\"true\", delimiter=\",\", header = \"true\").csv(\"i94res_sas_label_validation\")"
   ]
  },
  {
   "cell_type": "code",
   "execution_count": null,
   "metadata": {
    "editable": true
   },
   "outputs": [],
   "source": [
    "# Verify loaded dataframe\n",
    "i94res_df.show()"
   ]
  },
  {
   "cell_type": "code",
   "execution_count": null,
   "metadata": {
    "editable": true
   },
   "outputs": [],
   "source": [
    "# Create table from dataframe\n",
    "i94res_df.createOrReplaceTempView('i94res_table')"
   ]
  },
  {
   "cell_type": "code",
   "execution_count": null,
   "metadata": {
    "editable": true
   },
   "outputs": [],
   "source": [
    "# Verify created table will be using for staging\n",
    "spark.sql(\"\"\"\n",
    "    SELECT COUNT(*) as amount_i94res_rows\n",
    "    FROM i94res_table\n",
    "\"\"\").show()"
   ]
  },
  {
   "cell_type": "markdown",
   "metadata": {
    "editable": true
   },
   "source": [
    "### Extract validation values from `I94PORT` label"
   ]
  },
  {
   "cell_type": "code",
   "execution_count": 11,
   "metadata": {
    "editable": true
   },
   "outputs": [],
   "source": [
    "i94ports_df = spark.createDataFrame(\n",
    "        data=get_validation_code_from_SAS_labels('I94PORT'),\n",
    "        schema=schema\n",
    ")"
   ]
  },
  {
   "cell_type": "code",
   "execution_count": 12,
   "metadata": {
    "editable": true
   },
   "outputs": [
    {
     "name": "stdout",
     "output_type": "stream",
     "text": [
      "+----------+--------------------+\n",
      "|valid_code|         valid_value|\n",
      "+----------+--------------------+\n",
      "|       ALC|           ALCAN, AK|\n",
      "|       ANC|       ANCHORAGE, AK|\n",
      "|       BAR|BAKER AAF - BAKER...|\n",
      "|       DAC|   DALTONS CACHE, AK|\n",
      "|       PIZ|DEW STATION PT LA...|\n",
      "|       DTH|    DUTCH HARBOR, AK|\n",
      "|       EGL|           EAGLE, AK|\n",
      "|       FRB|       FAIRBANKS, AK|\n",
      "|       HOM|           HOMER, AK|\n",
      "|       HYD|           HYDER, AK|\n",
      "|       JUN|          JUNEAU, AK|\n",
      "|       5KE|       KETCHIKAN, AK|\n",
      "|       KET|       KETCHIKAN, AK|\n",
      "|       MOS|MOSES POINT INTER...|\n",
      "|       NIK|         NIKISKI, AK|\n",
      "|       NOM|             NOM, AK|\n",
      "|       PKC|     POKER CREEK, AK|\n",
      "|       ORI|  PORT LIONS SPB, AK|\n",
      "|       SKA|         SKAGWAY, AK|\n",
      "|       SNP| ST. PAUL ISLAND, AK|\n",
      "+----------+--------------------+\n",
      "only showing top 20 rows\n",
      "\n"
     ]
    }
   ],
   "source": [
    "i94ports_df.show()"
   ]
  },
  {
   "cell_type": "code",
   "execution_count": 16,
   "metadata": {
    "editable": true
   },
   "outputs": [
    {
     "data": {
      "text/plain": [
       "660"
      ]
     },
     "execution_count": 16,
     "metadata": {},
     "output_type": "execute_result"
    }
   ],
   "source": [
    "i94ports_df.count()"
   ]
  },
  {
   "cell_type": "code",
   "execution_count": 17,
   "metadata": {
    "editable": true
   },
   "outputs": [
    {
     "data": {
      "text/plain": [
       "array(['ALC', 'ANC', 'BAR', 'DAC', 'PIZ', 'DTH', 'EGL', 'FRB', 'HOM',\n",
       "       'HYD', 'JUN', '5KE', 'KET', 'MOS', 'NIK', 'NOM', 'PKC', 'ORI',\n",
       "       'SKA', 'SNP', 'TKI', 'WRA', 'HSV', 'MOB', 'LIA', 'ROG', 'DOU',\n",
       "       'LUK', 'MAP', 'NAC', 'NOG', 'PHO', 'POR', 'SLU', 'SAS', 'TUC',\n",
       "       'YUI', 'AND', 'BUR', 'CAL', 'CAO', 'FRE', 'ICP', 'LNB', 'LOS',\n",
       "       'BFL', 'OAK', 'ONT', 'OTM', 'BLT', 'PSP', 'SAC', 'SLS', 'SDP',\n",
       "       'SFR', 'SNJ', 'SLO', 'SLI', 'SPC', 'SYS', 'SAA', 'STO', 'TEC',\n",
       "       'TRV', 'APA', 'ASE', 'COS', 'DEN', 'DRO', 'BDL', 'BGC', 'GRT',\n",
       "       'HAR', 'NWH', 'NWL', 'TST', 'WAS', 'DOV', 'DVD', 'WLL', 'BOC',\n",
       "       'SRQ', 'CAN', 'DAB', 'FRN', 'FTL', 'FMY', 'FPF', 'HUR', 'GNV',\n",
       "       'JAC', 'KEY', 'LEE', 'MLB', 'MIA', 'APF', 'OPF', 'ORL', 'PAN',\n",
       "       'PEN', 'PCF', 'PEV', 'PSJ', 'SFB', 'SGJ', 'SAU', 'FPR', 'SPE',\n",
       "       'TAM', 'WPB', 'ATL', 'BRU', 'AGS', 'SAV', 'AGA', 'HHW', 'OGG',\n",
       "       'KOA', 'LIH', 'CID', 'DSM', 'BOI', 'EPI', 'IDA', 'PTL', 'SPI',\n",
       "       'CHI', 'DPA', 'PIA', 'RFD', 'UGN', 'GAR', 'HMM', 'INP', 'MRL',\n",
       "       'SBN', 'ICT', 'LEX', 'LOU', 'BTN', 'LKC', 'LAK', 'MLU', 'MGC',\n",
       "       'NOL', 'BOS', 'GLO', 'BED', 'LYN', 'ADW', 'BAL', 'MKG', 'PAX',\n",
       "       'BGM', 'BOO', 'BWM', 'BCK', 'CLS', 'CRB', 'COB', 'EST', 'EPT',\n",
       "       'EPM', 'FOR', 'FTF', 'FTK', 'HML', 'HTM', 'JKM', 'KAL', 'LIM',\n",
       "       'LUB', 'MAD', 'POM', 'RGM', 'SBR', 'SRL', 'SPA', 'VNB', 'VCB',\n",
       "       'AGN', 'ALP', 'BCY', 'DET', 'GRP', 'GRO', 'ISL', 'MRC', 'MRY',\n",
       "       'PTK', 'PHU', 'RBT', 'SAG', 'SSM', 'SCL', 'YIP', 'BAU', 'CAR',\n",
       "       'GTF', 'INL', 'CRA', 'MIC', 'DUL', 'ELY', 'GPM', 'SVC', 'INT',\n",
       "       'LAN', 'MSP', 'LIN', 'NOY', 'PIN', '48Y', 'RAN', 'RST', 'ROS',\n",
       "       'SPM', 'WSB', 'WAR', 'KAN', 'SGF', 'STL', 'WHI', 'WHM', 'GPT',\n",
       "       'GTR', 'GUL', 'PAS', 'JAN', 'BIL', 'BTM', 'CHF', 'CTB', 'CUT',\n",
       "       'DLB', 'EUR', 'BZN', 'FCA', 'GGW', 'GRE', 'HVR', 'HEL', 'LWT',\n",
       "       'MGM', 'OPH', 'PIE', 'RAY', 'ROO', 'SCO', 'SWE', 'TRL', 'TUR',\n",
       "       'WCM', 'CLT', 'FAY', 'MRH', 'FOP', 'GSO', 'RDU', 'SSC', 'WIL',\n",
       "       'AMB', 'ANT', 'CRY', 'DNS', 'FAR', 'FRT', 'GRF', 'HNN', 'HNS',\n",
       "       'MAI', 'MND', 'NEC', 'NOO', 'NRG', 'PEM', 'SAR', 'SHR', 'SJO',\n",
       "       'WAL', 'WHO', 'WND', 'OMA', 'LEB', 'MHT', 'PNH', 'PSM', 'BYO',\n",
       "       'CNJ', 'HOB', 'JER', 'WRI', 'MMU', 'NEW', 'PER', 'ACY', 'ALA',\n",
       "       'ABQ', 'ANP', 'CRL', 'COL', 'CDD', 'DNM', 'LAS', 'LOB', 'RUI',\n",
       "       'STR', 'RNO', 'FLX', 'LVG', 'REN', 'ALB', 'AXB', 'BUF', 'CNH',\n",
       "       'CAP', 'CHM', 'CHT', 'CLA', 'FTC', 'LAG', 'LEW', 'MAS', 'MAG',\n",
       "       'MOO', 'MRR', 'NYC', 'NIA', 'OGD', 'OSW', 'ELM', 'ROC', 'ROU',\n",
       "       'SWF', 'SYR', 'THO', 'TRO', 'WAT', 'HPN', 'WRB', 'YOU', 'AKR',\n",
       "       'ATB', 'CIN', 'CLE', 'CLM', 'LOR', 'MBO', 'SDY', 'TOL', 'OKC',\n",
       "       'TUL', 'AST', 'COO', 'HIO', 'MED', 'NPT', 'POO', 'PUT', 'RDM',\n",
       "       'ERI', 'MDT', 'HSB', 'PHI', 'PIT', 'AGU', 'BQN', 'JCP', 'ENS',\n",
       "       'FAJ', 'HUM', 'JOB', 'MAY', 'PON', 'PSE', 'SAJ', 'VQS', 'PRO',\n",
       "       'PVD', 'CHL', 'CAE', 'GEO', 'GSP', 'GRR', 'MYR', 'SPF', 'HON',\n",
       "       'SAI', 'TYS', 'MEM', 'NSV', 'TRI', 'ADS', 'ADT', 'ANZ', 'AUS',\n",
       "       'BEA', 'BBP', 'SCC', 'BTC', 'BOA', 'BRO', 'CRP', 'DAL', 'DLR',\n",
       "       'DNA', 'EGP', 'ELP', 'FAB', 'FAL', 'FTH', 'AFW', 'FPT', 'GAL',\n",
       "       'HLG', 'HID', 'HOU', 'SGR', 'LLB', 'LCB', 'LRN', 'LAR', 'LSE',\n",
       "       'IND', 'LOI', 'MRS', 'MCA', 'MAF', 'PDN', 'PBB', 'PHR', 'PAR',\n",
       "       'ISB', 'POE', 'PRE', 'PGR', 'RIO', 'ROM', 'SNA', 'SNN', 'VIB',\n",
       "       'YSL', 'CHA', 'CHR', 'CRU', 'FRK', 'STT', 'LGU', 'SLC', 'CHO',\n",
       "       'DAA', 'HOP', 'HEF', 'NWN', 'NOR', 'RCM', 'ABS', 'ABG', 'BEB',\n",
       "       'BEE', 'BRG', 'CNA', 'DER', 'DLV', 'ERC', 'HIG', 'MOR', 'NPV',\n",
       "       'NRT', 'NRN', 'PIV', 'RIF', 'STA', 'SWB', 'WBE', 'ABE', 'ANA',\n",
       "       'BEL', 'BLI', 'BLA', 'BWA', 'CUR', 'DVL', 'EVE', 'FER', 'FRI',\n",
       "       'FWA', 'KLM', 'LAU', 'LON', 'MET', 'MWH', 'NEA', 'NIG', 'OLY',\n",
       "       'ORO', 'PWB', 'PIR', 'PNG', 'PTO', 'SEA', 'SPO', 'SUM', 'TAC',\n",
       "       'PSC', 'VAN', 'AGM', 'BAY', 'GRB', 'MNW', 'MIL', 'MSN', 'CHS',\n",
       "       'CLK', 'BLF', 'CSP', 'XXX', '888', 'UNK', 'CLG', 'EDA', 'YHC',\n",
       "       'HAL', 'MON', 'OTT', 'YXE', 'TOR', 'VCV', 'VIC', 'WIN', 'AMS',\n",
       "       'ARB', 'BAN', 'BEI', 'PEK', 'BDA', 'BOG', 'EZE', 'CUN', 'CRQ',\n",
       "       'MVD', 'DUB', 'FOU', 'FBA', 'MTY', 'HMO', 'GCM', 'GDL', 'HAM',\n",
       "       'ICN', 'IWA', 'CND', 'LAH', 'DUR', 'MAL', 'MDE', 'MEX', 'LHR',\n",
       "       'NBO', 'NAS', 'NCA', 'PTY', 'SPV', 'UIO', 'RIT', 'SNO', 'SLP',\n",
       "       'SAN', 'SRO', 'GRU', 'SHA', 'HIL', 'TOK', 'VER', 'LGW', 'ZZZ',\n",
       "       'CHN', 'CNC', 'MAA', 'AG0', 'BHM', 'BHX', 'CAK', 'FOK', 'LND',\n",
       "       'MAR', 'MLI', 'RIV', 'RME', 'VNY', 'YUM', 'FRG', 'HRL', 'ISP',\n",
       "       'JSJ', 'BUS', 'IAG', 'PHN', 'STN', 'VMB', 'T01', 'PHF', 'DRV',\n",
       "       'FTB', 'GAC', 'GMT', 'JFA', 'JMZ', 'NC8', 'NYL', 'OAI', 'PCW',\n",
       "       'WA5', 'WTR', 'X96', 'XNA', 'YGF', '5T6', '060', 'SP0', 'W55',\n",
       "       'X44', 'AUH', 'RYY', 'SUS', '74S', 'ATW', 'CPX', 'MTH', 'PFN',\n",
       "       'SCH', 'ASI', 'BKF', 'DAY', 'Y62', 'AG', 'BCM', 'DEC', 'PLB',\n",
       "       'CXO', 'JBQ', 'JIG', 'OGS', 'TIW', 'OTS', 'AMT', 'EGE', 'GPI',\n",
       "       'NGL', 'OLM', '.GA', 'CLX', 'CP ', 'FSC', 'NK', 'ADU', 'AKT',\n",
       "       'LIT', 'A2A', 'OSN'], dtype=object)"
      ]
     },
     "execution_count": 17,
     "metadata": {},
     "output_type": "execute_result"
    }
   ],
   "source": [
    "i94ports_df.toPandas()['valid_code'].unique()"
   ]
  },
  {
   "cell_type": "code",
   "execution_count": 18,
   "metadata": {
    "editable": true
   },
   "outputs": [
    {
     "data": {
      "text/plain": [
       "660"
      ]
     },
     "execution_count": 18,
     "metadata": {},
     "output_type": "execute_result"
    }
   ],
   "source": [
    "len(i94ports_df.toPandas()['valid_code'].unique())"
   ]
  },
  {
   "cell_type": "code",
   "execution_count": 19,
   "metadata": {
    "editable": true
   },
   "outputs": [],
   "source": [
    "rmdir(Path(\"i94ports_sas_label_validation\"))\n",
    "i94ports_df.write.options(header='True', delimiter=',').csv(\"i94ports_sas_label_validation\")\n",
    "# i94ports_df.write.mode('overwrite').csv(\"i94ports_sas_label_validation\")"
   ]
  },
  {
   "cell_type": "markdown",
   "metadata": {
    "editable": true
   },
   "source": [
    "### Staging cleaned `I94PORTS` from saved csv partitions"
   ]
  },
  {
   "cell_type": "code",
   "execution_count": null,
   "metadata": {
    "editable": true
   },
   "outputs": [],
   "source": [
    "# Read out from csv partitions to staging dataframe\n",
    "i94ports_df = spark.read.options(inferSchema=\"true\", delimiter=\",\", header = \"true\").csv(\"i94ports_sas_label_validation\")"
   ]
  },
  {
   "cell_type": "code",
   "execution_count": null,
   "metadata": {
    "editable": true
   },
   "outputs": [],
   "source": [
    "# Verify loaded dataframe\n",
    "i94ports_df.show()"
   ]
  },
  {
   "cell_type": "code",
   "execution_count": null,
   "metadata": {
    "editable": true
   },
   "outputs": [],
   "source": [
    "# Create table from dataframe\n",
    "i94ports_df.createOrReplaceTempView('i94ports_table')"
   ]
  },
  {
   "cell_type": "code",
   "execution_count": null,
   "metadata": {
    "editable": true
   },
   "outputs": [],
   "source": [
    "# Verify created table will be using for staging\n",
    "spark.sql(\"\"\"\n",
    "    SELECT COUNT(*) as amount_i94ports_rows\n",
    "    FROM i94ports_table\n",
    "\"\"\").show()"
   ]
  },
  {
   "cell_type": "markdown",
   "metadata": {
    "editable": true
   },
   "source": [
    "### Extract validation values from `I94ADDR` label"
   ]
  },
  {
   "cell_type": "code",
   "execution_count": 20,
   "metadata": {
    "editable": true
   },
   "outputs": [],
   "source": [
    "i94addr_df = spark.createDataFrame(\n",
    "        data=get_validation_code_from_SAS_labels('I94ADDR'),\n",
    "        schema=schema\n",
    ")"
   ]
  },
  {
   "cell_type": "code",
   "execution_count": 21,
   "metadata": {
    "editable": true
   },
   "outputs": [
    {
     "name": "stdout",
     "output_type": "stream",
     "text": [
      "+----------+-----------------+\n",
      "|valid_code|      valid_value|\n",
      "+----------+-----------------+\n",
      "|        AL|          ALABAMA|\n",
      "|        AK|           ALASKA|\n",
      "|        AZ|          ARIZONA|\n",
      "|        AR|         ARKANSAS|\n",
      "|        CA|       CALIFORNIA|\n",
      "|        CO|         COLORADO|\n",
      "|        CT|      CONNECTICUT|\n",
      "|        DE|         DELAWARE|\n",
      "|        DC|DIST. OF COLUMBIA|\n",
      "|        FL|          FLORIDA|\n",
      "|        GA|          GEORGIA|\n",
      "|        GU|             GUAM|\n",
      "|        HI|           HAWAII|\n",
      "|        ID|            IDAHO|\n",
      "|        IL|         ILLINOIS|\n",
      "|        IN|          INDIANA|\n",
      "|        IA|             IOWA|\n",
      "|        KS|           KANSAS|\n",
      "|        KY|         KENTUCKY|\n",
      "|        LA|        LOUISIANA|\n",
      "+----------+-----------------+\n",
      "only showing top 20 rows\n",
      "\n"
     ]
    }
   ],
   "source": [
    "i94addr_df.show()"
   ]
  },
  {
   "cell_type": "code",
   "execution_count": 22,
   "metadata": {
    "editable": true
   },
   "outputs": [
    {
     "data": {
      "text/plain": [
       "55"
      ]
     },
     "execution_count": 22,
     "metadata": {},
     "output_type": "execute_result"
    }
   ],
   "source": [
    "i94addr_df.count()"
   ]
  },
  {
   "cell_type": "code",
   "execution_count": 23,
   "metadata": {
    "editable": true
   },
   "outputs": [
    {
     "data": {
      "text/plain": [
       "array(['AL', 'AK', 'AZ', 'AR', 'CA', 'CO', 'CT', 'DE', 'DC', 'FL', 'GA',\n",
       "       'GU', 'HI', 'ID', 'IL', 'IN', 'IA', 'KS', 'KY', 'LA', 'ME', 'MD',\n",
       "       'MA', 'MI', 'MN', 'MS', 'MO', 'MT', 'NC', 'ND', 'NE', 'NV', 'NH',\n",
       "       'NJ', 'NM', 'NY', 'OH', 'OK', 'OR', 'PA', 'PR', 'RI', 'SC', 'SD',\n",
       "       'TN', 'TX', 'UT', 'VT', 'VI', 'VA', 'WV', 'WA', 'WI', 'WY', '99'],\n",
       "      dtype=object)"
      ]
     },
     "execution_count": 23,
     "metadata": {},
     "output_type": "execute_result"
    }
   ],
   "source": [
    "i94addr_df.toPandas()['valid_code'].unique()"
   ]
  },
  {
   "cell_type": "code",
   "execution_count": 24,
   "metadata": {
    "editable": true
   },
   "outputs": [
    {
     "data": {
      "text/plain": [
       "55"
      ]
     },
     "execution_count": 24,
     "metadata": {},
     "output_type": "execute_result"
    }
   ],
   "source": [
    "len(i94addr_df.toPandas()['valid_code'].unique())"
   ]
  },
  {
   "cell_type": "code",
   "execution_count": 25,
   "metadata": {
    "editable": true
   },
   "outputs": [],
   "source": [
    "rmdir(Path(\"i94addr_sas_label_validation\"))\n",
    "i94addr_df.write.options(header='True', delimiter=',').csv(\"i94addr_sas_label_validation\")\n",
    "# i94addr_df.write.mode('overwrite').csv(\"i94addr_sas_label_validation\")"
   ]
  },
  {
   "cell_type": "markdown",
   "metadata": {
    "editable": true
   },
   "source": [
    "### Staging cleaned `I94ADDR` from saved csv partitions"
   ]
  },
  {
   "cell_type": "code",
   "execution_count": null,
   "metadata": {
    "editable": true
   },
   "outputs": [],
   "source": [
    "# Read out from csv partitions to staging dataframe\n",
    "i94addr_df = spark.read.options(inferSchema=\"true\", delimiter=\",\", header = \"true\").csv(\"i94addr_sas_label_validation\")"
   ]
  },
  {
   "cell_type": "code",
   "execution_count": null,
   "metadata": {
    "editable": true
   },
   "outputs": [],
   "source": [
    "# Verify loaded dataframe\n",
    "i94addr_df.show()"
   ]
  },
  {
   "cell_type": "code",
   "execution_count": null,
   "metadata": {
    "editable": true
   },
   "outputs": [],
   "source": [
    "# Create table from dataframe\n",
    "i94addr_df.createOrReplaceTempView('i94addr_table')"
   ]
  },
  {
   "cell_type": "code",
   "execution_count": null,
   "metadata": {
    "editable": true
   },
   "outputs": [],
   "source": [
    "# Verify created table will be using for staging\n",
    "spark.sql(\"\"\"\n",
    "    SELECT COUNT(*) as amount_i94addr_rows\n",
    "    FROM i94addr_table\n",
    "\"\"\").show()"
   ]
  },
  {
   "cell_type": "markdown",
   "metadata": {
    "editable": true
   },
   "source": [
    "### Extract validation values from `I94MODE` label"
   ]
  },
  {
   "cell_type": "code",
   "execution_count": 26,
   "metadata": {
    "editable": true
   },
   "outputs": [],
   "source": [
    "i94mode_df = spark.createDataFrame(\n",
    "        data=get_validation_code_from_SAS_labels('I94MODE'),\n",
    "        schema=schema\n",
    ")"
   ]
  },
  {
   "cell_type": "code",
   "execution_count": 27,
   "metadata": {
    "editable": true
   },
   "outputs": [
    {
     "name": "stdout",
     "output_type": "stream",
     "text": [
      "+----------+------------+\n",
      "|valid_code| valid_value|\n",
      "+----------+------------+\n",
      "|         1|         Air|\n",
      "|         2|         Sea|\n",
      "|         3|        Land|\n",
      "|         9|Not reported|\n",
      "+----------+------------+\n",
      "\n"
     ]
    }
   ],
   "source": [
    "i94mode_df.show()"
   ]
  },
  {
   "cell_type": "code",
   "execution_count": 28,
   "metadata": {
    "editable": true
   },
   "outputs": [
    {
     "data": {
      "text/plain": [
       "4"
      ]
     },
     "execution_count": 28,
     "metadata": {},
     "output_type": "execute_result"
    }
   ],
   "source": [
    "i94mode_df.count()"
   ]
  },
  {
   "cell_type": "code",
   "execution_count": 29,
   "metadata": {
    "editable": true
   },
   "outputs": [
    {
     "data": {
      "text/plain": [
       "array(['1', '2', '3', '9'], dtype=object)"
      ]
     },
     "execution_count": 29,
     "metadata": {},
     "output_type": "execute_result"
    }
   ],
   "source": [
    "i94mode_df.toPandas()['valid_code'].unique()"
   ]
  },
  {
   "cell_type": "code",
   "execution_count": 30,
   "metadata": {
    "editable": true
   },
   "outputs": [
    {
     "data": {
      "text/plain": [
       "4"
      ]
     },
     "execution_count": 30,
     "metadata": {},
     "output_type": "execute_result"
    }
   ],
   "source": [
    "len(i94mode_df.toPandas()['valid_code'].unique())"
   ]
  },
  {
   "cell_type": "code",
   "execution_count": 31,
   "metadata": {
    "editable": true
   },
   "outputs": [],
   "source": [
    "rmdir(Path(\"i94mode_sas_label_validation\"))\n",
    "i94mode_df.write.options(header='True', delimiter=',').csv(\"i94mode_sas_label_validation\")\n",
    "# i94mode_df.write.mode('overwrite').csv(\"i94mode_sas_label_validation\")"
   ]
  },
  {
   "cell_type": "markdown",
   "metadata": {
    "editable": true
   },
   "source": [
    "### Staging cleaned `I94MODE` from saved csv partitions"
   ]
  },
  {
   "cell_type": "code",
   "execution_count": null,
   "metadata": {
    "editable": true
   },
   "outputs": [],
   "source": [
    "# Read out from csv partitions to staging dataframe\n",
    "i94mode_df = spark.read.options(inferSchema=\"true\", delimiter=\",\", header = \"true\").csv(\"i94mode_sas_label_validation\")"
   ]
  },
  {
   "cell_type": "code",
   "execution_count": null,
   "metadata": {
    "editable": true
   },
   "outputs": [],
   "source": [
    "# Verify loaded dataframe\n",
    "i94mode_df.show()"
   ]
  },
  {
   "cell_type": "code",
   "execution_count": null,
   "metadata": {
    "editable": true
   },
   "outputs": [],
   "source": [
    "# Create table from dataframe\n",
    "i94mode_df.createOrReplaceTempView('i94mode_table')"
   ]
  },
  {
   "cell_type": "code",
   "execution_count": null,
   "metadata": {
    "editable": true
   },
   "outputs": [],
   "source": [
    "# Verify created table will be using for staging\n",
    "spark.sql(\"\"\"\n",
    "    SELECT COUNT(*) as amount_i94mode_rows\n",
    "    FROM i94mode_table\n",
    "\"\"\").show()"
   ]
  },
  {
   "cell_type": "markdown",
   "metadata": {
    "editable": true
   },
   "source": [
    "### Extract validation values from `I94VISA` label"
   ]
  },
  {
   "cell_type": "code",
   "execution_count": 32,
   "metadata": {
    "editable": true
   },
   "outputs": [],
   "source": [
    "i94visa_df = spark.createDataFrame(\n",
    "        data=get_validation_code_from_SAS_labels('I94VISA'),\n",
    "        schema=schema\n",
    ")"
   ]
  },
  {
   "cell_type": "code",
   "execution_count": 33,
   "metadata": {
    "editable": true
   },
   "outputs": [
    {
     "name": "stdout",
     "output_type": "stream",
     "text": [
      "+----------+-----------+\n",
      "|valid_code|valid_value|\n",
      "+----------+-----------+\n",
      "|         1|   Business|\n",
      "|         2|   Pleasure|\n",
      "|         3|    Student|\n",
      "+----------+-----------+\n",
      "\n"
     ]
    }
   ],
   "source": [
    "i94visa_df.show()"
   ]
  },
  {
   "cell_type": "code",
   "execution_count": 34,
   "metadata": {
    "editable": true
   },
   "outputs": [
    {
     "data": {
      "text/plain": [
       "3"
      ]
     },
     "execution_count": 34,
     "metadata": {},
     "output_type": "execute_result"
    }
   ],
   "source": [
    "i94visa_df.count()"
   ]
  },
  {
   "cell_type": "code",
   "execution_count": 35,
   "metadata": {
    "editable": true
   },
   "outputs": [
    {
     "data": {
      "text/plain": [
       "array(['1', '2', '3'], dtype=object)"
      ]
     },
     "execution_count": 35,
     "metadata": {},
     "output_type": "execute_result"
    }
   ],
   "source": [
    "i94visa_df.toPandas()['valid_code'].unique()"
   ]
  },
  {
   "cell_type": "code",
   "execution_count": 36,
   "metadata": {
    "editable": true
   },
   "outputs": [
    {
     "data": {
      "text/plain": [
       "3"
      ]
     },
     "execution_count": 36,
     "metadata": {},
     "output_type": "execute_result"
    }
   ],
   "source": [
    "len(i94visa_df.toPandas()['valid_code'].unique())"
   ]
  },
  {
   "cell_type": "code",
   "execution_count": 37,
   "metadata": {
    "editable": true
   },
   "outputs": [],
   "source": [
    "rmdir(Path(\"i94visa_sas_label_validation\"))\n",
    "i94visa_df.write.options(header='True', delimiter=',').csv(\"i94visa_sas_label_validation\")\n",
    "# i94visa_df.write.mode('overwrite').csv(\"i94visa_sas_label_validation\")"
   ]
  },
  {
   "cell_type": "markdown",
   "metadata": {
    "editable": true
   },
   "source": [
    "### Staging cleaned `I94VISA` from saved csv partitions"
   ]
  },
  {
   "cell_type": "code",
   "execution_count": 75,
   "metadata": {
    "editable": true
   },
   "outputs": [],
   "source": [
    "# Read out from csv partitions to staging dataframe\n",
    "i94visa_df = spark.read.options(inferSchema=\"true\", delimiter=\",\", header = \"true\").csv(\"i94visa_sas_label_validation\")"
   ]
  },
  {
   "cell_type": "code",
   "execution_count": 72,
   "metadata": {
    "editable": true
   },
   "outputs": [
    {
     "name": "stdout",
     "output_type": "stream",
     "text": [
      "+----------+-----------+\n",
      "|valid_code|valid_value|\n",
      "+----------+-----------+\n",
      "|         1|   Business|\n",
      "|         2|   Pleasure|\n",
      "|         3|    Student|\n",
      "+----------+-----------+\n",
      "\n"
     ]
    }
   ],
   "source": [
    "# Verify loaded dataframe\n",
    "i94visa_df.show()"
   ]
  },
  {
   "cell_type": "code",
   "execution_count": 73,
   "metadata": {
    "editable": true
   },
   "outputs": [],
   "source": [
    "# Create table from dataframe\n",
    "i94visa_df.createOrReplaceTempView('i94visa_table')"
   ]
  },
  {
   "cell_type": "code",
   "execution_count": 74,
   "metadata": {
    "editable": true
   },
   "outputs": [
    {
     "name": "stdout",
     "output_type": "stream",
     "text": [
      "+-------------------+\n",
      "|amount_i94visa_rows|\n",
      "+-------------------+\n",
      "|                  3|\n",
      "+-------------------+\n",
      "\n"
     ]
    }
   ],
   "source": [
    "# Verify created table will be using for staging\n",
    "spark.sql(\"\"\"\n",
    "    SELECT COUNT(*) as amount_i94visa_rows\n",
    "    FROM i94visa_table\n",
    "\"\"\").show()"
   ]
  },
  {
   "cell_type": "code",
   "execution_count": null,
   "metadata": {
    "editable": true
   },
   "outputs": [],
   "source": []
  },
  {
   "cell_type": "code",
   "execution_count": null,
   "metadata": {
    "editable": true
   },
   "outputs": [],
   "source": []
  },
  {
   "cell_type": "code",
   "execution_count": null,
   "metadata": {
    "editable": true
   },
   "outputs": [],
   "source": []
  }
 ],
 "metadata": {
  "kernelspec": {
   "display_name": "Python 3",
   "language": "python",
   "name": "python3"
  },
  "language_info": {
   "codemirror_mode": {
    "name": "ipython",
    "version": 3
   },
   "file_extension": ".py",
   "mimetype": "text/x-python",
   "name": "python",
   "nbconvert_exporter": "python",
   "pygments_lexer": "ipython3",
   "version": "3.6.3"
  },
  "vscode": {
   "interpreter": {
    "hash": "6f19dfd6b1cd7fd360d4f2c4802461aa893d068ea99183b3eab6718091575a5a"
   }
  }
 },
 "nbformat": 4,
 "nbformat_minor": 4
}
