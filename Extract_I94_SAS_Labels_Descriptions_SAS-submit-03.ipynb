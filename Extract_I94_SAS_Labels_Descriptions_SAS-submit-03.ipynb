{
 "cells": [
  {
   "cell_type": "code",
   "execution_count": 9,
   "metadata": {
    "editable": true
   },
   "outputs": [],
   "source": [
    "# Do all imports and installs here - Done\n",
    "from pyspark.sql import SparkSession\n",
    "from pyspark.sql.functions import udf\n",
    "import pandas as pd\n",
    "import re\n",
    "import configparser\n",
    "import os\n",
    "from pyspark.sql.types import StructType as R, StructField as Fld,\\\n",
    "    DoubleType as Dbl, StringType as Str, IntegerType as Int,\\\n",
    "    TimestampType as Timestamp, DateType as Date, LongType as Long\n",
    "from pathlib import Path"
   ]
  },
  {
   "cell_type": "code",
   "execution_count": 10,
   "metadata": {},
   "outputs": [],
   "source": [
    "# Run on production version\n",
    "spark = SparkSession.builder\\\n",
    "            .config(\"spark.jars.repositories\", \"https://repos.spark-packages.org/\")\\\n",
    "            .config(\"spark.jars.packages\", \"saurfang:spark-sas7bdat:2.0.0-s_2.11\")\\\n",
    "            .enableHiveSupport()\\\n",
    "            .getOrCreate()"
   ]
  },
  {
   "cell_type": "markdown",
   "metadata": {},
   "source": [
    "### Procedure extracts validation pair values from SAS Labels Description"
   ]
  },
  {
   "cell_type": "code",
   "execution_count": 11,
   "metadata": {},
   "outputs": [],
   "source": [
    "def get_validation_code_from_SAS_labels(sas_input_label):\n",
    "    '''\n",
    "    This procedure read a input SAS Labels Description and then write out validation code datasets.\n",
    "    The SAS Labels Description included validation code datasets with labels: I94RES (same to I94CIT), I94PORT, I94ADDR, I94MODE, I94VISA.\n",
    "    \n",
    "    Parameters\n",
    "    ----------\n",
    "    sas_input_label : string\n",
    "        The label name of validation code dataset. Its can be one of I94RES (same to I94CIT), I94PORT, I94ADDR, I94MODE, I94VISA.\n",
    "    \n",
    "    Returns\n",
    "    -------\n",
    "    validation_code_list : validation_value_pairs(tuple(str_valid_code, str_valid_value))\n",
    "        The return output is a specific SAS label list of validation code value pairs.\n",
    "    '''\n",
    "\n",
    "    # Read input SAS Labels Descriptions\n",
    "    with open('I94_SAS_Labels_Descriptions.SAS') as sas_validation_code:\n",
    "            labels_from_sas = sas_validation_code.read()\n",
    "\n",
    "    # Parse labels from SAS Label Description input\n",
    "    sas_labels = labels_from_sas[labels_from_sas.index(sas_input_label):]\n",
    "    sas_labels = sas_labels[:sas_labels.index(';')]\n",
    "    \n",
    "    # Processing line by line, remove separate charaters and then append value pair\n",
    "    lines = sas_labels.splitlines()\n",
    "    validation_code_list = []\n",
    "    for line in lines:\n",
    "        try:\n",
    "            valid_code, valid_value = line.split('=')\n",
    "            valid_code = valid_code.strip().strip(\"'\").strip('\"')\n",
    "            valid_value = valid_value.strip().strip(\"'\").strip('\"').strip()\n",
    "            validation_code_list.append((valid_code, valid_value))\n",
    "        except:\n",
    "            pass\n",
    "        \n",
    "    return validation_code_list"
   ]
  },
  {
   "cell_type": "code",
   "execution_count": 12,
   "metadata": {},
   "outputs": [],
   "source": [
    "def rmdir(directory):\n",
    "    '''\n",
    "    This procedure perform pure recursive a directory.\n",
    "    \n",
    "    Parameters\n",
    "    ----------\n",
    "    directory : string_of_path_to_dir\n",
    "        The input directory is a path to target dir. This dir and all its belong child objects wil be deleted.\n",
    "        Syntax note: rmdir(Path(\"target_path_to_dir\"))\n",
    "            with Path(\"target_path_to_dir\") returns path to dir format as 'directory' input\n",
    "    \n",
    "    Returns\n",
    "    -------\n",
    "    None\n",
    "    '''\n",
    "    directory = Path(directory)\n",
    "    for item in directory.iterdir():\n",
    "        if item.is_dir():\n",
    "            rmdir(item)\n",
    "        else:\n",
    "            item.unlink()\n",
    "    directory.rmdir()"
   ]
  },
  {
   "cell_type": "markdown",
   "metadata": {},
   "source": [
    "### `I94RES` label - Extract validation values from 'SAS_Labels_Descriptions.SAS'"
   ]
  },
  {
   "cell_type": "code",
   "execution_count": 15,
   "metadata": {},
   "outputs": [],
   "source": [
    "# Schema for validation value and code pairs\n",
    "i94res_schema = R([\n",
    "        Fld(\"i94res_valid_code\", Str()),\n",
    "        Fld(\"i94res_valid_value\", Str())\n",
    "    ])"
   ]
  },
  {
   "cell_type": "code",
   "execution_count": 16,
   "metadata": {},
   "outputs": [],
   "source": [
    "i94res_df = spark.createDataFrame(\n",
    "        data=get_validation_code_from_SAS_labels('I94RES'),\n",
    "        schema=i94res_schema\n",
    ")"
   ]
  },
  {
   "cell_type": "code",
   "execution_count": 17,
   "metadata": {},
   "outputs": [
    {
     "name": "stdout",
     "output_type": "stream",
     "text": [
      "+-----------------+--------------------+\n",
      "|i94res_valid_code|  i94res_valid_value|\n",
      "+-----------------+--------------------+\n",
      "|              582|MEXICO Air Sea, a...|\n",
      "|              236|         AFGHANISTAN|\n",
      "|              101|             ALBANIA|\n",
      "|              316|             ALGERIA|\n",
      "|              102|             ANDORRA|\n",
      "|              324|              ANGOLA|\n",
      "|              529|            ANGUILLA|\n",
      "|              518|     ANTIGUA-BARBUDA|\n",
      "|              687|           ARGENTINA|\n",
      "|              151|             ARMENIA|\n",
      "|              532|               ARUBA|\n",
      "|              438|           AUSTRALIA|\n",
      "|              103|             AUSTRIA|\n",
      "|              152|          AZERBAIJAN|\n",
      "|              512|             BAHAMAS|\n",
      "|              298|             BAHRAIN|\n",
      "|              274|          BANGLADESH|\n",
      "|              513|            BARBADOS|\n",
      "|              104|             BELGIUM|\n",
      "|              581|              BELIZE|\n",
      "+-----------------+--------------------+\n",
      "only showing top 20 rows\n",
      "\n"
     ]
    }
   ],
   "source": [
    "i94res_df.show()"
   ]
  },
  {
   "cell_type": "code",
   "execution_count": 18,
   "metadata": {},
   "outputs": [
    {
     "data": {
      "text/plain": [
       "289"
      ]
     },
     "execution_count": 18,
     "metadata": {},
     "output_type": "execute_result"
    }
   ],
   "source": [
    "i94res_df.count()"
   ]
  },
  {
   "cell_type": "code",
   "execution_count": 24,
   "metadata": {},
   "outputs": [
    {
     "ename": "AttributeError",
     "evalue": "'NoneType' object has no attribute 'show'",
     "output_type": "error",
     "traceback": [
      "\u001b[1;31m---------------------------------------------------------------------------\u001b[0m",
      "\u001b[1;31mAttributeError\u001b[0m                            Traceback (most recent call last)",
      "Cell \u001b[1;32mIn [24], line 1\u001b[0m\n\u001b[1;32m----> 1\u001b[0m i94res_df\u001b[39m.\u001b[39;49mtoPandas()[\u001b[39m'\u001b[39;49m\u001b[39mi94res_valid_code\u001b[39;49m\u001b[39m'\u001b[39;49m]\u001b[39m.\u001b[39;49munique()\u001b[39m.\u001b[39;49msort()\u001b[39m.\u001b[39;49mshow()\n",
      "\u001b[1;31mAttributeError\u001b[0m: 'NoneType' object has no attribute 'show'"
     ]
    }
   ],
   "source": [
    "i94res_df.toPandas()['i94res_valid_code'].unique().sort()"
   ]
  },
  {
   "cell_type": "code",
   "execution_count": 84,
   "metadata": {},
   "outputs": [
    {
     "data": {
      "text/plain": [
       "289"
      ]
     },
     "execution_count": 84,
     "metadata": {},
     "output_type": "execute_result"
    }
   ],
   "source": [
    "len(i94res_df.toPandas()['i94res_valid_code'].unique())"
   ]
  },
  {
   "cell_type": "code",
   "execution_count": 94,
   "metadata": {},
   "outputs": [],
   "source": [
    "rmdir(Path(\"i94res_sas_label_validation\"))\n",
    "i94res_df.write.options(header='True', delimiter=',').csv(\"i94res_sas_label_validation\")\n",
    "# i94res_df.write.mode('overwrite').csv(\"i94res_sas_label_validation\")"
   ]
  },
  {
   "cell_type": "markdown",
   "metadata": {},
   "source": [
    "### `I94RES` label - Staging cleaned dataset from saved csv partitions"
   ]
  },
  {
   "cell_type": "code",
   "execution_count": null,
   "metadata": {},
   "outputs": [],
   "source": [
    "# Read out from csv partitions to staging dataframe\n",
    "i94res_df = spark.read.options(inferSchema=\"true\", delimiter=\",\", header = \"true\").csv(\"i94res_sas_label_validation\")"
   ]
  },
  {
   "cell_type": "code",
   "execution_count": null,
   "metadata": {},
   "outputs": [],
   "source": [
    "# Verify loaded dataframe\n",
    "i94res_df.show()"
   ]
  },
  {
   "cell_type": "code",
   "execution_count": null,
   "metadata": {},
   "outputs": [],
   "source": [
    "# Create table from dataframe\n",
    "i94res_df.createOrReplaceTempView('i94res_table')"
   ]
  },
  {
   "cell_type": "code",
   "execution_count": null,
   "metadata": {},
   "outputs": [],
   "source": [
    "# Verify created table will be using for staging\n",
    "spark.sql(\"\"\"\n",
    "    SELECT COUNT(*) as amount_i94res_rows\n",
    "    FROM i94res_table\n",
    "\"\"\").show()"
   ]
  },
  {
   "cell_type": "markdown",
   "metadata": {},
   "source": [
    "### `I94PORTS` label - Extract validation values from 'SAS_Labels_Descriptions.SAS'"
   ]
  },
  {
   "cell_type": "code",
   "execution_count": null,
   "metadata": {},
   "outputs": [],
   "source": [
    "# Schema for validation value and code pairs. This schema is using for all labels of SAS Labels Description\n",
    "i94ports_schema = R([\n",
    "        Fld(\"i94ports_valid_code\", Str()),\n",
    "        Fld(\"i94ports_valid_value\", Str())\n",
    "    ])"
   ]
  },
  {
   "cell_type": "code",
   "execution_count": 11,
   "metadata": {},
   "outputs": [],
   "source": [
    "i94ports_df = spark.createDataFrame(\n",
    "        data=get_validation_code_from_SAS_labels('I94PORT'),\n",
    "        schema=i94ports_schema\n",
    ")"
   ]
  },
  {
   "cell_type": "code",
   "execution_count": 12,
   "metadata": {},
   "outputs": [
    {
     "name": "stdout",
     "output_type": "stream",
     "text": [
      "+----------+--------------------+\n",
      "|valid_code|         valid_value|\n",
      "+----------+--------------------+\n",
      "|       ALC|           ALCAN, AK|\n",
      "|       ANC|       ANCHORAGE, AK|\n",
      "|       BAR|BAKER AAF - BAKER...|\n",
      "|       DAC|   DALTONS CACHE, AK|\n",
      "|       PIZ|DEW STATION PT LA...|\n",
      "|       DTH|    DUTCH HARBOR, AK|\n",
      "|       EGL|           EAGLE, AK|\n",
      "|       FRB|       FAIRBANKS, AK|\n",
      "|       HOM|           HOMER, AK|\n",
      "|       HYD|           HYDER, AK|\n",
      "|       JUN|          JUNEAU, AK|\n",
      "|       5KE|       KETCHIKAN, AK|\n",
      "|       KET|       KETCHIKAN, AK|\n",
      "|       MOS|MOSES POINT INTER...|\n",
      "|       NIK|         NIKISKI, AK|\n",
      "|       NOM|             NOM, AK|\n",
      "|       PKC|     POKER CREEK, AK|\n",
      "|       ORI|  PORT LIONS SPB, AK|\n",
      "|       SKA|         SKAGWAY, AK|\n",
      "|       SNP| ST. PAUL ISLAND, AK|\n",
      "+----------+--------------------+\n",
      "only showing top 20 rows\n",
      "\n"
     ]
    }
   ],
   "source": [
    "i94ports_df.show()"
   ]
  },
  {
   "cell_type": "code",
   "execution_count": 16,
   "metadata": {},
   "outputs": [
    {
     "data": {
      "text/plain": [
       "660"
      ]
     },
     "execution_count": 16,
     "metadata": {},
     "output_type": "execute_result"
    }
   ],
   "source": [
    "i94ports_df.count()"
   ]
  },
  {
   "cell_type": "code",
   "execution_count": 8,
   "metadata": {},
   "outputs": [
    {
     "ename": "NameError",
     "evalue": "name 'i94ports_df' is not defined",
     "output_type": "error",
     "traceback": [
      "\u001b[1;31m---------------------------------------------------------------------------\u001b[0m",
      "\u001b[1;31mNameError\u001b[0m                                 Traceback (most recent call last)",
      "Cell \u001b[1;32mIn [8], line 1\u001b[0m\n\u001b[1;32m----> 1\u001b[0m i94ports_df\u001b[39m.\u001b[39mtoPandas()[\u001b[39m'\u001b[39m\u001b[39mvalid_code\u001b[39m\u001b[39m'\u001b[39m]\u001b[39m.\u001b[39munique()\u001b[39m.\u001b[39msum()\n",
      "\u001b[1;31mNameError\u001b[0m: name 'i94ports_df' is not defined"
     ]
    }
   ],
   "source": [
    "i94ports_df.toPandas()['i94ports_valid_code'].unique()"
   ]
  },
  {
   "cell_type": "code",
   "execution_count": 18,
   "metadata": {},
   "outputs": [
    {
     "data": {
      "text/plain": [
       "660"
      ]
     },
     "execution_count": 18,
     "metadata": {},
     "output_type": "execute_result"
    }
   ],
   "source": [
    "len(i94ports_df.toPandas()['i94ports_valid_code'].unique())"
   ]
  },
  {
   "cell_type": "code",
   "execution_count": 19,
   "metadata": {},
   "outputs": [],
   "source": [
    "rmdir(Path(\"i94ports_sas_label_validation\"))\n",
    "i94ports_df.write.options(header='True', delimiter=',').csv(\"i94ports_sas_label_validation\")\n",
    "# i94ports_df.write.mode('overwrite').csv(\"i94ports_sas_label_validation\")"
   ]
  },
  {
   "cell_type": "markdown",
   "metadata": {},
   "source": [
    "### `I94PORTS` label - Staging cleaned dataset from saved csv partitions"
   ]
  },
  {
   "cell_type": "code",
   "execution_count": null,
   "metadata": {},
   "outputs": [],
   "source": [
    "# Read out from csv partitions to staging dataframe\n",
    "i94ports_df = spark.read.options(inferSchema=\"true\", delimiter=\",\", header = \"true\").csv(\"i94ports_sas_label_validation\")"
   ]
  },
  {
   "cell_type": "code",
   "execution_count": null,
   "metadata": {},
   "outputs": [],
   "source": [
    "# Verify loaded dataframe\n",
    "i94ports_df.show()"
   ]
  },
  {
   "cell_type": "code",
   "execution_count": null,
   "metadata": {},
   "outputs": [],
   "source": [
    "# Create table from dataframe\n",
    "i94ports_df.createOrReplaceTempView('i94ports_table')"
   ]
  },
  {
   "cell_type": "code",
   "execution_count": null,
   "metadata": {},
   "outputs": [],
   "source": [
    "# Verify created table will be using for staging\n",
    "spark.sql(\"\"\"\n",
    "    SELECT COUNT(*) as amount_i94ports_rows\n",
    "    FROM i94ports_table\n",
    "\"\"\").show()"
   ]
  },
  {
   "cell_type": "markdown",
   "metadata": {},
   "source": [
    "### `I94ADDR` label - Extract validation values from 'SAS_Labels_Descriptions.SAS'"
   ]
  },
  {
   "cell_type": "code",
   "execution_count": null,
   "metadata": {},
   "outputs": [],
   "source": [
    "# Schema for validation value and code pairs. This schema is using for all labels of SAS Labels Description\n",
    "i94addr_schema = R([\n",
    "        Fld(\"i94addr_valid_code\", Str()),\n",
    "        Fld(\"i94addr_valid_value\", Str())\n",
    "    ])"
   ]
  },
  {
   "cell_type": "code",
   "execution_count": 20,
   "metadata": {},
   "outputs": [],
   "source": [
    "i94addr_df = spark.createDataFrame(\n",
    "        data=get_validation_code_from_SAS_labels('I94ADDR'),\n",
    "        schema=i94addr_schema\n",
    ")"
   ]
  },
  {
   "cell_type": "code",
   "execution_count": 21,
   "metadata": {},
   "outputs": [
    {
     "name": "stdout",
     "output_type": "stream",
     "text": [
      "+----------+-----------------+\n",
      "|valid_code|      valid_value|\n",
      "+----------+-----------------+\n",
      "|        AL|          ALABAMA|\n",
      "|        AK|           ALASKA|\n",
      "|        AZ|          ARIZONA|\n",
      "|        AR|         ARKANSAS|\n",
      "|        CA|       CALIFORNIA|\n",
      "|        CO|         COLORADO|\n",
      "|        CT|      CONNECTICUT|\n",
      "|        DE|         DELAWARE|\n",
      "|        DC|DIST. OF COLUMBIA|\n",
      "|        FL|          FLORIDA|\n",
      "|        GA|          GEORGIA|\n",
      "|        GU|             GUAM|\n",
      "|        HI|           HAWAII|\n",
      "|        ID|            IDAHO|\n",
      "|        IL|         ILLINOIS|\n",
      "|        IN|          INDIANA|\n",
      "|        IA|             IOWA|\n",
      "|        KS|           KANSAS|\n",
      "|        KY|         KENTUCKY|\n",
      "|        LA|        LOUISIANA|\n",
      "+----------+-----------------+\n",
      "only showing top 20 rows\n",
      "\n"
     ]
    }
   ],
   "source": [
    "i94addr_df.show()"
   ]
  },
  {
   "cell_type": "code",
   "execution_count": 22,
   "metadata": {},
   "outputs": [
    {
     "data": {
      "text/plain": [
       "55"
      ]
     },
     "execution_count": 22,
     "metadata": {},
     "output_type": "execute_result"
    }
   ],
   "source": [
    "i94addr_df.count()"
   ]
  },
  {
   "cell_type": "code",
   "execution_count": 23,
   "metadata": {},
   "outputs": [
    {
     "data": {
      "text/plain": [
       "array(['AL', 'AK', 'AZ', 'AR', 'CA', 'CO', 'CT', 'DE', 'DC', 'FL', 'GA',\n",
       "       'GU', 'HI', 'ID', 'IL', 'IN', 'IA', 'KS', 'KY', 'LA', 'ME', 'MD',\n",
       "       'MA', 'MI', 'MN', 'MS', 'MO', 'MT', 'NC', 'ND', 'NE', 'NV', 'NH',\n",
       "       'NJ', 'NM', 'NY', 'OH', 'OK', 'OR', 'PA', 'PR', 'RI', 'SC', 'SD',\n",
       "       'TN', 'TX', 'UT', 'VT', 'VI', 'VA', 'WV', 'WA', 'WI', 'WY', '99'],\n",
       "      dtype=object)"
      ]
     },
     "execution_count": 23,
     "metadata": {},
     "output_type": "execute_result"
    }
   ],
   "source": [
    "i94addr_df.toPandas()['i94addr_valid_code'].unique()"
   ]
  },
  {
   "cell_type": "code",
   "execution_count": 24,
   "metadata": {},
   "outputs": [
    {
     "data": {
      "text/plain": [
       "55"
      ]
     },
     "execution_count": 24,
     "metadata": {},
     "output_type": "execute_result"
    }
   ],
   "source": [
    "len(i94addr_df.toPandas()['i94addr_valid_code'].unique())"
   ]
  },
  {
   "cell_type": "code",
   "execution_count": 25,
   "metadata": {},
   "outputs": [],
   "source": [
    "rmdir(Path(\"i94addr_sas_label_validation\"))\n",
    "i94addr_df.write.options(header='True', delimiter=',').csv(\"i94addr_sas_label_validation\")\n",
    "# i94addr_df.write.mode('overwrite').csv(\"i94addr_sas_label_validation\")"
   ]
  },
  {
   "cell_type": "markdown",
   "metadata": {},
   "source": [
    "### `I94ADDR` label - Staging cleaned dataset from saved csv partitions"
   ]
  },
  {
   "cell_type": "code",
   "execution_count": null,
   "metadata": {},
   "outputs": [],
   "source": [
    "# Read out from csv partitions to staging dataframe\n",
    "i94addr_df = spark.read.options(inferSchema=\"true\", delimiter=\",\", header = \"true\").csv(\"i94addr_sas_label_validation\")"
   ]
  },
  {
   "cell_type": "code",
   "execution_count": null,
   "metadata": {},
   "outputs": [],
   "source": [
    "# Verify loaded dataframe\n",
    "i94addr_df.show()"
   ]
  },
  {
   "cell_type": "code",
   "execution_count": null,
   "metadata": {},
   "outputs": [],
   "source": [
    "# Create table from dataframe\n",
    "i94addr_df.createOrReplaceTempView('i94addr_table')"
   ]
  },
  {
   "cell_type": "code",
   "execution_count": null,
   "metadata": {},
   "outputs": [],
   "source": [
    "# Verify created table will be using for staging\n",
    "spark.sql(\"\"\"\n",
    "    SELECT COUNT(*) as amount_i94addr_rows\n",
    "    FROM i94addr_table\n",
    "\"\"\").show()"
   ]
  },
  {
   "cell_type": "markdown",
   "metadata": {},
   "source": [
    "### `I94MODE` label - Extract validation values from 'SAS_Labels_Descriptions.SAS'"
   ]
  },
  {
   "cell_type": "code",
   "execution_count": null,
   "metadata": {},
   "outputs": [],
   "source": [
    "# Schema for validation value and code pairs. This schema is using for all labels of SAS Labels Description\n",
    "i94mode_schema = R([\n",
    "        Fld(\"i94mode_valid_code\", Str()),\n",
    "        Fld(\"i94mode_valid_value\", Str())\n",
    "    ])"
   ]
  },
  {
   "cell_type": "code",
   "execution_count": 26,
   "metadata": {},
   "outputs": [],
   "source": [
    "i94mode_df = spark.createDataFrame(\n",
    "        data=get_validation_code_from_SAS_labels('I94MODE'),\n",
    "        schema=i94mode_schema\n",
    ")"
   ]
  },
  {
   "cell_type": "code",
   "execution_count": 27,
   "metadata": {},
   "outputs": [
    {
     "name": "stdout",
     "output_type": "stream",
     "text": [
      "+----------+------------+\n",
      "|valid_code| valid_value|\n",
      "+----------+------------+\n",
      "|         1|         Air|\n",
      "|         2|         Sea|\n",
      "|         3|        Land|\n",
      "|         9|Not reported|\n",
      "+----------+------------+\n",
      "\n"
     ]
    }
   ],
   "source": [
    "i94mode_df.show()"
   ]
  },
  {
   "cell_type": "code",
   "execution_count": 28,
   "metadata": {},
   "outputs": [
    {
     "data": {
      "text/plain": [
       "4"
      ]
     },
     "execution_count": 28,
     "metadata": {},
     "output_type": "execute_result"
    }
   ],
   "source": [
    "i94mode_df.count()"
   ]
  },
  {
   "cell_type": "code",
   "execution_count": 29,
   "metadata": {},
   "outputs": [
    {
     "data": {
      "text/plain": [
       "array(['1', '2', '3', '9'], dtype=object)"
      ]
     },
     "execution_count": 29,
     "metadata": {},
     "output_type": "execute_result"
    }
   ],
   "source": [
    "i94mode_df.toPandas()['i94mode_valid_code'].unique()"
   ]
  },
  {
   "cell_type": "code",
   "execution_count": 30,
   "metadata": {},
   "outputs": [
    {
     "data": {
      "text/plain": [
       "4"
      ]
     },
     "execution_count": 30,
     "metadata": {},
     "output_type": "execute_result"
    }
   ],
   "source": [
    "len(i94mode_df.toPandas()['i94mode_valid_code'].unique())"
   ]
  },
  {
   "cell_type": "code",
   "execution_count": 31,
   "metadata": {},
   "outputs": [],
   "source": [
    "rmdir(Path(\"i94mode_sas_label_validation\"))\n",
    "i94mode_df.write.options(header='True', delimiter=',').csv(\"i94mode_sas_label_validation\")\n",
    "# i94mode_df.write.mode('overwrite').csv(\"i94mode_sas_label_validation\")"
   ]
  },
  {
   "cell_type": "markdown",
   "metadata": {},
   "source": [
    "### `I94MODE` label - Staging cleaned dataset from saved csv partitions"
   ]
  },
  {
   "cell_type": "code",
   "execution_count": null,
   "metadata": {},
   "outputs": [],
   "source": [
    "# Read out from csv partitions to staging dataframe\n",
    "i94mode_df = spark.read.options(inferSchema=\"true\", delimiter=\",\", header = \"true\").csv(\"i94mode_sas_label_validation\")"
   ]
  },
  {
   "cell_type": "code",
   "execution_count": null,
   "metadata": {},
   "outputs": [],
   "source": [
    "# Verify loaded dataframe\n",
    "i94mode_df.show()"
   ]
  },
  {
   "cell_type": "code",
   "execution_count": null,
   "metadata": {},
   "outputs": [],
   "source": [
    "# Create table from dataframe\n",
    "i94mode_df.createOrReplaceTempView('i94mode_table')"
   ]
  },
  {
   "cell_type": "code",
   "execution_count": null,
   "metadata": {},
   "outputs": [],
   "source": [
    "# Verify created table will be using for staging\n",
    "spark.sql(\"\"\"\n",
    "    SELECT COUNT(*) as amount_i94mode_rows\n",
    "    FROM i94mode_table\n",
    "\"\"\").show()"
   ]
  },
  {
   "cell_type": "markdown",
   "metadata": {},
   "source": [
    "### `I94VISA` label - Extract validation values from 'SAS_Labels_Descriptions.SAS'"
   ]
  },
  {
   "cell_type": "code",
   "execution_count": null,
   "metadata": {},
   "outputs": [],
   "source": [
    "# Schema for validation value and code pairs. This schema is using for all labels of SAS Labels Description\n",
    "i94visa_schema = R([\n",
    "        Fld(\"i94visa_valid_code\", Str()),\n",
    "        Fld(\"i94visa_valid_value\", Str())\n",
    "    ])"
   ]
  },
  {
   "cell_type": "code",
   "execution_count": 32,
   "metadata": {},
   "outputs": [],
   "source": [
    "i94visa_df = spark.createDataFrame(\n",
    "        data=get_validation_code_from_SAS_labels('I94VISA'),\n",
    "        schema=i94visa_schema\n",
    ")"
   ]
  },
  {
   "cell_type": "code",
   "execution_count": 33,
   "metadata": {},
   "outputs": [
    {
     "name": "stdout",
     "output_type": "stream",
     "text": [
      "+----------+-----------+\n",
      "|valid_code|valid_value|\n",
      "+----------+-----------+\n",
      "|         1|   Business|\n",
      "|         2|   Pleasure|\n",
      "|         3|    Student|\n",
      "+----------+-----------+\n",
      "\n"
     ]
    }
   ],
   "source": [
    "i94visa_df.show()"
   ]
  },
  {
   "cell_type": "code",
   "execution_count": 34,
   "metadata": {},
   "outputs": [
    {
     "data": {
      "text/plain": [
       "3"
      ]
     },
     "execution_count": 34,
     "metadata": {},
     "output_type": "execute_result"
    }
   ],
   "source": [
    "i94visa_df.count()"
   ]
  },
  {
   "cell_type": "code",
   "execution_count": 35,
   "metadata": {},
   "outputs": [
    {
     "data": {
      "text/plain": [
       "array(['1', '2', '3'], dtype=object)"
      ]
     },
     "execution_count": 35,
     "metadata": {},
     "output_type": "execute_result"
    }
   ],
   "source": [
    "i94visa_df.toPandas()['i94visa_valid_code'].unique()"
   ]
  },
  {
   "cell_type": "code",
   "execution_count": 36,
   "metadata": {},
   "outputs": [
    {
     "data": {
      "text/plain": [
       "3"
      ]
     },
     "execution_count": 36,
     "metadata": {},
     "output_type": "execute_result"
    }
   ],
   "source": [
    "len(i94visa_df.toPandas()['i94visa_valid_code'].unique())"
   ]
  },
  {
   "cell_type": "code",
   "execution_count": 37,
   "metadata": {},
   "outputs": [],
   "source": [
    "rmdir(Path(\"i94visa_sas_label_validation\"))\n",
    "i94visa_df.write.options(header='True', delimiter=',').csv(\"i94visa_sas_label_validation\")\n",
    "# i94visa_df.write.mode('overwrite').csv(\"i94visa_sas_label_validation\")"
   ]
  },
  {
   "cell_type": "markdown",
   "metadata": {},
   "source": [
    "### `I94VISA` label - Staging cleaned dataset from saved csv partitions"
   ]
  },
  {
   "cell_type": "code",
   "execution_count": 75,
   "metadata": {},
   "outputs": [],
   "source": [
    "# Read out from csv partitions to staging dataframe\n",
    "i94visa_df = spark.read.options(inferSchema=\"true\", delimiter=\",\", header = \"true\").csv(\"i94visa_sas_label_validation\")"
   ]
  },
  {
   "cell_type": "code",
   "execution_count": 72,
   "metadata": {},
   "outputs": [
    {
     "name": "stdout",
     "output_type": "stream",
     "text": [
      "+----------+-----------+\n",
      "|valid_code|valid_value|\n",
      "+----------+-----------+\n",
      "|         1|   Business|\n",
      "|         2|   Pleasure|\n",
      "|         3|    Student|\n",
      "+----------+-----------+\n",
      "\n"
     ]
    }
   ],
   "source": [
    "# Verify loaded dataframe\n",
    "i94visa_df.show()"
   ]
  },
  {
   "cell_type": "code",
   "execution_count": 73,
   "metadata": {},
   "outputs": [],
   "source": [
    "# Create table from dataframe\n",
    "i94visa_df.createOrReplaceTempView('i94visa_table')"
   ]
  },
  {
   "cell_type": "code",
   "execution_count": 74,
   "metadata": {},
   "outputs": [
    {
     "name": "stdout",
     "output_type": "stream",
     "text": [
      "+-------------------+\n",
      "|amount_i94visa_rows|\n",
      "+-------------------+\n",
      "|                  3|\n",
      "+-------------------+\n",
      "\n"
     ]
    }
   ],
   "source": [
    "# Verify created table will be using for staging\n",
    "spark.sql(\"\"\"\n",
    "    SELECT COUNT(*) as amount_i94visa_rows\n",
    "    FROM i94visa_table\n",
    "\"\"\").show()"
   ]
  },
  {
   "cell_type": "code",
   "execution_count": null,
   "metadata": {},
   "outputs": [],
   "source": []
  },
  {
   "cell_type": "code",
   "execution_count": null,
   "metadata": {},
   "outputs": [],
   "source": []
  },
  {
   "cell_type": "code",
   "execution_count": null,
   "metadata": {},
   "outputs": [],
   "source": []
  }
 ],
 "metadata": {
  "kernelspec": {
   "display_name": "Python 3.10.8 ('project5')",
   "language": "python",
   "name": "python3"
  },
  "language_info": {
   "codemirror_mode": {
    "name": "ipython",
    "version": 3
   },
   "file_extension": ".py",
   "mimetype": "text/x-python",
   "name": "python",
   "nbconvert_exporter": "python",
   "pygments_lexer": "ipython3",
   "version": "3.10.8"
  },
  "vscode": {
   "interpreter": {
    "hash": "6f19dfd6b1cd7fd360d4f2c4802461aa893d068ea99183b3eab6718091575a5a"
   }
  }
 },
 "nbformat": 4,
 "nbformat_minor": 4
}
