{
 "cells": [
  {
   "cell_type": "code",
   "execution_count": 1,
   "metadata": {
    "editable": true
   },
   "outputs": [],
   "source": [
    "# Do all imports and installs here - Done\n",
    "from pyspark.sql import SparkSession\n",
    "import pyspark.sql.functions as F\n",
    "from pyspark.sql.functions import col, udf\n",
    "from pyspark.sql.types import StructType as R, StructField as Fld,\\\n",
    "    DoubleType as Dbl, StringType as Str, IntegerType as Int,\\\n",
    "    TimestampType as Timestamp, DateType as Date, LongType as Long\n",
    "from pyspark.sql.types import DoubleType\n",
    "from pyspark.sql.types import DateType\n",
    "import pandas as pd\n",
    "import re\n",
    "import configparser\n",
    "import os\n",
    "import shutil\n",
    "from pathlib import Path\n",
    "from datetime import datetime"
   ]
  },
  {
   "cell_type": "code",
   "execution_count": 2,
   "metadata": {
    "editable": true
   },
   "outputs": [],
   "source": [
    "os.environ[\"JAVA_HOME\"] = \"/usr/lib/jvm/java-8-openjdk-amd64\"\n",
    "os.environ[\"PATH\"] = \"/opt/conda/bin:/opt/spark-2.4.3-bin-hadoop2.7/bin:/opt/conda/bin:/usr/local/sbin:/usr/local/bin:/usr/sbin:/usr/bin:/sbin:/bin:/usr/lib/jvm/java-8-openjdk-amd64/bin\"\n",
    "os.environ[\"SPARK_HOME\"] = \"/opt/spark-2.4.3-bin-hadoop2.7\"\n",
    "os.environ[\"HADOOP_HOME\"] = \"/opt/spark-2.4.3-bin-hadoop2.7\"\n",
    "config = configparser.ConfigParser()\n",
    "config.read('etl.cfg')\n",
    "\n",
    "os.environ[\"AWS_ACCESS_KEY_ID\"] = config['AWS']['AWS_ACCESS_KEY_ID']\n",
    "os.environ[\"AWS_SECRET_ACCESS_KEY\"] = config['AWS']['AWS_SECRET_ACCESS_KEY']\n",
    "AWS_ACCESS_KEY_ID = config['AWS']['AWS_ACCESS_KEY_ID']\n",
    "AWS_SECRET_ACCESS_KEY = config['AWS']['AWS_SECRET_ACCESS_KEY']\n",
    "\n",
    "\n",
    "spark = SparkSession.builder\\\n",
    "        .config(\"spark.jars.repositories\", \"https://repos.spark-packages.org/\")\\\n",
    "        .config(\"spark.jars.packages\", \"org.apache.hadoop:hadoop-aws:2.7.0,saurfang:spark-sas7bdat:2.0.0-s_2.11\")\\\n",
    "        .config(\"spark.hadoop.fs.s3a.access.key\",AWS_ACCESS_KEY_ID)\\\n",
    "        .config(\"spark.hadoop.fs.s3a.secret.key\",AWS_SECRET_ACCESS_KEY)\\\n",
    "        .enableHiveSupport().getOrCreate()"
   ]
  },
  {
   "cell_type": "markdown",
   "metadata": {
    "editable": true
   },
   "source": [
    "Our expectations with datasets from data modeling fact&dim tables:\n",
    "- Relationship between amount of travel immigration and weather duration by month of city.\n",
    "- Relationship between specific visa type used for a specific city immigration.\n",
    "- Airline statistic traffic to specific city.\n",
    "- Ranking US immigration volume from other countries"
   ]
  },
  {
   "cell_type": "markdown",
   "metadata": {
    "editable": true
   },
   "source": [
    "Explain the data quality checks you'll perform to ensure the pipeline ran as expected. These could include:\n",
    "\n",
    "* Integrity constraints on the relational database (e.g., unique key, data type, etc.).\n",
    "* Unit tests for the scripts to ensure they are doing the right thing.\n",
    "* Source/Count checks to ensure completeness.\n",
    "\n",
    "Run Quality Checks"
   ]
  },
  {
   "cell_type": "code",
   "execution_count": 3,
   "metadata": {
    "editable": true
   },
   "outputs": [],
   "source": [
    "# List of parquet files of fact & dim tables\n",
    "parquet_outputs = './ws_parquet_outputs'\n",
    "\n",
    "dim_i94addr_dir = './ws_parquet_outputs/dim_i94addr.parquet'\n",
    "dim_i94port_dir = './ws_parquet_outputs/dim_i94port.parquet'\n",
    "dim_immi_flight_dir = './ws_parquet_outputs/dim_immi_flight.parquet'\n",
    "dim_immi_travaller_dir = './ws_parquet_outputs/dim_immi_travaller.parquet'\n",
    "dim_visa_dir = './ws_parquet_outputs/dim_visa.parquet'\n",
    "dim_visa_dir = './ws_parquet_outputs/dim_visa.parquet'\n",
    "fact_i94immi_dir = './ws_parquet_outputs/fact_i94immi.parquet'\n",
    "fact_worldtempe_dir = './ws_parquet_outputs/fact_worldtempe.parquet'"
   ]
  },
  {
   "cell_type": "markdown",
   "metadata": {
    "editable": true
   },
   "source": [
    "#### fact_i94immi quality check"
   ]
  },
  {
   "cell_type": "code",
   "execution_count": 53,
   "metadata": {
    "editable": true
   },
   "outputs": [],
   "source": [
    "fact_i94immi_df = spark.read.parquet(fact_i94immi_dir)"
   ]
  },
  {
   "cell_type": "code",
   "execution_count": 54,
   "metadata": {
    "editable": true
   },
   "outputs": [
    {
     "data": {
      "text/plain": [
       "[('travel_cicid', 'double'),\n",
       " ('from_country_code', 'double'),\n",
       " ('immi_country_code', 'double'),\n",
       " ('arrival_port_code', 'string'),\n",
       " ('immi_arrival_date', 'timestamp'),\n",
       " ('arrival_year', 'int'),\n",
       " ('arrival_month', 'int'),\n",
       " ('airline_mode_code', 'double'),\n",
       " ('immi_state_code', 'string'),\n",
       " ('departure_date', 'timestamp'),\n",
       " ('traveller_age', 'double'),\n",
       " ('visatype_by_number', 'double'),\n",
       " ('traveller_birth_year', 'double'),\n",
       " ('traveller_sex', 'string'),\n",
       " ('immi_flight_code', 'string'),\n",
       " ('visatype_by_code', 'string'),\n",
       " ('visa_type', 'string')]"
      ]
     },
     "execution_count": 54,
     "metadata": {},
     "output_type": "execute_result"
    }
   ],
   "source": [
    "fact_i94immi_df.dtypes"
   ]
  },
  {
   "cell_type": "code",
   "execution_count": 55,
   "metadata": {
    "editable": true
   },
   "outputs": [
    {
     "name": "stdout",
     "output_type": "stream",
     "text": [
      "+------------+-----------------+-----------------+-----------------+-------------------+------------+-------------+-----------------+---------------+-------------------+-------------+------------------+--------------------+-------------+----------------+----------------+---------+\n",
      "|travel_cicid|from_country_code|immi_country_code|arrival_port_code|  immi_arrival_date|arrival_year|arrival_month|airline_mode_code|immi_state_code|     departure_date|traveller_age|visatype_by_number|traveller_birth_year|traveller_sex|immi_flight_code|visatype_by_code|visa_type|\n",
      "+------------+-----------------+-----------------+-----------------+-------------------+------------+-------------+-----------------+---------------+-------------------+-------------+------------------+--------------------+-------------+----------------+----------------+---------+\n",
      "|   5748517.0|            245.0|            438.0|              LOS|2016-04-30 00:00:00|        2016|            4|              1.0|             CA|2016-05-08 00:00:00|         40.0|               1.0|              1976.0|            F|           00011|              B1| Business|\n",
      "|   5748518.0|            245.0|            438.0|              LOS|2016-04-30 00:00:00|        2016|            4|              1.0|             NV|2016-05-17 00:00:00|         32.0|               1.0|              1984.0|            F|           00007|              B1| Business|\n",
      "|   5748519.0|            245.0|            438.0|              LOS|2016-04-30 00:00:00|        2016|            4|              1.0|             WA|2016-05-08 00:00:00|         29.0|               1.0|              1987.0|            M|           00040|              B1| Business|\n",
      "+------------+-----------------+-----------------+-----------------+-------------------+------------+-------------+-----------------+---------------+-------------------+-------------+------------------+--------------------+-------------+----------------+----------------+---------+\n",
      "only showing top 3 rows\n",
      "\n"
     ]
    }
   ],
   "source": [
    "fact_i94immi_df.show(3)"
   ]
  },
  {
   "cell_type": "code",
   "execution_count": 56,
   "metadata": {
    "editable": true
   },
   "outputs": [
    {
     "data": {
      "text/plain": [
       "2377896"
      ]
     },
     "execution_count": 56,
     "metadata": {},
     "output_type": "execute_result"
    }
   ],
   "source": [
    "fact_i94immi_df.count()"
   ]
  },
  {
   "cell_type": "code",
   "execution_count": 57,
   "metadata": {
    "editable": true
   },
   "outputs": [
    {
     "data": {
      "text/plain": [
       "2377896"
      ]
     },
     "execution_count": 57,
     "metadata": {},
     "output_type": "execute_result"
    }
   ],
   "source": [
    "# Verify 'travel_cicid' as primarykey\n",
    "fact_i94immi_df.select(['travel_cicid']).distinct().count()"
   ]
  },
  {
   "cell_type": "code",
   "execution_count": 58,
   "metadata": {
    "editable": true
   },
   "outputs": [],
   "source": [
    "fact_i94immi_df.createOrReplaceTempView('fact_i94immi')"
   ]
  },
  {
   "cell_type": "code",
   "execution_count": 59,
   "metadata": {
    "editable": true
   },
   "outputs": [
    {
     "name": "stdout",
     "output_type": "stream",
     "text": [
      "+------------+-----------------+-----------------+-----------------+-------------------+------------+-------------+-----------------+---------------+-------------------+-------------+------------------+--------------------+-------------+----------------+----------------+---------+\n",
      "|travel_cicid|from_country_code|immi_country_code|arrival_port_code|  immi_arrival_date|arrival_year|arrival_month|airline_mode_code|immi_state_code|     departure_date|traveller_age|visatype_by_number|traveller_birth_year|traveller_sex|immi_flight_code|visatype_by_code|visa_type|\n",
      "+------------+-----------------+-----------------+-----------------+-------------------+------------+-------------+-----------------+---------------+-------------------+-------------+------------------+--------------------+-------------+----------------+----------------+---------+\n",
      "|   5748517.0|            245.0|            438.0|              LOS|2016-04-30 00:00:00|        2016|            4|              1.0|             CA|2016-05-08 00:00:00|         40.0|               1.0|              1976.0|            F|           00011|              B1| Business|\n",
      "|   5748518.0|            245.0|            438.0|              LOS|2016-04-30 00:00:00|        2016|            4|              1.0|             NV|2016-05-17 00:00:00|         32.0|               1.0|              1984.0|            F|           00007|              B1| Business|\n",
      "|   5748519.0|            245.0|            438.0|              LOS|2016-04-30 00:00:00|        2016|            4|              1.0|             WA|2016-05-08 00:00:00|         29.0|               1.0|              1987.0|            M|           00040|              B1| Business|\n",
      "+------------+-----------------+-----------------+-----------------+-------------------+------------+-------------+-----------------+---------------+-------------------+-------------+------------------+--------------------+-------------+----------------+----------------+---------+\n",
      "only showing top 3 rows\n",
      "\n"
     ]
    }
   ],
   "source": [
    "# Check query select *\n",
    "spark.sql(\"\"\"\n",
    "        SELECT *\n",
    "        FROM fact_i94immi\n",
    "    \"\"\").show(3)"
   ]
  },
  {
   "cell_type": "code",
   "execution_count": 60,
   "metadata": {
    "editable": true
   },
   "outputs": [
    {
     "name": "stdout",
     "output_type": "stream",
     "text": [
      "+----------------+-----+-----------------+\n",
      "|immigration_city|state|count_immigration|\n",
      "+----------------+-----+-----------------+\n",
      "|             LOS|   CA|        5749653.0|\n",
      "|             CHI|   CA|        5749741.0|\n",
      "|             NYC|   NJ|        5750147.0|\n",
      "|             DAL|   IL|        5750527.0|\n",
      "|             DAL|   TX|        5750563.0|\n",
      "|             SAI|   MP|        5750824.0|\n",
      "|             HHW|   HI|        5751186.0|\n",
      "|             HHW|   HI|        5751326.0|\n",
      "|             HHW|   HI|        5751380.0|\n",
      "|             HHW|   HI|        5751467.0|\n",
      "+----------------+-----+-----------------+\n",
      "only showing top 10 rows\n",
      "\n"
     ]
    }
   ],
   "source": [
    "# Check query immigration traffic by city\n",
    "spark.sql(\"\"\"\n",
    "        SELECT \n",
    "            arrival_port_code as immigration_city,\n",
    "            immi_state_code as state,\n",
    "            travel_cicid as count_immigration\n",
    "        FROM fact_i94immi\n",
    "        GROUP BY immigration_city, count_immigration, state\n",
    "    \"\"\").show(10)"
   ]
  },
  {
   "cell_type": "code",
   "execution_count": 61,
   "metadata": {
    "editable": true
   },
   "outputs": [
    {
     "name": "stdout",
     "output_type": "stream",
     "text": [
      "+----+-----+-----------------+\n",
      "|year|month|count_immigration|\n",
      "+----+-----+-----------------+\n",
      "|2016|    4|        5748522.0|\n",
      "|2016|    4|        5749622.0|\n",
      "|2016|    4|        5749755.0|\n",
      "|2016|    4|        5750351.0|\n",
      "|2016|    4|        5750521.0|\n",
      "|2016|    4|        5751193.0|\n",
      "|2016|    4|        5751414.0|\n",
      "|2016|    4|        5751432.0|\n",
      "|2016|    4|        5751713.0|\n",
      "|2016|    4|        5751716.0|\n",
      "+----+-----+-----------------+\n",
      "only showing top 10 rows\n",
      "\n"
     ]
    }
   ],
   "source": [
    "# Check query amount immigration by a month of year\n",
    "spark.sql(\"\"\"\n",
    "        SELECT \n",
    "            arrival_year as year,\n",
    "            arrival_month as month,\n",
    "            travel_cicid as count_immigration\n",
    "        FROM fact_i94immi\n",
    "        GROUP BY year, month, count_immigration\n",
    "    \"\"\").show(10)"
   ]
  },
  {
   "cell_type": "code",
   "execution_count": null,
   "metadata": {
    "editable": true
   },
   "outputs": [],
   "source": []
  },
  {
   "cell_type": "markdown",
   "metadata": {
    "editable": true
   },
   "source": [
    "#### visa_dim quality check"
   ]
  },
  {
   "cell_type": "code",
   "execution_count": 4,
   "metadata": {
    "editable": true
   },
   "outputs": [],
   "source": [
    "# dim_visa_dir = './ws_parquet_outputs/dim_visa.parquet'\n",
    "dim_visa_df = spark.read.parquet(dim_visa_dir)"
   ]
  },
  {
   "cell_type": "code",
   "execution_count": 5,
   "metadata": {
    "editable": true
   },
   "outputs": [
    {
     "data": {
      "text/plain": [
       "17"
      ]
     },
     "execution_count": 5,
     "metadata": {},
     "output_type": "execute_result"
    }
   ],
   "source": [
    "dim_visa_df.count()"
   ]
  },
  {
   "cell_type": "code",
   "execution_count": 81,
   "metadata": {
    "editable": true
   },
   "outputs": [],
   "source": [
    "dim_visa_df.createOrReplaceTempView('dim_visa')"
   ]
  },
  {
   "cell_type": "code",
   "execution_count": 83,
   "metadata": {
    "editable": true
   },
   "outputs": [],
   "source": [
    "# Create dim table\n",
    "dim_visa = spark.sql(\"\"\"\n",
    "    SELECT\n",
    "        i94visa as visatype_by_number,\n",
    "        visatype as visatype_by_code,\n",
    "        visa_type as visa_category\n",
    "    FROM dim_visa\n",
    "    \"\"\")"
   ]
  },
  {
   "cell_type": "code",
   "execution_count": 84,
   "metadata": {
    "editable": true
   },
   "outputs": [
    {
     "name": "stdout",
     "output_type": "stream",
     "text": [
      "+--------+\n",
      "|count(1)|\n",
      "+--------+\n",
      "|      17|\n",
      "+--------+\n",
      "\n"
     ]
    }
   ],
   "source": [
    "spark.sql(\"\"\"\n",
    "    SELECT COUNT(*)\n",
    "    FROM dim_visa\n",
    "    \"\"\").show()"
   ]
  },
  {
   "cell_type": "code",
   "execution_count": null,
   "metadata": {
    "editable": true
   },
   "outputs": [],
   "source": []
  },
  {
   "cell_type": "code",
   "execution_count": null,
   "metadata": {
    "editable": true
   },
   "outputs": [],
   "source": []
  },
  {
   "cell_type": "code",
   "execution_count": null,
   "metadata": {
    "editable": true
   },
   "outputs": [],
   "source": []
  },
  {
   "cell_type": "code",
   "execution_count": null,
   "metadata": {
    "editable": true
   },
   "outputs": [],
   "source": []
  },
  {
   "cell_type": "code",
   "execution_count": null,
   "metadata": {
    "editable": true
   },
   "outputs": [],
   "source": []
  },
  {
   "cell_type": "code",
   "execution_count": null,
   "metadata": {
    "editable": true
   },
   "outputs": [],
   "source": []
  },
  {
   "cell_type": "markdown",
   "metadata": {
    "editable": true
   },
   "source": [
    "#### flight_dim quality check"
   ]
  },
  {
   "cell_type": "code",
   "execution_count": 33,
   "metadata": {
    "editable": true
   },
   "outputs": [],
   "source": [
    "i94immi_cleaned_dataset = \"./i94immi_df_clean\"\n",
    "flight_df = spark.read.options(inferSchema=\"true\", delimiter=\",\", header = \"true\").csv(i94immi_cleaned_dataset)"
   ]
  },
  {
   "cell_type": "code",
   "execution_count": 34,
   "metadata": {
    "editable": true
   },
   "outputs": [
    {
     "name": "stdout",
     "output_type": "stream",
     "text": [
      "+---------+------+------+-------+-------------------+-----+------+-------+-------+-------------------+------+-------+-----+--------+-------+--------+------+------+-------+--------------+-----+--------+---------+\n",
      "|    cicid|i94cit|i94res|i94port|       arrival_date|i94yr|i94mon|i94mode|i94addr|     departure_date|i94bir|i94visa|count|dtadfile|biryear| dtaddto|gender|insnum|airline|        admnum|fltno|visatype|visa_type|\n",
      "+---------+------+------+-------+-------------------+-----+------+-------+-------+-------------------+------+-------+-----+--------+-------+--------+------+------+-------+--------------+-----+--------+---------+\n",
      "|5748517.0| 245.0| 438.0|    LOS|2016-04-30 00:00:00| 2016|     4|    1.0|     CA|2016-05-08 00:00:00|  40.0|    1.0|  1.0|20160430| 1976.0|10292016|     F|  null|     QF|9.495387003E10|00011|      B1| Business|\n",
      "|5748518.0| 245.0| 438.0|    LOS|2016-04-30 00:00:00| 2016|     4|    1.0|     NV|2016-05-17 00:00:00|  32.0|    1.0|  1.0|20160430| 1984.0|10292016|     F|  null|     VA|9.495562283E10|00007|      B1| Business|\n",
      "|5748519.0| 245.0| 438.0|    LOS|2016-04-30 00:00:00| 2016|     4|    1.0|     WA|2016-05-08 00:00:00|  29.0|    1.0|  1.0|20160430| 1987.0|10292016|     M|  null|     DL|9.495640653E10|00040|      B1| Business|\n",
      "+---------+------+------+-------+-------------------+-----+------+-------+-------+-------------------+------+-------+-----+--------+-------+--------+------+------+-------+--------------+-----+--------+---------+\n",
      "only showing top 3 rows\n",
      "\n"
     ]
    }
   ],
   "source": [
    "flight_df.show(3)"
   ]
  },
  {
   "cell_type": "code",
   "execution_count": 38,
   "metadata": {
    "editable": true
   },
   "outputs": [
    {
     "data": {
      "text/plain": [
       "2377896"
      ]
     },
     "execution_count": 38,
     "metadata": {},
     "output_type": "execute_result"
    }
   ],
   "source": [
    "flight_df.count()"
   ]
  },
  {
   "cell_type": "code",
   "execution_count": 39,
   "metadata": {
    "editable": true
   },
   "outputs": [],
   "source": [
    "flight_df = flight_df.select(['fltno', 'airline', 'i94port'])"
   ]
  },
  {
   "cell_type": "code",
   "execution_count": 40,
   "metadata": {
    "editable": true
   },
   "outputs": [
    {
     "name": "stdout",
     "output_type": "stream",
     "text": [
      "+-----+-------+-------+\n",
      "|fltno|airline|i94port|\n",
      "+-----+-------+-------+\n",
      "|00011|     QF|    LOS|\n",
      "|00007|     VA|    LOS|\n",
      "|00040|     DL|    LOS|\n",
      "+-----+-------+-------+\n",
      "only showing top 3 rows\n",
      "\n"
     ]
    }
   ],
   "source": [
    "flight_df.show(3)"
   ]
  },
  {
   "cell_type": "code",
   "execution_count": 43,
   "metadata": {
    "editable": true
   },
   "outputs": [],
   "source": [
    "flight_df = flight_df.dropDuplicates(['fltno'])"
   ]
  },
  {
   "cell_type": "code",
   "execution_count": 44,
   "metadata": {
    "editable": true
   },
   "outputs": [
    {
     "data": {
      "text/plain": [
       "6122"
      ]
     },
     "execution_count": 44,
     "metadata": {},
     "output_type": "execute_result"
    }
   ],
   "source": [
    "flight_df.count()"
   ]
  },
  {
   "cell_type": "code",
   "execution_count": 45,
   "metadata": {
    "editable": true
   },
   "outputs": [
    {
     "data": {
      "text/plain": [
       "6122"
      ]
     },
     "execution_count": 45,
     "metadata": {},
     "output_type": "execute_result"
    }
   ],
   "source": [
    "flight_df.select(['fltno']).distinct().count()"
   ]
  },
  {
   "cell_type": "code",
   "execution_count": 46,
   "metadata": {
    "editable": true
   },
   "outputs": [
    {
     "name": "stdout",
     "output_type": "stream",
     "text": [
      "+-----+-------+-------+\n",
      "|fltno|airline|i94port|\n",
      "+-----+-------+-------+\n",
      "|00332|    YNT|    MIA|\n",
      "|00456|     LH|    LOS|\n",
      "|00530|     DL|    ATL|\n",
      "|00556|     AC|    VCV|\n",
      "|02053|     UA|    AGA|\n",
      "|02070|     BA|    MIA|\n",
      "|02090|     UA|    WAS|\n",
      "|03788|     CI|    AGA|\n",
      "|04319|     YX|    MIA|\n",
      "|09120|    537|    MIA|\n",
      "|0990C|     Y4|    OAK|\n",
      "| 1159|     UA|    SFR|\n",
      "| 1512|     WS|    CLG|\n",
      "|1857C|     RV|    MON|\n",
      "| 2069|     UA|    NYC|\n",
      "| 2294|     AA|    DAL|\n",
      "|  296|     DL|    ATL|\n",
      "| 3606|     WR|    TOR|\n",
      "| 4032|     UA|    OTT|\n",
      "| 4821|     OO|    VCV|\n",
      "+-----+-------+-------+\n",
      "only showing top 20 rows\n",
      "\n"
     ]
    }
   ],
   "source": [
    "flight_df.show(20)"
   ]
  },
  {
   "cell_type": "code",
   "execution_count": 68,
   "metadata": {
    "editable": true
   },
   "outputs": [
    {
     "data": {
      "text/plain": [
       "[('visatype_by_number', 'double'),\n",
       " ('visatype_by_code', 'string'),\n",
       " ('visa_category', 'string')]"
      ]
     },
     "execution_count": 68,
     "metadata": {},
     "output_type": "execute_result"
    }
   ],
   "source": [
    "dim_visa_df.dtypes"
   ]
  },
  {
   "cell_type": "code",
   "execution_count": 64,
   "metadata": {
    "editable": true
   },
   "outputs": [
    {
     "name": "stdout",
     "output_type": "stream",
     "text": [
      "+------------------+----------------+-------------+\n",
      "|visatype_by_number|visatype_by_code|visa_category|\n",
      "+------------------+----------------+-------------+\n",
      "|               1.0|              B1|     Business|\n",
      "|               1.0|              B1|     Business|\n",
      "|               1.0|              B1|     Business|\n",
      "+------------------+----------------+-------------+\n",
      "only showing top 3 rows\n",
      "\n"
     ]
    }
   ],
   "source": [
    "dim_visa_df.show(3)"
   ]
  },
  {
   "cell_type": "code",
   "execution_count": 69,
   "metadata": {
    "editable": true
   },
   "outputs": [
    {
     "data": {
      "text/plain": [
       "2377896"
      ]
     },
     "execution_count": 69,
     "metadata": {},
     "output_type": "execute_result"
    }
   ],
   "source": [
    "dim_visa_df.count()"
   ]
  },
  {
   "cell_type": "code",
   "execution_count": 66,
   "metadata": {
    "editable": true
   },
   "outputs": [
    {
     "data": {
      "text/plain": [
       "17"
      ]
     },
     "execution_count": 66,
     "metadata": {},
     "output_type": "execute_result"
    }
   ],
   "source": [
    "# Verify 'travel_cicid' as primarykey\n",
    "dim_visa_df.select(['visatype_by_code']).distinct().count()"
   ]
  },
  {
   "cell_type": "code",
   "execution_count": null,
   "metadata": {
    "editable": true
   },
   "outputs": [],
   "source": [
    "dim_visa_df.createOrReplaceTempView('dim_visa')"
   ]
  },
  {
   "cell_type": "code",
   "execution_count": null,
   "metadata": {
    "editable": true
   },
   "outputs": [],
   "source": [
    "# Check query select *\n",
    "spark.sql(\"\"\"\n",
    "        SELECT *\n",
    "        FROM dim_visa\n",
    "    \"\"\").show(3)"
   ]
  },
  {
   "cell_type": "code",
   "execution_count": null,
   "metadata": {
    "editable": true
   },
   "outputs": [],
   "source": [
    "# Check query immigration traffic by city\n",
    "spark.sql(\"\"\"\n",
    "        SELECT \n",
    "            visa_type as visa_category,\n",
    "            visatype as visa_code,\n",
    "            i94visa as visa_category_by_number\n",
    "        FROM dim_visa\n",
    "        GROUP BY visa_category, visa_code, visa_category_by_number\n",
    "    \"\"\").show(20)"
   ]
  },
  {
   "cell_type": "code",
   "execution_count": null,
   "metadata": {
    "editable": true
   },
   "outputs": [],
   "source": []
  },
  {
   "cell_type": "markdown",
   "metadata": {
    "editable": true
   },
   "source": [
    "#### flight_dim quality check"
   ]
  },
  {
   "cell_type": "code",
   "execution_count": 33,
   "metadata": {
    "editable": true
   },
   "outputs": [],
   "source": [
    "dim_immi_flight_df = spark.read.parquet(dim_immi_flight_dir)"
   ]
  },
  {
   "cell_type": "code",
   "execution_count": null,
   "metadata": {
    "editable": true
   },
   "outputs": [],
   "source": [
    "dim_immi_flight_df.dtypes"
   ]
  },
  {
   "cell_type": "code",
   "execution_count": 46,
   "metadata": {
    "editable": true
   },
   "outputs": [
    {
     "name": "stdout",
     "output_type": "stream",
     "text": [
      "+-----+-------+-------+\n",
      "|fltno|airline|i94port|\n",
      "+-----+-------+-------+\n",
      "|00332|    YNT|    MIA|\n",
      "|00456|     LH|    LOS|\n",
      "|00530|     DL|    ATL|\n",
      "|00556|     AC|    VCV|\n",
      "|02053|     UA|    AGA|\n",
      "|02070|     BA|    MIA|\n",
      "|02090|     UA|    WAS|\n",
      "|03788|     CI|    AGA|\n",
      "|04319|     YX|    MIA|\n",
      "|09120|    537|    MIA|\n",
      "|0990C|     Y4|    OAK|\n",
      "| 1159|     UA|    SFR|\n",
      "| 1512|     WS|    CLG|\n",
      "|1857C|     RV|    MON|\n",
      "| 2069|     UA|    NYC|\n",
      "| 2294|     AA|    DAL|\n",
      "|  296|     DL|    ATL|\n",
      "| 3606|     WR|    TOR|\n",
      "| 4032|     UA|    OTT|\n",
      "| 4821|     OO|    VCV|\n",
      "+-----+-------+-------+\n",
      "only showing top 20 rows\n",
      "\n"
     ]
    }
   ],
   "source": [
    "dim_immi_flight_df.show(20)"
   ]
  },
  {
   "cell_type": "code",
   "execution_count": 38,
   "metadata": {
    "editable": true
   },
   "outputs": [
    {
     "data": {
      "text/plain": [
       "2377896"
      ]
     },
     "execution_count": 38,
     "metadata": {},
     "output_type": "execute_result"
    }
   ],
   "source": [
    "dim_immi_flight_df.count()"
   ]
  },
  {
   "cell_type": "code",
   "execution_count": 45,
   "metadata": {
    "editable": true
   },
   "outputs": [
    {
     "data": {
      "text/plain": [
       "6122"
      ]
     },
     "execution_count": 45,
     "metadata": {},
     "output_type": "execute_result"
    }
   ],
   "source": [
    "dim_immi_flight_df.select(['fltno']).distinct().count()"
   ]
  },
  {
   "cell_type": "code",
   "execution_count": null,
   "metadata": {
    "editable": true
   },
   "outputs": [],
   "source": [
    "dim_immi_flight_df.createOrReplaceTempView('dim_immi_flight')"
   ]
  },
  {
   "cell_type": "code",
   "execution_count": null,
   "metadata": {
    "editable": true
   },
   "outputs": [
    {
     "name": "stdout",
     "output_type": "stream",
     "text": [
      "+------------+----------+----------------+\n",
      "|airline_name|filight_no|destination_city|\n",
      "+------------+----------+----------------+\n",
      "|         663|     00404|             SAJ|\n",
      "|          DL|     00712|             DET|\n",
      "|          VS|     00015|             ORL|\n",
      "|         0FY|     00549|             PIE|\n",
      "|          G7|      6296|             BOS|\n",
      "|          ZX|     07290|             TOR|\n",
      "|          YV|      5682|             DAL|\n",
      "|          DL|       588|             SEA|\n",
      "|          AA|     01259|             TOR|\n",
      "|         *GA|     N12ND|             FTL|\n",
      "|          UA|        28|             NEW|\n",
      "|          UA|     03566|             TOR|\n",
      "|         *GA|     1284C|             SNA|\n",
      "|          BA|     01546|             NYC|\n",
      "|          UA|     06078|             TOR|\n",
      "|         *GA|     N175P|             ORL|\n",
      "|          AF|     00436|             HOU|\n",
      "|         *GA|     XAVMX|             LOS|\n",
      "|          9E|     04118|             SPM|\n",
      "|         *GA|     N104D|             FTL|\n",
      "+------------+----------+----------------+\n",
      "only showing top 20 rows\n",
      "\n"
     ]
    }
   ],
   "source": [
    "spark.sql(\"\"\"\n",
    "        SELECT \n",
    "            flight_brand as airline_name,\n",
    "            flight_number as filight_no,\n",
    "            airport_city as destination_city\n",
    "        FROM dim_immi_flight\n",
    "        GROUP BY destination_city, airline_name, filight_no\n",
    "    \"\"\").show(20)"
   ]
  },
  {
   "cell_type": "code",
   "execution_count": null,
   "metadata": {
    "editable": true
   },
   "outputs": [],
   "source": []
  },
  {
   "cell_type": "markdown",
   "metadata": {
    "editable": true
   },
   "source": [
    "#### traveller_dim quality check"
   ]
  },
  {
   "cell_type": "code",
   "execution_count": null,
   "metadata": {
    "editable": true
   },
   "outputs": [],
   "source": [
    "dim_immi_travaller_df = spark.read.parquet(dim_immi_travaller_dir)"
   ]
  },
  {
   "cell_type": "code",
   "execution_count": 38,
   "metadata": {
    "editable": true
   },
   "outputs": [
    {
     "data": {
      "text/plain": [
       "2377896"
      ]
     },
     "execution_count": 38,
     "metadata": {},
     "output_type": "execute_result"
    }
   ],
   "source": [
    "dim_immi_travaller_df.count()"
   ]
  },
  {
   "cell_type": "code",
   "execution_count": 49,
   "metadata": {
    "editable": true
   },
   "outputs": [
    {
     "name": "stdout",
     "output_type": "stream",
     "text": [
      "+---------+------+------+-------+-------------------+-------+-------+------+-------+------+--------+\n",
      "|    cicid|i94cit|i94res|i94port|       arrival_date|i94mode|i94addr|i94bir|biryear|gender|visatype|\n",
      "+---------+------+------+-------+-------------------+-------+-------+------+-------+------+--------+\n",
      "|5748517.0| 245.0| 438.0|    LOS|2016-04-30 00:00:00|    1.0|     CA|  40.0| 1976.0|     F|      B1|\n",
      "|5748518.0| 245.0| 438.0|    LOS|2016-04-30 00:00:00|    1.0|     NV|  32.0| 1984.0|     F|      B1|\n",
      "|5748519.0| 245.0| 438.0|    LOS|2016-04-30 00:00:00|    1.0|     WA|  29.0| 1987.0|     M|      B1|\n",
      "+---------+------+------+-------+-------------------+-------+-------+------+-------+------+--------+\n",
      "only showing top 3 rows\n",
      "\n"
     ]
    }
   ],
   "source": [
    "dim_immi_travaller_df.show(3)"
   ]
  },
  {
   "cell_type": "code",
   "execution_count": null,
   "metadata": {
    "editable": true
   },
   "outputs": [
    {
     "data": {
      "text/plain": [
       "6122"
      ]
     },
     "metadata": {},
     "output_type": "display_data"
    }
   ],
   "source": [
    "dim_immi_travaller_df.select(['cicid']).distinct().count()"
   ]
  },
  {
   "cell_type": "code",
   "execution_count": 44,
   "metadata": {
    "editable": true
   },
   "outputs": [
    {
     "data": {
      "text/plain": [
       "6122"
      ]
     },
     "execution_count": 44,
     "metadata": {},
     "output_type": "execute_result"
    }
   ],
   "source": [
    "dim_immi_travaller_df.count()"
   ]
  },
  {
   "cell_type": "code",
   "execution_count": null,
   "metadata": {
    "editable": true
   },
   "outputs": [],
   "source": [
    "dim_immi_travaller_df.createOrReplaceTempView('dim_immi_traveller')"
   ]
  },
  {
   "cell_type": "code",
   "execution_count": null,
   "metadata": {
    "editable": true
   },
   "outputs": [],
   "source": []
  },
  {
   "cell_type": "markdown",
   "metadata": {
    "editable": true
   },
   "source": [
    "#### fact_worldtempe quality check"
   ]
  },
  {
   "cell_type": "code",
   "execution_count": null,
   "metadata": {
    "editable": true
   },
   "outputs": [],
   "source": [
    "fact_worldtempe_df = spark.read.parquet(fact_worldtempe_dir)"
   ]
  },
  {
   "cell_type": "code",
   "execution_count": null,
   "metadata": {
    "editable": true
   },
   "outputs": [],
   "source": [
    "fact_worldtempe_df.dtypes"
   ]
  },
  {
   "cell_type": "code",
   "execution_count": null,
   "metadata": {
    "editable": true
   },
   "outputs": [],
   "source": [
    "fact_worldtempe_df.show(20)"
   ]
  },
  {
   "cell_type": "code",
   "execution_count": null,
   "metadata": {
    "editable": true
   },
   "outputs": [
    {
     "data": {
      "text/plain": [
       "2377896"
      ]
     },
     "metadata": {},
     "output_type": "display_data"
    }
   ],
   "source": [
    "fact_worldtempe_df.count()"
   ]
  },
  {
   "cell_type": "code",
   "execution_count": null,
   "metadata": {
    "editable": true
   },
   "outputs": [],
   "source": [
    "fact_worldtempe_df.select(['measure_date']).distinct().count()"
   ]
  },
  {
   "cell_type": "code",
   "execution_count": null,
   "metadata": {
    "editable": true
   },
   "outputs": [],
   "source": [
    "spark.sql(\"\"\"\n",
    "        SELECT \n",
    "            MAX(measure_date) as lastest_time,\n",
    "            MIN(measure_date) as oldest_time,\n",
    "        FROM fact_worldtempe\n",
    "    \"\"\").show()"
   ]
  },
  {
   "cell_type": "markdown",
   "metadata": {
    "editable": true
   },
   "source": [
    "#### dim_i94port quality check"
   ]
  },
  {
   "cell_type": "code",
   "execution_count": null,
   "metadata": {
    "editable": true
   },
   "outputs": [],
   "source": [
    "dim_i94port_df = spark.read.parquet(dim_i94port_dir)"
   ]
  },
  {
   "cell_type": "code",
   "execution_count": null,
   "metadata": {
    "editable": true
   },
   "outputs": [],
   "source": [
    "dim_i94port_df.dtypes"
   ]
  },
  {
   "cell_type": "code",
   "execution_count": null,
   "metadata": {
    "editable": true
   },
   "outputs": [
    {
     "name": "stdout",
     "output_type": "stream",
     "text": [
      "+-----+-------+-------+\n",
      "|fltno|airline|i94port|\n",
      "+-----+-------+-------+\n",
      "|00332|    YNT|    MIA|\n",
      "|00456|     LH|    LOS|\n",
      "|00530|     DL|    ATL|\n",
      "|00556|     AC|    VCV|\n",
      "|02053|     UA|    AGA|\n",
      "|02070|     BA|    MIA|\n",
      "|02090|     UA|    WAS|\n",
      "|03788|     CI|    AGA|\n",
      "|04319|     YX|    MIA|\n",
      "|09120|    537|    MIA|\n",
      "|0990C|     Y4|    OAK|\n",
      "| 1159|     UA|    SFR|\n",
      "| 1512|     WS|    CLG|\n",
      "|1857C|     RV|    MON|\n",
      "| 2069|     UA|    NYC|\n",
      "| 2294|     AA|    DAL|\n",
      "|  296|     DL|    ATL|\n",
      "| 3606|     WR|    TOR|\n",
      "| 4032|     UA|    OTT|\n",
      "| 4821|     OO|    VCV|\n",
      "+-----+-------+-------+\n",
      "only showing top 20 rows\n",
      "\n"
     ]
    }
   ],
   "source": [
    "dim_i94port_df.show(20)"
   ]
  },
  {
   "cell_type": "code",
   "execution_count": null,
   "metadata": {
    "editable": true
   },
   "outputs": [
    {
     "data": {
      "text/plain": [
       "2377896"
      ]
     },
     "metadata": {},
     "output_type": "display_data"
    }
   ],
   "source": [
    "dim_i94port_df.count()"
   ]
  },
  {
   "cell_type": "code",
   "execution_count": null,
   "metadata": {
    "editable": true
   },
   "outputs": [
    {
     "data": {
      "text/plain": [
       "6122"
      ]
     },
     "metadata": {},
     "output_type": "display_data"
    }
   ],
   "source": [
    "dim_i94port_df.select(['|I94PORT_valid_code|']).distinct().count()"
   ]
  },
  {
   "cell_type": "markdown",
   "metadata": {
    "editable": true
   },
   "source": [
    "#### dim_i94addr quality check"
   ]
  },
  {
   "cell_type": "code",
   "execution_count": null,
   "metadata": {
    "editable": true
   },
   "outputs": [],
   "source": [
    "dim_i94addr_df = spark.read.parquet(dim_i94addr_dir)"
   ]
  },
  {
   "cell_type": "code",
   "execution_count": null,
   "metadata": {
    "editable": true
   },
   "outputs": [],
   "source": [
    "dim_i94addr_df.dtypes"
   ]
  },
  {
   "cell_type": "code",
   "execution_count": null,
   "metadata": {
    "editable": true
   },
   "outputs": [
    {
     "name": "stdout",
     "output_type": "stream",
     "text": [
      "+-----+-------+-------+\n",
      "|fltno|airline|i94port|\n",
      "+-----+-------+-------+\n",
      "|00332|    YNT|    MIA|\n",
      "|00456|     LH|    LOS|\n",
      "|00530|     DL|    ATL|\n",
      "|00556|     AC|    VCV|\n",
      "|02053|     UA|    AGA|\n",
      "|02070|     BA|    MIA|\n",
      "|02090|     UA|    WAS|\n",
      "|03788|     CI|    AGA|\n",
      "|04319|     YX|    MIA|\n",
      "|09120|    537|    MIA|\n",
      "|0990C|     Y4|    OAK|\n",
      "| 1159|     UA|    SFR|\n",
      "| 1512|     WS|    CLG|\n",
      "|1857C|     RV|    MON|\n",
      "| 2069|     UA|    NYC|\n",
      "| 2294|     AA|    DAL|\n",
      "|  296|     DL|    ATL|\n",
      "| 3606|     WR|    TOR|\n",
      "| 4032|     UA|    OTT|\n",
      "| 4821|     OO|    VCV|\n",
      "+-----+-------+-------+\n",
      "only showing top 20 rows\n",
      "\n"
     ]
    }
   ],
   "source": [
    "dim_i94addr_df.show(20)"
   ]
  },
  {
   "cell_type": "code",
   "execution_count": null,
   "metadata": {
    "editable": true
   },
   "outputs": [
    {
     "data": {
      "text/plain": [
       "2377896"
      ]
     },
     "metadata": {},
     "output_type": "display_data"
    }
   ],
   "source": [
    "dim_i94addr_df.count()"
   ]
  },
  {
   "cell_type": "code",
   "execution_count": null,
   "metadata": {
    "editable": true
   },
   "outputs": [
    {
     "data": {
      "text/plain": [
       "6122"
      ]
     },
     "metadata": {},
     "output_type": "display_data"
    }
   ],
   "source": [
    "dim_i94addr_df.select(['|I94PORT_valid_code|']).distinct().count()"
   ]
  },
  {
   "cell_type": "code",
   "execution_count": null,
   "metadata": {
    "editable": true
   },
   "outputs": [],
   "source": []
  },
  {
   "cell_type": "markdown",
   "metadata": {
    "editable": true
   },
   "source": [
    "#### Verify query"
   ]
  },
  {
   "cell_type": "code",
   "execution_count": null,
   "metadata": {
    "editable": true
   },
   "outputs": [],
   "source": []
  },
  {
   "cell_type": "code",
   "execution_count": null,
   "metadata": {
    "editable": true
   },
   "outputs": [],
   "source": []
  },
  {
   "cell_type": "code",
   "execution_count": null,
   "metadata": {
    "editable": true
   },
   "outputs": [],
   "source": []
  },
  {
   "cell_type": "code",
   "execution_count": null,
   "metadata": {
    "editable": true
   },
   "outputs": [],
   "source": []
  },
  {
   "cell_type": "code",
   "execution_count": null,
   "metadata": {
    "editable": true
   },
   "outputs": [],
   "source": []
  },
  {
   "cell_type": "code",
   "execution_count": null,
   "metadata": {
    "editable": true
   },
   "outputs": [],
   "source": []
  }
 ],
 "metadata": {
  "kernelspec": {
   "display_name": "Python 3",
   "language": "python",
   "name": "python3"
  },
  "language_info": {
   "codemirror_mode": {
    "name": "ipython",
    "version": 3
   },
   "file_extension": ".py",
   "mimetype": "text/x-python",
   "name": "python",
   "nbconvert_exporter": "python",
   "pygments_lexer": "ipython3",
   "version": "3.6.3"
  },
  "vscode": {
   "interpreter": {
    "hash": "369f2c481f4da34e4445cda3fffd2e751bd1c4d706f27375911949ba6bb62e1c"
   }
  }
 },
 "nbformat": 4,
 "nbformat_minor": 4
}
