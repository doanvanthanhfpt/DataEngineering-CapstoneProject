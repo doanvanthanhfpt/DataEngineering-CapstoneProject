{
 "cells": [
  {
   "cell_type": "markdown",
   "metadata": {
    "editable": true
   },
   "source": [
    "## Data Engineering Capstone Project\n",
    "\n",
    "### Project Summary\n",
    "\n",
    "#### Introduction\n",
    "\n",
    "A core responsibility of The National Travel and Tourism Office (NTTO) is to collect, analyze, and disseminate international travel and tourism statistics. \n",
    "\n",
    "NTTO's Board of Managers are charged with managing, improving, and expanding the system to fully account and report the impact of travel and tourism in the United States. The analysis results help to forcecast and operation, support make decision creates a positive climate for growth in travel and tourism by reducing institutional barriers to tourism, administers joint marketing efforts, provides official travel and tourism statistics, and coordinates efforts across federal agencies.\n",
    "\n",
    "#### Project Description\n",
    "The target of project is analysis the relationship between amount of travel immigration and weather duration by month of city.\n",
    "\n",
    "In this project, some source datas will be use to do data modeling:\n",
    "- `I94 Immigration` The source data for I94 immigration data is available in local disk in the format of sas7bdat. This data comes from US National Tourism and Trade Office. The data dictionary is also included in this project for reference. The actual source of the data is from https://travel.trade.gov/research/reports/i94/historical/2016.html. This data is already uploaded to the workspace.\n",
    "\n",
    "- `World Temperature Data` This dataset came from Kaggle. This data is already uploaded to the workspace.\n",
    "\n",
    "- `I94_SAS_Labels_Descriptions.SAS` to get validation dataset. We will use `I94Port.txt` as list of airport, city, state.\n",
    "\n",
    "#### The project follows the follow steps:\n",
    "* Step 1: Scope the Project and Gather Data\n",
    "* Step 2: Explore and Assess the Data\n",
    "* Step 3: Define the Data Model\n",
    "* Step 4: Run ETL to Model the Data\n",
    "* Step 5: Complete Project Write Up"
   ]
  },
  {
   "attachments": {},
   "cell_type": "markdown",
   "metadata": {
    "editable": true
   },
   "source": [
    "Quick notes:\n",
    "* Python script for all ETL steps: `etl-v04c.py`\n",
    "* Python script for quality check `qualityCheck-v03.py`"
   ]
  },
  {
   "cell_type": "markdown",
   "metadata": {
    "editable": true
   },
   "source": [
    "### Step 1: Scope the Project and Gather Data"
   ]
  },
  {
   "cell_type": "markdown",
   "metadata": {
    "editable": true
   },
   "source": [
    "##### Scope "
   ]
  },
  {
   "cell_type": "markdown",
   "metadata": {
    "editable": true
   },
   "source": [
    "To make decision of project scope and the technical step solution we do data assessment on datasets:\n",
    "* `I94 Immigration`\n",
    "* `World Temperature Data`\n",
    "* `I94_SAS_Labels_Descriptions.SAS`"
   ]
  },
  {
   "cell_type": "markdown",
   "metadata": {
    "editable": true
   },
   "source": [
    "Technologies will be used:\n",
    "- Spark, Spark SQL\n",
    "- Python, Pandas\n",
    "- AWS S3"
   ]
  },
  {
   "cell_type": "markdown",
   "metadata": {
    "editable": true
   },
   "source": [
    "##### Describe and Gather Data"
   ]
  },
  {
   "cell_type": "markdown",
   "metadata": {
    "editable": true
   },
   "source": [
    "- I94 Immigration dataset:\n",
    "    - `cicid`: Visitor US cid code issue on every travller get throught the immigration port.\n",
    "    - `i94yr | i94mon`: Year, Month of immigration date.\n",
    "    - `i94cit | i94res`: Country of Citizenship & Country of recidence. From `I94_SAS_Labels_Descriptions.SAS`. Don't use.\n",
    "    - `i94port`: Port code for a specific immigration port USA city. From `I94_SAS_Labels_Descriptions.SAS`. There are types of airport that do not allow immigration entry.\n",
    "    - `arrdate | depdate`: Arrival date in the USA & Departure date from the USA.\n",
    "    - `i94mode`: Code for immigration transportation mode. From `I94_SAS_Labels_Descriptions.SAS`. There are methods of immigration transportation without airport gateway. Don't use.\n",
    "    - `i94addr`: US state code. From `I94_SAS_Labels_Descriptions.SAS`.\n",
    "    - `i94bir`: Age of traveller in Years. Don't use.\n",
    "    - `i94visa`: Code for visa type corresponse to visiting reason. Don't use.\n",
    "    - `count, tadfile, visapost, occup, entdepa, entdepd, entdepu, matflag, dtaddto, insnum`: Don't use.\n",
    "    - `biryear`: Immigrant year of birth. Have to review data type. Don't use.\n",
    "    - `gender`: Immigrant sex. There are some un-common sex kind. Don't use.\n",
    "    - `airline`: Airline Coporate used to arrive in U.S. Don't use.\n",
    "    - `admnum`: Admission Number. Don't use.\n",
    "    - `fltno`: Flight number of Airline used to arrive in U.S. Don't use.\n",
    "    - `visatype`: Class of admission legally admitting the non-immigrant to temporarily stay in U.S. Don't use.\n"
   ]
  },
  {
   "cell_type": "markdown",
   "metadata": {
    "editable": true
   },
   "source": [
    "- World Temperature dataset\n",
    "    - `dt`: The creation time of temperature.\n",
    "    - `AverageTemperature | AverageTemperatureUncertainty`: temperature value recognized.\n",
    "    - `City | Country`: City of Country that the teperature recognized.\n",
    "    - `Latitude | Longitude`: Geographical location in lat-long. Helpful for heatmap but these columns is useless in our project."
   ]
  },
  {
   "cell_type": "markdown",
   "metadata": {
    "editable": true
   },
   "source": [
    "- I94_SAS_Labels_Descriptions.SAS contains information parts:\n",
    "    - `I94PORT_sas_label_validation` (to be used later)\n",
    "        - `i94port_valid_code`: airport code.\n",
    "        - `i94port_city_name`: the city corresponding to airport code.\n",
    "        - `i94port_state_code`: the state the city belong to.\n",
    "    - `I94MODE_sas_label_validation`\n",
    "        - `i94mode_valid_code`: Immigration mode code\n",
    "        - `i94mode_valid_value`: Immigration mode value\n",
    "    - `I94VISA_sas_label_validation`\n",
    "        - `i94visa_valid_code`: Code of visa type of travaller\n",
    "        - `i94visa_valid_value`: Value of visa type of travller\n",
    "    - `I94ADDR_sas_label_validation`\n",
    "        - `i94addr_valid_code`: Immigration state code\n",
    "        - `i94addr_valid_value`: Immigration state value\n",
    "    - `I94RES_sas_label_validation`\n",
    "        - `i94res_valid_code`: The country code that traveller come from\n",
    "        - `i94res_valid_value`: The country value that traveller come from"
   ]
  },
  {
   "cell_type": "markdown",
   "metadata": {
    "editable": true
   },
   "source": [
    "The perform outputs:\n",
    "- Amount of records and data size: \n",
    "    - I94 Immigration Dataset: `3096313 rows`\n",
    "    - World Temperature Dataset: `8599212 rows`\n",
    "    - i94port SAS Labels Dataset: `660 rows`\n",
    "- Data file extension formats included: \n",
    "    - I94 Immigration Dataset is a `.sas7bdat`\n",
    "    - World Temperature Dataset is a `.csv`\n",
    "    - SAS Labels Descriptions is a `.SAS`\n",
    "\n",
    "Our choosen datesets sastify the project rubric and will be using for data modeling."
   ]
  },
  {
   "cell_type": "markdown",
   "metadata": {
    "editable": true
   },
   "source": [
    "Our expectations with datasets from data modeling fact&dim tables:\n",
    "- Relationship between amount of travel immigration and weather duration by month of city.\n",
    "- Airline statistic traffic to specific city.\n",
    "- Immigration volume to specific city."
   ]
  },
  {
   "cell_type": "markdown",
   "metadata": {
    "editable": true
   },
   "source": [
    "### Step 2: Explore and Assess the Data"
   ]
  },
  {
   "cell_type": "markdown",
   "metadata": {
    "editable": true
   },
   "source": [
    "#### Explore the Data"
   ]
  },
  {
   "cell_type": "code",
   "execution_count": 122,
   "metadata": {
    "editable": true
   },
   "outputs": [],
   "source": [
    "# Do all imports and installs here - Done\n",
    "from pyspark.sql import SparkSession\n",
    "import pyspark.sql.functions as F\n",
    "from pyspark.sql.functions import col, udf\n",
    "from pyspark.sql.types import StructType as R, StructField as Fld,\\\n",
    "    DoubleType as Dbl, StringType as Str, IntegerType as Int,\\\n",
    "    TimestampType as Timestamp, DateType as Date, LongType as Long\n",
    "from pyspark.sql.types import DoubleType\n",
    "from pyspark.sql.types import DateType\n",
    "import pandas as pd\n",
    "import re\n",
    "import configparser\n",
    "import os\n",
    "import shutil\n",
    "from pathlib import Path\n",
    "from datetime import datetime"
   ]
  },
  {
   "cell_type": "code",
   "execution_count": 123,
   "metadata": {
    "editable": true
   },
   "outputs": [],
   "source": [
    "os.environ[\"JAVA_HOME\"] = \"/usr/lib/jvm/java-8-openjdk-amd64\"\n",
    "os.environ[\"PATH\"] = \"/opt/conda/bin:/opt/spark-2.4.3-bin-hadoop2.7/bin:/opt/conda/bin:/usr/local/sbin:/usr/local/bin:/usr/sbin:/usr/bin:/sbin:/bin:/usr/lib/jvm/java-8-openjdk-amd64/bin\"\n",
    "os.environ[\"SPARK_HOME\"] = \"/opt/spark-2.4.3-bin-hadoop2.7\"\n",
    "os.environ[\"HADOOP_HOME\"] = \"/opt/spark-2.4.3-bin-hadoop2.7\"\n",
    "config = configparser.ConfigParser()\n",
    "config.read('etl.cfg')\n",
    "\n",
    "os.environ[\"AWS_ACCESS_KEY_ID\"] = config['AWS']['AWS_ACCESS_KEY_ID']\n",
    "os.environ[\"AWS_SECRET_ACCESS_KEY\"] = config['AWS']['AWS_SECRET_ACCESS_KEY']\n",
    "AWS_ACCESS_KEY_ID = config['AWS']['AWS_ACCESS_KEY_ID']\n",
    "AWS_SECRET_ACCESS_KEY = config['AWS']['AWS_SECRET_ACCESS_KEY']\n",
    "\n",
    "\n",
    "spark = SparkSession.builder\\\n",
    "        .config(\"spark.jars.repositories\", \"https://repos.spark-packages.org/\")\\\n",
    "        .config(\"spark.jars.packages\", \"org.apache.hadoop:hadoop-aws:2.7.0,saurfang:spark-sas7bdat:2.0.0-s_2.11\")\\\n",
    "        .config(\"spark.hadoop.fs.s3a.access.key\",AWS_ACCESS_KEY_ID)\\\n",
    "        .config(\"spark.hadoop.fs.s3a.secret.key\",AWS_SECRET_ACCESS_KEY)\\\n",
    "        .enableHiveSupport().getOrCreate()"
   ]
  },
  {
   "cell_type": "code",
   "execution_count": 124,
   "metadata": {
    "editable": true
   },
   "outputs": [],
   "source": [
    "# Procedure read out validation pair values from SAS Labels Description\n",
    "def get_validation_code_from_SAS_labels(sas_input_label):\n",
    "    '''\n",
    "    This procedure read a input SAS Labels Description and then write out validation code datasets.\n",
    "    The SAS Labels Description included validation code datasets with labels: I94RES (same to I94CIT), I94PORT, I94ADDR, I94MODE, I94VISA.\n",
    "    \n",
    "    Parameters\n",
    "    ----------\n",
    "    sas_input_label : string\n",
    "        The label name of validation code dataset. Its can be one of I94RES (same to I94CIT), I94PORT, I94ADDR, I94MODE, I94VISA.\n",
    "    \n",
    "    Returns\n",
    "    -------\n",
    "    validation_code_list : validation_value_pairs(tuple(str_valid_code, str_valid_value))\n",
    "        The return output is a specific SAS label list of validation code value pairs.\n",
    "    '''\n",
    "\n",
    "    # Read input SAS Labels Descriptions\n",
    "    with open('I94_SAS_Labels_Descriptions.SAS') as sas_validation_code:\n",
    "            labels_from_sas = sas_validation_code.read()\n",
    "\n",
    "    # Parse labels from SAS Label Description input\n",
    "    sas_labels = labels_from_sas[labels_from_sas.index(sas_input_label):]\n",
    "    sas_labels = sas_labels[:sas_labels.index(';')]\n",
    "    \n",
    "    # Processing line by line, remove separate charaters and then append value pair\n",
    "    lines = sas_labels.splitlines()\n",
    "    validation_code_list = []\n",
    "    for line in lines:\n",
    "        try:\n",
    "            valid_code, valid_value = line.split('=')\n",
    "            valid_code = valid_code.strip().strip(\"'\").strip('\"')\n",
    "            valid_value = valid_value.strip().strip(\"'\").strip('\"').strip()\n",
    "            validation_code_list.append((valid_code, valid_value))\n",
    "        except:\n",
    "            pass\n",
    "        \n",
    "    return validation_code_list"
   ]
  },
  {
   "cell_type": "code",
   "execution_count": 125,
   "metadata": {
    "editable": true
   },
   "outputs": [],
   "source": [
    "# Procedure extract parts from SAS Labels Description\n",
    "def extract_staging_sas_label(label):\n",
    "    '''\n",
    "    This procedure get a specific part of data dictionary from SAS_Labels_Descriptions.SAS to a schema.\n",
    "    The dictionary part include valid_code and valid_value\n",
    "    \n",
    "    Parameters\n",
    "    ----------\n",
    "    label: \n",
    "        a string input of specific label from \"SAS_Label_Descriptions.SAS\"\n",
    "        \n",
    "    Syntax note: \n",
    "        input value in string datatype, need inside a pair of single quotes. Ex: 'I94RES', 'I94PORTS'\n",
    "    \n",
    "    Returns\n",
    "    -------\n",
    "    Dir of csv files with a specific part as input label.\n",
    "    '''\n",
    "    label_name = label\n",
    "    valid_code = label + \"_valid_code\"\n",
    "    valid_value = label + \"_valid_value\"\n",
    "    csv_output = label + \"_sas_label_validation\"\n",
    "    \n",
    "    # Create dir for output\n",
    "    parent_dir = \"./\"\n",
    "    path = os.path.join(parent_dir, csv_output)\n",
    "    try:\n",
    "        os.makedirs(path, exist_ok = True)\n",
    "        print(\"Directory '%s' created successfully\" % csv_output)\n",
    "    except OSError as error:\n",
    "        print(\"Directory '%s' can not be created\" % csv_output)\n",
    "\n",
    "    # Define output dataframe structure\n",
    "    schema = R([\n",
    "        Fld(valid_code, Str()),\n",
    "        Fld(valid_value, Str())\n",
    "    ])\n",
    "\n",
    "    # Create dataframe from extracted label\n",
    "    df = spark.createDataFrame(\n",
    "        data=get_validation_code_from_SAS_labels(label_name),\n",
    "        schema=schema\n",
    "    )\n",
    "\n",
    "    # df.write.mode('overwrite').csv(csv_output)\n",
    "    shutil.rmtree(csv_output, ignore_errors=False, onerror=None)\n",
    "    df.write.options(header='True', delimiter=',').csv(csv_output)\n",
    "\n",
    "    df = spark.read.options(inferSchema=\"true\", delimiter=\",\", header = \"true\").csv(csv_output)\n",
    "\n",
    "    print(\"Top 20 rows of {} \".format(csv_output))\n",
    "    df.show()\n",
    "\n",
    "    print(\"Count rows of {}: {} \".format(csv_output, df.count()))\n",
    "    \n",
    "    print(\"Check unique value of {}: {} \".format(csv_output, df.select(valid_code).distinct().count()))\n",
    "\n",
    "    print(\"Staging csv files in: {}\".format(csv_output))\n",
    "\n",
    "    return df"
   ]
  },
  {
   "cell_type": "code",
   "execution_count": 126,
   "metadata": {
    "editable": true
   },
   "outputs": [],
   "source": [
    "# Procedure convert column name\n",
    "def convert_column_names(df):\n",
    "    '''\n",
    "    This procedure standardizing column names to snake case format. Format ex: customer_name, billing_address, total_price.\n",
    "    \n",
    "    Parameters\n",
    "    ----------\n",
    "    dataframe : string_of_dataframe\n",
    "        The input dataframe with column names might have elements of messy columns names, including accents, different delimiters, casing and multiple white spaces.\n",
    "        Snake case style replaces the white spaces and symbol delimiters with underscore and converts all characters to lower case\n",
    "    \n",
    "    Returns\n",
    "    -------\n",
    "    Dataframe with column names has been changed to snake_case format.\n",
    "    '''\n",
    "    cols = df.columns\n",
    "    column_name_changed = []\n",
    "\n",
    "    for col in cols:\n",
    "        new_column = col.lstrip().rstrip().lower().replace (\" \", \"_\").replace (\"-\", \"_\")\n",
    "        column_name_changed.append(new_column)\n",
    "\n",
    "    df.columns = column_name_changed"
   ]
  },
  {
   "cell_type": "code",
   "execution_count": 127,
   "metadata": {
    "editable": true
   },
   "outputs": [],
   "source": [
    "# Procedure remove specific dir (if need)\n",
    "def rmdir(directory):\n",
    "    '''\n",
    "    This procedure perform pure recursive a directory.\n",
    "    \n",
    "    Parameters\n",
    "    ----------\n",
    "    directory : string_of_path_to_dir\n",
    "        The input directory is a path to target dir. This dir and all its belong child objects wil be deleted.\n",
    "        Syntax note: rmdir(Path(\"target_path_to_dir\"))\n",
    "            with Path(\"target_path_to_dir\") returns path to dir format as 'directory' input\n",
    "    \n",
    "    Returns\n",
    "    -------\n",
    "    None\n",
    "    '''\n",
    "    directory = Path(directory)\n",
    "    for item in directory.iterdir():\n",
    "        if item.is_dir():\n",
    "            rmdir(item)\n",
    "        else:\n",
    "            item.unlink()\n",
    "    directory.rmdir()"
   ]
  },
  {
   "cell_type": "code",
   "execution_count": 128,
   "metadata": {
    "editable": true
   },
   "outputs": [],
   "source": [
    "# Defines procedure count data files - Done\n",
    "def get_list_of_files(dir_name):\n",
    "    # create a list of file and sub directories \n",
    "    # names in the given directory \n",
    "    listOfFile = os.listdir(dir_name)\n",
    "    allFiles = list()\n",
    "    # Iterate over all the entries\n",
    "    for entry in listOfFile:\n",
    "        # Create full path\n",
    "        fullPath = os.path.join(dir_name, entry)\n",
    "        # If entry is a directory then get the list of files in this directory \n",
    "        if os.path.isdir(fullPath):\n",
    "            allFiles = allFiles + get_list_of_files(fullPath)\n",
    "        else:\n",
    "            allFiles.append(fullPath)\n",
    "                \n",
    "    return allFiles"
   ]
  },
  {
   "cell_type": "markdown",
   "metadata": {
    "editable": true
   },
   "source": [
    "##### I94 Immigration dataset"
   ]
  },
  {
   "cell_type": "code",
   "execution_count": 129,
   "metadata": {
    "editable": true
   },
   "outputs": [],
   "source": [
    "# Read input dataset to Spark dataframe\n",
    "i94immi_raw_dataset = './sas_data'\n",
    "i94immi_df = spark.read.parquet(i94immi_raw_dataset)"
   ]
  },
  {
   "cell_type": "code",
   "execution_count": 130,
   "metadata": {
    "editable": true
   },
   "outputs": [
    {
     "data": {
      "text/plain": [
       "[('cicid', 'double'),\n",
       " ('i94yr', 'double'),\n",
       " ('i94mon', 'double'),\n",
       " ('i94cit', 'double'),\n",
       " ('i94res', 'double'),\n",
       " ('i94port', 'string'),\n",
       " ('arrdate', 'double'),\n",
       " ('i94mode', 'double'),\n",
       " ('i94addr', 'string'),\n",
       " ('depdate', 'double'),\n",
       " ('i94bir', 'double'),\n",
       " ('i94visa', 'double'),\n",
       " ('count', 'double'),\n",
       " ('dtadfile', 'string'),\n",
       " ('visapost', 'string'),\n",
       " ('occup', 'string'),\n",
       " ('entdepa', 'string'),\n",
       " ('entdepd', 'string'),\n",
       " ('entdepu', 'string'),\n",
       " ('matflag', 'string'),\n",
       " ('biryear', 'double'),\n",
       " ('dtaddto', 'string'),\n",
       " ('gender', 'string'),\n",
       " ('insnum', 'string'),\n",
       " ('airline', 'string'),\n",
       " ('admnum', 'double'),\n",
       " ('fltno', 'string'),\n",
       " ('visatype', 'string')]"
      ]
     },
     "execution_count": 130,
     "metadata": {},
     "output_type": "execute_result"
    }
   ],
   "source": [
    "# Data type\n",
    "i94immi_df.dtypes"
   ]
  },
  {
   "cell_type": "code",
   "execution_count": 131,
   "metadata": {
    "editable": true
   },
   "outputs": [
    {
     "name": "stdout",
     "output_type": "stream",
     "text": [
      "+---------+------+------+------+------+-------+-------+-------+-------+-------+------+-------+-----+--------+--------+-----+-------+-------+-------+-------+-------+--------+------+------+-------+--------------+-----+--------+\n",
      "|    cicid| i94yr|i94mon|i94cit|i94res|i94port|arrdate|i94mode|i94addr|depdate|i94bir|i94visa|count|dtadfile|visapost|occup|entdepa|entdepd|entdepu|matflag|biryear| dtaddto|gender|insnum|airline|        admnum|fltno|visatype|\n",
      "+---------+------+------+------+------+-------+-------+-------+-------+-------+------+-------+-----+--------+--------+-----+-------+-------+-------+-------+-------+--------+------+------+-------+--------------+-----+--------+\n",
      "|5748517.0|2016.0|   4.0| 245.0| 438.0|    LOS|20574.0|    1.0|     CA|20582.0|  40.0|    1.0|  1.0|20160430|     SYD| null|      G|      O|   null|      M| 1976.0|10292016|     F|  null|     QF|9.495387003E10|00011|      B1|\n",
      "|5748518.0|2016.0|   4.0| 245.0| 438.0|    LOS|20574.0|    1.0|     NV|20591.0|  32.0|    1.0|  1.0|20160430|     SYD| null|      G|      O|   null|      M| 1984.0|10292016|     F|  null|     VA|9.495562283E10|00007|      B1|\n",
      "|5748519.0|2016.0|   4.0| 245.0| 438.0|    LOS|20574.0|    1.0|     WA|20582.0|  29.0|    1.0|  1.0|20160430|     SYD| null|      G|      O|   null|      M| 1987.0|10292016|     M|  null|     DL|9.495640653E10|00040|      B1|\n",
      "|5748520.0|2016.0|   4.0| 245.0| 438.0|    LOS|20574.0|    1.0|     WA|20588.0|  29.0|    1.0|  1.0|20160430|     SYD| null|      G|      O|   null|      M| 1987.0|10292016|     F|  null|     DL|9.495645143E10|00040|      B1|\n",
      "|5748521.0|2016.0|   4.0| 245.0| 438.0|    LOS|20574.0|    1.0|     WA|20588.0|  28.0|    1.0|  1.0|20160430|     SYD| null|      G|      O|   null|      M| 1988.0|10292016|     M|  null|     DL|9.495638813E10|00040|      B1|\n",
      "+---------+------+------+------+------+-------+-------+-------+-------+-------+------+-------+-----+--------+--------+-----+-------+-------+-------+-------+-------+--------+------+------+-------+--------------+-----+--------+\n",
      "only showing top 5 rows\n",
      "\n"
     ]
    }
   ],
   "source": [
    "# Attributes columns\n",
    "i94immi_df.show(5)"
   ]
  },
  {
   "cell_type": "code",
   "execution_count": 132,
   "metadata": {
    "editable": true
   },
   "outputs": [
    {
     "data": {
      "text/plain": [
       "3096313"
      ]
     },
     "execution_count": 132,
     "metadata": {},
     "output_type": "execute_result"
    }
   ],
   "source": [
    "i94immi_df.count()"
   ]
  },
  {
   "cell_type": "code",
   "execution_count": null,
   "metadata": {
    "editable": true
   },
   "outputs": [],
   "source": []
  },
  {
   "cell_type": "markdown",
   "metadata": {
    "editable": true
   },
   "source": [
    "##### World Temperature dataset"
   ]
  },
  {
   "cell_type": "code",
   "execution_count": 133,
   "metadata": {
    "editable": true
   },
   "outputs": [],
   "source": [
    "# read input dataset to Pandas dataframe\n",
    "worldtempe_dataset = '../../data2/GlobalLandTemperaturesByCity.csv'\n",
    "worldtempe_df = pd.read_csv(worldtempe_dataset,sep=\",\")"
   ]
  },
  {
   "cell_type": "code",
   "execution_count": 134,
   "metadata": {
    "editable": true
   },
   "outputs": [
    {
     "name": "stdout",
     "output_type": "stream",
     "text": [
      "<class 'pandas.core.frame.DataFrame'>\n",
      "RangeIndex: 8599212 entries, 0 to 8599211\n",
      "Data columns (total 7 columns):\n",
      "dt                               object\n",
      "AverageTemperature               float64\n",
      "AverageTemperatureUncertainty    float64\n",
      "City                             object\n",
      "Country                          object\n",
      "Latitude                         object\n",
      "Longitude                        object\n",
      "dtypes: float64(2), object(5)\n",
      "memory usage: 459.2+ MB\n"
     ]
    }
   ],
   "source": [
    "# Data type\n",
    "worldtempe_df.info()"
   ]
  },
  {
   "cell_type": "code",
   "execution_count": 135,
   "metadata": {
    "editable": true
   },
   "outputs": [
    {
     "data": {
      "text/html": [
       "<div>\n",
       "<style scoped>\n",
       "    .dataframe tbody tr th:only-of-type {\n",
       "        vertical-align: middle;\n",
       "    }\n",
       "\n",
       "    .dataframe tbody tr th {\n",
       "        vertical-align: top;\n",
       "    }\n",
       "\n",
       "    .dataframe thead th {\n",
       "        text-align: right;\n",
       "    }\n",
       "</style>\n",
       "<table border=\"1\" class=\"dataframe\">\n",
       "  <thead>\n",
       "    <tr style=\"text-align: right;\">\n",
       "      <th></th>\n",
       "      <th>dt</th>\n",
       "      <th>AverageTemperature</th>\n",
       "      <th>AverageTemperatureUncertainty</th>\n",
       "      <th>City</th>\n",
       "      <th>Country</th>\n",
       "      <th>Latitude</th>\n",
       "      <th>Longitude</th>\n",
       "    </tr>\n",
       "  </thead>\n",
       "  <tbody>\n",
       "    <tr>\n",
       "      <th>0</th>\n",
       "      <td>1743-11-01</td>\n",
       "      <td>6.068</td>\n",
       "      <td>1.737</td>\n",
       "      <td>Århus</td>\n",
       "      <td>Denmark</td>\n",
       "      <td>57.05N</td>\n",
       "      <td>10.33E</td>\n",
       "    </tr>\n",
       "    <tr>\n",
       "      <th>1</th>\n",
       "      <td>1743-12-01</td>\n",
       "      <td>NaN</td>\n",
       "      <td>NaN</td>\n",
       "      <td>Århus</td>\n",
       "      <td>Denmark</td>\n",
       "      <td>57.05N</td>\n",
       "      <td>10.33E</td>\n",
       "    </tr>\n",
       "    <tr>\n",
       "      <th>2</th>\n",
       "      <td>1744-01-01</td>\n",
       "      <td>NaN</td>\n",
       "      <td>NaN</td>\n",
       "      <td>Århus</td>\n",
       "      <td>Denmark</td>\n",
       "      <td>57.05N</td>\n",
       "      <td>10.33E</td>\n",
       "    </tr>\n",
       "    <tr>\n",
       "      <th>3</th>\n",
       "      <td>1744-02-01</td>\n",
       "      <td>NaN</td>\n",
       "      <td>NaN</td>\n",
       "      <td>Århus</td>\n",
       "      <td>Denmark</td>\n",
       "      <td>57.05N</td>\n",
       "      <td>10.33E</td>\n",
       "    </tr>\n",
       "    <tr>\n",
       "      <th>4</th>\n",
       "      <td>1744-03-01</td>\n",
       "      <td>NaN</td>\n",
       "      <td>NaN</td>\n",
       "      <td>Århus</td>\n",
       "      <td>Denmark</td>\n",
       "      <td>57.05N</td>\n",
       "      <td>10.33E</td>\n",
       "    </tr>\n",
       "  </tbody>\n",
       "</table>\n",
       "</div>"
      ],
      "text/plain": [
       "           dt  AverageTemperature  AverageTemperatureUncertainty   City  \\\n",
       "0  1743-11-01               6.068                          1.737  Århus   \n",
       "1  1743-12-01                 NaN                            NaN  Århus   \n",
       "2  1744-01-01                 NaN                            NaN  Århus   \n",
       "3  1744-02-01                 NaN                            NaN  Århus   \n",
       "4  1744-03-01                 NaN                            NaN  Århus   \n",
       "\n",
       "   Country Latitude Longitude  \n",
       "0  Denmark   57.05N    10.33E  \n",
       "1  Denmark   57.05N    10.33E  \n",
       "2  Denmark   57.05N    10.33E  \n",
       "3  Denmark   57.05N    10.33E  \n",
       "4  Denmark   57.05N    10.33E  "
      ]
     },
     "execution_count": 135,
     "metadata": {},
     "output_type": "execute_result"
    }
   ],
   "source": [
    "# Attributes columns\n",
    "worldtempe_df.head(5)"
   ]
  },
  {
   "cell_type": "code",
   "execution_count": 136,
   "metadata": {
    "editable": true
   },
   "outputs": [
    {
     "data": {
      "text/plain": [
       "(8599212, 7)"
      ]
     },
     "execution_count": 136,
     "metadata": {},
     "output_type": "execute_result"
    }
   ],
   "source": [
    "worldtempe_df.shape"
   ]
  },
  {
   "cell_type": "markdown",
   "metadata": {
    "editable": true
   },
   "source": [
    "##### I94PORT_sas_label_validation"
   ]
  },
  {
   "cell_type": "code",
   "execution_count": 137,
   "metadata": {
    "editable": true
   },
   "outputs": [
    {
     "name": "stdout",
     "output_type": "stream",
     "text": [
      "Directory 'I94PORT_sas_label_validation' created successfully\n",
      "Top 20 rows of I94PORT_sas_label_validation \n",
      "+------------------+--------------------+\n",
      "|I94PORT_valid_code| I94PORT_valid_value|\n",
      "+------------------+--------------------+\n",
      "|               ALC|           ALCAN, AK|\n",
      "|               ANC|       ANCHORAGE, AK|\n",
      "|               BAR|BAKER AAF - BAKER...|\n",
      "|               DAC|   DALTONS CACHE, AK|\n",
      "|               PIZ|DEW STATION PT LA...|\n",
      "|               DTH|    DUTCH HARBOR, AK|\n",
      "|               EGL|           EAGLE, AK|\n",
      "|               FRB|       FAIRBANKS, AK|\n",
      "|               HOM|           HOMER, AK|\n",
      "|               HYD|           HYDER, AK|\n",
      "|               JUN|          JUNEAU, AK|\n",
      "|               5KE|       KETCHIKAN, AK|\n",
      "|               KET|       KETCHIKAN, AK|\n",
      "|               MOS|MOSES POINT INTER...|\n",
      "|               NIK|         NIKISKI, AK|\n",
      "|               NOM|             NOM, AK|\n",
      "|               PKC|     POKER CREEK, AK|\n",
      "|               ORI|  PORT LIONS SPB, AK|\n",
      "|               SKA|         SKAGWAY, AK|\n",
      "|               SNP| ST. PAUL ISLAND, AK|\n",
      "+------------------+--------------------+\n",
      "only showing top 20 rows\n",
      "\n",
      "Count rows of I94PORT_sas_label_validation: 660 \n",
      "Check unique value of I94PORT_sas_label_validation: 660 \n",
      "Staging csv files in: I94PORT_sas_label_validation\n"
     ]
    }
   ],
   "source": [
    "# Extract `I94PORT` label\n",
    "# Create dir 'I94PORT_sas_label_validation' to save extracted label result\n",
    "I94PORT_df = extract_staging_sas_label('I94PORT')\n",
    "I94PORT_df = I94PORT_df.toPandas()"
   ]
  },
  {
   "cell_type": "code",
   "execution_count": 138,
   "metadata": {
    "editable": true
   },
   "outputs": [
    {
     "name": "stdout",
     "output_type": "stream",
     "text": [
      "<class 'pandas.core.frame.DataFrame'>\n",
      "RangeIndex: 660 entries, 0 to 659\n",
      "Data columns (total 2 columns):\n",
      "I94PORT_valid_code     660 non-null object\n",
      "I94PORT_valid_value    660 non-null object\n",
      "dtypes: object(2)\n",
      "memory usage: 10.4+ KB\n"
     ]
    }
   ],
   "source": [
    "# Data type\n",
    "I94PORT_df.info()"
   ]
  },
  {
   "cell_type": "code",
   "execution_count": 139,
   "metadata": {
    "editable": true
   },
   "outputs": [
    {
     "data": {
      "text/html": [
       "<div>\n",
       "<style scoped>\n",
       "    .dataframe tbody tr th:only-of-type {\n",
       "        vertical-align: middle;\n",
       "    }\n",
       "\n",
       "    .dataframe tbody tr th {\n",
       "        vertical-align: top;\n",
       "    }\n",
       "\n",
       "    .dataframe thead th {\n",
       "        text-align: right;\n",
       "    }\n",
       "</style>\n",
       "<table border=\"1\" class=\"dataframe\">\n",
       "  <thead>\n",
       "    <tr style=\"text-align: right;\">\n",
       "      <th></th>\n",
       "      <th>I94PORT_valid_code</th>\n",
       "      <th>I94PORT_valid_value</th>\n",
       "    </tr>\n",
       "  </thead>\n",
       "  <tbody>\n",
       "    <tr>\n",
       "      <th>0</th>\n",
       "      <td>ALC</td>\n",
       "      <td>ALCAN, AK</td>\n",
       "    </tr>\n",
       "    <tr>\n",
       "      <th>1</th>\n",
       "      <td>ANC</td>\n",
       "      <td>ANCHORAGE, AK</td>\n",
       "    </tr>\n",
       "    <tr>\n",
       "      <th>2</th>\n",
       "      <td>BAR</td>\n",
       "      <td>BAKER AAF - BAKER ISLAND, AK</td>\n",
       "    </tr>\n",
       "    <tr>\n",
       "      <th>3</th>\n",
       "      <td>DAC</td>\n",
       "      <td>DALTONS CACHE, AK</td>\n",
       "    </tr>\n",
       "    <tr>\n",
       "      <th>4</th>\n",
       "      <td>PIZ</td>\n",
       "      <td>DEW STATION PT LAY DEW, AK</td>\n",
       "    </tr>\n",
       "  </tbody>\n",
       "</table>\n",
       "</div>"
      ],
      "text/plain": [
       "  I94PORT_valid_code           I94PORT_valid_value\n",
       "0                ALC                     ALCAN, AK\n",
       "1                ANC                 ANCHORAGE, AK\n",
       "2                BAR  BAKER AAF - BAKER ISLAND, AK\n",
       "3                DAC             DALTONS CACHE, AK\n",
       "4                PIZ    DEW STATION PT LAY DEW, AK"
      ]
     },
     "execution_count": 139,
     "metadata": {},
     "output_type": "execute_result"
    }
   ],
   "source": [
    "# Attributes columns\n",
    "I94PORT_df.head(5)"
   ]
  },
  {
   "cell_type": "code",
   "execution_count": 140,
   "metadata": {
    "editable": true
   },
   "outputs": [
    {
     "data": {
      "text/plain": [
       "I94PORT_valid_code     660\n",
       "I94PORT_valid_value    660\n",
       "dtype: int64"
      ]
     },
     "execution_count": 140,
     "metadata": {},
     "output_type": "execute_result"
    }
   ],
   "source": [
    "# Count rows\n",
    "I94PORT_df.count()"
   ]
  },
  {
   "cell_type": "markdown",
   "metadata": {
    "editable": true
   },
   "source": [
    "##### I94ADDR_sas_label_validation"
   ]
  },
  {
   "cell_type": "code",
   "execution_count": 141,
   "metadata": {
    "editable": true
   },
   "outputs": [
    {
     "name": "stdout",
     "output_type": "stream",
     "text": [
      "Directory 'I94ADDR_sas_label_validation' created successfully\n",
      "Top 20 rows of I94ADDR_sas_label_validation \n",
      "+------------------+-------------------+\n",
      "|I94ADDR_valid_code|I94ADDR_valid_value|\n",
      "+------------------+-------------------+\n",
      "|                AL|            ALABAMA|\n",
      "|                AK|             ALASKA|\n",
      "|                AZ|            ARIZONA|\n",
      "|                AR|           ARKANSAS|\n",
      "|                CA|         CALIFORNIA|\n",
      "|                CO|           COLORADO|\n",
      "|                CT|        CONNECTICUT|\n",
      "|                DE|           DELAWARE|\n",
      "|                DC|  DIST. OF COLUMBIA|\n",
      "|                FL|            FLORIDA|\n",
      "|                GA|            GEORGIA|\n",
      "|                GU|               GUAM|\n",
      "|                HI|             HAWAII|\n",
      "|                ID|              IDAHO|\n",
      "|                IL|           ILLINOIS|\n",
      "|                IN|            INDIANA|\n",
      "|                IA|               IOWA|\n",
      "|                KS|             KANSAS|\n",
      "|                KY|           KENTUCKY|\n",
      "|                LA|          LOUISIANA|\n",
      "+------------------+-------------------+\n",
      "only showing top 20 rows\n",
      "\n",
      "Count rows of I94ADDR_sas_label_validation: 55 \n",
      "Check unique value of I94ADDR_sas_label_validation: 55 \n",
      "Staging csv files in: I94ADDR_sas_label_validation\n"
     ]
    }
   ],
   "source": [
    "# Extract `I94ADDR` label\n",
    "# Create dir 'I94ADDR_sas_label_validation' first to save extracted label result\n",
    "I94ADDR_df = extract_staging_sas_label('I94ADDR')\n",
    "I94ADDR_df = I94ADDR_df.toPandas()"
   ]
  },
  {
   "cell_type": "code",
   "execution_count": 142,
   "metadata": {
    "editable": true
   },
   "outputs": [
    {
     "name": "stdout",
     "output_type": "stream",
     "text": [
      "<class 'pandas.core.frame.DataFrame'>\n",
      "RangeIndex: 55 entries, 0 to 54\n",
      "Data columns (total 2 columns):\n",
      "I94ADDR_valid_code     55 non-null object\n",
      "I94ADDR_valid_value    55 non-null object\n",
      "dtypes: object(2)\n",
      "memory usage: 960.0+ bytes\n"
     ]
    }
   ],
   "source": [
    "# Data type\n",
    "I94ADDR_df.info()"
   ]
  },
  {
   "cell_type": "code",
   "execution_count": 143,
   "metadata": {
    "editable": true
   },
   "outputs": [
    {
     "data": {
      "text/html": [
       "<div>\n",
       "<style scoped>\n",
       "    .dataframe tbody tr th:only-of-type {\n",
       "        vertical-align: middle;\n",
       "    }\n",
       "\n",
       "    .dataframe tbody tr th {\n",
       "        vertical-align: top;\n",
       "    }\n",
       "\n",
       "    .dataframe thead th {\n",
       "        text-align: right;\n",
       "    }\n",
       "</style>\n",
       "<table border=\"1\" class=\"dataframe\">\n",
       "  <thead>\n",
       "    <tr style=\"text-align: right;\">\n",
       "      <th></th>\n",
       "      <th>I94ADDR_valid_code</th>\n",
       "      <th>I94ADDR_valid_value</th>\n",
       "    </tr>\n",
       "  </thead>\n",
       "  <tbody>\n",
       "    <tr>\n",
       "      <th>0</th>\n",
       "      <td>AL</td>\n",
       "      <td>ALABAMA</td>\n",
       "    </tr>\n",
       "    <tr>\n",
       "      <th>1</th>\n",
       "      <td>AK</td>\n",
       "      <td>ALASKA</td>\n",
       "    </tr>\n",
       "    <tr>\n",
       "      <th>2</th>\n",
       "      <td>AZ</td>\n",
       "      <td>ARIZONA</td>\n",
       "    </tr>\n",
       "    <tr>\n",
       "      <th>3</th>\n",
       "      <td>AR</td>\n",
       "      <td>ARKANSAS</td>\n",
       "    </tr>\n",
       "    <tr>\n",
       "      <th>4</th>\n",
       "      <td>CA</td>\n",
       "      <td>CALIFORNIA</td>\n",
       "    </tr>\n",
       "  </tbody>\n",
       "</table>\n",
       "</div>"
      ],
      "text/plain": [
       "  I94ADDR_valid_code I94ADDR_valid_value\n",
       "0                 AL             ALABAMA\n",
       "1                 AK              ALASKA\n",
       "2                 AZ             ARIZONA\n",
       "3                 AR            ARKANSAS\n",
       "4                 CA          CALIFORNIA"
      ]
     },
     "execution_count": 143,
     "metadata": {},
     "output_type": "execute_result"
    }
   ],
   "source": [
    "# Attributes columns\n",
    "I94ADDR_df.head(5)"
   ]
  },
  {
   "cell_type": "code",
   "execution_count": 144,
   "metadata": {
    "editable": true
   },
   "outputs": [
    {
     "data": {
      "text/plain": [
       "I94ADDR_valid_code     55\n",
       "I94ADDR_valid_value    55\n",
       "dtype: int64"
      ]
     },
     "execution_count": 144,
     "metadata": {},
     "output_type": "execute_result"
    }
   ],
   "source": [
    "# Count rows\n",
    "I94ADDR_df.count()"
   ]
  },
  {
   "cell_type": "code",
   "execution_count": null,
   "metadata": {
    "editable": true
   },
   "outputs": [],
   "source": []
  },
  {
   "cell_type": "markdown",
   "metadata": {
    "editable": true
   },
   "source": [
    "#### Cleaning Steps"
   ]
  },
  {
   "cell_type": "markdown",
   "metadata": {
    "editable": true
   },
   "source": [
    "##### I94 Immigration dataset"
   ]
  },
  {
   "cell_type": "markdown",
   "metadata": {
    "editable": true
   },
   "source": [
    "- Cleaning I94 Immigration dataset `i94immi_raw_dataset = './sas_data'`\n",
    "- The input dataframe from Explorer step `i94immi_df = spark.read.parquet(i94immi_raw_dataset)`\n",
    "- The outputs of this step: `./i94immi_df_clean`\n",
    "- Cleaning task to do:\n",
    "    - Read dataset to spark dataframe.\n",
    "    - Create Spark SQL table from dataframe.\n",
    "    - Choose Primarykey.\n",
    "    - Verify arrival date and departure date logical conditional.\n",
    "    - Add column `arival_date`, `departure_date` as `datetime` datatype\n",
    "    - Verify `arival_date`, `departure_date` wrong value.\n",
    "    - Filter US airport with immigration allowed.\n",
    "    - Remove missing value.\n",
    "    - Create and verify staging table."
   ]
  },
  {
   "cell_type": "code",
   "execution_count": 145,
   "metadata": {
    "editable": true
   },
   "outputs": [],
   "source": [
    "# Extracting i94immi from dataset './sas_data'\n",
    "i94immi_raw_dataset = './sas_data'\n",
    "i94immi_df = spark.read.parquet(i94immi_raw_dataset)"
   ]
  },
  {
   "cell_type": "code",
   "execution_count": 146,
   "metadata": {
    "editable": true
   },
   "outputs": [
    {
     "name": "stdout",
     "output_type": "stream",
     "text": [
      "+---------+------+------+------+------+-------+-------+-------+-------+-------+------+-------+-----+--------+--------+-----+-------+-------+-------+-------+-------+--------+------+------+-------+--------------+-----+--------+\n",
      "|    cicid| i94yr|i94mon|i94cit|i94res|i94port|arrdate|i94mode|i94addr|depdate|i94bir|i94visa|count|dtadfile|visapost|occup|entdepa|entdepd|entdepu|matflag|biryear| dtaddto|gender|insnum|airline|        admnum|fltno|visatype|\n",
      "+---------+------+------+------+------+-------+-------+-------+-------+-------+------+-------+-----+--------+--------+-----+-------+-------+-------+-------+-------+--------+------+------+-------+--------------+-----+--------+\n",
      "|5748517.0|2016.0|   4.0| 245.0| 438.0|    LOS|20574.0|    1.0|     CA|20582.0|  40.0|    1.0|  1.0|20160430|     SYD| null|      G|      O|   null|      M| 1976.0|10292016|     F|  null|     QF|9.495387003E10|00011|      B1|\n",
      "|5748518.0|2016.0|   4.0| 245.0| 438.0|    LOS|20574.0|    1.0|     NV|20591.0|  32.0|    1.0|  1.0|20160430|     SYD| null|      G|      O|   null|      M| 1984.0|10292016|     F|  null|     VA|9.495562283E10|00007|      B1|\n",
      "|5748519.0|2016.0|   4.0| 245.0| 438.0|    LOS|20574.0|    1.0|     WA|20582.0|  29.0|    1.0|  1.0|20160430|     SYD| null|      G|      O|   null|      M| 1987.0|10292016|     M|  null|     DL|9.495640653E10|00040|      B1|\n",
      "+---------+------+------+------+------+-------+-------+-------+-------+-------+------+-------+-----+--------+--------+-----+-------+-------+-------+-------+-------+--------+------+------+-------+--------------+-----+--------+\n",
      "only showing top 3 rows\n",
      "\n"
     ]
    }
   ],
   "source": [
    "i94immi_df.show(3)"
   ]
  },
  {
   "cell_type": "code",
   "execution_count": 147,
   "metadata": {
    "editable": true
   },
   "outputs": [
    {
     "data": {
      "text/plain": [
       "3096313"
      ]
     },
     "execution_count": 147,
     "metadata": {},
     "output_type": "execute_result"
    }
   ],
   "source": [
    "i94immi_df.count()"
   ]
  },
  {
   "cell_type": "code",
   "execution_count": 148,
   "metadata": {
    "editable": true
   },
   "outputs": [],
   "source": [
    "# Create tableview for data manipulation\n",
    "i94immi_df.createOrReplaceTempView('i94immi_table')"
   ]
  },
  {
   "cell_type": "code",
   "execution_count": 149,
   "metadata": {
    "editable": true
   },
   "outputs": [
    {
     "name": "stdout",
     "output_type": "stream",
     "text": [
      "+---------+\n",
      "|    cicid|\n",
      "+---------+\n",
      "|5748517.0|\n",
      "|5748518.0|\n",
      "|5748519.0|\n",
      "+---------+\n",
      "only showing top 3 rows\n",
      "\n"
     ]
    }
   ],
   "source": [
    "spark.sql(\"\"\"\n",
    "    SELECT cicid\n",
    "    FROM i94immi_table\n",
    "\"\"\").show(3)"
   ]
  },
  {
   "cell_type": "code",
   "execution_count": 150,
   "metadata": {
    "editable": true
   },
   "outputs": [],
   "source": [
    "# Drop amount of un-makesance records cause by `DepartureDate >= ArrivalDate`\n",
    "spark.sql(\"\"\"\n",
    "    SELECT *\n",
    "    FROM i94immi_table\n",
    "    WHERE arrdate <= depdate\n",
    "\"\"\").createOrReplaceTempView(\"i94immi_table\")"
   ]
  },
  {
   "cell_type": "code",
   "execution_count": 151,
   "metadata": {
    "editable": true
   },
   "outputs": [],
   "source": [
    "# Add column `arrival_date = timestone + arrdate_offset_day`, with:\n",
    "# - timestone = '1960-01-01' (***datetime*** datatype)\n",
    "# - arrdate_offset_day = 'arrdate' (***integer*** datatype)\n",
    "# - arrival_date (***datetime*** datatype)\n",
    "spark.sql(\"\"\"\n",
    "    SELECT *, date_add(to_date('1960-01-01'), arrdate) AS arrival_date \n",
    "    FROM i94immi_table\n",
    "\"\"\").createOrReplaceTempView(\"i94immi_table\")"
   ]
  },
  {
   "cell_type": "code",
   "execution_count": 152,
   "metadata": {
    "editable": true
   },
   "outputs": [],
   "source": [
    "# Add column `departure_date = timestone + depdate_offset_day`, with:\n",
    "# - `timestone` = '1960-01-01' (***datetime*** datatype)\n",
    "# - `depdate_offset_day` = 'depdate' (***integer*** datatype)\n",
    "# - `departure_date` (***datetime*** datatype)\n",
    "spark.sql(\"\"\"SELECT *, CASE \n",
    "                        WHEN depdate >= arrdate THEN date_add(to_date('1960-01-01'), depdate)\n",
    "                        WHEN depdate IS NULL THEN NULL\n",
    "                        ELSE 'NaN' END AS departure_date \n",
    "                FROM i94immi_table\n",
    "            \"\"\").createOrReplaceTempView(\"i94immi_table\")"
   ]
  },
  {
   "cell_type": "code",
   "execution_count": 153,
   "metadata": {
    "editable": true
   },
   "outputs": [],
   "source": [
    "# extracted i94mode from `I94_SAS_Labels_Descriptions_SAS`\n",
    "# i94mode includes:\n",
    "# {'1': 'Air', '2': 'Sea', '3': 'Land', '9': 'Not reported'}\n",
    "# Keep air arrival only, mean keep `i94mode=1`\n",
    "spark.sql(\"\"\"\n",
    "    SELECT *\n",
    "    FROM i94immi_table\n",
    "    WHERE i94mode == 1.0\n",
    "\"\"\").createOrReplaceTempView(\"i94immi_table\")"
   ]
  },
  {
   "cell_type": "code",
   "execution_count": 154,
   "metadata": {
    "editable": true
   },
   "outputs": [],
   "source": [
    "# Mapping `i94visa` numbers to `visatype` instead\n",
    "spark.sql(\"\"\"\n",
    "        SELECT *, CASE \n",
    "                    WHEN i94visa = 1.0 THEN 'Business' \n",
    "                    WHEN i94visa = 2.0 THEN 'Pleasure'\n",
    "                    WHEN i94visa = 3.0 THEN 'Student'\n",
    "                    ELSE 'NaN' END AS visa_type\n",
    "        FROM i94immi_table\n",
    "    \"\"\").createOrReplaceTempView(\"i94immi_table\")"
   ]
  },
  {
   "cell_type": "code",
   "execution_count": 155,
   "metadata": {
    "editable": true
   },
   "outputs": [],
   "source": [
    "# Keep user records of `male = 'M'` and `female = 'F'` only\n",
    "spark.sql(\"\"\"\n",
    "    SELECT * \n",
    "    FROM i94immi_table \n",
    "    WHERE gender IN ('F', 'M')\n",
    "\"\"\").createOrReplaceTempView(\"i94immi_table\")"
   ]
  },
  {
   "cell_type": "code",
   "execution_count": 156,
   "metadata": {
    "editable": true
   },
   "outputs": [],
   "source": [
    "# Drop NULL value on arrival state\n",
    "spark.sql(\"\"\"\n",
    "    SELECT *\n",
    "    FROM i94immi_table\n",
    "    WHERE i94addr IS NOT NULL\n",
    "\"\"\").createOrReplaceTempView(\"i94immi_table\")"
   ]
  },
  {
   "cell_type": "code",
   "execution_count": 157,
   "metadata": {
    "editable": true
   },
   "outputs": [],
   "source": [
    "# Keep necessary columns\n",
    "# Convert month and year timestamp\n",
    "spark.sql(\"\"\"\n",
    "        SELECT \n",
    "            cicid,\n",
    "            i94cit,\n",
    "            i94res,\n",
    "            i94port,\n",
    "            arrival_date,\n",
    "            YEAR(arrival_date) as i94yr,\n",
    "            MONTH(arrival_date) as i94mon,\n",
    "            i94mode,\n",
    "            i94addr,\n",
    "            departure_date,\n",
    "            i94bir,\n",
    "            i94visa,\n",
    "            count,\n",
    "            dtadfile,\n",
    "            biryear,\n",
    "            dtaddto,\n",
    "            gender,\n",
    "            insnum,\n",
    "            airline,\n",
    "            admnum,\n",
    "            fltno,\n",
    "            visatype,\n",
    "            visa_type\n",
    "        FROM i94immi_table\n",
    "            \"\"\").createOrReplaceTempView('i94immi_table')"
   ]
  },
  {
   "cell_type": "code",
   "execution_count": 158,
   "metadata": {
    "editable": true
   },
   "outputs": [],
   "source": [
    "# Verify the cleaned\n",
    "i94immi_df = spark.sql(\"\"\"\n",
    "    SELECT *\n",
    "    FROM i94immi_table\n",
    "\"\"\")"
   ]
  },
  {
   "cell_type": "code",
   "execution_count": 159,
   "metadata": {
    "editable": true
   },
   "outputs": [
    {
     "name": "stdout",
     "output_type": "stream",
     "text": [
      "+---------+------+------+-------+------------+-----+------+-------+-------+--------------+------+-------+-----+--------+-------+--------+------+------+-------+--------------+-----+--------+---------+\n",
      "|    cicid|i94cit|i94res|i94port|arrival_date|i94yr|i94mon|i94mode|i94addr|departure_date|i94bir|i94visa|count|dtadfile|biryear| dtaddto|gender|insnum|airline|        admnum|fltno|visatype|visa_type|\n",
      "+---------+------+------+-------+------------+-----+------+-------+-------+--------------+------+-------+-----+--------+-------+--------+------+------+-------+--------------+-----+--------+---------+\n",
      "|5748517.0| 245.0| 438.0|    LOS|  2016-04-30| 2016|     4|    1.0|     CA|    2016-05-08|  40.0|    1.0|  1.0|20160430| 1976.0|10292016|     F|  null|     QF|9.495387003E10|00011|      B1| Business|\n",
      "|5748518.0| 245.0| 438.0|    LOS|  2016-04-30| 2016|     4|    1.0|     NV|    2016-05-17|  32.0|    1.0|  1.0|20160430| 1984.0|10292016|     F|  null|     VA|9.495562283E10|00007|      B1| Business|\n",
      "|5748519.0| 245.0| 438.0|    LOS|  2016-04-30| 2016|     4|    1.0|     WA|    2016-05-08|  29.0|    1.0|  1.0|20160430| 1987.0|10292016|     M|  null|     DL|9.495640653E10|00040|      B1| Business|\n",
      "+---------+------+------+-------+------------+-----+------+-------+-------+--------------+------+-------+-----+--------+-------+--------+------+------+-------+--------------+-----+--------+---------+\n",
      "only showing top 3 rows\n",
      "\n"
     ]
    }
   ],
   "source": [
    "i94immi_df.show(3)"
   ]
  },
  {
   "cell_type": "code",
   "execution_count": 160,
   "metadata": {
    "editable": true
   },
   "outputs": [
    {
     "name": "stdout",
     "output_type": "stream",
     "text": [
      "+-------------------+\n",
      "|amount_i94immi_rows|\n",
      "+-------------------+\n",
      "|            2377896|\n",
      "+-------------------+\n",
      "\n"
     ]
    }
   ],
   "source": [
    "# Verify the cleaned\n",
    "spark.sql(\"\"\"\n",
    "    SELECT COUNT(*) as amount_i94immi_rows\n",
    "    FROM i94immi_table\n",
    "\"\"\").show()"
   ]
  },
  {
   "cell_type": "code",
   "execution_count": 161,
   "metadata": {
    "editable": true
   },
   "outputs": [
    {
     "name": "stdout",
     "output_type": "stream",
     "text": [
      "Directory './i94immi_df_clean' created successfully\n"
     ]
    }
   ],
   "source": [
    "# Cleaning staging output location\n",
    "# output_dir = './visa_df_clean' # Use local storage\n",
    "output_dir = './i94immi_df_clean'\n",
    "\n",
    "try:\n",
    "    os.makedirs(output_dir, exist_ok = True)\n",
    "    print(\"Directory '%s' created successfully\" % output_dir)\n",
    "except OSError as error:\n",
    "    print(\"Directory '%s' can not be created\" % output_dir)\n",
    "\n",
    "rmdir(Path(output_dir))"
   ]
  },
  {
   "cell_type": "code",
   "execution_count": 162,
   "metadata": {
    "editable": true
   },
   "outputs": [],
   "source": [
    "# Staging to csv file\n",
    "i94immi_df.write.options(header='True', delimiter=',').csv(output_dir)"
   ]
  },
  {
   "cell_type": "code",
   "execution_count": 163,
   "metadata": {
    "editable": true
   },
   "outputs": [],
   "source": [
    "# Verify out from staging csv partitions\n",
    "i94immi_df = spark.read.options(inferSchema=\"true\", delimiter=\",\", header = \"true\").csv(output_dir)"
   ]
  },
  {
   "cell_type": "code",
   "execution_count": 164,
   "metadata": {
    "editable": true
   },
   "outputs": [
    {
     "name": "stdout",
     "output_type": "stream",
     "text": [
      "+---------+------+------+-------+-------------------+-----+------+-------+-------+-------------------+------+-------+-----+--------+-------+--------+------+------+-------+--------------+-----+--------+---------+\n",
      "|    cicid|i94cit|i94res|i94port|       arrival_date|i94yr|i94mon|i94mode|i94addr|     departure_date|i94bir|i94visa|count|dtadfile|biryear| dtaddto|gender|insnum|airline|        admnum|fltno|visatype|visa_type|\n",
      "+---------+------+------+-------+-------------------+-----+------+-------+-------+-------------------+------+-------+-----+--------+-------+--------+------+------+-------+--------------+-----+--------+---------+\n",
      "|5748517.0| 245.0| 438.0|    LOS|2016-04-30 00:00:00| 2016|     4|    1.0|     CA|2016-05-08 00:00:00|  40.0|    1.0|  1.0|20160430| 1976.0|10292016|     F|  null|     QF|9.495387003E10|00011|      B1| Business|\n",
      "|5748518.0| 245.0| 438.0|    LOS|2016-04-30 00:00:00| 2016|     4|    1.0|     NV|2016-05-17 00:00:00|  32.0|    1.0|  1.0|20160430| 1984.0|10292016|     F|  null|     VA|9.495562283E10|00007|      B1| Business|\n",
      "|5748519.0| 245.0| 438.0|    LOS|2016-04-30 00:00:00| 2016|     4|    1.0|     WA|2016-05-08 00:00:00|  29.0|    1.0|  1.0|20160430| 1987.0|10292016|     M|  null|     DL|9.495640653E10|00040|      B1| Business|\n",
      "+---------+------+------+-------+-------------------+-----+------+-------+-------+-------------------+------+-------+-----+--------+-------+--------+------+------+-------+--------------+-----+--------+---------+\n",
      "only showing top 3 rows\n",
      "\n"
     ]
    }
   ],
   "source": [
    "# Prepare to save out s3 storage\n",
    "i94immi_df.show(3)"
   ]
  },
  {
   "cell_type": "code",
   "execution_count": 165,
   "metadata": {
    "editable": true
   },
   "outputs": [
    {
     "data": {
      "text/plain": [
       "[('cicid', 'double'),\n",
       " ('i94cit', 'double'),\n",
       " ('i94res', 'double'),\n",
       " ('i94port', 'string'),\n",
       " ('arrival_date', 'timestamp'),\n",
       " ('i94yr', 'int'),\n",
       " ('i94mon', 'int'),\n",
       " ('i94mode', 'double'),\n",
       " ('i94addr', 'string'),\n",
       " ('departure_date', 'timestamp'),\n",
       " ('i94bir', 'double'),\n",
       " ('i94visa', 'double'),\n",
       " ('count', 'double'),\n",
       " ('dtadfile', 'int'),\n",
       " ('biryear', 'double'),\n",
       " ('dtaddto', 'string'),\n",
       " ('gender', 'string'),\n",
       " ('insnum', 'string'),\n",
       " ('airline', 'string'),\n",
       " ('admnum', 'double'),\n",
       " ('fltno', 'string'),\n",
       " ('visatype', 'string'),\n",
       " ('visa_type', 'string')]"
      ]
     },
     "execution_count": 165,
     "metadata": {},
     "output_type": "execute_result"
    }
   ],
   "source": [
    "i94immi_df.dtypes"
   ]
  },
  {
   "cell_type": "code",
   "execution_count": null,
   "metadata": {
    "editable": true
   },
   "outputs": [],
   "source": []
  },
  {
   "cell_type": "markdown",
   "metadata": {
    "editable": true
   },
   "source": [
    "##### Visa dataset"
   ]
  },
  {
   "cell_type": "markdown",
   "metadata": {
    "editable": true
   },
   "source": [
    "- Cleaning dataset `input_dataset = \"./i94immi_df_clean\"`\n",
    "- The input dataframe from Explorer step `visa_df = spark.read.options(inferSchema=\"true\", delimiter=\",\", header = \"true\").csv(input_dataset)`\n",
    "- The outputs of this step: `./visa_df_clean`\n",
    "- Cleaning task to do:\n",
    "    - Read dataset to spark dataframe.\n",
    "    - Create Spark SQL table from dataframe.\n",
    "    - Choose Primarykey.\n",
    "    - Select columns `visatype` `i94visa` `visa_type`\n",
    "    - Drop duplicate by `visatype` `i94visa`.\n",
    "    - Create and verify staging table."
   ]
  },
  {
   "cell_type": "code",
   "execution_count": 166,
   "metadata": {
    "editable": true
   },
   "outputs": [],
   "source": [
    "# Extracting visa dataset from 'i94immi_cleaned_dataset'\n",
    "input_dataset = \"./i94immi_df_clean\"\n",
    "visa_df = spark.read.options(inferSchema=\"true\", delimiter=\",\", header = \"true\").csv(input_dataset)"
   ]
  },
  {
   "cell_type": "code",
   "execution_count": 167,
   "metadata": {
    "editable": true
   },
   "outputs": [],
   "source": [
    "# Keep columns of visa\n",
    "visa_df = visa_df.select(['visatype', 'i94visa', 'visa_type'])"
   ]
  },
  {
   "cell_type": "code",
   "execution_count": 168,
   "metadata": {
    "editable": true
   },
   "outputs": [],
   "source": [
    "# Keep unique values\n",
    "visa_df = visa_df.dropDuplicates(['visatype'])"
   ]
  },
  {
   "cell_type": "code",
   "execution_count": 169,
   "metadata": {
    "editable": true
   },
   "outputs": [
    {
     "name": "stdout",
     "output_type": "stream",
     "text": [
      "Directory './visa_df_clean' created successfully\n"
     ]
    }
   ],
   "source": [
    "# Cleaning staging output location\n",
    "# output_dir = './visa_df_clean' # Use local storage\n",
    "\n",
    "output_dir = \"./visa_df_clean\"\n",
    "try:\n",
    "    os.makedirs(output_dir, exist_ok = True)\n",
    "    print(\"Directory '%s' created successfully\" % output_dir)\n",
    "except OSError as error:\n",
    "    print(\"Directory '%s' can not be created\" % output_dir)\n",
    "\n",
    "rmdir(Path(output_dir))"
   ]
  },
  {
   "cell_type": "code",
   "execution_count": 170,
   "metadata": {
    "editable": true
   },
   "outputs": [],
   "source": [
    "# Staging to csv file\n",
    "visa_df.write.options(header='True', delimiter=',').csv(output_dir)"
   ]
  },
  {
   "cell_type": "code",
   "execution_count": 171,
   "metadata": {
    "editable": true
   },
   "outputs": [],
   "source": [
    "# Verify out from staging csv partitions\n",
    "visa_df = spark.read.options(inferSchema=\"true\", delimiter=\",\", header = \"true\").csv(output_dir)"
   ]
  },
  {
   "cell_type": "code",
   "execution_count": 172,
   "metadata": {
    "editable": true
   },
   "outputs": [
    {
     "data": {
      "text/plain": [
       "[('visatype', 'string'), ('i94visa', 'double'), ('visa_type', 'string')]"
      ]
     },
     "execution_count": 172,
     "metadata": {},
     "output_type": "execute_result"
    }
   ],
   "source": [
    "visa_df.dtypes"
   ]
  },
  {
   "cell_type": "code",
   "execution_count": 173,
   "metadata": {
    "editable": true
   },
   "outputs": [
    {
     "name": "stdout",
     "output_type": "stream",
     "text": [
      "+--------+-------+---------+\n",
      "|visatype|i94visa|visa_type|\n",
      "+--------+-------+---------+\n",
      "|     GMT|    2.0| Pleasure|\n",
      "|     SBP|    2.0| Pleasure|\n",
      "|     GMB|    1.0| Business|\n",
      "|     CPL|    2.0| Pleasure|\n",
      "|      WT|    2.0| Pleasure|\n",
      "+--------+-------+---------+\n",
      "only showing top 5 rows\n",
      "\n"
     ]
    }
   ],
   "source": [
    "visa_df.show(5)"
   ]
  },
  {
   "cell_type": "code",
   "execution_count": null,
   "metadata": {
    "editable": true
   },
   "outputs": [],
   "source": []
  },
  {
   "cell_type": "markdown",
   "metadata": {
    "editable": true
   },
   "source": [
    "##### Flight dataset"
   ]
  },
  {
   "cell_type": "markdown",
   "metadata": {
    "editable": true
   },
   "source": [
    "- Cleaning dataset `input_dataset = \"./i94immi_df_clean\"`\n",
    "- The input dataframe from Explorer step `flight_df = spark.read.options(inferSchema=\"true\", delimiter=\",\", header = \"true\").csv(input_dataset)`\n",
    "- The outputs of this step: `./flight_df_clean`\n",
    "- Cleaning task to do:\n",
    "    - Read dataset to spark dataframe.\n",
    "    - Create Spark SQL table from dataframe.\n",
    "    - Select columns `fltno` `airline` `i94port`\n",
    "    - Choose Primarykey.\n",
    "    - Drop duplicate by `fltno`.\n",
    "    - Create and verify staging table."
   ]
  },
  {
   "cell_type": "code",
   "execution_count": 174,
   "metadata": {
    "editable": true
   },
   "outputs": [],
   "source": [
    "# Extract flight dataset from 'i94immi_raw_dataset'\n",
    "input_dataset = \"./i94immi_df_clean\"\n",
    "flight_df = spark.read.options(inferSchema=\"true\", delimiter=\",\", header = \"true\").csv(input_dataset)"
   ]
  },
  {
   "cell_type": "code",
   "execution_count": 175,
   "metadata": {
    "editable": true
   },
   "outputs": [],
   "source": [
    "# Keep columns of visa\n",
    "flight_df = flight_df.select(['fltno', 'airline', 'i94port'])"
   ]
  },
  {
   "cell_type": "code",
   "execution_count": 176,
   "metadata": {
    "editable": true
   },
   "outputs": [],
   "source": [
    "# Keep unique values\n",
    "flight_df = flight_df.dropDuplicates(['fltno'])"
   ]
  },
  {
   "cell_type": "code",
   "execution_count": 177,
   "metadata": {
    "editable": true
   },
   "outputs": [
    {
     "name": "stdout",
     "output_type": "stream",
     "text": [
      "Directory './flight_df_clean' created successfully\n"
     ]
    }
   ],
   "source": [
    "# Cleaning staging output location\n",
    "# output_dir = './flight_df_clean' # Use local storage\n",
    "\n",
    "output_dir = \"./flight_df_clean\"\n",
    "try:\n",
    "    os.makedirs(output_dir, exist_ok = True)\n",
    "    print(\"Directory '%s' created successfully\" % output_dir)\n",
    "except OSError as error:\n",
    "    print(\"Directory '%s' can not be created\" % output_dir)\n",
    "\n",
    "rmdir(Path(output_dir))"
   ]
  },
  {
   "cell_type": "code",
   "execution_count": 178,
   "metadata": {
    "editable": true
   },
   "outputs": [],
   "source": [
    "# Staging to csv file\n",
    "flight_df.write.options(header='True', delimiter=',').csv(output_dir)"
   ]
  },
  {
   "cell_type": "code",
   "execution_count": 179,
   "metadata": {
    "editable": true
   },
   "outputs": [],
   "source": [
    "# Verify out from staging csv partitions\n",
    "flight_df = spark.read.options(inferSchema=\"true\", delimiter=\",\", header = \"true\").csv(output_dir)"
   ]
  },
  {
   "cell_type": "code",
   "execution_count": 180,
   "metadata": {
    "editable": true
   },
   "outputs": [
    {
     "data": {
      "text/plain": [
       "[('fltno', 'string'), ('airline', 'string'), ('i94port', 'string')]"
      ]
     },
     "execution_count": 180,
     "metadata": {},
     "output_type": "execute_result"
    }
   ],
   "source": [
    "flight_df.dtypes"
   ]
  },
  {
   "cell_type": "code",
   "execution_count": 181,
   "metadata": {
    "editable": true
   },
   "outputs": [
    {
     "name": "stdout",
     "output_type": "stream",
     "text": [
      "+-----+-------+-------+\n",
      "|fltno|airline|i94port|\n",
      "+-----+-------+-------+\n",
      "|00000|     JL|    AGA|\n",
      "|00054|     LX|    BOS|\n",
      "|00147|     EI|    DUB|\n",
      "|00505|     AA|    PHO|\n",
      "|00508|     DL|    ATL|\n",
      "+-----+-------+-------+\n",
      "only showing top 5 rows\n",
      "\n"
     ]
    }
   ],
   "source": [
    "flight_df.show(5)"
   ]
  },
  {
   "cell_type": "code",
   "execution_count": null,
   "metadata": {
    "editable": true
   },
   "outputs": [],
   "source": []
  },
  {
   "cell_type": "markdown",
   "metadata": {
    "editable": true
   },
   "source": [
    "##### Traveller dataset"
   ]
  },
  {
   "cell_type": "markdown",
   "metadata": {
    "editable": true
   },
   "source": [
    "- Cleaning dataset `input_dataset = \"./i94immi_df_clean\"`\n",
    "- The input dataframe from Explorer step `traveller_df = spark.read.options(inferSchema=\"true\", delimiter=\",\", header = \"true\").csv(input_dataset)`\n",
    "- The outputs of this step: `./traveller_df_clean`\n",
    "- Cleaning task to do:\n",
    "    - Read dataset to spark dataframe.\n",
    "    - Create Spark SQL table from dataframe.\n",
    "    - Select columns `cicid` `i94cit` `i94res` `i94port` `arrival_date` `i94mode` `i94addr` `i94bir` `biryear` `gender` `visatype`\n",
    "    - Choose Primarykey.\n",
    "    - Drop duplicate by `cicid`.\n",
    "    - Create and verify staging table."
   ]
  },
  {
   "cell_type": "code",
   "execution_count": 182,
   "metadata": {
    "editable": true
   },
   "outputs": [],
   "source": [
    "# Extract flight dataset from 'i94immi_raw_dataset'\n",
    "input_dataset = \"./i94immi_df_clean\"\n",
    "traveller_df = spark.read.options(inferSchema=\"true\", delimiter=\",\", header = \"true\").csv(input_dataset)"
   ]
  },
  {
   "cell_type": "code",
   "execution_count": 183,
   "metadata": {
    "editable": true
   },
   "outputs": [],
   "source": [
    "# Keep columns of traveller\n",
    "traveller_df = traveller_df.select(['cicid', 'i94cit', 'i94res', 'i94port', 'arrival_date', 'i94mode', 'i94addr', 'i94bir', 'biryear', 'gender', 'visatype'])"
   ]
  },
  {
   "cell_type": "code",
   "execution_count": 184,
   "metadata": {
    "editable": true
   },
   "outputs": [],
   "source": [
    "# Keep unique values\n",
    "traveller_df = traveller_df.dropDuplicates(['cicid'])"
   ]
  },
  {
   "cell_type": "code",
   "execution_count": 185,
   "metadata": {
    "editable": true
   },
   "outputs": [
    {
     "name": "stdout",
     "output_type": "stream",
     "text": [
      "Directory './traveller_df_clean' created successfully\n"
     ]
    }
   ],
   "source": [
    "# Cleaning staging output location\n",
    "# output_dir = './traveller_df_clean' # Use local storage\n",
    "output_dir = \"./traveller_df_clean\"\n",
    "\n",
    "try:\n",
    "    os.makedirs(output_dir, exist_ok = True)\n",
    "    print(\"Directory '%s' created successfully\" % output_dir)\n",
    "except OSError as error:\n",
    "    print(\"Directory '%s' can not be created\" % output_dir)\n",
    "\n",
    "rmdir(Path(output_dir))"
   ]
  },
  {
   "cell_type": "code",
   "execution_count": 186,
   "metadata": {
    "editable": true
   },
   "outputs": [],
   "source": [
    "# Staging to csv file\n",
    "traveller_df.write.options(header='True', delimiter=',').csv(output_dir)"
   ]
  },
  {
   "cell_type": "code",
   "execution_count": 187,
   "metadata": {
    "editable": true
   },
   "outputs": [],
   "source": [
    "# Verify out from staging csv partitions\n",
    "traveller_df = spark.read.options(inferSchema=\"true\", delimiter=\",\", header = \"true\").csv(output_dir)"
   ]
  },
  {
   "cell_type": "code",
   "execution_count": 188,
   "metadata": {
    "editable": true
   },
   "outputs": [
    {
     "data": {
      "text/plain": [
       "[('cicid', 'double'),\n",
       " ('i94cit', 'double'),\n",
       " ('i94res', 'double'),\n",
       " ('i94port', 'string'),\n",
       " ('arrival_date', 'timestamp'),\n",
       " ('i94mode', 'double'),\n",
       " ('i94addr', 'string'),\n",
       " ('i94bir', 'double'),\n",
       " ('biryear', 'double'),\n",
       " ('gender', 'string'),\n",
       " ('visatype', 'string')]"
      ]
     },
     "execution_count": 188,
     "metadata": {},
     "output_type": "execute_result"
    }
   ],
   "source": [
    "traveller_df.dtypes"
   ]
  },
  {
   "cell_type": "code",
   "execution_count": 189,
   "metadata": {
    "editable": true
   },
   "outputs": [
    {
     "name": "stdout",
     "output_type": "stream",
     "text": [
      "+------+------+------+-------+-------------------+-------+-------+------+-------+------+--------+\n",
      "| cicid|i94cit|i94res|i94port|       arrival_date|i94mode|i94addr|i94bir|biryear|gender|visatype|\n",
      "+------+------+------+-------+-------------------+-------+-------+------+-------+------+--------+\n",
      "| 678.0| 103.0| 135.0|    LOS|2016-04-01 00:00:00|    1.0|     CA|  53.0| 1963.0|     F|      WT|\n",
      "| 881.0| 104.0| 104.0|    NEW|2016-04-01 00:00:00|    1.0|     FL|   8.0| 2008.0|     F|      WT|\n",
      "| 961.0| 104.0| 104.0|    NEW|2016-04-01 00:00:00|    1.0|     NY|  67.0| 1949.0|     F|      WT|\n",
      "| 978.0| 104.0| 104.0|    NEW|2016-04-01 00:00:00|    1.0|     NY|  32.0| 1984.0|     M|      WT|\n",
      "|1229.0| 104.0| 104.0|    NYC|2016-04-01 00:00:00|    1.0|     CT|  32.0| 1984.0|     M|      WB|\n",
      "+------+------+------+-------+-------------------+-------+-------+------+-------+------+--------+\n",
      "only showing top 5 rows\n",
      "\n"
     ]
    }
   ],
   "source": [
    "traveller_df.show(5)"
   ]
  },
  {
   "cell_type": "code",
   "execution_count": null,
   "metadata": {
    "editable": true
   },
   "outputs": [],
   "source": []
  },
  {
   "cell_type": "markdown",
   "metadata": {
    "editable": true
   },
   "source": [
    "##### World Temperature dataset"
   ]
  },
  {
   "cell_type": "markdown",
   "metadata": {
    "editable": true
   },
   "source": [
    "- Cleaning World Temperature dataset `../../data2/GlobalLandTemperaturesByCity.csv`\n",
    "- The input dataframe from Explorer step: `worldtempe_df = pd.read_csv(worldtempe_dataset,sep=\",\")`\n",
    "- The outputs of this step: `worldtempe_df_clean.csv`.\n",
    "- Cleaning task to do:\n",
    "    - Read dataset to pandas dataframe.\n",
    "    - Filter value of `United States` only.\n",
    "    - Limit dataset duration by immigration time duration\n",
    "    - Clean column with datetime datatype.\n",
    "    - Standalizing column names format.\n",
    "    - Create and verify staging table."
   ]
  },
  {
   "cell_type": "code",
   "execution_count": 190,
   "metadata": {
    "editable": true
   },
   "outputs": [],
   "source": [
    "# Read input dataset to Pandas dataframe\n",
    "worldtempe_dataset = '../../data2/GlobalLandTemperaturesByCity.csv'\n",
    "worldtempe_df = pd.read_csv(worldtempe_dataset,sep=\",\")"
   ]
  },
  {
   "cell_type": "code",
   "execution_count": 191,
   "metadata": {
    "editable": true
   },
   "outputs": [],
   "source": [
    "# Filter out `Country` for single value `United States` and check dataframe size\n",
    "worldtempe_df = worldtempe_df[worldtempe_df['Country']=='United States']"
   ]
  },
  {
   "cell_type": "code",
   "execution_count": 192,
   "metadata": {
    "editable": true
   },
   "outputs": [],
   "source": [
    "# Add a column 'dt_converted' as datetime datatype\n",
    "worldtempe_df['dt_converted'] = pd.to_datetime(worldtempe_df.dt)"
   ]
  },
  {
   "cell_type": "code",
   "execution_count": 193,
   "metadata": {
    "editable": true
   },
   "outputs": [],
   "source": [
    "# Cut off the sub-dataset before \"1960-01-01\"\n",
    "worldtempe_df=worldtempe_df[worldtempe_df['dt_converted']>\"1960-01-01\"]"
   ]
  },
  {
   "cell_type": "code",
   "execution_count": 194,
   "metadata": {
    "editable": true
   },
   "outputs": [],
   "source": [
    "# Upper case 'City' column values\n",
    "worldtempe_df[\"City\"] = worldtempe_df[\"City\"].str.upper()"
   ]
  },
  {
   "cell_type": "code",
   "execution_count": 195,
   "metadata": {
    "editable": true
   },
   "outputs": [
    {
     "data": {
      "text/plain": [
       "Index(['dt', 'averagetemperature', 'averagetemperatureuncertainty', 'city',\n",
       "       'country', 'latitude', 'longitude', 'dt_converted'],\n",
       "      dtype='object')"
      ]
     },
     "execution_count": 195,
     "metadata": {},
     "output_type": "execute_result"
    }
   ],
   "source": [
    "# Convert column names to ***snake_case*** format. Format ex: *customer_name, billing_address, ...*\n",
    "convert_column_names(worldtempe_df)\n",
    "worldtempe_df.columns"
   ]
  },
  {
   "cell_type": "code",
   "execution_count": 196,
   "metadata": {
    "editable": true
   },
   "outputs": [],
   "source": [
    "# Staging to csv file (optional)\n",
    "worldtempe_df.to_csv('worldtempe_df_clean.csv', index=False, header=True)"
   ]
  },
  {
   "cell_type": "code",
   "execution_count": 197,
   "metadata": {
    "editable": true
   },
   "outputs": [],
   "source": [
    "# Verify out from staging csv partitions (optional)\n",
    "# worldtempe_df = pd.read_csv('worldtempe_df_clean.csv',sep=\",\")\n",
    "worldtempe_df = spark.read.csv(\"worldtempe_df_clean.csv\", header=True)"
   ]
  },
  {
   "cell_type": "code",
   "execution_count": 198,
   "metadata": {
    "editable": true
   },
   "outputs": [
    {
     "data": {
      "text/plain": [
       "[('dt', 'string'),\n",
       " ('averagetemperature', 'string'),\n",
       " ('averagetemperatureuncertainty', 'string'),\n",
       " ('city', 'string'),\n",
       " ('country', 'string'),\n",
       " ('latitude', 'string'),\n",
       " ('longitude', 'string'),\n",
       " ('dt_converted', 'string')]"
      ]
     },
     "execution_count": 198,
     "metadata": {},
     "output_type": "execute_result"
    }
   ],
   "source": [
    "worldtempe_df.dtypes"
   ]
  },
  {
   "cell_type": "code",
   "execution_count": 199,
   "metadata": {
    "editable": true
   },
   "outputs": [
    {
     "name": "stdout",
     "output_type": "stream",
     "text": [
      "+----------+------------------+-----------------------------+-------+-------------+--------+---------+------------+\n",
      "|        dt|averagetemperature|averagetemperatureuncertainty|   city|      country|latitude|longitude|dt_converted|\n",
      "+----------+------------------+-----------------------------+-------+-------------+--------+---------+------------+\n",
      "|1960-02-01|             4.995|                        0.325|ABILENE|United States|  32.95N|  100.53W|  1960-02-01|\n",
      "|1960-03-01| 8.575000000000001|                        0.303|ABILENE|United States|  32.95N|  100.53W|  1960-03-01|\n",
      "|1960-04-01|            18.452|                        0.282|ABILENE|United States|  32.95N|  100.53W|  1960-04-01|\n",
      "|1960-05-01|            21.709|          0.28600000000000003|ABILENE|United States|  32.95N|  100.53W|  1960-05-01|\n",
      "|1960-06-01|            27.714|                        0.387|ABILENE|United States|  32.95N|  100.53W|  1960-06-01|\n",
      "+----------+------------------+-----------------------------+-------+-------------+--------+---------+------------+\n",
      "only showing top 5 rows\n",
      "\n"
     ]
    }
   ],
   "source": [
    "worldtempe_df.show(5)"
   ]
  },
  {
   "cell_type": "code",
   "execution_count": 200,
   "metadata": {
    "editable": true
   },
   "outputs": [],
   "source": [
    "# Change datatype of column '' as DoubleType datatype for average temperature of eache city\n",
    "worldtempe_df = worldtempe_df.withColumn(\"averagetemperature\", worldtempe_df[\"averagetemperature\"].cast(DoubleType()).alias(\"averagetemperature\"))"
   ]
  },
  {
   "cell_type": "code",
   "execution_count": 201,
   "metadata": {
    "editable": true
   },
   "outputs": [],
   "source": [
    "# Lamda function to convert string of date format to date datatype\n",
    "func =  udf (lambda x: datetime.strptime(x, '%Y-%m-%d'), DateType())"
   ]
  },
  {
   "cell_type": "code",
   "execution_count": 202,
   "metadata": {
    "editable": true
   },
   "outputs": [],
   "source": [
    "# Convert 'dt_converted' to date datatype\n",
    "worldtempe_df = worldtempe_df.withColumn('dt_converted', func(col('dt_converted')))"
   ]
  },
  {
   "cell_type": "code",
   "execution_count": 203,
   "metadata": {
    "editable": true
   },
   "outputs": [],
   "source": [
    "# Create a tableview for Spark SQL dataframe manipulation\n",
    "worldtempe_df.createOrReplaceTempView('worldtempe_table')"
   ]
  },
  {
   "cell_type": "code",
   "execution_count": 204,
   "metadata": {
    "editable": true
   },
   "outputs": [],
   "source": [
    "# Add columns 'tempe_month' as date and 'tempe_year' as date\n",
    "spark.sql(\"\"\"\n",
    "        SELECT \n",
    "            dt_converted,\n",
    "            MONTH(worldtempe_table.dt_converted) as tempe_month,\n",
    "            YEAR(worldtempe_table.dt_converted) as tempe_year,\n",
    "            dt,\n",
    "            city,\n",
    "            averagetemperature,\n",
    "            averagetemperatureuncertainty\n",
    "        FROM worldtempe_table\n",
    "            \"\"\").createOrReplaceTempView('worldtempe_table')"
   ]
  },
  {
   "cell_type": "code",
   "execution_count": 205,
   "metadata": {
    "editable": true
   },
   "outputs": [],
   "source": [
    "# Grouping average temperature by city for city temperature consistent\n",
    "spark.sql(\"\"\"\n",
    "    SELECT \n",
    "        city,\n",
    "        tempe_month,\n",
    "        BROUND(AVG(averagetemperature),2) as averagetemperature,\n",
    "        BROUND(AVG(averagetemperatureuncertainty),2) as averagetemperatureuncertainty,\n",
    "        tempe_year,\n",
    "        dt_converted\n",
    "    FROM worldtempe_table\n",
    "    GROUP BY city, tempe_month, tempe_year, dt_converted\n",
    "\"\"\").createOrReplaceTempView('worldtempe_table')"
   ]
  },
  {
   "cell_type": "code",
   "execution_count": 206,
   "metadata": {
    "editable": true
   },
   "outputs": [],
   "source": [
    "worldtempe_df = spark.sql(\"\"\"\n",
    "    SELECT *\n",
    "    FROM worldtempe_table\n",
    "\"\"\")"
   ]
  },
  {
   "cell_type": "code",
   "execution_count": 207,
   "metadata": {
    "editable": true
   },
   "outputs": [
    {
     "name": "stdout",
     "output_type": "stream",
     "text": [
      "+-----------+-----------+------------------+-----------------------------+----------+------------+\n",
      "|       city|tempe_month|averagetemperature|averagetemperatureuncertainty|tempe_year|dt_converted|\n",
      "+-----------+-----------+------------------+-----------------------------+----------+------------+\n",
      "|    ABILENE|         12|              5.25|                          0.2|      1966|  1966-12-01|\n",
      "|    ABILENE|          7|             27.55|                         0.27|      1991|  1991-07-01|\n",
      "|      AKRON|          3|              3.38|                         0.33|      1967|  1967-03-01|\n",
      "|      AKRON|          2|               1.2|                         0.19|      2000|  2000-02-01|\n",
      "|ALBUQUERQUE|          4|              8.71|                         0.36|      1970|  1970-04-01|\n",
      "+-----------+-----------+------------------+-----------------------------+----------+------------+\n",
      "only showing top 5 rows\n",
      "\n"
     ]
    }
   ],
   "source": [
    "worldtempe_df.show(5)"
   ]
  },
  {
   "cell_type": "code",
   "execution_count": 208,
   "metadata": {
    "editable": true
   },
   "outputs": [
    {
     "data": {
      "text/plain": [
       "[('city', 'string'),\n",
       " ('tempe_month', 'int'),\n",
       " ('averagetemperature', 'double'),\n",
       " ('averagetemperatureuncertainty', 'double'),\n",
       " ('tempe_year', 'int'),\n",
       " ('dt_converted', 'date')]"
      ]
     },
     "execution_count": 208,
     "metadata": {},
     "output_type": "execute_result"
    }
   ],
   "source": [
    "worldtempe_df.dtypes"
   ]
  },
  {
   "cell_type": "code",
   "execution_count": 210,
   "metadata": {
    "editable": true
   },
   "outputs": [
    {
     "name": "stdout",
     "output_type": "stream",
     "text": [
      "Directory './worldtempe_df_clean' created successfully\n"
     ]
    }
   ],
   "source": [
    "# Cleaning staging output location\n",
    "# output_dir = './worldtempe_df_clean'\n",
    "output_dir = './worldtempe_df_clean'\n",
    "\n",
    "try:\n",
    "    os.makedirs(output_dir, exist_ok = True)\n",
    "    print(\"Directory '%s' created successfully\" % output_dir)\n",
    "except OSError as error:\n",
    "    print(\"Directory '%s' can not be created\" % output_dir)\n",
    "    \n",
    "rmdir(Path(output_dir))"
   ]
  },
  {
   "cell_type": "code",
   "execution_count": 211,
   "metadata": {
    "editable": true
   },
   "outputs": [],
   "source": [
    "# Staging to csv file\n",
    "worldtempe_df.write.options(header='True', delimiter=',').csv(output_dir)"
   ]
  },
  {
   "cell_type": "code",
   "execution_count": 212,
   "metadata": {
    "editable": true
   },
   "outputs": [],
   "source": [
    "# Verify out from staging csv partitions\n",
    "worldtempe_df = spark.read.options(inferSchema=\"true\", delimiter=\",\", header = \"true\").csv(output_dir)"
   ]
  },
  {
   "cell_type": "code",
   "execution_count": 213,
   "metadata": {
    "editable": true
   },
   "outputs": [
    {
     "name": "stdout",
     "output_type": "stream",
     "text": [
      "+-------+-----------+------------------+-----------------------------+----------+-------------------+\n",
      "|   city|tempe_month|averagetemperature|averagetemperatureuncertainty|tempe_year|       dt_converted|\n",
      "+-------+-----------+------------------+-----------------------------+----------+-------------------+\n",
      "|ABILENE|         11|              9.77|                         0.12|      1997|1997-11-01 00:00:00|\n",
      "|ABILENE|         10|             18.48|                         0.26|      2000|2000-10-01 00:00:00|\n",
      "|  AKRON|          2|              2.17|                         0.18|      1976|1976-02-01 00:00:00|\n",
      "|  AKRON|          9|              17.5|                         0.22|      1990|1990-09-01 00:00:00|\n",
      "|  AKRON|          7|             24.95|                         0.21|      2011|2011-07-01 00:00:00|\n",
      "+-------+-----------+------------------+-----------------------------+----------+-------------------+\n",
      "only showing top 5 rows\n",
      "\n"
     ]
    }
   ],
   "source": [
    "# Verify csv staging\n",
    "worldtempe_df.show(5)"
   ]
  },
  {
   "cell_type": "code",
   "execution_count": 214,
   "metadata": {
    "editable": true
   },
   "outputs": [
    {
     "data": {
      "text/plain": [
       "[('city', 'string'),\n",
       " ('tempe_month', 'int'),\n",
       " ('averagetemperature', 'double'),\n",
       " ('averagetemperatureuncertainty', 'double'),\n",
       " ('tempe_year', 'int'),\n",
       " ('dt_converted', 'timestamp')]"
      ]
     },
     "execution_count": 214,
     "metadata": {},
     "output_type": "execute_result"
    }
   ],
   "source": [
    "# Verify csv staging\n",
    "worldtempe_df.dtypes"
   ]
  },
  {
   "cell_type": "code",
   "execution_count": null,
   "metadata": {
    "editable": true
   },
   "outputs": [],
   "source": []
  },
  {
   "cell_type": "markdown",
   "metadata": {
    "editable": true
   },
   "source": [
    "##### I94PORT_sas_label_validation"
   ]
  },
  {
   "cell_type": "markdown",
   "metadata": {
    "editable": true
   },
   "source": [
    "- Cleaning `i94port` from `I94_SAS_Labels_Descriptions.SAS`\n",
    "- The input dataframe from Explorer step: `I94PORT_df = I94PORT_df.toPandas()`\n",
    "- The outputs of this step: `i94_port.csv`\n",
    "- Cleaning task to do: \n",
    "    - Extract `I94PORT` from `I94_SAS_Labels_Descriptions.SAS`\n",
    "    - Clean leading and trailing white space.\n",
    "    - Split to port_code, city, state.\n",
    "    - Clean others columns to limit dataset.\n",
    "    - Create and verify staging table."
   ]
  },
  {
   "cell_type": "code",
   "execution_count": 215,
   "metadata": {
    "editable": true
   },
   "outputs": [],
   "source": [
    "# clean leading and trailing white space before split column\n",
    "I94PORT_df[\"I94PORT_valid_code\"] = I94PORT_df[\"I94PORT_valid_code\"].str.lstrip().str.rstrip()\n",
    "I94PORT_df[\"I94PORT_valid_value\"] = I94PORT_df[\"I94PORT_valid_value\"].str.lstrip().str.rstrip()"
   ]
  },
  {
   "cell_type": "code",
   "execution_count": 216,
   "metadata": {
    "editable": true
   },
   "outputs": [],
   "source": [
    "# split to port, city, state\n",
    "I94PORT_df[\"I94PORT_city_name\"] = I94PORT_df[\"I94PORT_valid_value\"].str.split(\",\").str.get(0)\n",
    "I94PORT_df[\"I94PORT_state_code\"] = I94PORT_df[\"I94PORT_valid_value\"].str.split(\",\").str.get(1)"
   ]
  },
  {
   "cell_type": "code",
   "execution_count": 217,
   "metadata": {
    "editable": true
   },
   "outputs": [],
   "source": [
    "# clean leading and trailing white space after split column\n",
    "I94PORT_df[\"I94PORT_city_name\"] = I94PORT_df[\"I94PORT_city_name\"].str.lstrip().str.rstrip()\n",
    "I94PORT_df[\"I94PORT_state_code\"] = I94PORT_df[\"I94PORT_state_code\"].str.lstrip().str.rstrip()"
   ]
  },
  {
   "cell_type": "code",
   "execution_count": 218,
   "metadata": {
    "editable": true
   },
   "outputs": [],
   "source": [
    "# drop missing value on I94PORT_state_code\n",
    "I94PORT_df = I94PORT_df.dropna(subset = [\"I94PORT_state_code\"])"
   ]
  },
  {
   "cell_type": "code",
   "execution_count": 219,
   "metadata": {
    "editable": true
   },
   "outputs": [],
   "source": [
    "# Convert column name to snake case format\n",
    "convert_column_names(I94PORT_df)"
   ]
  },
  {
   "cell_type": "code",
   "execution_count": 220,
   "metadata": {
    "editable": true
   },
   "outputs": [
    {
     "data": {
      "text/plain": [
       "Index(['i94port_valid_code', 'i94port_valid_value', 'i94port_city_name',\n",
       "       'i94port_state_code'],\n",
       "      dtype='object')"
      ]
     },
     "execution_count": 220,
     "metadata": {},
     "output_type": "execute_result"
    }
   ],
   "source": [
    "I94PORT_df.columns"
   ]
  },
  {
   "cell_type": "code",
   "execution_count": 221,
   "metadata": {
    "editable": true
   },
   "outputs": [],
   "source": [
    "# Remove 'i94port_valid_value' column\n",
    "select_cols = ['i94port_valid_code', 'i94port_city_name', 'i94port_state_code']\n",
    "I94PORT_df = I94PORT_df[select_cols]"
   ]
  },
  {
   "cell_type": "code",
   "execution_count": 222,
   "metadata": {
    "editable": true
   },
   "outputs": [
    {
     "data": {
      "text/html": [
       "<div>\n",
       "<style scoped>\n",
       "    .dataframe tbody tr th:only-of-type {\n",
       "        vertical-align: middle;\n",
       "    }\n",
       "\n",
       "    .dataframe tbody tr th {\n",
       "        vertical-align: top;\n",
       "    }\n",
       "\n",
       "    .dataframe thead th {\n",
       "        text-align: right;\n",
       "    }\n",
       "</style>\n",
       "<table border=\"1\" class=\"dataframe\">\n",
       "  <thead>\n",
       "    <tr style=\"text-align: right;\">\n",
       "      <th></th>\n",
       "      <th>i94port_valid_code</th>\n",
       "      <th>i94port_city_name</th>\n",
       "      <th>i94port_state_code</th>\n",
       "    </tr>\n",
       "  </thead>\n",
       "  <tbody>\n",
       "    <tr>\n",
       "      <th>0</th>\n",
       "      <td>ALC</td>\n",
       "      <td>ALCAN</td>\n",
       "      <td>AK</td>\n",
       "    </tr>\n",
       "    <tr>\n",
       "      <th>1</th>\n",
       "      <td>ANC</td>\n",
       "      <td>ANCHORAGE</td>\n",
       "      <td>AK</td>\n",
       "    </tr>\n",
       "    <tr>\n",
       "      <th>2</th>\n",
       "      <td>BAR</td>\n",
       "      <td>BAKER AAF - BAKER ISLAND</td>\n",
       "      <td>AK</td>\n",
       "    </tr>\n",
       "  </tbody>\n",
       "</table>\n",
       "</div>"
      ],
      "text/plain": [
       "  i94port_valid_code         i94port_city_name i94port_state_code\n",
       "0                ALC                     ALCAN                 AK\n",
       "1                ANC                 ANCHORAGE                 AK\n",
       "2                BAR  BAKER AAF - BAKER ISLAND                 AK"
      ]
     },
     "execution_count": 222,
     "metadata": {},
     "output_type": "execute_result"
    }
   ],
   "source": [
    "I94PORT_df.head(3)"
   ]
  },
  {
   "cell_type": "code",
   "execution_count": 223,
   "metadata": {
    "editable": true
   },
   "outputs": [],
   "source": [
    "# Changing to SQL Spark dataframe for staging output saving\n",
    "I94PORT_df = spark.createDataFrame(I94PORT_df)"
   ]
  },
  {
   "cell_type": "code",
   "execution_count": 224,
   "metadata": {
    "editable": true
   },
   "outputs": [
    {
     "name": "stdout",
     "output_type": "stream",
     "text": [
      "Directory './i94port_staging' created successfully\n"
     ]
    }
   ],
   "source": [
    "# Cleaning staging output location\n",
    "# output_dir = './i94port_staging'\n",
    "output_dir = './i94port_staging'\n",
    "\n",
    "try:\n",
    "    os.makedirs(output_dir, exist_ok = True)\n",
    "    print(\"Directory '%s' created successfully\" % output_dir)\n",
    "except OSError as error:\n",
    "    print(\"Directory '%s' can not be created\" % output_dir)\n",
    "    \n",
    "rmdir(Path(output_dir))"
   ]
  },
  {
   "cell_type": "code",
   "execution_count": 225,
   "metadata": {
    "editable": true
   },
   "outputs": [],
   "source": [
    "# Save to csv staging\n",
    "I94PORT_df.write.options(header='True', delimiter=',').csv(output_dir)"
   ]
  },
  {
   "cell_type": "code",
   "execution_count": 226,
   "metadata": {
    "editable": true
   },
   "outputs": [],
   "source": [
    "# Read csv staging to create dim table\n",
    "I94PORT_df = spark.read.options(inferSchema=\"true\", delimiter=\",\", header = \"true\").csv(output_dir)"
   ]
  },
  {
   "cell_type": "code",
   "execution_count": 227,
   "metadata": {
    "editable": true
   },
   "outputs": [
    {
     "name": "stdout",
     "output_type": "stream",
     "text": [
      "+------------------+--------------------+------------------+\n",
      "|i94port_valid_code|   i94port_city_name|i94port_state_code|\n",
      "+------------------+--------------------+------------------+\n",
      "|               ALC|               ALCAN|                AK|\n",
      "|               ANC|           ANCHORAGE|                AK|\n",
      "|               BAR|BAKER AAF - BAKER...|                AK|\n",
      "+------------------+--------------------+------------------+\n",
      "only showing top 3 rows\n",
      "\n"
     ]
    }
   ],
   "source": [
    "I94PORT_df.show(3)"
   ]
  },
  {
   "cell_type": "code",
   "execution_count": 228,
   "metadata": {
    "editable": true
   },
   "outputs": [
    {
     "data": {
      "text/plain": [
       "[('i94port_valid_code', 'string'),\n",
       " ('i94port_city_name', 'string'),\n",
       " ('i94port_state_code', 'string')]"
      ]
     },
     "execution_count": 228,
     "metadata": {},
     "output_type": "execute_result"
    }
   ],
   "source": [
    "I94PORT_df.dtypes"
   ]
  },
  {
   "cell_type": "code",
   "execution_count": null,
   "metadata": {
    "editable": true
   },
   "outputs": [],
   "source": []
  },
  {
   "cell_type": "markdown",
   "metadata": {
    "editable": true
   },
   "source": [
    "##### I94ADDR_sas_label_validation"
   ]
  },
  {
   "cell_type": "markdown",
   "metadata": {
    "editable": true
   },
   "source": [
    "- Cleaning `i94addr` from `I94_SAS_Labels_Descriptions.SAS`\n",
    "- The input dataframe from Explorer step: `I94ADDR_df = I94ADDR_df.toPandas()`\n",
    "- The outputs of this step: `i94_addr.csv`\n",
    "- Cleaning task to do: \n",
    "    - Extract `I94PORT` from `I94_SAS_Labels_Descriptions.SAS`\n",
    "    - Clean leading and trailing white space.\n",
    "    - Distinct primarykey columns.\n",
    "    - Create and verify staging table."
   ]
  },
  {
   "cell_type": "code",
   "execution_count": 229,
   "metadata": {
    "editable": true
   },
   "outputs": [],
   "source": [
    "# clean leading and trailing white space before split column\n",
    "I94ADDR_df[\"I94ADDR_valid_code\"] = I94ADDR_df[\"I94ADDR_valid_code\"].str.lstrip().str.rstrip()\n",
    "I94ADDR_df[\"I94ADDR_valid_value\"] = I94ADDR_df[\"I94ADDR_valid_value\"].str.lstrip().str.rstrip()"
   ]
  },
  {
   "cell_type": "code",
   "execution_count": 230,
   "metadata": {
    "editable": true
   },
   "outputs": [],
   "source": [
    "# Convert column name to snake case format\n",
    "convert_column_names(I94ADDR_df)"
   ]
  },
  {
   "cell_type": "code",
   "execution_count": 231,
   "metadata": {
    "editable": true
   },
   "outputs": [],
   "source": [
    "# Changing to SQL Spark dataframe for staging output saving\n",
    "I94ADDR_df = spark.createDataFrame(I94ADDR_df)"
   ]
  },
  {
   "cell_type": "code",
   "execution_count": 232,
   "metadata": {
    "editable": true
   },
   "outputs": [
    {
     "name": "stdout",
     "output_type": "stream",
     "text": [
      "Directory './i94addr_staging' created successfully\n"
     ]
    }
   ],
   "source": [
    "# Cleaning staging output location\n",
    "# output_dir = './i94addr_staging'\n",
    "output_dir = './i94addr_staging'\n",
    "\n",
    "try:\n",
    "    os.makedirs(output_dir, exist_ok = True)\n",
    "    print(\"Directory '%s' created successfully\" % output_dir)\n",
    "except OSError as error:\n",
    "    print(\"Directory '%s' can not be created\" % output_dir)\n",
    "    \n",
    "rmdir(Path(output_dir)) # use from 2nd running\n",
    "\n",
    "# Save to csv staging\n",
    "I94ADDR_df.write.options(header='True', delimiter=',').csv(output_dir)"
   ]
  },
  {
   "cell_type": "code",
   "execution_count": 233,
   "metadata": {
    "editable": true
   },
   "outputs": [],
   "source": [
    "# Read csv staging to create dim table\n",
    "I94ADDR_df = spark.read.options(inferSchema=\"true\", delimiter=\",\", header = \"true\").csv(output_dir)"
   ]
  },
  {
   "cell_type": "code",
   "execution_count": 234,
   "metadata": {
    "editable": true
   },
   "outputs": [
    {
     "name": "stdout",
     "output_type": "stream",
     "text": [
      "+------------------+-------------------+\n",
      "|i94addr_valid_code|i94addr_valid_value|\n",
      "+------------------+-------------------+\n",
      "|                AL|            ALABAMA|\n",
      "|                AK|             ALASKA|\n",
      "|                AZ|            ARIZONA|\n",
      "+------------------+-------------------+\n",
      "only showing top 3 rows\n",
      "\n"
     ]
    }
   ],
   "source": [
    "I94ADDR_df.show(3)"
   ]
  },
  {
   "cell_type": "code",
   "execution_count": 235,
   "metadata": {
    "editable": true
   },
   "outputs": [
    {
     "data": {
      "text/plain": [
       "[('i94addr_valid_code', 'string'), ('i94addr_valid_value', 'string')]"
      ]
     },
     "execution_count": 235,
     "metadata": {},
     "output_type": "execute_result"
    }
   ],
   "source": [
    "I94ADDR_df.dtypes"
   ]
  },
  {
   "cell_type": "code",
   "execution_count": null,
   "metadata": {
    "editable": true
   },
   "outputs": [],
   "source": []
  },
  {
   "cell_type": "markdown",
   "metadata": {
    "editable": true
   },
   "source": [
    "### Step 3: Define the Data Model"
   ]
  },
  {
   "cell_type": "markdown",
   "metadata": {
    "editable": true
   },
   "source": [
    "#### 3.1 Conceptual Data Model"
   ]
  },
  {
   "cell_type": "markdown",
   "metadata": {
    "editable": true
   },
   "source": [
    "As expectation mention, we want to find out the relations between US immigration with either weather, immigration traffic and the arrival place (city). To archive the expectation, we create star data modeling with fact and dim tables detail bellow:\n",
    "Airport\n",
    "Traffic <note_here>"
   ]
  },
  {
   "cell_type": "markdown",
   "metadata": {
    "editable": true
   },
   "source": [
    "Start schema diagram transformed\n",
    "- Start_schema_diagram here"
   ]
  },
  {
   "cell_type": "markdown",
   "metadata": {
    "editable": true
   },
   "source": [
    "##### I94 Immigration fact table:"
   ]
  },
  {
   "cell_type": "markdown",
   "metadata": {
    "editable": true
   },
   "source": [
    "Input dataframe come from \n",
    "`i94immi_df = spark.read.options(inferSchema=\"true\", delimiter=\",\", header = \"true\").csv(\"i94immi_df_clean\")`"
   ]
  },
  {
   "cell_type": "markdown",
   "metadata": {
    "editable": true
   },
   "source": [
    "- `fact_i94immi` should includes columns:\n",
    "    - `travel_cicid`\n",
    "    - `from_country_code`\n",
    "    - `immi_country_code`\n",
    "    - `arrival_port_code`\n",
    "    - `immi_arrival_date`\n",
    "    - `arrival_year`\n",
    "    - `arrival_month`\n",
    "    - `airline_mode_code`\n",
    "    - `immi_state_code`\n",
    "    - `departure_date`\n",
    "    - `traveller_age`\n",
    "    - `visatype_by_number`\n",
    "    - `traveller_birth_year`\n",
    "    - `traveller_sex`\n",
    "    - `immi_flight_code`\n",
    "    - `visatype_by_code`\n",
    "    - `visa_type`\n"
   ]
  },
  {
   "cell_type": "code",
   "execution_count": 236,
   "metadata": {
    "editable": true
   },
   "outputs": [
    {
     "name": "stdout",
     "output_type": "stream",
     "text": [
      "+---------+------+------+-------+-------------------+-----+------+-------+-------+-------------------+------+-------+-----+--------+-------+--------+------+------+-------+--------------+-----+--------+---------+\n",
      "|    cicid|i94cit|i94res|i94port|       arrival_date|i94yr|i94mon|i94mode|i94addr|     departure_date|i94bir|i94visa|count|dtadfile|biryear| dtaddto|gender|insnum|airline|        admnum|fltno|visatype|visa_type|\n",
      "+---------+------+------+-------+-------------------+-----+------+-------+-------+-------------------+------+-------+-----+--------+-------+--------+------+------+-------+--------------+-----+--------+---------+\n",
      "|5748517.0| 245.0| 438.0|    LOS|2016-04-30 00:00:00| 2016|     4|    1.0|     CA|2016-05-08 00:00:00|  40.0|    1.0|  1.0|20160430| 1976.0|10292016|     F|  null|     QF|9.495387003E10|00011|      B1| Business|\n",
      "|5748518.0| 245.0| 438.0|    LOS|2016-04-30 00:00:00| 2016|     4|    1.0|     NV|2016-05-17 00:00:00|  32.0|    1.0|  1.0|20160430| 1984.0|10292016|     F|  null|     VA|9.495562283E10|00007|      B1| Business|\n",
      "|5748519.0| 245.0| 438.0|    LOS|2016-04-30 00:00:00| 2016|     4|    1.0|     WA|2016-05-08 00:00:00|  29.0|    1.0|  1.0|20160430| 1987.0|10292016|     M|  null|     DL|9.495640653E10|00040|      B1| Business|\n",
      "+---------+------+------+-------+-------------------+-----+------+-------+-------+-------------------+------+-------+-----+--------+-------+--------+------+------+-------+--------------+-----+--------+---------+\n",
      "only showing top 3 rows\n",
      "\n"
     ]
    }
   ],
   "source": [
    "i94immi_df.show(3)"
   ]
  },
  {
   "cell_type": "code",
   "execution_count": 237,
   "metadata": {
    "editable": true
   },
   "outputs": [],
   "source": [
    "# Change to Spark SQl\n",
    "i94immi_df.createOrReplaceTempView('fact_i94immi')"
   ]
  },
  {
   "cell_type": "code",
   "execution_count": 238,
   "metadata": {
    "editable": true
   },
   "outputs": [],
   "source": [
    "# Create fact table\n",
    "fact_i94immi = spark.sql(\"\"\"\n",
    "        SELECT\n",
    "            cicid as travel_cicid,\n",
    "            i94cit as from_country_code,\n",
    "            i94res as immi_country_code,\n",
    "            i94port as arrival_port_code,\n",
    "            arrival_date as immi_arrival_date,\n",
    "            i94yr as arrival_year,\n",
    "            i94mon as arrival_month,\n",
    "            i94mode as airline_mode_code,\n",
    "            i94addr as immi_state_code,\n",
    "            departure_date,\n",
    "            i94bir as traveller_age,\n",
    "            i94visa as visatype_by_number,\n",
    "            biryear as traveller_birth_year,\n",
    "            gender as traveller_sex,\n",
    "            fltno as immi_flight_code,\n",
    "            visatype as visatype_by_code,\n",
    "            visa_type\n",
    "        FROM fact_i94immi\n",
    "    \"\"\")"
   ]
  },
  {
   "cell_type": "code",
   "execution_count": 239,
   "metadata": {
    "editable": true
   },
   "outputs": [
    {
     "data": {
      "text/plain": [
       "'./ws_parquet_outputs/fact_i94immi.parquet'"
      ]
     },
     "execution_count": 239,
     "metadata": {},
     "output_type": "execute_result"
    }
   ],
   "source": [
    "# Copy S3 URI = 's3a://dendcapstonetest/s3_outputs/'\n",
    "# update this to your bucket name\n",
    "# s3_parquet_output = 's3a://dendcapstonetest/s3_outputs/' + 'fact_i94immi/fact_i94immi.parquet'\n",
    "# s3_parquet_output = './ws_outputs' + 'fact_i94immi/fact_i94immi.parquet'\n",
    "# s3_parquet_output\n",
    "\n",
    "parquet_outputs = './ws_parquet_outputs/' + 'fact_i94immi.parquet'\n",
    "parquet_outputs"
   ]
  },
  {
   "cell_type": "code",
   "execution_count": 240,
   "metadata": {
    "editable": true
   },
   "outputs": [],
   "source": [
    "# s3_parquet_output = 's3a://dendcapstonetest/s3_outputs/' + 'fact_i94immi/fact_i94immi.parquet'\n",
    "# parquet_outputs = ./ws_parquet_outputs/' + 'fact_i94immi.parquet'\n",
    "fact_i94immi.write.mode(\"overwrite\").parquet(parquet_outputs)"
   ]
  },
  {
   "cell_type": "code",
   "execution_count": 241,
   "metadata": {
    "editable": true
   },
   "outputs": [
    {
     "name": "stdout",
     "output_type": "stream",
     "text": [
      "'fact_i94immi' parquet files inventory\n",
      "./ws_parquet_outputs/fact_i94immi.parquet/_SUCCESS\n",
      "./ws_parquet_outputs/fact_i94immi.parquet/part-00000-3059b769-94f3-4853-b80c-88faaeabe5a4-c000.snappy.parquet\n",
      "./ws_parquet_outputs/fact_i94immi.parquet/.part-00001-3059b769-94f3-4853-b80c-88faaeabe5a4-c000.snappy.parquet.crc\n",
      "./ws_parquet_outputs/fact_i94immi.parquet/.part-00000-3059b769-94f3-4853-b80c-88faaeabe5a4-c000.snappy.parquet.crc\n",
      "./ws_parquet_outputs/fact_i94immi.parquet/part-00001-3059b769-94f3-4853-b80c-88faaeabe5a4-c000.snappy.parquet\n",
      "./ws_parquet_outputs/fact_i94immi.parquet/._SUCCESS.crc\n",
      "./ws_parquet_outputs/fact_i94immi.parquet/part-00002-3059b769-94f3-4853-b80c-88faaeabe5a4-c000.snappy.parquet\n",
      "./ws_parquet_outputs/fact_i94immi.parquet/.part-00002-3059b769-94f3-4853-b80c-88faaeabe5a4-c000.snappy.parquet.crc\n"
     ]
    }
   ],
   "source": [
    "# fact_i94immi parquet files inventory\n",
    "print(\"'fact_i94immi' parquet files inventory\")\n",
    "list_of_files = get_list_of_files(parquet_outputs)\n",
    "for item in list_of_files:\n",
    "    print(item)"
   ]
  },
  {
   "cell_type": "code",
   "execution_count": null,
   "metadata": {
    "editable": true
   },
   "outputs": [],
   "source": []
  },
  {
   "cell_type": "markdown",
   "metadata": {
    "editable": true
   },
   "source": [
    "##### Visa dim table"
   ]
  },
  {
   "cell_type": "markdown",
   "metadata": {
    "editable": true
   },
   "source": [
    "Input dataframe come from \n",
    "`visa_df = spark.read.options(inferSchema=\"true\", delimiter=\",\", header = \"true\").csv(visa_cleaned_dataset)`\n",
    "\n",
    "- `dim_visa` should includes columns:\n",
    "    - `visatype_by_number`\n",
    "    - `visatype_by_code`\n",
    "    - `visa_category`"
   ]
  },
  {
   "cell_type": "code",
   "execution_count": 246,
   "metadata": {
    "editable": true
   },
   "outputs": [],
   "source": [
    "# Load cleaned dataset\n",
    "visa_cleaned_dataset = \"./visa_df_clean\"\n",
    "visa_df = spark.read.options(inferSchema=\"true\", delimiter=\",\", header = \"true\").csv(visa_cleaned_dataset)"
   ]
  },
  {
   "cell_type": "code",
   "execution_count": 247,
   "metadata": {
    "editable": true
   },
   "outputs": [
    {
     "data": {
      "text/plain": [
       "17"
      ]
     },
     "execution_count": 247,
     "metadata": {},
     "output_type": "execute_result"
    }
   ],
   "source": [
    "# Total rows\n",
    "visa_df.count()"
   ]
  },
  {
   "cell_type": "code",
   "execution_count": 248,
   "metadata": {
    "editable": true
   },
   "outputs": [
    {
     "data": {
      "text/plain": [
       "17"
      ]
     },
     "execution_count": 248,
     "metadata": {},
     "output_type": "execute_result"
    }
   ],
   "source": [
    "# Verify duplicate rows by 'i94visa' and 'visatype'\n",
    "visa_df.select(['i94visa', 'visatype']).distinct().count()"
   ]
  },
  {
   "cell_type": "code",
   "execution_count": 250,
   "metadata": {
    "editable": true
   },
   "outputs": [
    {
     "data": {
      "text/plain": [
       "17"
      ]
     },
     "execution_count": 250,
     "metadata": {},
     "output_type": "execute_result"
    }
   ],
   "source": [
    "# Verify visa_df unique\n",
    "visa_df.distinct().count()"
   ]
  },
  {
   "cell_type": "code",
   "execution_count": 251,
   "metadata": {
    "editable": true
   },
   "outputs": [],
   "source": [
    "visa_df = visa_df.select(['i94visa', 'visatype', 'visa_type'])"
   ]
  },
  {
   "cell_type": "code",
   "execution_count": 253,
   "metadata": {
    "editable": true
   },
   "outputs": [],
   "source": [
    "# Create Spark SQL for dataframe manipulation\n",
    "visa_df.createOrReplaceTempView('dim_visa')"
   ]
  },
  {
   "cell_type": "code",
   "execution_count": 254,
   "metadata": {
    "editable": true
   },
   "outputs": [],
   "source": [
    "# Create dim table\n",
    "dim_visa = spark.sql(\"\"\"\n",
    "        SELECT\n",
    "            i94visa as visatype_by_number,\n",
    "            visatype as visatype_by_code,\n",
    "            visa_type as visa_category\n",
    "        FROM fact_i94immi\n",
    "    \"\"\")"
   ]
  },
  {
   "cell_type": "code",
   "execution_count": 255,
   "metadata": {
    "editable": true
   },
   "outputs": [
    {
     "data": {
      "text/plain": [
       "'./ws_parquet_outputs/dim_visa.parquet'"
      ]
     },
     "execution_count": 255,
     "metadata": {},
     "output_type": "execute_result"
    }
   ],
   "source": [
    "# Copy S3 URI = 's3a://dendcapstonetest/s3_outputs/'\n",
    "# s3_parquet_output = 's3a://dendcapstonetest/s3_outputs/' + 'dim_visa/dim_visa.parquet'\n",
    "parquet_outputs = './ws_parquet_outputs/' + 'dim_visa.parquet'\n",
    "parquet_outputs"
   ]
  },
  {
   "cell_type": "code",
   "execution_count": 256,
   "metadata": {
    "editable": true
   },
   "outputs": [],
   "source": [
    "# s3_parquet_output = 's3a://dendcapstonetest/s3_outputs/' + 'fact_i94immi/fact_i94immi.parquet'\n",
    "dim_visa.write.mode(\"overwrite\").parquet(parquet_outputs)"
   ]
  },
  {
   "cell_type": "code",
   "execution_count": 257,
   "metadata": {
    "editable": true
   },
   "outputs": [
    {
     "name": "stdout",
     "output_type": "stream",
     "text": [
      "'dim_visa' parquet files inventory\n",
      "./ws_parquet_outputs/dim_visa.parquet/_SUCCESS\n",
      "./ws_parquet_outputs/dim_visa.parquet/part-00000-4971d21c-776a-46b5-b137-7a5597da83c7-c000.snappy.parquet\n",
      "./ws_parquet_outputs/dim_visa.parquet/part-00001-4971d21c-776a-46b5-b137-7a5597da83c7-c000.snappy.parquet\n",
      "./ws_parquet_outputs/dim_visa.parquet/.part-00000-4971d21c-776a-46b5-b137-7a5597da83c7-c000.snappy.parquet.crc\n",
      "./ws_parquet_outputs/dim_visa.parquet/.part-00002-4971d21c-776a-46b5-b137-7a5597da83c7-c000.snappy.parquet.crc\n",
      "./ws_parquet_outputs/dim_visa.parquet/.part-00001-4971d21c-776a-46b5-b137-7a5597da83c7-c000.snappy.parquet.crc\n",
      "./ws_parquet_outputs/dim_visa.parquet/._SUCCESS.crc\n",
      "./ws_parquet_outputs/dim_visa.parquet/part-00002-4971d21c-776a-46b5-b137-7a5597da83c7-c000.snappy.parquet\n"
     ]
    }
   ],
   "source": [
    "# dim_visa parquet files inventory\n",
    "print(\"'dim_visa' parquet files inventory\")\n",
    "list_of_files = get_list_of_files(parquet_outputs)\n",
    "for item in list_of_files:\n",
    "    print(item)"
   ]
  },
  {
   "cell_type": "code",
   "execution_count": null,
   "metadata": {
    "editable": true
   },
   "outputs": [],
   "source": []
  },
  {
   "cell_type": "markdown",
   "metadata": {
    "editable": true
   },
   "source": [
    "##### Flight dim table:"
   ]
  },
  {
   "cell_type": "markdown",
   "metadata": {
    "editable": true
   },
   "source": [
    "Input dataframe come from \n",
    "`flight_df = spark.read.options(inferSchema=\"true\", delimiter=\",\", header = \"true\").csv(flight_cleaned_dataset)`\n",
    "\n",
    "- `dim_immi_flight` should includes columns:\n",
    "    - `flight_number`\n",
    "    - `flight_brand`\n",
    "    - `airport_city`"
   ]
  },
  {
   "cell_type": "code",
   "execution_count": 258,
   "metadata": {
    "editable": true
   },
   "outputs": [],
   "source": [
    "# Load cleaned data\n",
    "flight_cleaned_dataset = \"./flight_df_clean\"\n",
    "flight_df = spark.read.options(inferSchema=\"true\", delimiter=\",\", header = \"true\").csv(flight_cleaned_dataset)"
   ]
  },
  {
   "cell_type": "code",
   "execution_count": 259,
   "metadata": {
    "editable": true
   },
   "outputs": [
    {
     "data": {
      "text/plain": [
       "6122"
      ]
     },
     "execution_count": 259,
     "metadata": {},
     "output_type": "execute_result"
    }
   ],
   "source": [
    "# Total rows\n",
    "flight_df.count()"
   ]
  },
  {
   "cell_type": "code",
   "execution_count": 260,
   "metadata": {
    "editable": true
   },
   "outputs": [
    {
     "data": {
      "text/plain": [
       "6122"
      ]
     },
     "execution_count": 260,
     "metadata": {},
     "output_type": "execute_result"
    }
   ],
   "source": [
    "# Verify duplicate rows by 'airline' and 'fltno'\n",
    "flight_df.select(['airline', 'fltno']).distinct().count()"
   ]
  },
  {
   "cell_type": "code",
   "execution_count": 261,
   "metadata": {
    "editable": true
   },
   "outputs": [],
   "source": [
    "# Drop duplicate by 'airline' and 'fltno'\n",
    "flight_df = flight_df.dropDuplicates(['airline', 'fltno'])"
   ]
  },
  {
   "cell_type": "code",
   "execution_count": 262,
   "metadata": {
    "editable": true
   },
   "outputs": [
    {
     "data": {
      "text/plain": [
       "6122"
      ]
     },
     "execution_count": 262,
     "metadata": {},
     "output_type": "execute_result"
    }
   ],
   "source": [
    "# Verify visa_df unique\n",
    "flight_df.distinct().count()"
   ]
  },
  {
   "cell_type": "code",
   "execution_count": 263,
   "metadata": {
    "editable": true
   },
   "outputs": [],
   "source": [
    "flight_df = flight_df.select(['fltno', 'airline', 'i94port'])"
   ]
  },
  {
   "cell_type": "code",
   "execution_count": 264,
   "metadata": {
    "editable": true
   },
   "outputs": [],
   "source": [
    "# Create Spark SQL for dataframe manipulation\n",
    "flight_df.createOrReplaceTempView('dim_immi_flight')"
   ]
  },
  {
   "cell_type": "code",
   "execution_count": 265,
   "metadata": {
    "editable": true
   },
   "outputs": [],
   "source": [
    "# Create dim table\n",
    "dim_immi_flight = spark.sql(\"\"\"\n",
    "        SELECT\n",
    "            fltno as flight_number,\n",
    "            airline as flight_brand,\n",
    "            i94port as airport_city\n",
    "        FROM dim_immi_flight\n",
    "    \"\"\")"
   ]
  },
  {
   "cell_type": "code",
   "execution_count": 266,
   "metadata": {
    "editable": true
   },
   "outputs": [
    {
     "data": {
      "text/plain": [
       "'./ws_parquet_outputs/dim_immi_flight.parquet'"
      ]
     },
     "execution_count": 266,
     "metadata": {},
     "output_type": "execute_result"
    }
   ],
   "source": [
    "# Copy S3 URI = 's3a://dendcapstonetest/s3_outputs/'\n",
    "# s3_parquet_output = 's3a://dendcapstonetest/s3_outputs/' + 'dim_immi_flight/dim_immi_flight.parquet'\n",
    "parquet_outputs = './ws_parquet_outputs/' + 'dim_immi_flight.parquet'\n",
    "parquet_outputs"
   ]
  },
  {
   "cell_type": "code",
   "execution_count": 267,
   "metadata": {
    "editable": true
   },
   "outputs": [],
   "source": [
    "# s3_parquet_output = 's3a://dendcapstonetest/s3_outputs/' + 'fact_i94immi/fact_i94immi.parquet'\n",
    "dim_immi_flight.write.mode(\"overwrite\").parquet(parquet_outputs)"
   ]
  },
  {
   "cell_type": "code",
   "execution_count": 268,
   "metadata": {
    "editable": true
   },
   "outputs": [
    {
     "name": "stdout",
     "output_type": "stream",
     "text": [
      "'dim_immi_flight' parquet files inventory\n",
      "./ws_parquet_outputs/dim_immi_flight.parquet/part-00013-20bacd3b-133c-483c-b141-e1b2c3db1a53-c000.snappy.parquet\n",
      "./ws_parquet_outputs/dim_immi_flight.parquet/.part-00053-20bacd3b-133c-483c-b141-e1b2c3db1a53-c000.snappy.parquet.crc\n",
      "./ws_parquet_outputs/dim_immi_flight.parquet/.part-00080-20bacd3b-133c-483c-b141-e1b2c3db1a53-c000.snappy.parquet.crc\n",
      "./ws_parquet_outputs/dim_immi_flight.parquet/.part-00123-20bacd3b-133c-483c-b141-e1b2c3db1a53-c000.snappy.parquet.crc\n",
      "./ws_parquet_outputs/dim_immi_flight.parquet/.part-00090-20bacd3b-133c-483c-b141-e1b2c3db1a53-c000.snappy.parquet.crc\n",
      "./ws_parquet_outputs/dim_immi_flight.parquet/.part-00193-20bacd3b-133c-483c-b141-e1b2c3db1a53-c000.snappy.parquet.crc\n",
      "./ws_parquet_outputs/dim_immi_flight.parquet/.part-00183-20bacd3b-133c-483c-b141-e1b2c3db1a53-c000.snappy.parquet.crc\n",
      "./ws_parquet_outputs/dim_immi_flight.parquet/part-00063-20bacd3b-133c-483c-b141-e1b2c3db1a53-c000.snappy.parquet\n",
      "./ws_parquet_outputs/dim_immi_flight.parquet/part-00074-20bacd3b-133c-483c-b141-e1b2c3db1a53-c000.snappy.parquet\n",
      "./ws_parquet_outputs/dim_immi_flight.parquet/.part-00089-20bacd3b-133c-483c-b141-e1b2c3db1a53-c000.snappy.parquet.crc\n",
      "./ws_parquet_outputs/dim_immi_flight.parquet/part-00113-20bacd3b-133c-483c-b141-e1b2c3db1a53-c000.snappy.parquet\n",
      "./ws_parquet_outputs/dim_immi_flight.parquet/.part-00060-20bacd3b-133c-483c-b141-e1b2c3db1a53-c000.snappy.parquet.crc\n",
      "./ws_parquet_outputs/dim_immi_flight.parquet/part-00016-20bacd3b-133c-483c-b141-e1b2c3db1a53-c000.snappy.parquet\n",
      "./ws_parquet_outputs/dim_immi_flight.parquet/.part-00185-20bacd3b-133c-483c-b141-e1b2c3db1a53-c000.snappy.parquet.crc\n",
      "./ws_parquet_outputs/dim_immi_flight.parquet/.part-00035-20bacd3b-133c-483c-b141-e1b2c3db1a53-c000.snappy.parquet.crc\n",
      "./ws_parquet_outputs/dim_immi_flight.parquet/part-00038-20bacd3b-133c-483c-b141-e1b2c3db1a53-c000.snappy.parquet\n",
      "./ws_parquet_outputs/dim_immi_flight.parquet/.part-00024-20bacd3b-133c-483c-b141-e1b2c3db1a53-c000.snappy.parquet.crc\n",
      "./ws_parquet_outputs/dim_immi_flight.parquet/part-00179-20bacd3b-133c-483c-b141-e1b2c3db1a53-c000.snappy.parquet\n",
      "./ws_parquet_outputs/dim_immi_flight.parquet/.part-00079-20bacd3b-133c-483c-b141-e1b2c3db1a53-c000.snappy.parquet.crc\n",
      "./ws_parquet_outputs/dim_immi_flight.parquet/part-00188-20bacd3b-133c-483c-b141-e1b2c3db1a53-c000.snappy.parquet\n",
      "./ws_parquet_outputs/dim_immi_flight.parquet/part-00036-20bacd3b-133c-483c-b141-e1b2c3db1a53-c000.snappy.parquet\n",
      "./ws_parquet_outputs/dim_immi_flight.parquet/part-00101-20bacd3b-133c-483c-b141-e1b2c3db1a53-c000.snappy.parquet\n",
      "./ws_parquet_outputs/dim_immi_flight.parquet/.part-00166-20bacd3b-133c-483c-b141-e1b2c3db1a53-c000.snappy.parquet.crc\n",
      "./ws_parquet_outputs/dim_immi_flight.parquet/part-00080-20bacd3b-133c-483c-b141-e1b2c3db1a53-c000.snappy.parquet\n",
      "./ws_parquet_outputs/dim_immi_flight.parquet/.part-00042-20bacd3b-133c-483c-b141-e1b2c3db1a53-c000.snappy.parquet.crc\n",
      "./ws_parquet_outputs/dim_immi_flight.parquet/part-00026-20bacd3b-133c-483c-b141-e1b2c3db1a53-c000.snappy.parquet\n",
      "./ws_parquet_outputs/dim_immi_flight.parquet/part-00094-20bacd3b-133c-483c-b141-e1b2c3db1a53-c000.snappy.parquet\n",
      "./ws_parquet_outputs/dim_immi_flight.parquet/part-00098-20bacd3b-133c-483c-b141-e1b2c3db1a53-c000.snappy.parquet\n",
      "./ws_parquet_outputs/dim_immi_flight.parquet/part-00097-20bacd3b-133c-483c-b141-e1b2c3db1a53-c000.snappy.parquet\n",
      "./ws_parquet_outputs/dim_immi_flight.parquet/part-00189-20bacd3b-133c-483c-b141-e1b2c3db1a53-c000.snappy.parquet\n",
      "./ws_parquet_outputs/dim_immi_flight.parquet/part-00072-20bacd3b-133c-483c-b141-e1b2c3db1a53-c000.snappy.parquet\n",
      "./ws_parquet_outputs/dim_immi_flight.parquet/.part-00144-20bacd3b-133c-483c-b141-e1b2c3db1a53-c000.snappy.parquet.crc\n",
      "./ws_parquet_outputs/dim_immi_flight.parquet/.part-00018-20bacd3b-133c-483c-b141-e1b2c3db1a53-c000.snappy.parquet.crc\n",
      "./ws_parquet_outputs/dim_immi_flight.parquet/part-00091-20bacd3b-133c-483c-b141-e1b2c3db1a53-c000.snappy.parquet\n",
      "./ws_parquet_outputs/dim_immi_flight.parquet/.part-00048-20bacd3b-133c-483c-b141-e1b2c3db1a53-c000.snappy.parquet.crc\n",
      "./ws_parquet_outputs/dim_immi_flight.parquet/_SUCCESS\n",
      "./ws_parquet_outputs/dim_immi_flight.parquet/.part-00126-20bacd3b-133c-483c-b141-e1b2c3db1a53-c000.snappy.parquet.crc\n",
      "./ws_parquet_outputs/dim_immi_flight.parquet/part-00184-20bacd3b-133c-483c-b141-e1b2c3db1a53-c000.snappy.parquet\n",
      "./ws_parquet_outputs/dim_immi_flight.parquet/part-00111-20bacd3b-133c-483c-b141-e1b2c3db1a53-c000.snappy.parquet\n",
      "./ws_parquet_outputs/dim_immi_flight.parquet/part-00104-20bacd3b-133c-483c-b141-e1b2c3db1a53-c000.snappy.parquet\n",
      "./ws_parquet_outputs/dim_immi_flight.parquet/.part-00044-20bacd3b-133c-483c-b141-e1b2c3db1a53-c000.snappy.parquet.crc\n",
      "./ws_parquet_outputs/dim_immi_flight.parquet/.part-00098-20bacd3b-133c-483c-b141-e1b2c3db1a53-c000.snappy.parquet.crc\n",
      "./ws_parquet_outputs/dim_immi_flight.parquet/part-00006-20bacd3b-133c-483c-b141-e1b2c3db1a53-c000.snappy.parquet\n",
      "./ws_parquet_outputs/dim_immi_flight.parquet/.part-00017-20bacd3b-133c-483c-b141-e1b2c3db1a53-c000.snappy.parquet.crc\n",
      "./ws_parquet_outputs/dim_immi_flight.parquet/part-00133-20bacd3b-133c-483c-b141-e1b2c3db1a53-c000.snappy.parquet\n",
      "./ws_parquet_outputs/dim_immi_flight.parquet/part-00163-20bacd3b-133c-483c-b141-e1b2c3db1a53-c000.snappy.parquet\n",
      "./ws_parquet_outputs/dim_immi_flight.parquet/part-00175-20bacd3b-133c-483c-b141-e1b2c3db1a53-c000.snappy.parquet\n",
      "./ws_parquet_outputs/dim_immi_flight.parquet/.part-00003-20bacd3b-133c-483c-b141-e1b2c3db1a53-c000.snappy.parquet.crc\n",
      "./ws_parquet_outputs/dim_immi_flight.parquet/.part-00032-20bacd3b-133c-483c-b141-e1b2c3db1a53-c000.snappy.parquet.crc\n",
      "./ws_parquet_outputs/dim_immi_flight.parquet/.part-00030-20bacd3b-133c-483c-b141-e1b2c3db1a53-c000.snappy.parquet.crc\n",
      "./ws_parquet_outputs/dim_immi_flight.parquet/part-00153-20bacd3b-133c-483c-b141-e1b2c3db1a53-c000.snappy.parquet\n",
      "./ws_parquet_outputs/dim_immi_flight.parquet/.part-00129-20bacd3b-133c-483c-b141-e1b2c3db1a53-c000.snappy.parquet.crc\n",
      "./ws_parquet_outputs/dim_immi_flight.parquet/part-00125-20bacd3b-133c-483c-b141-e1b2c3db1a53-c000.snappy.parquet\n",
      "./ws_parquet_outputs/dim_immi_flight.parquet/part-00048-20bacd3b-133c-483c-b141-e1b2c3db1a53-c000.snappy.parquet\n",
      "./ws_parquet_outputs/dim_immi_flight.parquet/part-00069-20bacd3b-133c-483c-b141-e1b2c3db1a53-c000.snappy.parquet\n",
      "./ws_parquet_outputs/dim_immi_flight.parquet/part-00107-20bacd3b-133c-483c-b141-e1b2c3db1a53-c000.snappy.parquet\n",
      "./ws_parquet_outputs/dim_immi_flight.parquet/part-00195-20bacd3b-133c-483c-b141-e1b2c3db1a53-c000.snappy.parquet\n",
      "./ws_parquet_outputs/dim_immi_flight.parquet/.part-00009-20bacd3b-133c-483c-b141-e1b2c3db1a53-c000.snappy.parquet.crc\n",
      "./ws_parquet_outputs/dim_immi_flight.parquet/.part-00082-20bacd3b-133c-483c-b141-e1b2c3db1a53-c000.snappy.parquet.crc\n",
      "./ws_parquet_outputs/dim_immi_flight.parquet/.part-00190-20bacd3b-133c-483c-b141-e1b2c3db1a53-c000.snappy.parquet.crc\n",
      "./ws_parquet_outputs/dim_immi_flight.parquet/.part-00049-20bacd3b-133c-483c-b141-e1b2c3db1a53-c000.snappy.parquet.crc\n",
      "./ws_parquet_outputs/dim_immi_flight.parquet/.part-00097-20bacd3b-133c-483c-b141-e1b2c3db1a53-c000.snappy.parquet.crc\n",
      "./ws_parquet_outputs/dim_immi_flight.parquet/.part-00139-20bacd3b-133c-483c-b141-e1b2c3db1a53-c000.snappy.parquet.crc\n",
      "./ws_parquet_outputs/dim_immi_flight.parquet/part-00183-20bacd3b-133c-483c-b141-e1b2c3db1a53-c000.snappy.parquet\n",
      "./ws_parquet_outputs/dim_immi_flight.parquet/part-00176-20bacd3b-133c-483c-b141-e1b2c3db1a53-c000.snappy.parquet\n",
      "./ws_parquet_outputs/dim_immi_flight.parquet/part-00187-20bacd3b-133c-483c-b141-e1b2c3db1a53-c000.snappy.parquet\n",
      "./ws_parquet_outputs/dim_immi_flight.parquet/.part-00037-20bacd3b-133c-483c-b141-e1b2c3db1a53-c000.snappy.parquet.crc\n",
      "./ws_parquet_outputs/dim_immi_flight.parquet/.part-00138-20bacd3b-133c-483c-b141-e1b2c3db1a53-c000.snappy.parquet.crc\n",
      "./ws_parquet_outputs/dim_immi_flight.parquet/part-00018-20bacd3b-133c-483c-b141-e1b2c3db1a53-c000.snappy.parquet\n",
      "./ws_parquet_outputs/dim_immi_flight.parquet/.part-00145-20bacd3b-133c-483c-b141-e1b2c3db1a53-c000.snappy.parquet.crc\n",
      "./ws_parquet_outputs/dim_immi_flight.parquet/.part-00113-20bacd3b-133c-483c-b141-e1b2c3db1a53-c000.snappy.parquet.crc\n",
      "./ws_parquet_outputs/dim_immi_flight.parquet/.part-00168-20bacd3b-133c-483c-b141-e1b2c3db1a53-c000.snappy.parquet.crc\n",
      "./ws_parquet_outputs/dim_immi_flight.parquet/part-00090-20bacd3b-133c-483c-b141-e1b2c3db1a53-c000.snappy.parquet\n",
      "./ws_parquet_outputs/dim_immi_flight.parquet/part-00040-20bacd3b-133c-483c-b141-e1b2c3db1a53-c000.snappy.parquet\n",
      "./ws_parquet_outputs/dim_immi_flight.parquet/part-00057-20bacd3b-133c-483c-b141-e1b2c3db1a53-c000.snappy.parquet\n",
      "./ws_parquet_outputs/dim_immi_flight.parquet/part-00033-20bacd3b-133c-483c-b141-e1b2c3db1a53-c000.snappy.parquet\n",
      "./ws_parquet_outputs/dim_immi_flight.parquet/part-00118-20bacd3b-133c-483c-b141-e1b2c3db1a53-c000.snappy.parquet\n",
      "./ws_parquet_outputs/dim_immi_flight.parquet/part-00010-20bacd3b-133c-483c-b141-e1b2c3db1a53-c000.snappy.parquet\n",
      "./ws_parquet_outputs/dim_immi_flight.parquet/part-00051-20bacd3b-133c-483c-b141-e1b2c3db1a53-c000.snappy.parquet\n",
      "./ws_parquet_outputs/dim_immi_flight.parquet/part-00096-20bacd3b-133c-483c-b141-e1b2c3db1a53-c000.snappy.parquet\n",
      "./ws_parquet_outputs/dim_immi_flight.parquet/part-00170-20bacd3b-133c-483c-b141-e1b2c3db1a53-c000.snappy.parquet\n",
      "./ws_parquet_outputs/dim_immi_flight.parquet/.part-00151-20bacd3b-133c-483c-b141-e1b2c3db1a53-c000.snappy.parquet.crc\n",
      "./ws_parquet_outputs/dim_immi_flight.parquet/part-00077-20bacd3b-133c-483c-b141-e1b2c3db1a53-c000.snappy.parquet\n",
      "./ws_parquet_outputs/dim_immi_flight.parquet/.part-00002-20bacd3b-133c-483c-b141-e1b2c3db1a53-c000.snappy.parquet.crc\n",
      "./ws_parquet_outputs/dim_immi_flight.parquet/part-00173-20bacd3b-133c-483c-b141-e1b2c3db1a53-c000.snappy.parquet\n",
      "./ws_parquet_outputs/dim_immi_flight.parquet/.part-00136-20bacd3b-133c-483c-b141-e1b2c3db1a53-c000.snappy.parquet.crc\n",
      "./ws_parquet_outputs/dim_immi_flight.parquet/part-00014-20bacd3b-133c-483c-b141-e1b2c3db1a53-c000.snappy.parquet\n",
      "./ws_parquet_outputs/dim_immi_flight.parquet/part-00139-20bacd3b-133c-483c-b141-e1b2c3db1a53-c000.snappy.parquet\n",
      "./ws_parquet_outputs/dim_immi_flight.parquet/part-00137-20bacd3b-133c-483c-b141-e1b2c3db1a53-c000.snappy.parquet\n",
      "./ws_parquet_outputs/dim_immi_flight.parquet/part-00115-20bacd3b-133c-483c-b141-e1b2c3db1a53-c000.snappy.parquet\n",
      "./ws_parquet_outputs/dim_immi_flight.parquet/.part-00134-20bacd3b-133c-483c-b141-e1b2c3db1a53-c000.snappy.parquet.crc\n",
      "./ws_parquet_outputs/dim_immi_flight.parquet/part-00015-20bacd3b-133c-483c-b141-e1b2c3db1a53-c000.snappy.parquet\n",
      "./ws_parquet_outputs/dim_immi_flight.parquet/.part-00182-20bacd3b-133c-483c-b141-e1b2c3db1a53-c000.snappy.parquet.crc\n",
      "./ws_parquet_outputs/dim_immi_flight.parquet/part-00138-20bacd3b-133c-483c-b141-e1b2c3db1a53-c000.snappy.parquet\n",
      "./ws_parquet_outputs/dim_immi_flight.parquet/.part-00031-20bacd3b-133c-483c-b141-e1b2c3db1a53-c000.snappy.parquet.crc\n",
      "./ws_parquet_outputs/dim_immi_flight.parquet/part-00035-20bacd3b-133c-483c-b141-e1b2c3db1a53-c000.snappy.parquet\n",
      "./ws_parquet_outputs/dim_immi_flight.parquet/.part-00148-20bacd3b-133c-483c-b141-e1b2c3db1a53-c000.snappy.parquet.crc\n",
      "./ws_parquet_outputs/dim_immi_flight.parquet/.part-00092-20bacd3b-133c-483c-b141-e1b2c3db1a53-c000.snappy.parquet.crc\n",
      "./ws_parquet_outputs/dim_immi_flight.parquet/.part-00071-20bacd3b-133c-483c-b141-e1b2c3db1a53-c000.snappy.parquet.crc\n",
      "./ws_parquet_outputs/dim_immi_flight.parquet/.part-00165-20bacd3b-133c-483c-b141-e1b2c3db1a53-c000.snappy.parquet.crc\n",
      "./ws_parquet_outputs/dim_immi_flight.parquet/part-00162-20bacd3b-133c-483c-b141-e1b2c3db1a53-c000.snappy.parquet\n",
      "./ws_parquet_outputs/dim_immi_flight.parquet/part-00120-20bacd3b-133c-483c-b141-e1b2c3db1a53-c000.snappy.parquet\n",
      "./ws_parquet_outputs/dim_immi_flight.parquet/part-00003-20bacd3b-133c-483c-b141-e1b2c3db1a53-c000.snappy.parquet\n",
      "./ws_parquet_outputs/dim_immi_flight.parquet/part-00042-20bacd3b-133c-483c-b141-e1b2c3db1a53-c000.snappy.parquet\n",
      "./ws_parquet_outputs/dim_immi_flight.parquet/part-00089-20bacd3b-133c-483c-b141-e1b2c3db1a53-c000.snappy.parquet\n",
      "./ws_parquet_outputs/dim_immi_flight.parquet/.part-00184-20bacd3b-133c-483c-b141-e1b2c3db1a53-c000.snappy.parquet.crc\n",
      "./ws_parquet_outputs/dim_immi_flight.parquet/part-00087-20bacd3b-133c-483c-b141-e1b2c3db1a53-c000.snappy.parquet\n",
      "./ws_parquet_outputs/dim_immi_flight.parquet/.part-00101-20bacd3b-133c-483c-b141-e1b2c3db1a53-c000.snappy.parquet.crc\n",
      "./ws_parquet_outputs/dim_immi_flight.parquet/.part-00056-20bacd3b-133c-483c-b141-e1b2c3db1a53-c000.snappy.parquet.crc\n",
      "./ws_parquet_outputs/dim_immi_flight.parquet/.part-00189-20bacd3b-133c-483c-b141-e1b2c3db1a53-c000.snappy.parquet.crc\n",
      "./ws_parquet_outputs/dim_immi_flight.parquet/.part-00196-20bacd3b-133c-483c-b141-e1b2c3db1a53-c000.snappy.parquet.crc\n",
      "./ws_parquet_outputs/dim_immi_flight.parquet/part-00160-20bacd3b-133c-483c-b141-e1b2c3db1a53-c000.snappy.parquet\n",
      "./ws_parquet_outputs/dim_immi_flight.parquet/.part-00199-20bacd3b-133c-483c-b141-e1b2c3db1a53-c000.snappy.parquet.crc\n",
      "./ws_parquet_outputs/dim_immi_flight.parquet/.part-00004-20bacd3b-133c-483c-b141-e1b2c3db1a53-c000.snappy.parquet.crc\n",
      "./ws_parquet_outputs/dim_immi_flight.parquet/part-00041-20bacd3b-133c-483c-b141-e1b2c3db1a53-c000.snappy.parquet\n",
      "./ws_parquet_outputs/dim_immi_flight.parquet/.part-00102-20bacd3b-133c-483c-b141-e1b2c3db1a53-c000.snappy.parquet.crc\n",
      "./ws_parquet_outputs/dim_immi_flight.parquet/.part-00036-20bacd3b-133c-483c-b141-e1b2c3db1a53-c000.snappy.parquet.crc\n",
      "./ws_parquet_outputs/dim_immi_flight.parquet/.part-00083-20bacd3b-133c-483c-b141-e1b2c3db1a53-c000.snappy.parquet.crc\n",
      "./ws_parquet_outputs/dim_immi_flight.parquet/.part-00108-20bacd3b-133c-483c-b141-e1b2c3db1a53-c000.snappy.parquet.crc\n",
      "./ws_parquet_outputs/dim_immi_flight.parquet/part-00198-20bacd3b-133c-483c-b141-e1b2c3db1a53-c000.snappy.parquet\n",
      "./ws_parquet_outputs/dim_immi_flight.parquet/.part-00149-20bacd3b-133c-483c-b141-e1b2c3db1a53-c000.snappy.parquet.crc\n",
      "./ws_parquet_outputs/dim_immi_flight.parquet/.part-00043-20bacd3b-133c-483c-b141-e1b2c3db1a53-c000.snappy.parquet.crc\n",
      "./ws_parquet_outputs/dim_immi_flight.parquet/.part-00140-20bacd3b-133c-483c-b141-e1b2c3db1a53-c000.snappy.parquet.crc\n",
      "./ws_parquet_outputs/dim_immi_flight.parquet/.part-00180-20bacd3b-133c-483c-b141-e1b2c3db1a53-c000.snappy.parquet.crc\n",
      "./ws_parquet_outputs/dim_immi_flight.parquet/part-00182-20bacd3b-133c-483c-b141-e1b2c3db1a53-c000.snappy.parquet\n",
      "./ws_parquet_outputs/dim_immi_flight.parquet/part-00025-20bacd3b-133c-483c-b141-e1b2c3db1a53-c000.snappy.parquet\n",
      "./ws_parquet_outputs/dim_immi_flight.parquet/.part-00066-20bacd3b-133c-483c-b141-e1b2c3db1a53-c000.snappy.parquet.crc\n",
      "./ws_parquet_outputs/dim_immi_flight.parquet/.part-00142-20bacd3b-133c-483c-b141-e1b2c3db1a53-c000.snappy.parquet.crc\n",
      "./ws_parquet_outputs/dim_immi_flight.parquet/part-00047-20bacd3b-133c-483c-b141-e1b2c3db1a53-c000.snappy.parquet\n",
      "./ws_parquet_outputs/dim_immi_flight.parquet/part-00126-20bacd3b-133c-483c-b141-e1b2c3db1a53-c000.snappy.parquet\n",
      "./ws_parquet_outputs/dim_immi_flight.parquet/part-00155-20bacd3b-133c-483c-b141-e1b2c3db1a53-c000.snappy.parquet\n",
      "./ws_parquet_outputs/dim_immi_flight.parquet/part-00123-20bacd3b-133c-483c-b141-e1b2c3db1a53-c000.snappy.parquet\n",
      "./ws_parquet_outputs/dim_immi_flight.parquet/part-00190-20bacd3b-133c-483c-b141-e1b2c3db1a53-c000.snappy.parquet\n",
      "./ws_parquet_outputs/dim_immi_flight.parquet/.part-00070-20bacd3b-133c-483c-b141-e1b2c3db1a53-c000.snappy.parquet.crc\n",
      "./ws_parquet_outputs/dim_immi_flight.parquet/.part-00164-20bacd3b-133c-483c-b141-e1b2c3db1a53-c000.snappy.parquet.crc\n",
      "./ws_parquet_outputs/dim_immi_flight.parquet/.part-00093-20bacd3b-133c-483c-b141-e1b2c3db1a53-c000.snappy.parquet.crc\n",
      "./ws_parquet_outputs/dim_immi_flight.parquet/part-00148-20bacd3b-133c-483c-b141-e1b2c3db1a53-c000.snappy.parquet\n",
      "./ws_parquet_outputs/dim_immi_flight.parquet/.part-00055-20bacd3b-133c-483c-b141-e1b2c3db1a53-c000.snappy.parquet.crc\n",
      "./ws_parquet_outputs/dim_immi_flight.parquet/.part-00013-20bacd3b-133c-483c-b141-e1b2c3db1a53-c000.snappy.parquet.crc\n",
      "./ws_parquet_outputs/dim_immi_flight.parquet/part-00199-20bacd3b-133c-483c-b141-e1b2c3db1a53-c000.snappy.parquet\n",
      "./ws_parquet_outputs/dim_immi_flight.parquet/part-00166-20bacd3b-133c-483c-b141-e1b2c3db1a53-c000.snappy.parquet\n",
      "./ws_parquet_outputs/dim_immi_flight.parquet/part-00071-20bacd3b-133c-483c-b141-e1b2c3db1a53-c000.snappy.parquet\n",
      "./ws_parquet_outputs/dim_immi_flight.parquet/part-00053-20bacd3b-133c-483c-b141-e1b2c3db1a53-c000.snappy.parquet\n",
      "./ws_parquet_outputs/dim_immi_flight.parquet/.part-00155-20bacd3b-133c-483c-b141-e1b2c3db1a53-c000.snappy.parquet.crc\n",
      "./ws_parquet_outputs/dim_immi_flight.parquet/.part-00179-20bacd3b-133c-483c-b141-e1b2c3db1a53-c000.snappy.parquet.crc\n",
      "./ws_parquet_outputs/dim_immi_flight.parquet/.part-00005-20bacd3b-133c-483c-b141-e1b2c3db1a53-c000.snappy.parquet.crc\n",
      "./ws_parquet_outputs/dim_immi_flight.parquet/.part-00020-20bacd3b-133c-483c-b141-e1b2c3db1a53-c000.snappy.parquet.crc\n",
      "./ws_parquet_outputs/dim_immi_flight.parquet/part-00034-20bacd3b-133c-483c-b141-e1b2c3db1a53-c000.snappy.parquet\n",
      "./ws_parquet_outputs/dim_immi_flight.parquet/part-00043-20bacd3b-133c-483c-b141-e1b2c3db1a53-c000.snappy.parquet\n",
      "./ws_parquet_outputs/dim_immi_flight.parquet/.part-00195-20bacd3b-133c-483c-b141-e1b2c3db1a53-c000.snappy.parquet.crc\n",
      "./ws_parquet_outputs/dim_immi_flight.parquet/part-00052-20bacd3b-133c-483c-b141-e1b2c3db1a53-c000.snappy.parquet\n",
      "./ws_parquet_outputs/dim_immi_flight.parquet/part-00151-20bacd3b-133c-483c-b141-e1b2c3db1a53-c000.snappy.parquet\n",
      "./ws_parquet_outputs/dim_immi_flight.parquet/part-00150-20bacd3b-133c-483c-b141-e1b2c3db1a53-c000.snappy.parquet\n",
      "./ws_parquet_outputs/dim_immi_flight.parquet/part-00061-20bacd3b-133c-483c-b141-e1b2c3db1a53-c000.snappy.parquet\n",
      "./ws_parquet_outputs/dim_immi_flight.parquet/.part-00117-20bacd3b-133c-483c-b141-e1b2c3db1a53-c000.snappy.parquet.crc\n",
      "./ws_parquet_outputs/dim_immi_flight.parquet/part-00082-20bacd3b-133c-483c-b141-e1b2c3db1a53-c000.snappy.parquet\n",
      "./ws_parquet_outputs/dim_immi_flight.parquet/.part-00110-20bacd3b-133c-483c-b141-e1b2c3db1a53-c000.snappy.parquet.crc\n",
      "./ws_parquet_outputs/dim_immi_flight.parquet/part-00056-20bacd3b-133c-483c-b141-e1b2c3db1a53-c000.snappy.parquet\n",
      "./ws_parquet_outputs/dim_immi_flight.parquet/part-00197-20bacd3b-133c-483c-b141-e1b2c3db1a53-c000.snappy.parquet\n",
      "./ws_parquet_outputs/dim_immi_flight.parquet/part-00140-20bacd3b-133c-483c-b141-e1b2c3db1a53-c000.snappy.parquet\n",
      "./ws_parquet_outputs/dim_immi_flight.parquet/.part-00197-20bacd3b-133c-483c-b141-e1b2c3db1a53-c000.snappy.parquet.crc\n",
      "./ws_parquet_outputs/dim_immi_flight.parquet/.part-00159-20bacd3b-133c-483c-b141-e1b2c3db1a53-c000.snappy.parquet.crc\n",
      "./ws_parquet_outputs/dim_immi_flight.parquet/.part-00124-20bacd3b-133c-483c-b141-e1b2c3db1a53-c000.snappy.parquet.crc\n",
      "./ws_parquet_outputs/dim_immi_flight.parquet/.part-00095-20bacd3b-133c-483c-b141-e1b2c3db1a53-c000.snappy.parquet.crc\n",
      "./ws_parquet_outputs/dim_immi_flight.parquet/part-00135-20bacd3b-133c-483c-b141-e1b2c3db1a53-c000.snappy.parquet\n",
      "./ws_parquet_outputs/dim_immi_flight.parquet/.part-00052-20bacd3b-133c-483c-b141-e1b2c3db1a53-c000.snappy.parquet.crc\n",
      "./ws_parquet_outputs/dim_immi_flight.parquet/part-00086-20bacd3b-133c-483c-b141-e1b2c3db1a53-c000.snappy.parquet\n",
      "./ws_parquet_outputs/dim_immi_flight.parquet/.part-00062-20bacd3b-133c-483c-b141-e1b2c3db1a53-c000.snappy.parquet.crc\n",
      "./ws_parquet_outputs/dim_immi_flight.parquet/.part-00061-20bacd3b-133c-483c-b141-e1b2c3db1a53-c000.snappy.parquet.crc\n",
      "./ws_parquet_outputs/dim_immi_flight.parquet/.part-00038-20bacd3b-133c-483c-b141-e1b2c3db1a53-c000.snappy.parquet.crc\n",
      "./ws_parquet_outputs/dim_immi_flight.parquet/.part-00120-20bacd3b-133c-483c-b141-e1b2c3db1a53-c000.snappy.parquet.crc\n",
      "./ws_parquet_outputs/dim_immi_flight.parquet/part-00134-20bacd3b-133c-483c-b141-e1b2c3db1a53-c000.snappy.parquet\n",
      "./ws_parquet_outputs/dim_immi_flight.parquet/part-00194-20bacd3b-133c-483c-b141-e1b2c3db1a53-c000.snappy.parquet\n",
      "./ws_parquet_outputs/dim_immi_flight.parquet/.part-00121-20bacd3b-133c-483c-b141-e1b2c3db1a53-c000.snappy.parquet.crc\n",
      "./ws_parquet_outputs/dim_immi_flight.parquet/.part-00186-20bacd3b-133c-483c-b141-e1b2c3db1a53-c000.snappy.parquet.crc\n",
      "./ws_parquet_outputs/dim_immi_flight.parquet/part-00102-20bacd3b-133c-483c-b141-e1b2c3db1a53-c000.snappy.parquet\n",
      "./ws_parquet_outputs/dim_immi_flight.parquet/part-00145-20bacd3b-133c-483c-b141-e1b2c3db1a53-c000.snappy.parquet\n",
      "./ws_parquet_outputs/dim_immi_flight.parquet/.part-00046-20bacd3b-133c-483c-b141-e1b2c3db1a53-c000.snappy.parquet.crc\n",
      "./ws_parquet_outputs/dim_immi_flight.parquet/.part-00021-20bacd3b-133c-483c-b141-e1b2c3db1a53-c000.snappy.parquet.crc\n",
      "./ws_parquet_outputs/dim_immi_flight.parquet/.part-00000-20bacd3b-133c-483c-b141-e1b2c3db1a53-c000.snappy.parquet.crc\n",
      "./ws_parquet_outputs/dim_immi_flight.parquet/.part-00086-20bacd3b-133c-483c-b141-e1b2c3db1a53-c000.snappy.parquet.crc\n",
      "./ws_parquet_outputs/dim_immi_flight.parquet/part-00131-20bacd3b-133c-483c-b141-e1b2c3db1a53-c000.snappy.parquet\n",
      "./ws_parquet_outputs/dim_immi_flight.parquet/.part-00158-20bacd3b-133c-483c-b141-e1b2c3db1a53-c000.snappy.parquet.crc\n",
      "./ws_parquet_outputs/dim_immi_flight.parquet/part-00059-20bacd3b-133c-483c-b141-e1b2c3db1a53-c000.snappy.parquet\n",
      "./ws_parquet_outputs/dim_immi_flight.parquet/.part-00160-20bacd3b-133c-483c-b141-e1b2c3db1a53-c000.snappy.parquet.crc\n",
      "./ws_parquet_outputs/dim_immi_flight.parquet/part-00165-20bacd3b-133c-483c-b141-e1b2c3db1a53-c000.snappy.parquet\n",
      "./ws_parquet_outputs/dim_immi_flight.parquet/part-00141-20bacd3b-133c-483c-b141-e1b2c3db1a53-c000.snappy.parquet\n",
      "./ws_parquet_outputs/dim_immi_flight.parquet/.part-00058-20bacd3b-133c-483c-b141-e1b2c3db1a53-c000.snappy.parquet.crc\n",
      "./ws_parquet_outputs/dim_immi_flight.parquet/part-00019-20bacd3b-133c-483c-b141-e1b2c3db1a53-c000.snappy.parquet\n",
      "./ws_parquet_outputs/dim_immi_flight.parquet/part-00062-20bacd3b-133c-483c-b141-e1b2c3db1a53-c000.snappy.parquet\n",
      "./ws_parquet_outputs/dim_immi_flight.parquet/part-00192-20bacd3b-133c-483c-b141-e1b2c3db1a53-c000.snappy.parquet\n",
      "./ws_parquet_outputs/dim_immi_flight.parquet/.part-00157-20bacd3b-133c-483c-b141-e1b2c3db1a53-c000.snappy.parquet.crc\n",
      "./ws_parquet_outputs/dim_immi_flight.parquet/.part-00064-20bacd3b-133c-483c-b141-e1b2c3db1a53-c000.snappy.parquet.crc\n",
      "./ws_parquet_outputs/dim_immi_flight.parquet/.part-00119-20bacd3b-133c-483c-b141-e1b2c3db1a53-c000.snappy.parquet.crc\n",
      "./ws_parquet_outputs/dim_immi_flight.parquet/part-00128-20bacd3b-133c-483c-b141-e1b2c3db1a53-c000.snappy.parquet\n",
      "./ws_parquet_outputs/dim_immi_flight.parquet/part-00158-20bacd3b-133c-483c-b141-e1b2c3db1a53-c000.snappy.parquet\n",
      "./ws_parquet_outputs/dim_immi_flight.parquet/.part-00163-20bacd3b-133c-483c-b141-e1b2c3db1a53-c000.snappy.parquet.crc\n",
      "./ws_parquet_outputs/dim_immi_flight.parquet/part-00067-20bacd3b-133c-483c-b141-e1b2c3db1a53-c000.snappy.parquet\n",
      "./ws_parquet_outputs/dim_immi_flight.parquet/.part-00132-20bacd3b-133c-483c-b141-e1b2c3db1a53-c000.snappy.parquet.crc\n",
      "./ws_parquet_outputs/dim_immi_flight.parquet/part-00112-20bacd3b-133c-483c-b141-e1b2c3db1a53-c000.snappy.parquet\n",
      "./ws_parquet_outputs/dim_immi_flight.parquet/part-00028-20bacd3b-133c-483c-b141-e1b2c3db1a53-c000.snappy.parquet\n",
      "./ws_parquet_outputs/dim_immi_flight.parquet/part-00180-20bacd3b-133c-483c-b141-e1b2c3db1a53-c000.snappy.parquet\n",
      "./ws_parquet_outputs/dim_immi_flight.parquet/part-00149-20bacd3b-133c-483c-b141-e1b2c3db1a53-c000.snappy.parquet\n",
      "./ws_parquet_outputs/dim_immi_flight.parquet/.part-00176-20bacd3b-133c-483c-b141-e1b2c3db1a53-c000.snappy.parquet.crc\n",
      "./ws_parquet_outputs/dim_immi_flight.parquet/.part-00025-20bacd3b-133c-483c-b141-e1b2c3db1a53-c000.snappy.parquet.crc\n",
      "./ws_parquet_outputs/dim_immi_flight.parquet/part-00185-20bacd3b-133c-483c-b141-e1b2c3db1a53-c000.snappy.parquet\n",
      "./ws_parquet_outputs/dim_immi_flight.parquet/part-00023-20bacd3b-133c-483c-b141-e1b2c3db1a53-c000.snappy.parquet\n",
      "./ws_parquet_outputs/dim_immi_flight.parquet/part-00127-20bacd3b-133c-483c-b141-e1b2c3db1a53-c000.snappy.parquet\n",
      "./ws_parquet_outputs/dim_immi_flight.parquet/part-00172-20bacd3b-133c-483c-b141-e1b2c3db1a53-c000.snappy.parquet\n",
      "./ws_parquet_outputs/dim_immi_flight.parquet/part-00081-20bacd3b-133c-483c-b141-e1b2c3db1a53-c000.snappy.parquet\n",
      "./ws_parquet_outputs/dim_immi_flight.parquet/.part-00050-20bacd3b-133c-483c-b141-e1b2c3db1a53-c000.snappy.parquet.crc\n",
      "./ws_parquet_outputs/dim_immi_flight.parquet/part-00100-20bacd3b-133c-483c-b141-e1b2c3db1a53-c000.snappy.parquet\n",
      "./ws_parquet_outputs/dim_immi_flight.parquet/part-00144-20bacd3b-133c-483c-b141-e1b2c3db1a53-c000.snappy.parquet\n",
      "./ws_parquet_outputs/dim_immi_flight.parquet/part-00078-20bacd3b-133c-483c-b141-e1b2c3db1a53-c000.snappy.parquet\n",
      "./ws_parquet_outputs/dim_immi_flight.parquet/.part-00014-20bacd3b-133c-483c-b141-e1b2c3db1a53-c000.snappy.parquet.crc\n",
      "./ws_parquet_outputs/dim_immi_flight.parquet/.part-00015-20bacd3b-133c-483c-b141-e1b2c3db1a53-c000.snappy.parquet.crc\n",
      "./ws_parquet_outputs/dim_immi_flight.parquet/part-00106-20bacd3b-133c-483c-b141-e1b2c3db1a53-c000.snappy.parquet\n",
      "./ws_parquet_outputs/dim_immi_flight.parquet/.part-00181-20bacd3b-133c-483c-b141-e1b2c3db1a53-c000.snappy.parquet.crc\n",
      "./ws_parquet_outputs/dim_immi_flight.parquet/part-00130-20bacd3b-133c-483c-b141-e1b2c3db1a53-c000.snappy.parquet\n",
      "./ws_parquet_outputs/dim_immi_flight.parquet/part-00050-20bacd3b-133c-483c-b141-e1b2c3db1a53-c000.snappy.parquet\n",
      "./ws_parquet_outputs/dim_immi_flight.parquet/part-00181-20bacd3b-133c-483c-b141-e1b2c3db1a53-c000.snappy.parquet\n",
      "./ws_parquet_outputs/dim_immi_flight.parquet/.part-00008-20bacd3b-133c-483c-b141-e1b2c3db1a53-c000.snappy.parquet.crc\n",
      "./ws_parquet_outputs/dim_immi_flight.parquet/.part-00130-20bacd3b-133c-483c-b141-e1b2c3db1a53-c000.snappy.parquet.crc\n",
      "./ws_parquet_outputs/dim_immi_flight.parquet/part-00000-20bacd3b-133c-483c-b141-e1b2c3db1a53-c000.snappy.parquet\n",
      "./ws_parquet_outputs/dim_immi_flight.parquet/part-00119-20bacd3b-133c-483c-b141-e1b2c3db1a53-c000.snappy.parquet\n",
      "./ws_parquet_outputs/dim_immi_flight.parquet/.part-00150-20bacd3b-133c-483c-b141-e1b2c3db1a53-c000.snappy.parquet.crc\n",
      "./ws_parquet_outputs/dim_immi_flight.parquet/part-00132-20bacd3b-133c-483c-b141-e1b2c3db1a53-c000.snappy.parquet\n",
      "./ws_parquet_outputs/dim_immi_flight.parquet/.part-00054-20bacd3b-133c-483c-b141-e1b2c3db1a53-c000.snappy.parquet.crc\n",
      "./ws_parquet_outputs/dim_immi_flight.parquet/part-00095-20bacd3b-133c-483c-b141-e1b2c3db1a53-c000.snappy.parquet\n",
      "./ws_parquet_outputs/dim_immi_flight.parquet/.part-00096-20bacd3b-133c-483c-b141-e1b2c3db1a53-c000.snappy.parquet.crc\n",
      "./ws_parquet_outputs/dim_immi_flight.parquet/part-00110-20bacd3b-133c-483c-b141-e1b2c3db1a53-c000.snappy.parquet\n",
      "./ws_parquet_outputs/dim_immi_flight.parquet/.part-00170-20bacd3b-133c-483c-b141-e1b2c3db1a53-c000.snappy.parquet.crc\n",
      "./ws_parquet_outputs/dim_immi_flight.parquet/part-00083-20bacd3b-133c-483c-b141-e1b2c3db1a53-c000.snappy.parquet\n",
      "./ws_parquet_outputs/dim_immi_flight.parquet/.part-00047-20bacd3b-133c-483c-b141-e1b2c3db1a53-c000.snappy.parquet.crc\n",
      "./ws_parquet_outputs/dim_immi_flight.parquet/.part-00074-20bacd3b-133c-483c-b141-e1b2c3db1a53-c000.snappy.parquet.crc\n",
      "./ws_parquet_outputs/dim_immi_flight.parquet/.part-00011-20bacd3b-133c-483c-b141-e1b2c3db1a53-c000.snappy.parquet.crc\n",
      "./ws_parquet_outputs/dim_immi_flight.parquet/.part-00085-20bacd3b-133c-483c-b141-e1b2c3db1a53-c000.snappy.parquet.crc\n",
      "./ws_parquet_outputs/dim_immi_flight.parquet/part-00154-20bacd3b-133c-483c-b141-e1b2c3db1a53-c000.snappy.parquet\n",
      "./ws_parquet_outputs/dim_immi_flight.parquet/.part-00094-20bacd3b-133c-483c-b141-e1b2c3db1a53-c000.snappy.parquet.crc\n",
      "./ws_parquet_outputs/dim_immi_flight.parquet/part-00171-20bacd3b-133c-483c-b141-e1b2c3db1a53-c000.snappy.parquet\n",
      "./ws_parquet_outputs/dim_immi_flight.parquet/.part-00188-20bacd3b-133c-483c-b141-e1b2c3db1a53-c000.snappy.parquet.crc\n",
      "./ws_parquet_outputs/dim_immi_flight.parquet/.part-00034-20bacd3b-133c-483c-b141-e1b2c3db1a53-c000.snappy.parquet.crc\n",
      "./ws_parquet_outputs/dim_immi_flight.parquet/.part-00115-20bacd3b-133c-483c-b141-e1b2c3db1a53-c000.snappy.parquet.crc\n",
      "./ws_parquet_outputs/dim_immi_flight.parquet/part-00193-20bacd3b-133c-483c-b141-e1b2c3db1a53-c000.snappy.parquet\n",
      "./ws_parquet_outputs/dim_immi_flight.parquet/.part-00122-20bacd3b-133c-483c-b141-e1b2c3db1a53-c000.snappy.parquet.crc\n",
      "./ws_parquet_outputs/dim_immi_flight.parquet/.part-00172-20bacd3b-133c-483c-b141-e1b2c3db1a53-c000.snappy.parquet.crc\n",
      "./ws_parquet_outputs/dim_immi_flight.parquet/part-00058-20bacd3b-133c-483c-b141-e1b2c3db1a53-c000.snappy.parquet\n",
      "./ws_parquet_outputs/dim_immi_flight.parquet/part-00044-20bacd3b-133c-483c-b141-e1b2c3db1a53-c000.snappy.parquet\n",
      "./ws_parquet_outputs/dim_immi_flight.parquet/.part-00041-20bacd3b-133c-483c-b141-e1b2c3db1a53-c000.snappy.parquet.crc\n",
      "./ws_parquet_outputs/dim_immi_flight.parquet/part-00002-20bacd3b-133c-483c-b141-e1b2c3db1a53-c000.snappy.parquet\n",
      "./ws_parquet_outputs/dim_immi_flight.parquet/.part-00084-20bacd3b-133c-483c-b141-e1b2c3db1a53-c000.snappy.parquet.crc\n",
      "./ws_parquet_outputs/dim_immi_flight.parquet/part-00105-20bacd3b-133c-483c-b141-e1b2c3db1a53-c000.snappy.parquet\n",
      "./ws_parquet_outputs/dim_immi_flight.parquet/part-00109-20bacd3b-133c-483c-b141-e1b2c3db1a53-c000.snappy.parquet\n",
      "./ws_parquet_outputs/dim_immi_flight.parquet/.part-00187-20bacd3b-133c-483c-b141-e1b2c3db1a53-c000.snappy.parquet.crc\n",
      "./ws_parquet_outputs/dim_immi_flight.parquet/.part-00068-20bacd3b-133c-483c-b141-e1b2c3db1a53-c000.snappy.parquet.crc\n",
      "./ws_parquet_outputs/dim_immi_flight.parquet/.part-00063-20bacd3b-133c-483c-b141-e1b2c3db1a53-c000.snappy.parquet.crc\n",
      "./ws_parquet_outputs/dim_immi_flight.parquet/part-00073-20bacd3b-133c-483c-b141-e1b2c3db1a53-c000.snappy.parquet\n",
      "./ws_parquet_outputs/dim_immi_flight.parquet/part-00164-20bacd3b-133c-483c-b141-e1b2c3db1a53-c000.snappy.parquet\n",
      "./ws_parquet_outputs/dim_immi_flight.parquet/.part-00033-20bacd3b-133c-483c-b141-e1b2c3db1a53-c000.snappy.parquet.crc\n",
      "./ws_parquet_outputs/dim_immi_flight.parquet/part-00157-20bacd3b-133c-483c-b141-e1b2c3db1a53-c000.snappy.parquet\n",
      "./ws_parquet_outputs/dim_immi_flight.parquet/.part-00143-20bacd3b-133c-483c-b141-e1b2c3db1a53-c000.snappy.parquet.crc\n",
      "./ws_parquet_outputs/dim_immi_flight.parquet/part-00114-20bacd3b-133c-483c-b141-e1b2c3db1a53-c000.snappy.parquet\n",
      "./ws_parquet_outputs/dim_immi_flight.parquet/part-00117-20bacd3b-133c-483c-b141-e1b2c3db1a53-c000.snappy.parquet\n",
      "./ws_parquet_outputs/dim_immi_flight.parquet/part-00156-20bacd3b-133c-483c-b141-e1b2c3db1a53-c000.snappy.parquet\n",
      "./ws_parquet_outputs/dim_immi_flight.parquet/part-00046-20bacd3b-133c-483c-b141-e1b2c3db1a53-c000.snappy.parquet\n",
      "./ws_parquet_outputs/dim_immi_flight.parquet/part-00079-20bacd3b-133c-483c-b141-e1b2c3db1a53-c000.snappy.parquet\n",
      "./ws_parquet_outputs/dim_immi_flight.parquet/.part-00192-20bacd3b-133c-483c-b141-e1b2c3db1a53-c000.snappy.parquet.crc\n",
      "./ws_parquet_outputs/dim_immi_flight.parquet/part-00099-20bacd3b-133c-483c-b141-e1b2c3db1a53-c000.snappy.parquet\n",
      "./ws_parquet_outputs/dim_immi_flight.parquet/part-00088-20bacd3b-133c-483c-b141-e1b2c3db1a53-c000.snappy.parquet\n",
      "./ws_parquet_outputs/dim_immi_flight.parquet/part-00005-20bacd3b-133c-483c-b141-e1b2c3db1a53-c000.snappy.parquet\n",
      "./ws_parquet_outputs/dim_immi_flight.parquet/.part-00175-20bacd3b-133c-483c-b141-e1b2c3db1a53-c000.snappy.parquet.crc\n",
      "./ws_parquet_outputs/dim_immi_flight.parquet/.part-00040-20bacd3b-133c-483c-b141-e1b2c3db1a53-c000.snappy.parquet.crc\n",
      "./ws_parquet_outputs/dim_immi_flight.parquet/part-00029-20bacd3b-133c-483c-b141-e1b2c3db1a53-c000.snappy.parquet\n",
      "./ws_parquet_outputs/dim_immi_flight.parquet/part-00124-20bacd3b-133c-483c-b141-e1b2c3db1a53-c000.snappy.parquet\n",
      "./ws_parquet_outputs/dim_immi_flight.parquet/part-00045-20bacd3b-133c-483c-b141-e1b2c3db1a53-c000.snappy.parquet\n",
      "./ws_parquet_outputs/dim_immi_flight.parquet/.part-00133-20bacd3b-133c-483c-b141-e1b2c3db1a53-c000.snappy.parquet.crc\n",
      "./ws_parquet_outputs/dim_immi_flight.parquet/.part-00100-20bacd3b-133c-483c-b141-e1b2c3db1a53-c000.snappy.parquet.crc\n",
      "./ws_parquet_outputs/dim_immi_flight.parquet/part-00037-20bacd3b-133c-483c-b141-e1b2c3db1a53-c000.snappy.parquet\n",
      "./ws_parquet_outputs/dim_immi_flight.parquet/part-00027-20bacd3b-133c-483c-b141-e1b2c3db1a53-c000.snappy.parquet\n",
      "./ws_parquet_outputs/dim_immi_flight.parquet/.part-00111-20bacd3b-133c-483c-b141-e1b2c3db1a53-c000.snappy.parquet.crc\n",
      "./ws_parquet_outputs/dim_immi_flight.parquet/.part-00109-20bacd3b-133c-483c-b141-e1b2c3db1a53-c000.snappy.parquet.crc\n",
      "./ws_parquet_outputs/dim_immi_flight.parquet/.part-00153-20bacd3b-133c-483c-b141-e1b2c3db1a53-c000.snappy.parquet.crc\n",
      "./ws_parquet_outputs/dim_immi_flight.parquet/part-00007-20bacd3b-133c-483c-b141-e1b2c3db1a53-c000.snappy.parquet\n",
      "./ws_parquet_outputs/dim_immi_flight.parquet/.part-00156-20bacd3b-133c-483c-b141-e1b2c3db1a53-c000.snappy.parquet.crc\n",
      "./ws_parquet_outputs/dim_immi_flight.parquet/part-00122-20bacd3b-133c-483c-b141-e1b2c3db1a53-c000.snappy.parquet\n",
      "./ws_parquet_outputs/dim_immi_flight.parquet/part-00060-20bacd3b-133c-483c-b141-e1b2c3db1a53-c000.snappy.parquet\n",
      "./ws_parquet_outputs/dim_immi_flight.parquet/.part-00178-20bacd3b-133c-483c-b141-e1b2c3db1a53-c000.snappy.parquet.crc\n",
      "./ws_parquet_outputs/dim_immi_flight.parquet/part-00169-20bacd3b-133c-483c-b141-e1b2c3db1a53-c000.snappy.parquet\n",
      "./ws_parquet_outputs/dim_immi_flight.parquet/part-00159-20bacd3b-133c-483c-b141-e1b2c3db1a53-c000.snappy.parquet\n",
      "./ws_parquet_outputs/dim_immi_flight.parquet/.part-00059-20bacd3b-133c-483c-b141-e1b2c3db1a53-c000.snappy.parquet.crc\n",
      "./ws_parquet_outputs/dim_immi_flight.parquet/.part-00162-20bacd3b-133c-483c-b141-e1b2c3db1a53-c000.snappy.parquet.crc\n",
      "./ws_parquet_outputs/dim_immi_flight.parquet/.part-00118-20bacd3b-133c-483c-b141-e1b2c3db1a53-c000.snappy.parquet.crc\n",
      "./ws_parquet_outputs/dim_immi_flight.parquet/.part-00065-20bacd3b-133c-483c-b141-e1b2c3db1a53-c000.snappy.parquet.crc\n",
      "./ws_parquet_outputs/dim_immi_flight.parquet/.part-00057-20bacd3b-133c-483c-b141-e1b2c3db1a53-c000.snappy.parquet.crc\n",
      "./ws_parquet_outputs/dim_immi_flight.parquet/._SUCCESS.crc\n",
      "./ws_parquet_outputs/dim_immi_flight.parquet/part-00174-20bacd3b-133c-483c-b141-e1b2c3db1a53-c000.snappy.parquet\n",
      "./ws_parquet_outputs/dim_immi_flight.parquet/part-00196-20bacd3b-133c-483c-b141-e1b2c3db1a53-c000.snappy.parquet\n",
      "./ws_parquet_outputs/dim_immi_flight.parquet/.part-00010-20bacd3b-133c-483c-b141-e1b2c3db1a53-c000.snappy.parquet.crc\n",
      "./ws_parquet_outputs/dim_immi_flight.parquet/.part-00067-20bacd3b-133c-483c-b141-e1b2c3db1a53-c000.snappy.parquet.crc\n",
      "./ws_parquet_outputs/dim_immi_flight.parquet/part-00167-20bacd3b-133c-483c-b141-e1b2c3db1a53-c000.snappy.parquet\n",
      "./ws_parquet_outputs/dim_immi_flight.parquet/.part-00128-20bacd3b-133c-483c-b141-e1b2c3db1a53-c000.snappy.parquet.crc\n",
      "./ws_parquet_outputs/dim_immi_flight.parquet/.part-00091-20bacd3b-133c-483c-b141-e1b2c3db1a53-c000.snappy.parquet.crc\n",
      "./ws_parquet_outputs/dim_immi_flight.parquet/part-00030-20bacd3b-133c-483c-b141-e1b2c3db1a53-c000.snappy.parquet\n",
      "./ws_parquet_outputs/dim_immi_flight.parquet/.part-00016-20bacd3b-133c-483c-b141-e1b2c3db1a53-c000.snappy.parquet.crc\n",
      "./ws_parquet_outputs/dim_immi_flight.parquet/part-00004-20bacd3b-133c-483c-b141-e1b2c3db1a53-c000.snappy.parquet\n",
      "./ws_parquet_outputs/dim_immi_flight.parquet/.part-00078-20bacd3b-133c-483c-b141-e1b2c3db1a53-c000.snappy.parquet.crc\n",
      "./ws_parquet_outputs/dim_immi_flight.parquet/.part-00154-20bacd3b-133c-483c-b141-e1b2c3db1a53-c000.snappy.parquet.crc\n",
      "./ws_parquet_outputs/dim_immi_flight.parquet/part-00032-20bacd3b-133c-483c-b141-e1b2c3db1a53-c000.snappy.parquet\n",
      "./ws_parquet_outputs/dim_immi_flight.parquet/.part-00152-20bacd3b-133c-483c-b141-e1b2c3db1a53-c000.snappy.parquet.crc\n",
      "./ws_parquet_outputs/dim_immi_flight.parquet/.part-00146-20bacd3b-133c-483c-b141-e1b2c3db1a53-c000.snappy.parquet.crc\n",
      "./ws_parquet_outputs/dim_immi_flight.parquet/part-00161-20bacd3b-133c-483c-b141-e1b2c3db1a53-c000.snappy.parquet\n",
      "./ws_parquet_outputs/dim_immi_flight.parquet/part-00017-20bacd3b-133c-483c-b141-e1b2c3db1a53-c000.snappy.parquet\n",
      "./ws_parquet_outputs/dim_immi_flight.parquet/part-00031-20bacd3b-133c-483c-b141-e1b2c3db1a53-c000.snappy.parquet\n",
      "./ws_parquet_outputs/dim_immi_flight.parquet/.part-00072-20bacd3b-133c-483c-b141-e1b2c3db1a53-c000.snappy.parquet.crc\n",
      "./ws_parquet_outputs/dim_immi_flight.parquet/.part-00125-20bacd3b-133c-483c-b141-e1b2c3db1a53-c000.snappy.parquet.crc\n",
      "./ws_parquet_outputs/dim_immi_flight.parquet/.part-00169-20bacd3b-133c-483c-b141-e1b2c3db1a53-c000.snappy.parquet.crc\n",
      "./ws_parquet_outputs/dim_immi_flight.parquet/part-00076-20bacd3b-133c-483c-b141-e1b2c3db1a53-c000.snappy.parquet\n",
      "./ws_parquet_outputs/dim_immi_flight.parquet/.part-00099-20bacd3b-133c-483c-b141-e1b2c3db1a53-c000.snappy.parquet.crc\n",
      "./ws_parquet_outputs/dim_immi_flight.parquet/.part-00127-20bacd3b-133c-483c-b141-e1b2c3db1a53-c000.snappy.parquet.crc\n",
      "./ws_parquet_outputs/dim_immi_flight.parquet/part-00103-20bacd3b-133c-483c-b141-e1b2c3db1a53-c000.snappy.parquet\n",
      "./ws_parquet_outputs/dim_immi_flight.parquet/.part-00076-20bacd3b-133c-483c-b141-e1b2c3db1a53-c000.snappy.parquet.crc\n",
      "./ws_parquet_outputs/dim_immi_flight.parquet/part-00055-20bacd3b-133c-483c-b141-e1b2c3db1a53-c000.snappy.parquet\n",
      "./ws_parquet_outputs/dim_immi_flight.parquet/part-00116-20bacd3b-133c-483c-b141-e1b2c3db1a53-c000.snappy.parquet\n",
      "./ws_parquet_outputs/dim_immi_flight.parquet/part-00142-20bacd3b-133c-483c-b141-e1b2c3db1a53-c000.snappy.parquet\n",
      "./ws_parquet_outputs/dim_immi_flight.parquet/part-00012-20bacd3b-133c-483c-b141-e1b2c3db1a53-c000.snappy.parquet\n",
      "./ws_parquet_outputs/dim_immi_flight.parquet/.part-00191-20bacd3b-133c-483c-b141-e1b2c3db1a53-c000.snappy.parquet.crc\n",
      "./ws_parquet_outputs/dim_immi_flight.parquet/.part-00167-20bacd3b-133c-483c-b141-e1b2c3db1a53-c000.snappy.parquet.crc\n",
      "./ws_parquet_outputs/dim_immi_flight.parquet/.part-00161-20bacd3b-133c-483c-b141-e1b2c3db1a53-c000.snappy.parquet.crc\n",
      "./ws_parquet_outputs/dim_immi_flight.parquet/part-00092-20bacd3b-133c-483c-b141-e1b2c3db1a53-c000.snappy.parquet\n",
      "./ws_parquet_outputs/dim_immi_flight.parquet/.part-00131-20bacd3b-133c-483c-b141-e1b2c3db1a53-c000.snappy.parquet.crc\n",
      "./ws_parquet_outputs/dim_immi_flight.parquet/part-00186-20bacd3b-133c-483c-b141-e1b2c3db1a53-c000.snappy.parquet\n",
      "./ws_parquet_outputs/dim_immi_flight.parquet/part-00011-20bacd3b-133c-483c-b141-e1b2c3db1a53-c000.snappy.parquet\n",
      "./ws_parquet_outputs/dim_immi_flight.parquet/part-00168-20bacd3b-133c-483c-b141-e1b2c3db1a53-c000.snappy.parquet\n",
      "./ws_parquet_outputs/dim_immi_flight.parquet/.part-00106-20bacd3b-133c-483c-b141-e1b2c3db1a53-c000.snappy.parquet.crc\n",
      "./ws_parquet_outputs/dim_immi_flight.parquet/part-00085-20bacd3b-133c-483c-b141-e1b2c3db1a53-c000.snappy.parquet\n",
      "./ws_parquet_outputs/dim_immi_flight.parquet/.part-00173-20bacd3b-133c-483c-b141-e1b2c3db1a53-c000.snappy.parquet.crc\n",
      "./ws_parquet_outputs/dim_immi_flight.parquet/part-00084-20bacd3b-133c-483c-b141-e1b2c3db1a53-c000.snappy.parquet\n",
      "./ws_parquet_outputs/dim_immi_flight.parquet/part-00136-20bacd3b-133c-483c-b141-e1b2c3db1a53-c000.snappy.parquet\n",
      "./ws_parquet_outputs/dim_immi_flight.parquet/.part-00141-20bacd3b-133c-483c-b141-e1b2c3db1a53-c000.snappy.parquet.crc\n",
      "./ws_parquet_outputs/dim_immi_flight.parquet/.part-00029-20bacd3b-133c-483c-b141-e1b2c3db1a53-c000.snappy.parquet.crc\n",
      "./ws_parquet_outputs/dim_immi_flight.parquet/part-00143-20bacd3b-133c-483c-b141-e1b2c3db1a53-c000.snappy.parquet\n",
      "./ws_parquet_outputs/dim_immi_flight.parquet/.part-00171-20bacd3b-133c-483c-b141-e1b2c3db1a53-c000.snappy.parquet.crc\n",
      "./ws_parquet_outputs/dim_immi_flight.parquet/.part-00039-20bacd3b-133c-483c-b141-e1b2c3db1a53-c000.snappy.parquet.crc\n",
      "./ws_parquet_outputs/dim_immi_flight.parquet/.part-00075-20bacd3b-133c-483c-b141-e1b2c3db1a53-c000.snappy.parquet.crc\n",
      "./ws_parquet_outputs/dim_immi_flight.parquet/.part-00104-20bacd3b-133c-483c-b141-e1b2c3db1a53-c000.snappy.parquet.crc\n",
      "./ws_parquet_outputs/dim_immi_flight.parquet/.part-00051-20bacd3b-133c-483c-b141-e1b2c3db1a53-c000.snappy.parquet.crc\n",
      "./ws_parquet_outputs/dim_immi_flight.parquet/part-00178-20bacd3b-133c-483c-b141-e1b2c3db1a53-c000.snappy.parquet\n",
      "./ws_parquet_outputs/dim_immi_flight.parquet/part-00070-20bacd3b-133c-483c-b141-e1b2c3db1a53-c000.snappy.parquet\n",
      "./ws_parquet_outputs/dim_immi_flight.parquet/part-00068-20bacd3b-133c-483c-b141-e1b2c3db1a53-c000.snappy.parquet\n",
      "./ws_parquet_outputs/dim_immi_flight.parquet/.part-00116-20bacd3b-133c-483c-b141-e1b2c3db1a53-c000.snappy.parquet.crc\n",
      "./ws_parquet_outputs/dim_immi_flight.parquet/part-00020-20bacd3b-133c-483c-b141-e1b2c3db1a53-c000.snappy.parquet\n",
      "./ws_parquet_outputs/dim_immi_flight.parquet/.part-00112-20bacd3b-133c-483c-b141-e1b2c3db1a53-c000.snappy.parquet.crc\n",
      "./ws_parquet_outputs/dim_immi_flight.parquet/part-00066-20bacd3b-133c-483c-b141-e1b2c3db1a53-c000.snappy.parquet\n",
      "./ws_parquet_outputs/dim_immi_flight.parquet/.part-00114-20bacd3b-133c-483c-b141-e1b2c3db1a53-c000.snappy.parquet.crc\n",
      "./ws_parquet_outputs/dim_immi_flight.parquet/.part-00045-20bacd3b-133c-483c-b141-e1b2c3db1a53-c000.snappy.parquet.crc\n",
      "./ws_parquet_outputs/dim_immi_flight.parquet/part-00146-20bacd3b-133c-483c-b141-e1b2c3db1a53-c000.snappy.parquet\n",
      "./ws_parquet_outputs/dim_immi_flight.parquet/.part-00028-20bacd3b-133c-483c-b141-e1b2c3db1a53-c000.snappy.parquet.crc\n",
      "./ws_parquet_outputs/dim_immi_flight.parquet/part-00093-20bacd3b-133c-483c-b141-e1b2c3db1a53-c000.snappy.parquet\n",
      "./ws_parquet_outputs/dim_immi_flight.parquet/.part-00073-20bacd3b-133c-483c-b141-e1b2c3db1a53-c000.snappy.parquet.crc\n",
      "./ws_parquet_outputs/dim_immi_flight.parquet/part-00152-20bacd3b-133c-483c-b141-e1b2c3db1a53-c000.snappy.parquet\n",
      "./ws_parquet_outputs/dim_immi_flight.parquet/.part-00069-20bacd3b-133c-483c-b141-e1b2c3db1a53-c000.snappy.parquet.crc\n",
      "./ws_parquet_outputs/dim_immi_flight.parquet/part-00075-20bacd3b-133c-483c-b141-e1b2c3db1a53-c000.snappy.parquet\n",
      "./ws_parquet_outputs/dim_immi_flight.parquet/.part-00135-20bacd3b-133c-483c-b141-e1b2c3db1a53-c000.snappy.parquet.crc\n",
      "./ws_parquet_outputs/dim_immi_flight.parquet/part-00129-20bacd3b-133c-483c-b141-e1b2c3db1a53-c000.snappy.parquet\n",
      "./ws_parquet_outputs/dim_immi_flight.parquet/.part-00077-20bacd3b-133c-483c-b141-e1b2c3db1a53-c000.snappy.parquet.crc\n",
      "./ws_parquet_outputs/dim_immi_flight.parquet/.part-00019-20bacd3b-133c-483c-b141-e1b2c3db1a53-c000.snappy.parquet.crc\n",
      "./ws_parquet_outputs/dim_immi_flight.parquet/part-00147-20bacd3b-133c-483c-b141-e1b2c3db1a53-c000.snappy.parquet\n",
      "./ws_parquet_outputs/dim_immi_flight.parquet/part-00064-20bacd3b-133c-483c-b141-e1b2c3db1a53-c000.snappy.parquet\n",
      "./ws_parquet_outputs/dim_immi_flight.parquet/.part-00006-20bacd3b-133c-483c-b141-e1b2c3db1a53-c000.snappy.parquet.crc\n",
      "./ws_parquet_outputs/dim_immi_flight.parquet/.part-00198-20bacd3b-133c-483c-b141-e1b2c3db1a53-c000.snappy.parquet.crc\n",
      "./ws_parquet_outputs/dim_immi_flight.parquet/.part-00007-20bacd3b-133c-483c-b141-e1b2c3db1a53-c000.snappy.parquet.crc\n",
      "./ws_parquet_outputs/dim_immi_flight.parquet/part-00065-20bacd3b-133c-483c-b141-e1b2c3db1a53-c000.snappy.parquet\n",
      "./ws_parquet_outputs/dim_immi_flight.parquet/part-00021-20bacd3b-133c-483c-b141-e1b2c3db1a53-c000.snappy.parquet\n",
      "./ws_parquet_outputs/dim_immi_flight.parquet/part-00008-20bacd3b-133c-483c-b141-e1b2c3db1a53-c000.snappy.parquet\n",
      "./ws_parquet_outputs/dim_immi_flight.parquet/part-00001-20bacd3b-133c-483c-b141-e1b2c3db1a53-c000.snappy.parquet\n",
      "./ws_parquet_outputs/dim_immi_flight.parquet/.part-00026-20bacd3b-133c-483c-b141-e1b2c3db1a53-c000.snappy.parquet.crc\n",
      "./ws_parquet_outputs/dim_immi_flight.parquet/.part-00081-20bacd3b-133c-483c-b141-e1b2c3db1a53-c000.snappy.parquet.crc\n",
      "./ws_parquet_outputs/dim_immi_flight.parquet/part-00108-20bacd3b-133c-483c-b141-e1b2c3db1a53-c000.snappy.parquet\n",
      "./ws_parquet_outputs/dim_immi_flight.parquet/part-00022-20bacd3b-133c-483c-b141-e1b2c3db1a53-c000.snappy.parquet\n",
      "./ws_parquet_outputs/dim_immi_flight.parquet/.part-00087-20bacd3b-133c-483c-b141-e1b2c3db1a53-c000.snappy.parquet.crc\n",
      "./ws_parquet_outputs/dim_immi_flight.parquet/.part-00177-20bacd3b-133c-483c-b141-e1b2c3db1a53-c000.snappy.parquet.crc\n",
      "./ws_parquet_outputs/dim_immi_flight.parquet/part-00039-20bacd3b-133c-483c-b141-e1b2c3db1a53-c000.snappy.parquet\n",
      "./ws_parquet_outputs/dim_immi_flight.parquet/part-00121-20bacd3b-133c-483c-b141-e1b2c3db1a53-c000.snappy.parquet\n",
      "./ws_parquet_outputs/dim_immi_flight.parquet/part-00049-20bacd3b-133c-483c-b141-e1b2c3db1a53-c000.snappy.parquet\n",
      "./ws_parquet_outputs/dim_immi_flight.parquet/.part-00107-20bacd3b-133c-483c-b141-e1b2c3db1a53-c000.snappy.parquet.crc\n",
      "./ws_parquet_outputs/dim_immi_flight.parquet/.part-00137-20bacd3b-133c-483c-b141-e1b2c3db1a53-c000.snappy.parquet.crc\n",
      "./ws_parquet_outputs/dim_immi_flight.parquet/part-00054-20bacd3b-133c-483c-b141-e1b2c3db1a53-c000.snappy.parquet\n",
      "./ws_parquet_outputs/dim_immi_flight.parquet/part-00009-20bacd3b-133c-483c-b141-e1b2c3db1a53-c000.snappy.parquet\n",
      "./ws_parquet_outputs/dim_immi_flight.parquet/.part-00022-20bacd3b-133c-483c-b141-e1b2c3db1a53-c000.snappy.parquet.crc\n",
      "./ws_parquet_outputs/dim_immi_flight.parquet/.part-00174-20bacd3b-133c-483c-b141-e1b2c3db1a53-c000.snappy.parquet.crc\n",
      "./ws_parquet_outputs/dim_immi_flight.parquet/part-00191-20bacd3b-133c-483c-b141-e1b2c3db1a53-c000.snappy.parquet\n",
      "./ws_parquet_outputs/dim_immi_flight.parquet/.part-00001-20bacd3b-133c-483c-b141-e1b2c3db1a53-c000.snappy.parquet.crc\n",
      "./ws_parquet_outputs/dim_immi_flight.parquet/.part-00012-20bacd3b-133c-483c-b141-e1b2c3db1a53-c000.snappy.parquet.crc\n",
      "./ws_parquet_outputs/dim_immi_flight.parquet/.part-00027-20bacd3b-133c-483c-b141-e1b2c3db1a53-c000.snappy.parquet.crc\n",
      "./ws_parquet_outputs/dim_immi_flight.parquet/part-00177-20bacd3b-133c-483c-b141-e1b2c3db1a53-c000.snappy.parquet\n",
      "./ws_parquet_outputs/dim_immi_flight.parquet/.part-00103-20bacd3b-133c-483c-b141-e1b2c3db1a53-c000.snappy.parquet.crc\n",
      "./ws_parquet_outputs/dim_immi_flight.parquet/.part-00105-20bacd3b-133c-483c-b141-e1b2c3db1a53-c000.snappy.parquet.crc\n",
      "./ws_parquet_outputs/dim_immi_flight.parquet/.part-00147-20bacd3b-133c-483c-b141-e1b2c3db1a53-c000.snappy.parquet.crc\n",
      "./ws_parquet_outputs/dim_immi_flight.parquet/.part-00194-20bacd3b-133c-483c-b141-e1b2c3db1a53-c000.snappy.parquet.crc\n",
      "./ws_parquet_outputs/dim_immi_flight.parquet/.part-00088-20bacd3b-133c-483c-b141-e1b2c3db1a53-c000.snappy.parquet.crc\n",
      "./ws_parquet_outputs/dim_immi_flight.parquet/.part-00023-20bacd3b-133c-483c-b141-e1b2c3db1a53-c000.snappy.parquet.crc\n",
      "./ws_parquet_outputs/dim_immi_flight.parquet/part-00024-20bacd3b-133c-483c-b141-e1b2c3db1a53-c000.snappy.parquet\n"
     ]
    }
   ],
   "source": [
    "# dim_immi_flight parquet files inventory\n",
    "print(\"'dim_immi_flight' parquet files inventory\")\n",
    "list_of_files = get_list_of_files(parquet_outputs)\n",
    "for item in list_of_files:\n",
    "    print(item)"
   ]
  },
  {
   "cell_type": "code",
   "execution_count": null,
   "metadata": {
    "editable": true
   },
   "outputs": [],
   "source": []
  },
  {
   "cell_type": "markdown",
   "metadata": {
    "editable": true
   },
   "source": [
    "##### Immigration travller dim table"
   ]
  },
  {
   "cell_type": "markdown",
   "metadata": {
    "editable": true
   },
   "source": [
    "Input dataframe come from \n",
    "`traveller_cleaned_df = spark.read.options(inferSchema=\"true\", delimiter=\",\", header = \"true\").csv(traveller_cleaned_dataset)`\n",
    "\n",
    "- `dim_immi_travaller` should includes columns:\n",
    "    - `traveller_cicid`\n",
    "    - `from_country_code`\n",
    "    - `immi_country_code`\n",
    "    - `arrival_port_code`\n",
    "    - `arrival_date`\n",
    "    - `airline_immi_code`\n",
    "    - `desination_state_code`\n",
    "    - `traveller_age`\n",
    "    - `traveller_birth_year`\n",
    "    - `traveller_sex`\n",
    "    - `visatye_by_code`"
   ]
  },
  {
   "cell_type": "code",
   "execution_count": 270,
   "metadata": {
    "editable": true
   },
   "outputs": [],
   "source": [
    "# Load cleaned dataset\n",
    "traveller_cleaned_dataset = \"./traveller_df_clean\"\n",
    "traveller_df = spark.read.options(inferSchema=\"true\", delimiter=\",\", header = \"true\").csv(traveller_cleaned_dataset)"
   ]
  },
  {
   "cell_type": "code",
   "execution_count": 271,
   "metadata": {
    "editable": true
   },
   "outputs": [
    {
     "data": {
      "text/plain": [
       "2377896"
      ]
     },
     "execution_count": 271,
     "metadata": {},
     "output_type": "execute_result"
    }
   ],
   "source": [
    "# Total rows\n",
    "traveller_df.count()"
   ]
  },
  {
   "cell_type": "code",
   "execution_count": 272,
   "metadata": {
    "editable": true
   },
   "outputs": [],
   "source": [
    "traveller_df.createOrReplaceTempView('dim_immi_travaller')"
   ]
  },
  {
   "cell_type": "code",
   "execution_count": 273,
   "metadata": {
    "editable": true
   },
   "outputs": [],
   "source": [
    "dim_immi_travaller = spark.sql(\"\"\"\n",
    "        SELECT\n",
    "            cicid as traveller_cicid,\n",
    "            i94cit as from_country_code,\n",
    "            i94res as immi_country_code,\n",
    "            i94port as arrival_port_code,\n",
    "            arrival_date as arrival_date,\n",
    "            i94mode as airline_immi_code,\n",
    "            i94addr as desination_state_code,\n",
    "            i94bir as traveller_age,\n",
    "            biryear as traveller_birth_year,\n",
    "            gender as traveller_sex,\n",
    "            visatype as visatye_by_code\n",
    "        FROM dim_immi_travaller\n",
    "    \"\"\")"
   ]
  },
  {
   "cell_type": "code",
   "execution_count": 274,
   "metadata": {
    "editable": true
   },
   "outputs": [
    {
     "data": {
      "text/plain": [
       "'./ws_parquet_outputs/dim_immi_travaller.parquet'"
      ]
     },
     "execution_count": 274,
     "metadata": {},
     "output_type": "execute_result"
    }
   ],
   "source": [
    "# Copy S3 URI = 's3a://dendcapstonetest/s3_outputs/'\n",
    "# s3_parquet_output = 's3a://dendcapstonetest/s3_outputs/' + 'dim_immi_travaller/dim_immi_travaller.parquet'\n",
    "parquet_outputs = './ws_parquet_outputs/' + 'dim_immi_travaller.parquet'\n",
    "parquet_outputs"
   ]
  },
  {
   "cell_type": "code",
   "execution_count": 275,
   "metadata": {
    "editable": true
   },
   "outputs": [],
   "source": [
    "# s3_parquet_output = 's3a://dendcapstonetest/s3_outputs/' + 'fact_i94immi/fact_i94immi.parquet'\n",
    "dim_immi_travaller.write.mode(\"overwrite\").parquet(parquet_outputs)"
   ]
  },
  {
   "cell_type": "code",
   "execution_count": 276,
   "metadata": {
    "editable": true
   },
   "outputs": [
    {
     "name": "stdout",
     "output_type": "stream",
     "text": [
      "'dim_immi_travaller' parquet files inventory\n",
      "./ws_parquet_outputs/dim_immi_travaller.parquet/part-00004-50c9d781-2887-43da-9a71-4e821419b051-c000.snappy.parquet\n",
      "./ws_parquet_outputs/dim_immi_travaller.parquet/_SUCCESS\n",
      "./ws_parquet_outputs/dim_immi_travaller.parquet/.part-00000-50c9d781-2887-43da-9a71-4e821419b051-c000.snappy.parquet.crc\n",
      "./ws_parquet_outputs/dim_immi_travaller.parquet/.part-00005-50c9d781-2887-43da-9a71-4e821419b051-c000.snappy.parquet.crc\n",
      "./ws_parquet_outputs/dim_immi_travaller.parquet/part-00006-50c9d781-2887-43da-9a71-4e821419b051-c000.snappy.parquet\n",
      "./ws_parquet_outputs/dim_immi_travaller.parquet/part-00005-50c9d781-2887-43da-9a71-4e821419b051-c000.snappy.parquet\n",
      "./ws_parquet_outputs/dim_immi_travaller.parquet/part-00002-50c9d781-2887-43da-9a71-4e821419b051-c000.snappy.parquet\n",
      "./ws_parquet_outputs/dim_immi_travaller.parquet/.part-00007-50c9d781-2887-43da-9a71-4e821419b051-c000.snappy.parquet.crc\n",
      "./ws_parquet_outputs/dim_immi_travaller.parquet/part-00000-50c9d781-2887-43da-9a71-4e821419b051-c000.snappy.parquet\n",
      "./ws_parquet_outputs/dim_immi_travaller.parquet/.part-00004-50c9d781-2887-43da-9a71-4e821419b051-c000.snappy.parquet.crc\n",
      "./ws_parquet_outputs/dim_immi_travaller.parquet/part-00007-50c9d781-2887-43da-9a71-4e821419b051-c000.snappy.parquet\n",
      "./ws_parquet_outputs/dim_immi_travaller.parquet/.part-00002-50c9d781-2887-43da-9a71-4e821419b051-c000.snappy.parquet.crc\n",
      "./ws_parquet_outputs/dim_immi_travaller.parquet/.part-00001-50c9d781-2887-43da-9a71-4e821419b051-c000.snappy.parquet.crc\n",
      "./ws_parquet_outputs/dim_immi_travaller.parquet/.part-00006-50c9d781-2887-43da-9a71-4e821419b051-c000.snappy.parquet.crc\n",
      "./ws_parquet_outputs/dim_immi_travaller.parquet/.part-00003-50c9d781-2887-43da-9a71-4e821419b051-c000.snappy.parquet.crc\n",
      "./ws_parquet_outputs/dim_immi_travaller.parquet/._SUCCESS.crc\n",
      "./ws_parquet_outputs/dim_immi_travaller.parquet/part-00003-50c9d781-2887-43da-9a71-4e821419b051-c000.snappy.parquet\n",
      "./ws_parquet_outputs/dim_immi_travaller.parquet/part-00001-50c9d781-2887-43da-9a71-4e821419b051-c000.snappy.parquet\n"
     ]
    }
   ],
   "source": [
    "# dim_immi_travaller parquet files inventory\n",
    "print(\"'dim_immi_travaller' parquet files inventory\")\n",
    "list_of_files = get_list_of_files(parquet_outputs)\n",
    "for item in list_of_files:\n",
    "    print(item)"
   ]
  },
  {
   "cell_type": "code",
   "execution_count": null,
   "metadata": {
    "editable": true
   },
   "outputs": [],
   "source": []
  },
  {
   "cell_type": "markdown",
   "metadata": {
    "editable": true
   },
   "source": [
    "##### World Temperature fact table"
   ]
  },
  {
   "cell_type": "markdown",
   "metadata": {
    "editable": true
   },
   "source": [
    "Input dataframe `worldtempe_df = spark.read.options(inferSchema=\"true\", delimiter=\",\", header = \"true\").csv(worldtempe_cleaned_dataset)`\n",
    "\n",
    "- `fact_us_temperature` contains temperature records of US cities has been collect corresponse immigration data scope.\n",
    "    - `dt`\n",
    "    - `averagetemperature as avg_tempe`\n",
    "    - `averagetemperatureuncertainty as avg_tempe_uncertain`\n",
    "    - `city as measure_city`\n",
    "    - `country as measure_country`\n",
    "    - `latitude`\n",
    "    - `longitude`\n",
    "    - `dt_converted as measure_date`"
   ]
  },
  {
   "cell_type": "code",
   "execution_count": 288,
   "metadata": {
    "editable": true
   },
   "outputs": [],
   "source": [
    "worldtempe_cleaned_dataset = \"./worldtempe_df_clean\"\n",
    "worldtempe_df = spark.read.options(inferSchema=\"true\", delimiter=\",\", header = \"true\").csv(worldtempe_cleaned_dataset)"
   ]
  },
  {
   "cell_type": "code",
   "execution_count": 289,
   "metadata": {
    "editable": true
   },
   "outputs": [],
   "source": [
    "# Create tableview for data manipulation\n",
    "worldtempe_df.createOrReplaceTempView('fact_worldtempe')"
   ]
  },
  {
   "cell_type": "code",
   "execution_count": 290,
   "metadata": {
    "editable": true
   },
   "outputs": [
    {
     "name": "stdout",
     "output_type": "stream",
     "text": [
      "+-------+-----------+------------------+-----------------------------+----------+-------------------+\n",
      "|   city|tempe_month|averagetemperature|averagetemperatureuncertainty|tempe_year|       dt_converted|\n",
      "+-------+-----------+------------------+-----------------------------+----------+-------------------+\n",
      "|ABILENE|         11|              9.77|                         0.12|      1997|1997-11-01 00:00:00|\n",
      "|ABILENE|         10|             18.48|                         0.26|      2000|2000-10-01 00:00:00|\n",
      "|  AKRON|          2|              2.17|                         0.18|      1976|1976-02-01 00:00:00|\n",
      "+-------+-----------+------------------+-----------------------------+----------+-------------------+\n",
      "only showing top 3 rows\n",
      "\n"
     ]
    }
   ],
   "source": [
    "# Verify table\n",
    "spark.sql(\"\"\"\n",
    "        SELECT *\n",
    "        FROM fact_worldtempe\n",
    "    \"\"\").show(3)"
   ]
  },
  {
   "cell_type": "code",
   "execution_count": 291,
   "metadata": {
    "editable": true
   },
   "outputs": [],
   "source": [
    "# Create fact table\n",
    "spark.sql(\"\"\"\n",
    "        SELECT\n",
    "            averagetemperature as avg_tempe,\n",
    "            averagetemperatureuncertainty as avg_tempe_uncertain,\n",
    "            city as measure_city,\n",
    "            tempe_month as tempe_month,\n",
    "            dt_converted as dt_converted,\n",
    "            dt_converted as measure_date\n",
    "        FROM fact_worldtempe\n",
    "    \"\"\").createOrReplaceTempView('fact_worldtempe')"
   ]
  },
  {
   "cell_type": "code",
   "execution_count": 292,
   "metadata": {
    "editable": true
   },
   "outputs": [
    {
     "name": "stdout",
     "output_type": "stream",
     "text": [
      "+---------+-------------------+------------+-----------+-------------------+-------------------+\n",
      "|avg_tempe|avg_tempe_uncertain|measure_city|tempe_month|       dt_converted|       measure_date|\n",
      "+---------+-------------------+------------+-----------+-------------------+-------------------+\n",
      "|     9.77|               0.12|     ABILENE|         11|1997-11-01 00:00:00|1997-11-01 00:00:00|\n",
      "|    18.48|               0.26|     ABILENE|         10|2000-10-01 00:00:00|2000-10-01 00:00:00|\n",
      "|     2.17|               0.18|       AKRON|          2|1976-02-01 00:00:00|1976-02-01 00:00:00|\n",
      "+---------+-------------------+------------+-----------+-------------------+-------------------+\n",
      "only showing top 3 rows\n",
      "\n"
     ]
    }
   ],
   "source": [
    "# Naming columns\n",
    "spark.sql(\"\"\"\n",
    "    SELECT *\n",
    "    FROM fact_worldtempe\n",
    "\"\"\").show(3)"
   ]
  },
  {
   "cell_type": "code",
   "execution_count": 293,
   "metadata": {
    "editable": true
   },
   "outputs": [],
   "source": [
    "# Naming columns\n",
    "fact_worldtempe = spark.sql(\"\"\"\n",
    "    SELECT *\n",
    "    FROM fact_worldtempe\n",
    "\"\"\")"
   ]
  },
  {
   "cell_type": "code",
   "execution_count": 294,
   "metadata": {
    "editable": true
   },
   "outputs": [
    {
     "data": {
      "text/plain": [
       "'./ws_parquet_outputs/fact_worldtempe.parquet'"
      ]
     },
     "execution_count": 294,
     "metadata": {},
     "output_type": "execute_result"
    }
   ],
   "source": [
    "# Copy S3 URI = 's3a://dendcapstonetest/s3_outputs/'\n",
    "# s3_parquet_output = 's3a://dendcapstonetest/s3_outputs/' + 'fact_worldtempe/fact_worldtempe.parquet'\n",
    "# s3_parquet_output\n",
    "\n",
    "parquet_outputs = './ws_parquet_outputs/' + 'fact_worldtempe.parquet'\n",
    "parquet_outputs"
   ]
  },
  {
   "cell_type": "code",
   "execution_count": 295,
   "metadata": {
    "editable": true
   },
   "outputs": [],
   "source": [
    "# s3_parquet_output = 's3a://dendcapstonetest/s3_outputs/' + 'fact_i94immi/fact_i94immi.parquet'\n",
    "# fact_worldtempe.write.mode(\"overwrite\").parquet(s3_parquet_output)\n",
    "fact_worldtempe.write.mode(\"overwrite\").parquet(parquet_outputs)"
   ]
  },
  {
   "cell_type": "code",
   "execution_count": 296,
   "metadata": {
    "editable": true
   },
   "outputs": [
    {
     "name": "stdout",
     "output_type": "stream",
     "text": [
      "'fact_worldtempe' parquet files inventory\n",
      "./ws_parquet_outputs/fact_worldtempe.parquet/_SUCCESS\n",
      "./ws_parquet_outputs/fact_worldtempe.parquet/part-00006-2b7cea09-9325-4581-a831-870c444236be-c000.snappy.parquet\n",
      "./ws_parquet_outputs/fact_worldtempe.parquet/part-00002-2b7cea09-9325-4581-a831-870c444236be-c000.snappy.parquet\n",
      "./ws_parquet_outputs/fact_worldtempe.parquet/.part-00002-2b7cea09-9325-4581-a831-870c444236be-c000.snappy.parquet.crc\n",
      "./ws_parquet_outputs/fact_worldtempe.parquet/.part-00006-2b7cea09-9325-4581-a831-870c444236be-c000.snappy.parquet.crc\n",
      "./ws_parquet_outputs/fact_worldtempe.parquet/.part-00000-2b7cea09-9325-4581-a831-870c444236be-c000.snappy.parquet.crc\n",
      "./ws_parquet_outputs/fact_worldtempe.parquet/part-00000-2b7cea09-9325-4581-a831-870c444236be-c000.snappy.parquet\n",
      "./ws_parquet_outputs/fact_worldtempe.parquet/.part-00003-2b7cea09-9325-4581-a831-870c444236be-c000.snappy.parquet.crc\n",
      "./ws_parquet_outputs/fact_worldtempe.parquet/part-00004-2b7cea09-9325-4581-a831-870c444236be-c000.snappy.parquet\n",
      "./ws_parquet_outputs/fact_worldtempe.parquet/.part-00001-2b7cea09-9325-4581-a831-870c444236be-c000.snappy.parquet.crc\n",
      "./ws_parquet_outputs/fact_worldtempe.parquet/part-00001-2b7cea09-9325-4581-a831-870c444236be-c000.snappy.parquet\n",
      "./ws_parquet_outputs/fact_worldtempe.parquet/.part-00004-2b7cea09-9325-4581-a831-870c444236be-c000.snappy.parquet.crc\n",
      "./ws_parquet_outputs/fact_worldtempe.parquet/part-00003-2b7cea09-9325-4581-a831-870c444236be-c000.snappy.parquet\n",
      "./ws_parquet_outputs/fact_worldtempe.parquet/._SUCCESS.crc\n",
      "./ws_parquet_outputs/fact_worldtempe.parquet/.part-00005-2b7cea09-9325-4581-a831-870c444236be-c000.snappy.parquet.crc\n",
      "./ws_parquet_outputs/fact_worldtempe.parquet/part-00005-2b7cea09-9325-4581-a831-870c444236be-c000.snappy.parquet\n"
     ]
    }
   ],
   "source": [
    "# fact_worldtempe parquet files inventory\n",
    "print(\"'fact_worldtempe' parquet files inventory\")\n",
    "list_of_files = get_list_of_files(parquet_outputs)\n",
    "for item in list_of_files:\n",
    "    print(item)"
   ]
  },
  {
   "cell_type": "code",
   "execution_count": null,
   "metadata": {
    "editable": true
   },
   "outputs": [],
   "source": []
  },
  {
   "cell_type": "markdown",
   "metadata": {
    "editable": true
   },
   "source": [
    "##### I94PORT dim table"
   ]
  },
  {
   "cell_type": "markdown",
   "metadata": {
    "editable": true
   },
   "source": [
    "Input dataframe `I94PORT_df = spark.read.options(inferSchema=\"true\", delimiter=\",\", header = \"true\").csv(\"i94port_staging\")`\n",
    "\n",
    "- `dim_port` contains list of airport allow immigration.\n",
    "    - `port_code`\n",
    "    - `city_name`\n",
    "    - `state`"
   ]
  },
  {
   "cell_type": "code",
   "execution_count": 297,
   "metadata": {
    "editable": true
   },
   "outputs": [],
   "source": [
    "# Changing to SQL Spark tempview to create dim table\n",
    "I94PORT_df.createOrReplaceTempView('dim_i94port')"
   ]
  },
  {
   "cell_type": "code",
   "execution_count": 299,
   "metadata": {
    "editable": true
   },
   "outputs": [],
   "source": [
    "dim_i94port = spark.sql(\"\"\"\n",
    "        SELECT\n",
    "            i94port_valid_code as immi_port_code,\n",
    "            i94port_city_name as immi_city_name,\n",
    "            i94port_state_code as immi_state_code\n",
    "        FROM dim_i94port\n",
    "    \"\"\")"
   ]
  },
  {
   "cell_type": "code",
   "execution_count": 300,
   "metadata": {
    "editable": true
   },
   "outputs": [
    {
     "name": "stdout",
     "output_type": "stream",
     "text": [
      "+--------------+--------------------+---------------+\n",
      "|immi_port_code|      immi_city_name|immi_state_code|\n",
      "+--------------+--------------------+---------------+\n",
      "|           ALC|               ALCAN|             AK|\n",
      "|           ANC|           ANCHORAGE|             AK|\n",
      "|           BAR|BAKER AAF - BAKER...|             AK|\n",
      "|           DAC|       DALTONS CACHE|             AK|\n",
      "|           PIZ|DEW STATION PT LA...|             AK|\n",
      "+--------------+--------------------+---------------+\n",
      "only showing top 5 rows\n",
      "\n"
     ]
    }
   ],
   "source": [
    "dim_i94port.show(5)"
   ]
  },
  {
   "cell_type": "code",
   "execution_count": 301,
   "metadata": {
    "editable": true
   },
   "outputs": [
    {
     "data": {
      "text/plain": [
       "'./ws_parquet_outputs/dim_i94port.parquet'"
      ]
     },
     "execution_count": 301,
     "metadata": {},
     "output_type": "execute_result"
    }
   ],
   "source": [
    "# Copy S3 URI = 's3a://dendcapstonetest/s3_outputs/'\n",
    "# s3_parquet_output = 's3a://dendcapstonetest/s3_outputs/' + 'dim_i94port/dim_i94port.parquet'\n",
    "# s3_parquet_output\n",
    "\n",
    "parquet_outputs = './ws_parquet_outputs/' + 'dim_i94port.parquet'\n",
    "parquet_outputs"
   ]
  },
  {
   "cell_type": "code",
   "execution_count": 302,
   "metadata": {
    "editable": true
   },
   "outputs": [],
   "source": [
    "# s3_parquet_output = 's3a://dendcapstonetest/s3_outputs/' + 'fact_i94immi/fact_i94immi.parquet'\n",
    "# dim_i94port.write.mode(\"overwrite\").parquet(s3_parquet_output)\n",
    "dim_i94port.write.mode(\"overwrite\").parquet(parquet_outputs)"
   ]
  },
  {
   "cell_type": "code",
   "execution_count": 303,
   "metadata": {
    "editable": true
   },
   "outputs": [
    {
     "name": "stdout",
     "output_type": "stream",
     "text": [
      "'dim_i94port' parquet files inventory\n",
      "./ws_parquet_outputs/dim_i94port.parquet/.part-00000-3f505e7d-cd90-4112-b014-ea0458402cc4-c000.snappy.parquet.crc\n",
      "./ws_parquet_outputs/dim_i94port.parquet/_SUCCESS\n",
      "./ws_parquet_outputs/dim_i94port.parquet/part-00000-3f505e7d-cd90-4112-b014-ea0458402cc4-c000.snappy.parquet\n",
      "./ws_parquet_outputs/dim_i94port.parquet/._SUCCESS.crc\n"
     ]
    }
   ],
   "source": [
    "# dim_i94port parquet files inventory\n",
    "print(\"'dim_i94port' parquet files inventory\")\n",
    "list_of_files = get_list_of_files(parquet_outputs)\n",
    "for item in list_of_files:\n",
    "    print(item)"
   ]
  },
  {
   "cell_type": "code",
   "execution_count": null,
   "metadata": {
    "editable": true
   },
   "outputs": [],
   "source": []
  },
  {
   "cell_type": "markdown",
   "metadata": {
    "editable": true
   },
   "source": [
    "##### I94ADDR dim table"
   ]
  },
  {
   "cell_type": "markdown",
   "metadata": {
    "editable": true
   },
   "source": [
    "Input dataframe `I94ADDR_df = spark.read.options(inferSchema=\"true\", delimiter=\",\", header = \"true\").csv(\"i94addr_staging\")`\n",
    "\n",
    "- `dim_i94addr` airline, flight number, flight time. (not yet)\n",
    "    - `immi_state_code` \n",
    "    - `immi_state_name`"
   ]
  },
  {
   "cell_type": "code",
   "execution_count": 304,
   "metadata": {
    "editable": true
   },
   "outputs": [],
   "source": [
    "# Changing to SQL Spark tempview to create dim table\n",
    "I94ADDR_df.createOrReplaceTempView('dim_i94addr')"
   ]
  },
  {
   "cell_type": "code",
   "execution_count": 307,
   "metadata": {
    "editable": true
   },
   "outputs": [],
   "source": [
    "dim_i94addr = spark.sql(\"\"\"\n",
    "        SELECT\n",
    "            i94addr_valid_code as immi_state_code,\n",
    "            i94addr_valid_value as immi_state_name\n",
    "        FROM dim_i94addr\n",
    "    \"\"\")"
   ]
  },
  {
   "cell_type": "code",
   "execution_count": 308,
   "metadata": {
    "editable": true
   },
   "outputs": [
    {
     "data": {
      "text/plain": [
       "'./ws_parquet_outputs/dim_i94addr.parquet'"
      ]
     },
     "execution_count": 308,
     "metadata": {},
     "output_type": "execute_result"
    }
   ],
   "source": [
    "# Copy S3 URI = 's3a://dendcapstonetest/s3_outputs/'\n",
    "# s3_parquet_output = 's3a://dendcapstonetest/s3_outputs/' + 'dim_i94addr/dim_i94addr.parquet'\n",
    "# s3_parquet_output\n",
    "\n",
    "parquet_outputs = './ws_parquet_outputs/' + 'dim_i94addr.parquet'\n",
    "parquet_outputs"
   ]
  },
  {
   "cell_type": "code",
   "execution_count": 309,
   "metadata": {
    "editable": true
   },
   "outputs": [],
   "source": [
    "# s3_parquet_output = 's3a://dendcapstonetest/s3_outputs/' + 'fact_i94immi/fact_i94immi.parquet'\n",
    "# dim_i94addr.write.mode(\"overwrite\").parquet(s3_parquet_output)\n",
    "dim_i94addr.write.mode(\"overwrite\").parquet(parquet_outputs)"
   ]
  },
  {
   "cell_type": "code",
   "execution_count": 310,
   "metadata": {
    "editable": true
   },
   "outputs": [
    {
     "name": "stdout",
     "output_type": "stream",
     "text": [
      "'dim_i94addr' parquet files inventory\n",
      "./ws_parquet_outputs/dim_i94addr.parquet/_SUCCESS\n",
      "./ws_parquet_outputs/dim_i94addr.parquet/.part-00000-5f791b5d-549a-402b-8bcf-d94a7934852e-c000.snappy.parquet.crc\n",
      "./ws_parquet_outputs/dim_i94addr.parquet/._SUCCESS.crc\n",
      "./ws_parquet_outputs/dim_i94addr.parquet/part-00000-5f791b5d-549a-402b-8bcf-d94a7934852e-c000.snappy.parquet\n"
     ]
    }
   ],
   "source": [
    "# dim_i94addr parquet files inventory\n",
    "print(\"'dim_i94addr' parquet files inventory\")\n",
    "list_of_files = get_list_of_files(parquet_outputs)\n",
    "for item in list_of_files:\n",
    "    print(item)"
   ]
  },
  {
   "cell_type": "code",
   "execution_count": null,
   "metadata": {
    "editable": true
   },
   "outputs": [],
   "source": []
  },
  {
   "cell_type": "markdown",
   "metadata": {
    "editable": true
   },
   "source": [
    "#### 3.2 Mapping Out Data Pipelines"
   ]
  },
  {
   "cell_type": "markdown",
   "metadata": {
    "editable": true
   },
   "source": [
    "The pipeline steps are described below:\n",
    "- Load raw datasources:\n",
    "    - `./sas_data` contains I94 Immigration datasource.\n",
    "    - `../../data2/GlobalLandTemperaturesByCity.csv` contains World Temperature datasource.\n",
    "    - `I94_SAS_Labels_Descriptions.SAS` contains dictionary of `I94PORT` `I94ADDR` `I94VISA` `I94MODE` `I94CIT&RES` datasource.\n",
    "- Describe and Gather Data on:\n",
    "    - `i94immi_df` as Spark dataframe.\n",
    "    - `worldtempe_df` as Pandas dataframe.\n",
    "    - `I94PORT_df` `I94ADDR_df` `I94VISA_df` `I94MODE_df` as a Spark dataframes.\n",
    "- Clean and then staging dataframe:\n",
    "    - `i94immi_df` cleaned and staging as a csv format in dir `i94immi_df_clean`.\n",
    "    - `worldtempe_df` cleaned and staging as a csv format in dir `worldtempe_df_clean`.\n",
    "    - `I94PORT` cleaned and staging as a csv format in dir `I94PORT_sas_label_validation`.\n",
    "    - `I94ADDR` cleaned and staging as a csv format in dir `I94ADDR_sas_label_validation`.\n",
    "- Transform staging tables to fact and dim tables.\n",
    "    - `fact_i94immi` out to parquet files saved at `./ws_parquet_outputs/fact_i94immi.parquet`\n",
    "    - `fact_worldtempe` out to parquet files saved at `./ws_parquet_outputs/fact_worldtempe.parquet`\n",
    "    - `dim_visa` out to parquet files saved at `./ws_parquet_outputs/dim_visa.parquet`\n",
    "    - `dim_immi_flight` out to parquet files saved at `./ws_parquet_outputs/dim_immi_flight.parquet`\n",
    "    - `dim_immi_travaller` out to parquet files saved at `./ws_parquet_outputs/dim_immi_travaller.parquet`\n",
    "    - `dim_i94port` out to parquet files saved at `./ws_parquet_outputs/dim_i94port.parquet`\n",
    "    - `dim_i94addr` out to parquet files saved at `./ws_parquet_outputs/dim_i94addr.parquet`"
   ]
  },
  {
   "cell_type": "markdown",
   "metadata": {
    "editable": true
   },
   "source": [
    "### Step 4: Run Pipelines to Model the Data"
   ]
  },
  {
   "cell_type": "markdown",
   "metadata": {
    "editable": true
   },
   "source": [
    "#### 4.1 Create the data model\n",
    "Run steps of pipeline with a python: `etl-v04b.py`"
   ]
  },
  {
   "cell_type": "markdown",
   "metadata": {
    "editable": true
   },
   "source": [
    "#### 4.2 Data Quality Checks\n",
    "\n",
    "Explain the data quality checks you'll perform to ensure the pipeline ran as expected. These could include:\n",
    "\n",
    "* Integrity constraints on the relational database (e.g., unique key, data type, etc.).\n",
    "* Unit tests for the scripts to ensure they are doing the right thing.\n",
    "* Source/Count checks to ensure completeness."
   ]
  },
  {
   "cell_type": "markdown",
   "metadata": {
    "editable": true
   },
   "source": [
    "- Create data quality check for fact and dim tables: `qualityCheck-v02.py`"
   ]
  },
  {
   "cell_type": "markdown",
   "metadata": {
    "editable": true
   },
   "source": [
    "- Run quality checks tables:\n",
    "    - `fact_i94immi`\n",
    "    - `fact_worldtempe`\n",
    "    - `dim_visa`\n",
    "    - `dim_immi_flight`\n",
    "    - `dim_immi_travaller`\n",
    "    - `dim_i94port` \n",
    "    - `dim_i94addr`\n",
    "- Check tables relationship\n",
    "    - `check_airport_traffic` Count air flight traffic to a city.\n",
    "    - `check_immi_city` Count immigration volume to a city.\n",
    "    - `check_tempe_immi_volume` Relation between temperature and immigration travel to a city."
   ]
  },
  {
   "cell_type": "markdown",
   "metadata": {
    "editable": true
   },
   "source": [
    "#### 4.3 Data dictionary"
   ]
  },
  {
   "cell_type": "markdown",
   "metadata": {
    "editable": true
   },
   "source": [
    "- The fact table `fact_i94immi` should includes columns:\n",
    "    - `travel_cicid` as `double` datatype.\n",
    "    - `from_country_code` as `double` datatype.\n",
    "    - `immi_country_code` as `double` datatype.\n",
    "    - `arrival_port_code` as `string` datatype.\n",
    "    - `immi_arrival_date` as `timestamp` datatype.\n",
    "    - `arrival_year` as `int` datatype.\n",
    "    - `arrival_month` as `int` datatype.\n",
    "    - `airline_mode_code` as `double` datatype.\n",
    "    - `immi_state_code` as `string` datatype.\n",
    "    - `departure_date` as `timestamp` datatype.\n",
    "    - `traveller_age` as `double` datatype.\n",
    "    - `visatype_by_number` as `double` datatype.\n",
    "    - `traveller_birth_year` as `double` datatype.\n",
    "    - `traveller_sex` as `string` datatype.\n",
    "    - `immi_flight_code` as `string` datatype.\n",
    "    - `visatype_by_code` as `string` datatype.\n",
    "    - `visa_type` as `string` datatype."
   ]
  },
  {
   "cell_type": "markdown",
   "metadata": {
    "editable": true
   },
   "source": [
    "- The fact table `fact_worldtempe` should includes columns:\n",
    "    - `avg_tempe` as `double` data type.\n",
    "    - `avg_tempe_uncertain` as `double` data type.\n",
    "    - `measure_city` as `string` data type.\n",
    "    - `tempe_month` as `int` data type.\n",
    "    - `dt_converted` as `timestamp` data type.\n",
    "    - `measure_date` as `timestamp` data type."
   ]
  },
  {
   "cell_type": "markdown",
   "metadata": {
    "editable": true
   },
   "source": [
    "Dim tables\n",
    "\n",
    "- `dim_visa` contains visa informations includes columns.\n",
    "    - `visatype_by_number` as `double` datatype.\n",
    "    - `visatype_by_code` as `varchar` datatype.\n",
    "    - `visa_category` as `varchar` datatype.\n",
    "\n",
    "- `dim_immi_flight` contains flight information includes columns.\n",
    "    - `flight_number` as `varchar` datatype.\n",
    "    - `flight_brand` as `varchar` datatype.\n",
    "    - `airport_city` as `varchar` datatype.\n",
    "\n",
    "- `dim_immi_travaller` contains immigration traveller informations includes columns.\n",
    "    - `traveller_cicid` as `double` data type\n",
    "    - `from_country_code` as `double` data type\n",
    "    - `immi_country_code` as `double` data type\n",
    "    - `arrival_port_code` as `string` data type\n",
    "    - `arrival_date` as `timestamp` data type\n",
    "    - `airline_immi_code` as `double` data type\n",
    "    - `desination_state_code` as `string` data type\n",
    "    - `traveller_age` as `double` data type\n",
    "    - `traveller_birth_year` as `double` data type\n",
    "    - `traveller_sex` as `string` data type\n",
    "    - `visatye_by_code` as `string` data type\n",
    "\n",
    "- `dim_i94port` list of US registered immigration port code, airport name, city.\n",
    "    - `immi_port_code` as `varchar` datatype\n",
    "    - `immi_city_name` as `varchar` datatype\n",
    "    - `immi_state_code` as `varchar` datatype\n",
    "\n",
    "- `dim_i94addr` list of US state.\n",
    "    - `immi_state_code` as `varchar` datatype\n",
    "    - `immi_state_name` as `varchar` datatype"
   ]
  },
  {
   "cell_type": "markdown",
   "metadata": {
    "editable": true
   },
   "source": [
    "### Step 5: Complete Project Write Up"
   ]
  },
  {
   "cell_type": "markdown",
   "metadata": {
    "editable": true
   },
   "source": [
    "- Clearly state the rationale for the choice of tools and technologies for the project.\n",
    "    - Pandas was chosen since it can easily handle dataframe either input or output csv. Easy to install and config Pandas on local computer to push up progress with SDK as VScode or Atom.\n",
    "    - Spark were chosen since capable of handling support file formats (ex. sas7bdat, SAS) with large volume of data.\n",
    "    - Dataframes of Spark or Pandas can be converted to each other.\n",
    "    - Spark SQL was chosen since capable of processing the large input files into dataframes and manipulated via commom SQL JOIN, modify table structure, aggregate data values."
   ]
  },
  {
   "cell_type": "markdown",
   "metadata": {
    "editable": true
   },
   "source": [
    "- Propose how often the data should be updated and why.\n",
    "    - Depending on the purpose of use to make period data analysis suggestions.\n",
    "        * Yearly: To have data for data analysis education\n",
    "        * Monthly: To have a basis for predicting seasonal travller traffic.\n",
    "        * Weekly: To have a basis for serving medical purposes (tracing infectious diseases like COVID, flu, ...)."
   ]
  },
  {
   "cell_type": "markdown",
   "metadata": {
    "editable": true
   },
   "source": [
    "- Write a description of how you would approach the problem differently under the following scenarios the data was increased by 100x:\n",
    "    - For the case that need to be met in terms of periodic timing, 100x is a really big volume to meet target be on time. For this scenarios, we should make design a region distributed big data for collecting, processing, modeling. This distributed big data should be many cluster on cloud-based system. Data will be split to chunks, every chunks being processed by a batch-job.\n",
    "    - For the case no worry about time, we can process the data as a single batch job. We could use existing cloud-based bigdata processing solution as datalake, datawarehouse..."
   ]
  },
  {
   "cell_type": "markdown",
   "metadata": {
    "editable": true
   },
   "source": [
    "- The data populates a dashboard that must be updated on a daily basis by 7am every day.\n",
    "    - For specific time update dashboard visualization, we can apply pipeline automation. Airflow is a good candidate cause of capacities schedule, automation, processing batch-job.\n",
    "    - The configurations of cloud-based processing system is a key factor to speed up the analysis progress."
   ]
  },
  {
   "cell_type": "markdown",
   "metadata": {
    "editable": true
   },
   "source": [
    "- The database needed to be accessed by 100+ people.\n",
    "    - We could consider publishing the parquet files to read-ony HDFS. \n",
    "    - In scenarios need  to meet high frequency SQL queries we consider place a midleware (ex. redis, memcahe, memsql) layer in the front of database."
   ]
  }
 ],
 "metadata": {
  "kernelspec": {
   "display_name": "Python 3",
   "language": "python",
   "name": "python3"
  },
  "language_info": {
   "codemirror_mode": {
    "name": "ipython",
    "version": 3
   },
   "file_extension": ".py",
   "mimetype": "text/x-python",
   "name": "python",
   "nbconvert_exporter": "python",
   "pygments_lexer": "ipython3",
   "version": "3.6.3"
  },
  "vscode": {
   "interpreter": {
    "hash": "369f2c481f4da34e4445cda3fffd2e751bd1c4d706f27375911949ba6bb62e1c"
   }
  }
 },
 "nbformat": 4,
 "nbformat_minor": 4
}
