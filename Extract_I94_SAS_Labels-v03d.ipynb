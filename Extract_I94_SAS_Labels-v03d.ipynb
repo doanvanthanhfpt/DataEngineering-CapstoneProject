{
 "cells": [
  {
   "cell_type": "code",
   "execution_count": 2,
   "metadata": {
    "editable": true
   },
   "outputs": [],
   "source": [
    "# Do all imports and installs here - Done\n",
    "from pyspark.sql import SparkSession\n",
    "import pyspark.sql.functions as F\n",
    "from pyspark.sql.functions import udf\n",
    "import pandas as pd\n",
    "import re\n",
    "import configparser\n",
    "import os\n",
    "import shutil\n",
    "from pyspark.sql.types import StructType as R, StructField as Fld,\\\n",
    "    DoubleType as Dbl, StringType as Str, IntegerType as Int,\\\n",
    "    TimestampType as Timestamp, DateType as Date, LongType as Long\n",
    "from pathlib import Path"
   ]
  },
  {
   "cell_type": "code",
   "execution_count": 3,
   "metadata": {
    "editable": true
   },
   "outputs": [],
   "source": [
    "# Run on production version\n",
    "spark = SparkSession.builder\\\n",
    "            .config(\"spark.jars.repositories\", \"https://repos.spark-packages.org/\")\\\n",
    "            .config(\"spark.jars.packages\", \"saurfang:spark-sas7bdat:2.0.0-s_2.11\")\\\n",
    "            .enableHiveSupport()\\\n",
    "            .getOrCreate()"
   ]
  },
  {
   "cell_type": "markdown",
   "metadata": {
    "editable": true
   },
   "source": [
    "### Extracts validation pair values from SAS Labels Description"
   ]
  },
  {
   "cell_type": "code",
   "execution_count": 4,
   "metadata": {
    "editable": true
   },
   "outputs": [],
   "source": [
    "def get_validation_code_from_SAS_labels(sas_input_label):\n",
    "    '''\n",
    "    This procedure read a input SAS Labels Description and then write out validation code datasets.\n",
    "    The SAS Labels Description included validation code datasets with labels: I94RES (same to I94CIT), I94PORT, I94ADDR, I94MODE, I94VISA.\n",
    "    \n",
    "    Parameters\n",
    "    ----------\n",
    "    sas_input_label : string\n",
    "        The label name of validation code dataset. Its can be one of I94RES (same to I94CIT), I94PORT, I94ADDR, I94MODE, I94VISA.\n",
    "    \n",
    "    Returns\n",
    "    -------\n",
    "    validation_code_list : validation_value_pairs(tuple(str_valid_code, str_valid_value))\n",
    "        The return output is a specific SAS label list of validation code value pairs.\n",
    "    '''\n",
    "\n",
    "    # Read input SAS Labels Descriptions\n",
    "    with open('I94_SAS_Labels_Descriptions.SAS') as sas_validation_code:\n",
    "            labels_from_sas = sas_validation_code.read()\n",
    "\n",
    "    # Parse labels from SAS Label Description input\n",
    "    sas_labels = labels_from_sas[labels_from_sas.index(sas_input_label):]\n",
    "    sas_labels = sas_labels[:sas_labels.index(';')]\n",
    "    \n",
    "    # Processing line by line, remove separate charaters and then append value pair\n",
    "    lines = sas_labels.splitlines()\n",
    "    validation_code_list = []\n",
    "    for line in lines:\n",
    "        try:\n",
    "            valid_code, valid_value = line.split('=')\n",
    "            valid_code = valid_code.strip().strip(\"'\").strip('\"')\n",
    "            valid_value = valid_value.strip().strip(\"'\").strip('\"').strip()\n",
    "            validation_code_list.append((valid_code, valid_value))\n",
    "        except:\n",
    "            pass\n",
    "        \n",
    "    return validation_code_list"
   ]
  },
  {
   "cell_type": "code",
   "execution_count": 5,
   "metadata": {
    "editable": true
   },
   "outputs": [],
   "source": [
    "def extract_staging_sas_label(label):\n",
    "    '''\n",
    "    asdjhkjf.\n",
    "    \n",
    "    Parameters\n",
    "    ----------\n",
    "    label: \n",
    "        a string input of specific label from \"SAS_Label_Descriptions.SAS\"\n",
    "        \n",
    "    Syntax note: \n",
    "        input value in string datatype, need inside a pair of single quotes. Ex: 'I94RES', 'I94PORTS'\n",
    "    \n",
    "    Returns\n",
    "    -------\n",
    "    Dataframe of input label.\n",
    "    '''\n",
    "    label_name = label\n",
    "    valid_code = label + \"_valid_code\"\n",
    "    valid_value = label + \"_valid_value\"\n",
    "    csv_output = label + \"_sas_label_validation\"\n",
    "    parent_dir = \"./\"\n",
    "    path = os.path.join(parent_dir, csv_output)\n",
    "    # os.mkdir(path)\n",
    "\n",
    "    schema = R([\n",
    "        Fld(valid_code, Str()),\n",
    "        Fld(valid_value, Str())\n",
    "    ])\n",
    "\n",
    "    df = spark.createDataFrame(\n",
    "        data=get_validation_code_from_SAS_labels(label_name),\n",
    "        schema=schema\n",
    "    )\n",
    "\n",
    "    shutil.rmtree(csv_output, ignore_errors=False, onerror=None)\n",
    "    df.write.options(header='True', delimiter=',').csv(csv_output)\n",
    "    # df.write.mode('overwrite').csv(csv_output)\n",
    "\n",
    "    df = spark.read.options(inferSchema=\"true\", delimiter=\",\", header = \"true\").csv(csv_output)\n",
    "\n",
    "    print(\"Top 20 rows of {} \".format(csv_output))\n",
    "    df.show()\n",
    "\n",
    "    print(\"Count rows of {}: {} \".format(csv_output, df.count()))\n",
    "    \n",
    "    print(\"Check unique value of {}: {} \".format(csv_output, df.select(valid_code).distinct().count()))\n",
    "\n",
    "    print(\"Staging csv files in: {}\".format(csv_output))\n",
    "\n",
    "    return df"
   ]
  },
  {
   "cell_type": "code",
   "execution_count": 6,
   "metadata": {
    "editable": true
   },
   "outputs": [],
   "source": [
    "def convert_column_names(df):\n",
    "    '''\n",
    "    This procedure standardizing column names to snake case format. Format ex: customer_name, billing_address, total_price.\n",
    "    \n",
    "    Parameters\n",
    "    ----------\n",
    "    dataframe : string_of_dataframe\n",
    "        The input dataframe with column names might have elements of messy columns names, including accents, different delimiters, casing and multiple white spaces.\n",
    "        Snake case style replaces the white spaces and symbol delimiters with underscore and converts all characters to lower case\n",
    "    \n",
    "    Returns\n",
    "    -------\n",
    "    Dataframe with column names has been changed to snake_case format.\n",
    "    '''\n",
    "    cols = df.columns\n",
    "    column_name_changed = []\n",
    "\n",
    "    for col in cols:\n",
    "        new_column = col.lstrip().rstrip().lower().replace (\" \", \"_\").replace (\"-\", \"_\")\n",
    "        column_name_changed.append(new_column)\n",
    "\n",
    "    df.columns = column_name_changed"
   ]
  },
  {
   "cell_type": "code",
   "execution_count": 7,
   "metadata": {
    "editable": true
   },
   "outputs": [],
   "source": [
    "def rmdir(directory):\n",
    "    '''\n",
    "    This procedure perform pure recursive a directory.\n",
    "    \n",
    "    Parameters\n",
    "    ----------\n",
    "    directory : string_of_path_to_dir\n",
    "        The input directory is a path to target dir. This dir and all its belong child objects wil be deleted.\n",
    "        Syntax note: rmdir(Path(\"target_path_to_dir\"))\n",
    "            with Path(\"target_path_to_dir\") returns path to dir format as 'directory' input\n",
    "    \n",
    "    Returns\n",
    "    -------\n",
    "    None\n",
    "    '''\n",
    "    directory = Path(directory)\n",
    "    for item in directory.iterdir():\n",
    "        if item.is_dir():\n",
    "            rmdir(item)\n",
    "        else:\n",
    "            item.unlink()\n",
    "    directory.rmdir()"
   ]
  },
  {
   "cell_type": "markdown",
   "metadata": {
    "editable": true
   },
   "source": [
    "### Extract and clean validation values from 'SAS_Labels_Descriptions.SAS'"
   ]
  },
  {
   "cell_type": "code",
   "execution_count": 8,
   "metadata": {
    "editable": true
   },
   "outputs": [
    {
     "name": "stdout",
     "output_type": "stream",
     "text": [
      "Top 20 rows of I94PORT_sas_label_validation \n",
      "+------------------+--------------------+\n",
      "|I94PORT_valid_code| I94PORT_valid_value|\n",
      "+------------------+--------------------+\n",
      "|               ORO|        OROVILLE, WA|\n",
      "|               PWB|           PASCO, WA|\n",
      "|               PIR|   POINT ROBERTS, WA|\n",
      "|               PNG|    PORT ANGELES, WA|\n",
      "|               PTO|   PORT TOWNSEND, WA|\n",
      "|               SEA|         SEATTLE, WA|\n",
      "|               SPO|         SPOKANE, WA|\n",
      "|               SUM|           SUMAS, WA|\n",
      "|               TAC|          TACOMA, WA|\n",
      "|               PSC|TRI-CITIES - PASC...|\n",
      "|               VAN|       VANCOUVER, WA|\n",
      "|               AGM|          ALGOMA, WI|\n",
      "|               BAY|        BAYFIELD, WI|\n",
      "|               GRB|       GREEN BAY, WI|\n",
      "|               MNW|       MANITOWOC, WI|\n",
      "|               MIL|       MILWAUKEE, WI|\n",
      "|               MSN|TRUAX FIELD - DAN...|\n",
      "|               CHS|      CHARLESTON, WV|\n",
      "|               CLK|      CLARKSBURG, WV|\n",
      "|               BLF|   MERCER COUNTY, WV|\n",
      "+------------------+--------------------+\n",
      "only showing top 20 rows\n",
      "\n",
      "Count rows of I94PORT_sas_label_validation: 660 \n",
      "Check unique value of I94PORT_sas_label_validation: 660 \n",
      "Staging csv files in: I94PORT_sas_label_validation\n"
     ]
    },
    {
     "data": {
      "text/html": [
       "<div>\n",
       "<style scoped>\n",
       "    .dataframe tbody tr th:only-of-type {\n",
       "        vertical-align: middle;\n",
       "    }\n",
       "\n",
       "    .dataframe tbody tr th {\n",
       "        vertical-align: top;\n",
       "    }\n",
       "\n",
       "    .dataframe thead th {\n",
       "        text-align: right;\n",
       "    }\n",
       "</style>\n",
       "<table border=\"1\" class=\"dataframe\">\n",
       "  <thead>\n",
       "    <tr style=\"text-align: right;\">\n",
       "      <th></th>\n",
       "      <th>I94PORT_valid_code</th>\n",
       "      <th>I94PORT_valid_value</th>\n",
       "    </tr>\n",
       "  </thead>\n",
       "  <tbody>\n",
       "    <tr>\n",
       "      <th>0</th>\n",
       "      <td>ORO</td>\n",
       "      <td>OROVILLE, WA</td>\n",
       "    </tr>\n",
       "    <tr>\n",
       "      <th>1</th>\n",
       "      <td>PWB</td>\n",
       "      <td>PASCO, WA</td>\n",
       "    </tr>\n",
       "    <tr>\n",
       "      <th>2</th>\n",
       "      <td>PIR</td>\n",
       "      <td>POINT ROBERTS, WA</td>\n",
       "    </tr>\n",
       "    <tr>\n",
       "      <th>3</th>\n",
       "      <td>PNG</td>\n",
       "      <td>PORT ANGELES, WA</td>\n",
       "    </tr>\n",
       "    <tr>\n",
       "      <th>4</th>\n",
       "      <td>PTO</td>\n",
       "      <td>PORT TOWNSEND, WA</td>\n",
       "    </tr>\n",
       "    <tr>\n",
       "      <th>...</th>\n",
       "      <td>...</td>\n",
       "      <td>...</td>\n",
       "    </tr>\n",
       "    <tr>\n",
       "      <th>655</th>\n",
       "      <td>MRR</td>\n",
       "      <td>MORRISTOWN, NY</td>\n",
       "    </tr>\n",
       "    <tr>\n",
       "      <th>656</th>\n",
       "      <td>NYC</td>\n",
       "      <td>NEW YORK, NY</td>\n",
       "    </tr>\n",
       "    <tr>\n",
       "      <th>657</th>\n",
       "      <td>NIA</td>\n",
       "      <td>NIAGARA FALLS, NY</td>\n",
       "    </tr>\n",
       "    <tr>\n",
       "      <th>658</th>\n",
       "      <td>OGD</td>\n",
       "      <td>OGDENSBURG, NY</td>\n",
       "    </tr>\n",
       "    <tr>\n",
       "      <th>659</th>\n",
       "      <td>OSW</td>\n",
       "      <td>OSWEGO, NY</td>\n",
       "    </tr>\n",
       "  </tbody>\n",
       "</table>\n",
       "<p>660 rows × 2 columns</p>\n",
       "</div>"
      ],
      "text/plain": [
       "    I94PORT_valid_code I94PORT_valid_value\n",
       "0                  ORO        OROVILLE, WA\n",
       "1                  PWB           PASCO, WA\n",
       "2                  PIR   POINT ROBERTS, WA\n",
       "3                  PNG    PORT ANGELES, WA\n",
       "4                  PTO   PORT TOWNSEND, WA\n",
       "..                 ...                 ...\n",
       "655                MRR      MORRISTOWN, NY\n",
       "656                NYC        NEW YORK, NY\n",
       "657                NIA   NIAGARA FALLS, NY\n",
       "658                OGD      OGDENSBURG, NY\n",
       "659                OSW          OSWEGO, NY\n",
       "\n",
       "[660 rows x 2 columns]"
      ]
     },
     "execution_count": 8,
     "metadata": {},
     "output_type": "execute_result"
    }
   ],
   "source": [
    "# `I94PORT` label\n",
    "I94PORT_staging_df = extract_staging_sas_label('I94PORT')\n",
    "I94PORT_staging_df = I94PORT_staging_df.toPandas()\n",
    "I94PORT_staging_df"
   ]
  },
  {
   "cell_type": "markdown",
   "metadata": {
    "editable": true
   },
   "source": [
    "### Clean validation values from 'SAS_Labels_Descriptions.SAS'"
   ]
  },
  {
   "cell_type": "markdown",
   "metadata": {
    "editable": true
   },
   "source": [
    "Split to ***I94PORT_code, City, State*** for ***dim_i94port***"
   ]
  },
  {
   "cell_type": "code",
   "execution_count": 9,
   "metadata": {
    "editable": true
   },
   "outputs": [],
   "source": [
    "# clean leading and trailing white space\n",
    "I94PORT_staging_df[\"I94PORT_valid_code\"] = I94PORT_staging_df[\"I94PORT_valid_code\"].str.lstrip().str.rstrip()\n",
    "I94PORT_staging_df[\"I94PORT_valid_value\"] = I94PORT_staging_df[\"I94PORT_valid_value\"].str.lstrip().str.rstrip()"
   ]
  },
  {
   "cell_type": "code",
   "execution_count": 10,
   "metadata": {
    "editable": true
   },
   "outputs": [],
   "source": [
    "# split to port, city, state\n",
    "I94PORT_staging_df[\"I94PORT_city_name\"] = I94PORT_staging_df[\"I94PORT_valid_value\"].str.split(\",\").str.get(0)\n",
    "I94PORT_staging_df[\"I94PORT_state_code\"] = I94PORT_staging_df[\"I94PORT_valid_value\"].str.split(\",\").str.get(1)"
   ]
  },
  {
   "cell_type": "code",
   "execution_count": 11,
   "metadata": {
    "editable": true
   },
   "outputs": [],
   "source": [
    "# clean leading and trailing white space\n",
    "I94PORT_staging_df[\"I94PORT_city_name\"] = I94PORT_staging_df[\"I94PORT_city_name\"].str.lstrip().str.rstrip()\n",
    "I94PORT_staging_df[\"I94PORT_state_code\"] = I94PORT_staging_df[\"I94PORT_state_code\"].str.lstrip().str.rstrip()"
   ]
  },
  {
   "cell_type": "code",
   "execution_count": 12,
   "metadata": {
    "editable": true
   },
   "outputs": [
    {
     "data": {
      "text/html": [
       "<div>\n",
       "<style scoped>\n",
       "    .dataframe tbody tr th:only-of-type {\n",
       "        vertical-align: middle;\n",
       "    }\n",
       "\n",
       "    .dataframe tbody tr th {\n",
       "        vertical-align: top;\n",
       "    }\n",
       "\n",
       "    .dataframe thead th {\n",
       "        text-align: right;\n",
       "    }\n",
       "</style>\n",
       "<table border=\"1\" class=\"dataframe\">\n",
       "  <thead>\n",
       "    <tr style=\"text-align: right;\">\n",
       "      <th></th>\n",
       "      <th>I94PORT_valid_code</th>\n",
       "      <th>I94PORT_valid_value</th>\n",
       "      <th>I94PORT_city_name</th>\n",
       "      <th>I94PORT_state_code</th>\n",
       "    </tr>\n",
       "  </thead>\n",
       "  <tbody>\n",
       "    <tr>\n",
       "      <th>0</th>\n",
       "      <td>ORO</td>\n",
       "      <td>OROVILLE, WA</td>\n",
       "      <td>OROVILLE</td>\n",
       "      <td>WA</td>\n",
       "    </tr>\n",
       "    <tr>\n",
       "      <th>1</th>\n",
       "      <td>PWB</td>\n",
       "      <td>PASCO, WA</td>\n",
       "      <td>PASCO</td>\n",
       "      <td>WA</td>\n",
       "    </tr>\n",
       "    <tr>\n",
       "      <th>2</th>\n",
       "      <td>PIR</td>\n",
       "      <td>POINT ROBERTS, WA</td>\n",
       "      <td>POINT ROBERTS</td>\n",
       "      <td>WA</td>\n",
       "    </tr>\n",
       "    <tr>\n",
       "      <th>3</th>\n",
       "      <td>PNG</td>\n",
       "      <td>PORT ANGELES, WA</td>\n",
       "      <td>PORT ANGELES</td>\n",
       "      <td>WA</td>\n",
       "    </tr>\n",
       "    <tr>\n",
       "      <th>4</th>\n",
       "      <td>PTO</td>\n",
       "      <td>PORT TOWNSEND, WA</td>\n",
       "      <td>PORT TOWNSEND</td>\n",
       "      <td>WA</td>\n",
       "    </tr>\n",
       "    <tr>\n",
       "      <th>...</th>\n",
       "      <td>...</td>\n",
       "      <td>...</td>\n",
       "      <td>...</td>\n",
       "      <td>...</td>\n",
       "    </tr>\n",
       "    <tr>\n",
       "      <th>655</th>\n",
       "      <td>MRR</td>\n",
       "      <td>MORRISTOWN, NY</td>\n",
       "      <td>MORRISTOWN</td>\n",
       "      <td>NY</td>\n",
       "    </tr>\n",
       "    <tr>\n",
       "      <th>656</th>\n",
       "      <td>NYC</td>\n",
       "      <td>NEW YORK, NY</td>\n",
       "      <td>NEW YORK</td>\n",
       "      <td>NY</td>\n",
       "    </tr>\n",
       "    <tr>\n",
       "      <th>657</th>\n",
       "      <td>NIA</td>\n",
       "      <td>NIAGARA FALLS, NY</td>\n",
       "      <td>NIAGARA FALLS</td>\n",
       "      <td>NY</td>\n",
       "    </tr>\n",
       "    <tr>\n",
       "      <th>658</th>\n",
       "      <td>OGD</td>\n",
       "      <td>OGDENSBURG, NY</td>\n",
       "      <td>OGDENSBURG</td>\n",
       "      <td>NY</td>\n",
       "    </tr>\n",
       "    <tr>\n",
       "      <th>659</th>\n",
       "      <td>OSW</td>\n",
       "      <td>OSWEGO, NY</td>\n",
       "      <td>OSWEGO</td>\n",
       "      <td>NY</td>\n",
       "    </tr>\n",
       "  </tbody>\n",
       "</table>\n",
       "<p>660 rows × 4 columns</p>\n",
       "</div>"
      ],
      "text/plain": [
       "    I94PORT_valid_code I94PORT_valid_value I94PORT_city_name  \\\n",
       "0                  ORO        OROVILLE, WA          OROVILLE   \n",
       "1                  PWB           PASCO, WA             PASCO   \n",
       "2                  PIR   POINT ROBERTS, WA     POINT ROBERTS   \n",
       "3                  PNG    PORT ANGELES, WA      PORT ANGELES   \n",
       "4                  PTO   PORT TOWNSEND, WA     PORT TOWNSEND   \n",
       "..                 ...                 ...               ...   \n",
       "655                MRR      MORRISTOWN, NY        MORRISTOWN   \n",
       "656                NYC        NEW YORK, NY          NEW YORK   \n",
       "657                NIA   NIAGARA FALLS, NY     NIAGARA FALLS   \n",
       "658                OGD      OGDENSBURG, NY        OGDENSBURG   \n",
       "659                OSW          OSWEGO, NY            OSWEGO   \n",
       "\n",
       "    I94PORT_state_code  \n",
       "0                   WA  \n",
       "1                   WA  \n",
       "2                   WA  \n",
       "3                   WA  \n",
       "4                   WA  \n",
       "..                 ...  \n",
       "655                 NY  \n",
       "656                 NY  \n",
       "657                 NY  \n",
       "658                 NY  \n",
       "659                 NY  \n",
       "\n",
       "[660 rows x 4 columns]"
      ]
     },
     "execution_count": 12,
     "metadata": {},
     "output_type": "execute_result"
    }
   ],
   "source": [
    "I94PORT_staging_df"
   ]
  },
  {
   "cell_type": "code",
   "execution_count": 13,
   "metadata": {
    "editable": true
   },
   "outputs": [
    {
     "data": {
      "text/plain": [
       "Newport                     3\n",
       "Yuma                        2\n",
       "Lake Charles                2\n",
       "Bellingham                  2\n",
       "Wilmington                  2\n",
       "                           ..\n",
       "Tri City Arpt               1\n",
       "Addison Airport- Addison    1\n",
       "Amistad Dam                 1\n",
       "Anzalduas                   1\n",
       "Oswego                      1\n",
       "Name: I94PORT_city_name, Length: 634, dtype: int64"
      ]
     },
     "execution_count": 13,
     "metadata": {},
     "output_type": "execute_result"
    }
   ],
   "source": [
    "# count amount airport of a city\n",
    "I94PORT_staging_df[\"I94PORT_city_name\"].str.title().value_counts()"
   ]
  },
  {
   "cell_type": "code",
   "execution_count": 14,
   "metadata": {
    "editable": true
   },
   "outputs": [
    {
     "data": {
      "text/html": [
       "<div>\n",
       "<style scoped>\n",
       "    .dataframe tbody tr th:only-of-type {\n",
       "        vertical-align: middle;\n",
       "    }\n",
       "\n",
       "    .dataframe tbody tr th {\n",
       "        vertical-align: top;\n",
       "    }\n",
       "\n",
       "    .dataframe thead th {\n",
       "        text-align: right;\n",
       "    }\n",
       "</style>\n",
       "<table border=\"1\" class=\"dataframe\">\n",
       "  <thead>\n",
       "    <tr style=\"text-align: right;\">\n",
       "      <th></th>\n",
       "      <th>I94PORT_valid_code</th>\n",
       "      <th>I94PORT_valid_value</th>\n",
       "      <th>I94PORT_city_name</th>\n",
       "      <th>I94PORT_state_code</th>\n",
       "    </tr>\n",
       "  </thead>\n",
       "  <tbody>\n",
       "    <tr>\n",
       "      <th>0</th>\n",
       "      <td>ORO</td>\n",
       "      <td>OROVILLE, WA</td>\n",
       "      <td>OROVILLE</td>\n",
       "      <td>WA</td>\n",
       "    </tr>\n",
       "    <tr>\n",
       "      <th>1</th>\n",
       "      <td>PWB</td>\n",
       "      <td>PASCO, WA</td>\n",
       "      <td>PASCO</td>\n",
       "      <td>WA</td>\n",
       "    </tr>\n",
       "    <tr>\n",
       "      <th>2</th>\n",
       "      <td>PIR</td>\n",
       "      <td>POINT ROBERTS, WA</td>\n",
       "      <td>POINT ROBERTS</td>\n",
       "      <td>WA</td>\n",
       "    </tr>\n",
       "    <tr>\n",
       "      <th>3</th>\n",
       "      <td>PNG</td>\n",
       "      <td>PORT ANGELES, WA</td>\n",
       "      <td>PORT ANGELES</td>\n",
       "      <td>WA</td>\n",
       "    </tr>\n",
       "    <tr>\n",
       "      <th>4</th>\n",
       "      <td>PTO</td>\n",
       "      <td>PORT TOWNSEND, WA</td>\n",
       "      <td>PORT TOWNSEND</td>\n",
       "      <td>WA</td>\n",
       "    </tr>\n",
       "  </tbody>\n",
       "</table>\n",
       "</div>"
      ],
      "text/plain": [
       "  I94PORT_valid_code I94PORT_valid_value I94PORT_city_name I94PORT_state_code\n",
       "0                ORO        OROVILLE, WA          OROVILLE                 WA\n",
       "1                PWB           PASCO, WA             PASCO                 WA\n",
       "2                PIR   POINT ROBERTS, WA     POINT ROBERTS                 WA\n",
       "3                PNG    PORT ANGELES, WA      PORT ANGELES                 WA\n",
       "4                PTO   PORT TOWNSEND, WA     PORT TOWNSEND                 WA"
      ]
     },
     "execution_count": 14,
     "metadata": {},
     "output_type": "execute_result"
    }
   ],
   "source": [
    "# drop missing value on I94PORT_state_code\n",
    "I94PORT_staging_df = I94PORT_staging_df.dropna(subset = [\"I94PORT_state_code\"])\n",
    "I94PORT_staging_df.head()"
   ]
  },
  {
   "cell_type": "code",
   "execution_count": 15,
   "metadata": {
    "editable": true
   },
   "outputs": [
    {
     "data": {
      "text/plain": [
       "Index(['i94port_valid_code', 'i94port_valid_value', 'i94port_city_name',\n",
       "       'i94port_state_code'],\n",
       "      dtype='object')"
      ]
     },
     "execution_count": 15,
     "metadata": {},
     "output_type": "execute_result"
    }
   ],
   "source": [
    "convert_column_names(I94PORT_staging_df)\n",
    "I94PORT_staging_df.columns"
   ]
  },
  {
   "cell_type": "code",
   "execution_count": 18,
   "metadata": {
    "editable": true
   },
   "outputs": [
    {
     "data": {
      "text/html": [
       "<div>\n",
       "<style scoped>\n",
       "    .dataframe tbody tr th:only-of-type {\n",
       "        vertical-align: middle;\n",
       "    }\n",
       "\n",
       "    .dataframe tbody tr th {\n",
       "        vertical-align: top;\n",
       "    }\n",
       "\n",
       "    .dataframe thead th {\n",
       "        text-align: right;\n",
       "    }\n",
       "</style>\n",
       "<table border=\"1\" class=\"dataframe\">\n",
       "  <thead>\n",
       "    <tr style=\"text-align: right;\">\n",
       "      <th></th>\n",
       "      <th>i94port_valid_code</th>\n",
       "      <th>i94port_city_name</th>\n",
       "      <th>i94port_state_code</th>\n",
       "    </tr>\n",
       "  </thead>\n",
       "  <tbody>\n",
       "    <tr>\n",
       "      <th>0</th>\n",
       "      <td>ORO</td>\n",
       "      <td>OROVILLE</td>\n",
       "      <td>WA</td>\n",
       "    </tr>\n",
       "    <tr>\n",
       "      <th>1</th>\n",
       "      <td>PWB</td>\n",
       "      <td>PASCO</td>\n",
       "      <td>WA</td>\n",
       "    </tr>\n",
       "    <tr>\n",
       "      <th>2</th>\n",
       "      <td>PIR</td>\n",
       "      <td>POINT ROBERTS</td>\n",
       "      <td>WA</td>\n",
       "    </tr>\n",
       "    <tr>\n",
       "      <th>3</th>\n",
       "      <td>PNG</td>\n",
       "      <td>PORT ANGELES</td>\n",
       "      <td>WA</td>\n",
       "    </tr>\n",
       "    <tr>\n",
       "      <th>4</th>\n",
       "      <td>PTO</td>\n",
       "      <td>PORT TOWNSEND</td>\n",
       "      <td>WA</td>\n",
       "    </tr>\n",
       "  </tbody>\n",
       "</table>\n",
       "</div>"
      ],
      "text/plain": [
       "  i94port_valid_code i94port_city_name i94port_state_code\n",
       "0                ORO          OROVILLE                 WA\n",
       "1                PWB             PASCO                 WA\n",
       "2                PIR     POINT ROBERTS                 WA\n",
       "3                PNG      PORT ANGELES                 WA\n",
       "4                PTO     PORT TOWNSEND                 WA"
      ]
     },
     "execution_count": 18,
     "metadata": {},
     "output_type": "execute_result"
    }
   ],
   "source": [
    "select_cols = ['i94port_valid_code', 'i94port_city_name', 'i94port_state_code']\n",
    "I94PORT_staging_df = I94PORT_staging_df[select_cols]\n",
    "I94PORT_staging_df.head()"
   ]
  },
  {
   "cell_type": "code",
   "execution_count": null,
   "metadata": {},
   "outputs": [],
   "source": [
    "I94PORT_staging_df = spark.createDataFrame(I94PORT_staging_df)"
   ]
  },
  {
   "cell_type": "code",
   "execution_count": 21,
   "metadata": {},
   "outputs": [
    {
     "name": "stdout",
     "output_type": "stream",
     "text": [
      "root\n",
      " |-- i94port_valid_code: string (nullable = true)\n",
      " |-- i94port_city_name: string (nullable = true)\n",
      " |-- i94port_state_code: string (nullable = true)\n",
      "\n",
      "+------------------+--------------------+------------------+\n",
      "|i94port_valid_code|   i94port_city_name|i94port_state_code|\n",
      "+------------------+--------------------+------------------+\n",
      "|               ORO|            OROVILLE|                WA|\n",
      "|               PWB|               PASCO|                WA|\n",
      "|               PIR|       POINT ROBERTS|                WA|\n",
      "|               PNG|        PORT ANGELES|                WA|\n",
      "|               PTO|       PORT TOWNSEND|                WA|\n",
      "|               SEA|             SEATTLE|                WA|\n",
      "|               SPO|             SPOKANE|                WA|\n",
      "|               SUM|               SUMAS|                WA|\n",
      "|               TAC|              TACOMA|                WA|\n",
      "|               PSC|  TRI-CITIES - PASCO|                WA|\n",
      "|               VAN|           VANCOUVER|                WA|\n",
      "|               AGM|              ALGOMA|                WI|\n",
      "|               BAY|            BAYFIELD|                WI|\n",
      "|               GRB|           GREEN BAY|                WI|\n",
      "|               MNW|           MANITOWOC|                WI|\n",
      "|               MIL|           MILWAUKEE|                WI|\n",
      "|               MSN|TRUAX FIELD - DAN...|                WI|\n",
      "|               CHS|          CHARLESTON|                WV|\n",
      "|               CLK|          CLARKSBURG|                WV|\n",
      "|               BLF|       MERCER COUNTY|                WV|\n",
      "+------------------+--------------------+------------------+\n",
      "only showing top 20 rows\n",
      "\n"
     ]
    }
   ],
   "source": [
    "I94PORT_staging_df.printSchema()\n",
    "I94PORT_staging_df.show()"
   ]
  },
  {
   "cell_type": "markdown",
   "metadata": {
    "editable": true
   },
   "source": [
    "### Staging validation values from 'SAS_Labels_Descriptions.SAS'"
   ]
  },
  {
   "cell_type": "code",
   "execution_count": null,
   "metadata": {
    "editable": true
   },
   "outputs": [],
   "source": [
    "rmdir(Path(\"i94port_staging\"))"
   ]
  },
  {
   "cell_type": "code",
   "execution_count": 23,
   "metadata": {
    "editable": true
   },
   "outputs": [],
   "source": [
    "I94PORT_staging_df.write.options(header='True', delimiter=',').csv(\"i94port_staging\")\n",
    "# I94PORT_staging_df.write.options(header='True', delimiter=',').csv(\"i94port_staging\")\n",
    "# I94PORT_staging_df.write.csv(\"i94port_staging.csv\")"
   ]
  },
  {
   "cell_type": "code",
   "execution_count": 55,
   "metadata": {
    "editable": true
   },
   "outputs": [],
   "source": [
    "# Staging `I94PORT` label\n",
    "# I94PORT_staging_df.to_csv(\"i94port_staging.csv\", index = False, header=True)"
   ]
  },
  {
   "cell_type": "code",
   "execution_count": 24,
   "metadata": {
    "editable": true
   },
   "outputs": [],
   "source": [
    "#i94port_df = spark.read.csv(\"i94port_staging.csv\", header=True)\n",
    "# i94port_df = spark.read.options(inferSchema=\"true\", delimiter=\",\", header = \"true\").csv(\"i94port_staging.csv\")\n",
    "i94port_df = spark.read.options(inferSchema=\"true\", delimiter=\",\", header = \"true\").csv(\"i94port_staging\")"
   ]
  },
  {
   "cell_type": "code",
   "execution_count": 25,
   "metadata": {
    "editable": true
   },
   "outputs": [
    {
     "name": "stdout",
     "output_type": "stream",
     "text": [
      "+------------------+--------------------+------------------+\n",
      "|i94port_valid_code|   i94port_city_name|i94port_state_code|\n",
      "+------------------+--------------------+------------------+\n",
      "|               ORO|            OROVILLE|                WA|\n",
      "|               PWB|               PASCO|                WA|\n",
      "|               PIR|       POINT ROBERTS|                WA|\n",
      "|               PNG|        PORT ANGELES|                WA|\n",
      "|               PTO|       PORT TOWNSEND|                WA|\n",
      "|               SEA|             SEATTLE|                WA|\n",
      "|               SPO|             SPOKANE|                WA|\n",
      "|               SUM|               SUMAS|                WA|\n",
      "|               TAC|              TACOMA|                WA|\n",
      "|               PSC|  TRI-CITIES - PASCO|                WA|\n",
      "|               VAN|           VANCOUVER|                WA|\n",
      "|               AGM|              ALGOMA|                WI|\n",
      "|               BAY|            BAYFIELD|                WI|\n",
      "|               GRB|           GREEN BAY|                WI|\n",
      "|               MNW|           MANITOWOC|                WI|\n",
      "|               MIL|           MILWAUKEE|                WI|\n",
      "|               MSN|TRUAX FIELD - DAN...|                WI|\n",
      "|               CHS|          CHARLESTON|                WV|\n",
      "|               CLK|          CLARKSBURG|                WV|\n",
      "|               BLF|       MERCER COUNTY|                WV|\n",
      "+------------------+--------------------+------------------+\n",
      "only showing top 20 rows\n",
      "\n"
     ]
    }
   ],
   "source": [
    "i94port_df.show()"
   ]
  },
  {
   "cell_type": "code",
   "execution_count": 26,
   "metadata": {
    "editable": true
   },
   "outputs": [],
   "source": [
    "# Create table from dataframe\n",
    "i94port_df.createOrReplaceTempView('i94port_table')"
   ]
  },
  {
   "cell_type": "code",
   "execution_count": 27,
   "metadata": {
    "editable": true
   },
   "outputs": [
    {
     "name": "stdout",
     "output_type": "stream",
     "text": [
      "+--------+\n",
      "|count(1)|\n",
      "+--------+\n",
      "|     583|\n",
      "+--------+\n",
      "\n"
     ]
    }
   ],
   "source": [
    "spark.sql(\"\"\"\n",
    "    SELECT COUNT(*)\n",
    "    FROM i94port_table\n",
    "\"\"\").show()"
   ]
  },
  {
   "cell_type": "code",
   "execution_count": null,
   "metadata": {
    "editable": true
   },
   "outputs": [],
   "source": []
  },
  {
   "cell_type": "code",
   "execution_count": null,
   "metadata": {
    "editable": true
   },
   "outputs": [],
   "source": []
  },
  {
   "cell_type": "code",
   "execution_count": null,
   "metadata": {
    "editable": true
   },
   "outputs": [],
   "source": []
  }
 ],
 "metadata": {
  "kernelspec": {
   "display_name": "Python 3",
   "language": "python",
   "name": "python3"
  },
  "language_info": {
   "codemirror_mode": {
    "name": "ipython",
    "version": 3
   },
   "file_extension": ".py",
   "mimetype": "text/x-python",
   "name": "python",
   "nbconvert_exporter": "python",
   "pygments_lexer": "ipython3",
   "version": "3.10.8"
  },
  "vscode": {
   "interpreter": {
    "hash": "6f19dfd6b1cd7fd360d4f2c4802461aa893d068ea99183b3eab6718091575a5a"
   }
  }
 },
 "nbformat": 4,
 "nbformat_minor": 4
}
