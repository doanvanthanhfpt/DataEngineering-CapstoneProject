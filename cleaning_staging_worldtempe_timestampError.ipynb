{
 "cells": [
  {
   "cell_type": "code",
   "execution_count": 1,
   "metadata": {
    "editable": true
   },
   "outputs": [],
   "source": [
    "# Do all imports and installs here - Done\n",
    "from pyspark.sql import SparkSession\n",
    "from pyspark.sql.functions import udf\n",
    "import pandas as pd\n",
    "import re\n",
    "import configparser\n",
    "import os\n",
    "from pathlib import Path"
   ]
  },
  {
   "cell_type": "code",
   "execution_count": 2,
   "metadata": {
    "editable": true
   },
   "outputs": [
    {
     "data": {
      "text/plain": [
       "['etl.cfg']"
      ]
     },
     "execution_count": 2,
     "metadata": {},
     "output_type": "execute_result"
    }
   ],
   "source": [
    "# Parse configurations - Done\n",
    "config = configparser.ConfigParser()\n",
    "config.read('etl.cfg')"
   ]
  },
  {
   "cell_type": "code",
   "execution_count": 3,
   "metadata": {
    "editable": true
   },
   "outputs": [],
   "source": [
    "# Run on production version\n",
    "spark = SparkSession.builder\\\n",
    "            .config(\"spark.jars.repositories\", \"https://repos.spark-packages.org/\")\\\n",
    "            .config(\"spark.jars.packages\", \"saurfang:spark-sas7bdat:2.0.0-s_2.11\")\\\n",
    "            .enableHiveSupport()\\\n",
    "            .getOrCreate()"
   ]
  },
  {
   "cell_type": "code",
   "execution_count": 4,
   "metadata": {
    "editable": true
   },
   "outputs": [],
   "source": [
    "def rmdir(directory):\n",
    "    '''\n",
    "    This procedure perform pure recursive a directory.\n",
    "    \n",
    "    Parameters\n",
    "    ----------\n",
    "    directory : string_of_path_to_dir\n",
    "        The input directory is a path to target dir. This dir and all its belong child objects wil be deleted.\n",
    "        Syntax note: rmdir(Path(\"target_path_to_dir\"))\n",
    "            with Path(\"target_path_to_dir\") returns path to dir format as 'directory' input\n",
    "    \n",
    "    Returns\n",
    "    -------\n",
    "    None\n",
    "    '''\n",
    "    directory = Path(directory)\n",
    "    for item in directory.iterdir():\n",
    "        if item.is_dir():\n",
    "            rmdir(item)\n",
    "        else:\n",
    "            item.unlink()\n",
    "    directory.rmdir()"
   ]
  },
  {
   "cell_type": "code",
   "execution_count": 5,
   "metadata": {
    "editable": true
   },
   "outputs": [],
   "source": [
    "def convert_column_names(df):\n",
    "    '''\n",
    "    This procedure standardizing column names to snake case format. Format ex: customer_name, billing_address, total_price.\n",
    "    \n",
    "    Parameters\n",
    "    ----------\n",
    "    dataframe : string_of_dataframe\n",
    "        The input dataframe with column names might have elements of messy columns names, including accents, different delimiters, casing and multiple white spaces.\n",
    "        Snake case style replaces the white spaces and symbol delimiters with underscore and converts all characters to lower case\n",
    "    \n",
    "    Returns\n",
    "    -------\n",
    "    Dataframe with column names has been changed to snake_case format.\n",
    "    '''\n",
    "    cols = df.columns\n",
    "    column_name_changed = []\n",
    "\n",
    "    for col in cols:\n",
    "        new_column = col.lstrip().rstrip().lower().replace (\" \", \"_\").replace (\"-\", \"_\")\n",
    "        column_name_changed.append(new_column)\n",
    "\n",
    "    df.columns = column_name_changed"
   ]
  },
  {
   "cell_type": "code",
   "execution_count": 6,
   "metadata": {
    "editable": true
   },
   "outputs": [],
   "source": [
    "input_data_source = config.get('DIR','INPUT_DIR')\n",
    "output_processed_data = config.get('DIR','OUTPUT_DIR')\n",
    "\n",
    "i94immi_dataset = config.get('DATA','I94_IMMI')\n",
    "worldtempe_dataset = config.get('DATA','WORLD_TEMPE')\n",
    "citydemo_dataset = config.get('DATA','CITY_DEMOGRAPHIC')\n",
    "airport_dataset = config.get('DATA','AIR_PORT')\n",
    "saslabel_dataset = config.get('DATA','SAS_LABEL')"
   ]
  },
  {
   "cell_type": "code",
   "execution_count": 7,
   "metadata": {
    "editable": true
   },
   "outputs": [
    {
     "data": {
      "text/plain": [
       "'../../data2/GlobalLandTemperaturesByCity.csv'"
      ]
     },
     "execution_count": 7,
     "metadata": {},
     "output_type": "execute_result"
    }
   ],
   "source": [
    "worldtempe_dataset"
   ]
  },
  {
   "cell_type": "code",
   "execution_count": 18,
   "metadata": {
    "editable": true
   },
   "outputs": [
    {
     "name": "stdout",
     "output_type": "stream",
     "text": [
      "<class 'pandas.core.frame.DataFrame'>\n",
      "RangeIndex: 100000 entries, 0 to 99999\n",
      "Data columns (total 7 columns):\n",
      " #   Column                         Non-Null Count   Dtype  \n",
      "---  ------                         --------------   -----  \n",
      " 0   dt                             100000 non-null  object \n",
      " 1   AverageTemperature             96552 non-null   float64\n",
      " 2   AverageTemperatureUncertainty  96552 non-null   float64\n",
      " 3   City                           100000 non-null  object \n",
      " 4   Country                        100000 non-null  object \n",
      " 5   Latitude                       100000 non-null  object \n",
      " 6   Longitude                      100000 non-null  object \n",
      "dtypes: float64(2), object(5)\n",
      "memory usage: 5.3+ MB\n"
     ]
    }
   ],
   "source": [
    "# For production only\n",
    "# worldtempe_dataset = '../../data2/GlobalLandTemperaturesByCity.csv'\n",
    "\n",
    "worldtempe_dataset = 'GlobalLandTemperaturesByCity_part9.csv'\n",
    "worldtempe_df = pd.read_csv(worldtempe_dataset,sep=\",\", index_col=False)\n",
    "worldtempe_df.info()"
   ]
  },
  {
   "cell_type": "code",
   "execution_count": 8,
   "metadata": {
    "editable": true
   },
   "outputs": [
    {
     "data": {
      "text/html": [
       "<div>\n",
       "<style scoped>\n",
       "    .dataframe tbody tr th:only-of-type {\n",
       "        vertical-align: middle;\n",
       "    }\n",
       "\n",
       "    .dataframe tbody tr th {\n",
       "        vertical-align: top;\n",
       "    }\n",
       "\n",
       "    .dataframe thead th {\n",
       "        text-align: right;\n",
       "    }\n",
       "</style>\n",
       "<table border=\"1\" class=\"dataframe\">\n",
       "  <thead>\n",
       "    <tr style=\"text-align: right;\">\n",
       "      <th></th>\n",
       "      <th>dt</th>\n",
       "      <th>AverageTemperature</th>\n",
       "      <th>AverageTemperatureUncertainty</th>\n",
       "      <th>City</th>\n",
       "      <th>Country</th>\n",
       "      <th>Latitude</th>\n",
       "      <th>Longitude</th>\n",
       "    </tr>\n",
       "  </thead>\n",
       "  <tbody>\n",
       "    <tr>\n",
       "      <th>0</th>\n",
       "      <td>1748-09-01</td>\n",
       "      <td>NaN</td>\n",
       "      <td>NaN</td>\n",
       "      <td>Belgorod</td>\n",
       "      <td>Russia</td>\n",
       "      <td>50.63N</td>\n",
       "      <td>36.76E</td>\n",
       "    </tr>\n",
       "    <tr>\n",
       "      <th>1</th>\n",
       "      <td>1748-10-01</td>\n",
       "      <td>NaN</td>\n",
       "      <td>NaN</td>\n",
       "      <td>Belgorod</td>\n",
       "      <td>Russia</td>\n",
       "      <td>50.63N</td>\n",
       "      <td>36.76E</td>\n",
       "    </tr>\n",
       "    <tr>\n",
       "      <th>2</th>\n",
       "      <td>1748-11-01</td>\n",
       "      <td>NaN</td>\n",
       "      <td>NaN</td>\n",
       "      <td>Belgorod</td>\n",
       "      <td>Russia</td>\n",
       "      <td>50.63N</td>\n",
       "      <td>36.76E</td>\n",
       "    </tr>\n",
       "    <tr>\n",
       "      <th>3</th>\n",
       "      <td>1748-12-01</td>\n",
       "      <td>NaN</td>\n",
       "      <td>NaN</td>\n",
       "      <td>Belgorod</td>\n",
       "      <td>Russia</td>\n",
       "      <td>50.63N</td>\n",
       "      <td>36.76E</td>\n",
       "    </tr>\n",
       "    <tr>\n",
       "      <th>4</th>\n",
       "      <td>1749-01-01</td>\n",
       "      <td>NaN</td>\n",
       "      <td>NaN</td>\n",
       "      <td>Belgorod</td>\n",
       "      <td>Russia</td>\n",
       "      <td>50.63N</td>\n",
       "      <td>36.76E</td>\n",
       "    </tr>\n",
       "  </tbody>\n",
       "</table>\n",
       "</div>"
      ],
      "text/plain": [
       "           dt  AverageTemperature  AverageTemperatureUncertainty      City  \\\n",
       "0  1748-09-01                 NaN                            NaN  Belgorod   \n",
       "1  1748-10-01                 NaN                            NaN  Belgorod   \n",
       "2  1748-11-01                 NaN                            NaN  Belgorod   \n",
       "3  1748-12-01                 NaN                            NaN  Belgorod   \n",
       "4  1749-01-01                 NaN                            NaN  Belgorod   \n",
       "\n",
       "  Country Latitude Longitude  \n",
       "0  Russia   50.63N    36.76E  \n",
       "1  Russia   50.63N    36.76E  \n",
       "2  Russia   50.63N    36.76E  \n",
       "3  Russia   50.63N    36.76E  \n",
       "4  Russia   50.63N    36.76E  "
      ]
     },
     "execution_count": 8,
     "metadata": {},
     "output_type": "execute_result"
    }
   ],
   "source": [
    "worldtempe_df.head()"
   ]
  },
  {
   "cell_type": "code",
   "execution_count": 22,
   "metadata": {
    "editable": true
   },
   "outputs": [
    {
     "ename": "TypeError",
     "evalue": "Cannot convert input [0        1748-09-01\n1        1748-10-01\n2        1748-11-01\n3        1748-12-01\n4        1749-01-01\n            ...    \n99995    1815-11-01\n99996    1815-12-01\n99997    1816-01-01\n99998    1816-02-01\n99999    1816-03-01\nName: dt, Length: 100000, dtype: object] of type <class 'pandas.core.series.Series'> to Timestamp",
     "output_type": "error",
     "traceback": [
      "\u001b[1;31m---------------------------------------------------------------------------\u001b[0m",
      "\u001b[1;31mTypeError\u001b[0m                                 Traceback (most recent call last)",
      "Cell \u001b[1;32mIn [22], line 1\u001b[0m\n\u001b[1;32m----> 1\u001b[0m pd\u001b[39m.\u001b[39;49mTimestamp(worldtempe_df\u001b[39m.\u001b[39;49mdt)\n",
      "File \u001b[1;32mc:\\ProgramData\\Anaconda3\\envs\\project5\\lib\\site-packages\\pandas\\_libs\\tslibs\\timestamps.pyx:1698\u001b[0m, in \u001b[0;36mpandas._libs.tslibs.timestamps.Timestamp.__new__\u001b[1;34m()\u001b[0m\n",
      "File \u001b[1;32mc:\\ProgramData\\Anaconda3\\envs\\project5\\lib\\site-packages\\pandas\\_libs\\tslibs\\conversion.pyx:309\u001b[0m, in \u001b[0;36mpandas._libs.tslibs.conversion.convert_to_tsobject\u001b[1;34m()\u001b[0m\n",
      "\u001b[1;31mTypeError\u001b[0m: Cannot convert input [0        1748-09-01\n1        1748-10-01\n2        1748-11-01\n3        1748-12-01\n4        1749-01-01\n            ...    \n99995    1815-11-01\n99996    1815-12-01\n99997    1816-01-01\n99998    1816-02-01\n99999    1816-03-01\nName: dt, Length: 100000, dtype: object] of type <class 'pandas.core.series.Series'> to Timestamp"
     ]
    }
   ],
   "source": [
    "pd.Timestamp(worldtempe_df.dt)"
   ]
  },
  {
   "cell_type": "code",
   "execution_count": 16,
   "metadata": {},
   "outputs": [
    {
     "name": "stdout",
     "output_type": "stream",
     "text": [
      "<class 'pandas.core.frame.DataFrame'>\n",
      "RangeIndex: 100000 entries, 0 to 99999\n",
      "Data columns (total 8 columns):\n",
      " #   Column                         Non-Null Count   Dtype         \n",
      "---  ------                         --------------   -----         \n",
      " 0   dt                             100000 non-null  object        \n",
      " 1   AverageTemperature             96552 non-null   float64       \n",
      " 2   AverageTemperatureUncertainty  96552 non-null   float64       \n",
      " 3   City                           100000 non-null  object        \n",
      " 4   Country                        100000 non-null  object        \n",
      " 5   Latitude                       100000 non-null  object        \n",
      " 6   Longitude                      100000 non-null  object        \n",
      " 7   dt_converted                   100000 non-null  datetime64[ns]\n",
      "dtypes: datetime64[ns](1), float64(2), object(5)\n",
      "memory usage: 6.1+ MB\n"
     ]
    }
   ],
   "source": [
    "worldtempe_df.info()"
   ]
  },
  {
   "cell_type": "code",
   "execution_count": 21,
   "metadata": {},
   "outputs": [
    {
     "ename": "TypeError",
     "evalue": "Cannot convert input [0        1748-09-01\n1        1748-10-01\n2        1748-11-01\n3        1748-12-01\n4        1749-01-01\n            ...    \n99995    1815-11-01\n99996    1815-12-01\n99997    1816-01-01\n99998    1816-02-01\n99999    1816-03-01\nName: dt, Length: 100000, dtype: object] of type <class 'pandas.core.series.Series'> to Timestamp",
     "output_type": "error",
     "traceback": [
      "\u001b[1;31m---------------------------------------------------------------------------\u001b[0m",
      "\u001b[1;31mTypeError\u001b[0m                                 Traceback (most recent call last)",
      "Cell \u001b[1;32mIn [21], line 1\u001b[0m\n\u001b[1;32m----> 1\u001b[0m worldtempe_df[\u001b[39m'\u001b[39m\u001b[39mdt_timestamp\u001b[39m\u001b[39m'\u001b[39m] \u001b[39m=\u001b[39m pd\u001b[39m.\u001b[39;49mTimestamp(worldtempe_df\u001b[39m.\u001b[39;49mdt)\n",
      "File \u001b[1;32mc:\\ProgramData\\Anaconda3\\envs\\project5\\lib\\site-packages\\pandas\\_libs\\tslibs\\timestamps.pyx:1698\u001b[0m, in \u001b[0;36mpandas._libs.tslibs.timestamps.Timestamp.__new__\u001b[1;34m()\u001b[0m\n",
      "File \u001b[1;32mc:\\ProgramData\\Anaconda3\\envs\\project5\\lib\\site-packages\\pandas\\_libs\\tslibs\\conversion.pyx:309\u001b[0m, in \u001b[0;36mpandas._libs.tslibs.conversion.convert_to_tsobject\u001b[1;34m()\u001b[0m\n",
      "\u001b[1;31mTypeError\u001b[0m: Cannot convert input [0        1748-09-01\n1        1748-10-01\n2        1748-11-01\n3        1748-12-01\n4        1749-01-01\n            ...    \n99995    1815-11-01\n99996    1815-12-01\n99997    1816-01-01\n99998    1816-02-01\n99999    1816-03-01\nName: dt, Length: 100000, dtype: object] of type <class 'pandas.core.series.Series'> to Timestamp"
     ]
    }
   ],
   "source": [
    "worldtempe_df['dt_timestamp'] = pd.Timestamp(worldtempe_df.dt)"
   ]
  },
  {
   "cell_type": "code",
   "execution_count": 10,
   "metadata": {
    "editable": true
   },
   "outputs": [
    {
     "data": {
      "text/plain": [
       "Papua New Guinea               1581\n",
       "Oman                           1653\n",
       "Djibouti                       1797\n",
       "Eritrea                        1797\n",
       "Swaziland                      1881\n",
       "Namibia                        1881\n",
       "Botswana                       1881\n",
       "Lesotho                        1881\n",
       "Congo                          1893\n",
       "Central African Republic       1893\n",
       "Costa Rica                     1953\n",
       "Burundi                        1965\n",
       "Rwanda                         1965\n",
       "Liberia                        1977\n",
       "Guinea Bissau                  1977\n",
       "Mauritania                     1977\n",
       "Bahrain                        2049\n",
       "Qatar                          2049\n",
       "Hong Kong                      2082\n",
       "South Korea                    2097\n",
       "Singapore                      2265\n",
       "Cambodia                       2265\n",
       "Guyana                         2277\n",
       "Suriname                       2277\n",
       "Mongolia                       2318\n",
       "Laos                           2371\n",
       "Azerbaijan                     2460\n",
       "Jordan                         2460\n",
       "Cyprus                         2669\n",
       "Mauritius                      2721\n",
       "                             ...   \n",
       "Taiwan                        62190\n",
       "Argentina                     62504\n",
       "Vietnam                       66330\n",
       "Malaysia                      72480\n",
       "Canada                        75445\n",
       "Netherlands                   77736\n",
       "Ukraine                       77736\n",
       "Romania                       80975\n",
       "Colombia                      88017\n",
       "Venezuela                     91080\n",
       "South Africa                  94050\n",
       "France                       116604\n",
       "Poland                       123082\n",
       "Philippines                  127700\n",
       "Italy                        136038\n",
       "Pakistan                     139231\n",
       "Turkey                       150306\n",
       "Iran                         151651\n",
       "Spain                        159594\n",
       "Nigeria                      172347\n",
       "Mexico                       209560\n",
       "United Kingdom               220252\n",
       "Germany                      262359\n",
       "Indonesia                    323255\n",
       "Japan                        358669\n",
       "Russia                       461234\n",
       "Brazil                       475580\n",
       "United States                687289\n",
       "China                        827802\n",
       "India                       1014906\n",
       "Name: Country, Length: 159, dtype: int64"
      ]
     },
     "execution_count": 10,
     "metadata": {},
     "output_type": "execute_result"
    }
   ],
   "source": [
    "worldtempe_df['Country'].value_counts().sort_values()"
   ]
  },
  {
   "cell_type": "code",
   "execution_count": 12,
   "metadata": {
    "editable": true
   },
   "outputs": [
    {
     "data": {
      "text/plain": [
       "(8599212, 7)"
      ]
     },
     "execution_count": 12,
     "metadata": {},
     "output_type": "execute_result"
    }
   ],
   "source": [
    "worldtempe_df.shape"
   ]
  },
  {
   "cell_type": "markdown",
   "metadata": {
    "editable": true
   },
   "source": [
    "### Cleaning Country"
   ]
  },
  {
   "cell_type": "markdown",
   "metadata": {
    "editable": true
   },
   "source": [
    "Filter out `Country` for single value `United States` and check dataframe size"
   ]
  },
  {
   "cell_type": "code",
   "execution_count": 13,
   "metadata": {
    "editable": true
   },
   "outputs": [],
   "source": [
    "worldtempe_df = worldtempe_df[worldtempe_df['Country']=='United States']"
   ]
  },
  {
   "cell_type": "code",
   "execution_count": 14,
   "metadata": {
    "editable": true
   },
   "outputs": [
    {
     "data": {
      "text/plain": [
       "United States    687289\n",
       "Name: Country, dtype: int64"
      ]
     },
     "execution_count": 14,
     "metadata": {},
     "output_type": "execute_result"
    }
   ],
   "source": [
    "worldtempe_df['Country'].value_counts().sort_values()"
   ]
  },
  {
   "cell_type": "code",
   "execution_count": 15,
   "metadata": {
    "editable": true
   },
   "outputs": [
    {
     "data": {
      "text/plain": [
       "(687289, 7)"
      ]
     },
     "execution_count": 15,
     "metadata": {},
     "output_type": "execute_result"
    }
   ],
   "source": [
    "worldtempe_df.shape"
   ]
  },
  {
   "cell_type": "markdown",
   "metadata": {
    "editable": true
   },
   "source": [
    "### Cleaning columns with datetime datetype"
   ]
  },
  {
   "cell_type": "code",
   "execution_count": 16,
   "metadata": {
    "editable": true
   },
   "outputs": [],
   "source": [
    "worldtempe_df['dt_converted'] = pd.to_datetime(worldtempe_df.dt)"
   ]
  },
  {
   "cell_type": "code",
   "execution_count": 17,
   "metadata": {
    "editable": true
   },
   "outputs": [
    {
     "name": "stdout",
     "output_type": "stream",
     "text": [
      "<class 'pandas.core.frame.DataFrame'>\n",
      "Int64Index: 687289 entries, 47555 to 8439246\n",
      "Data columns (total 8 columns):\n",
      "dt                               687289 non-null object\n",
      "AverageTemperature               661524 non-null float64\n",
      "AverageTemperatureUncertainty    661524 non-null float64\n",
      "City                             687289 non-null object\n",
      "Country                          687289 non-null object\n",
      "Latitude                         687289 non-null object\n",
      "Longitude                        687289 non-null object\n",
      "dt_converted                     687289 non-null datetime64[ns]\n",
      "dtypes: datetime64[ns](1), float64(2), object(5)\n",
      "memory usage: 47.2+ MB\n"
     ]
    }
   ],
   "source": [
    "worldtempe_df.info()"
   ]
  },
  {
   "cell_type": "code",
   "execution_count": 19,
   "metadata": {
    "editable": true
   },
   "outputs": [],
   "source": [
    "worldtempe_df=worldtempe_df[worldtempe_df['dt_converted']>\"1960-01-01\"]"
   ]
  },
  {
   "cell_type": "code",
   "execution_count": 20,
   "metadata": {
    "editable": true
   },
   "outputs": [
    {
     "data": {
      "text/plain": [
       "(165508, 8)"
      ]
     },
     "execution_count": 20,
     "metadata": {},
     "output_type": "execute_result"
    }
   ],
   "source": [
    "worldtempe_df.shape"
   ]
  },
  {
   "cell_type": "code",
   "execution_count": 21,
   "metadata": {
    "editable": true
   },
   "outputs": [
    {
     "data": {
      "text/plain": [
       "Timestamp('2013-09-01 00:00:00')"
      ]
     },
     "execution_count": 21,
     "metadata": {},
     "output_type": "execute_result"
    }
   ],
   "source": [
    "worldtempe_df['dt_converted'].max()"
   ]
  },
  {
   "cell_type": "code",
   "execution_count": 22,
   "metadata": {
    "editable": true
   },
   "outputs": [
    {
     "data": {
      "text/plain": [
       "Timestamp('1960-02-01 00:00:00')"
      ]
     },
     "execution_count": 22,
     "metadata": {},
     "output_type": "execute_result"
    }
   ],
   "source": [
    "worldtempe_df['dt_converted'].min()"
   ]
  },
  {
   "cell_type": "code",
   "execution_count": 23,
   "metadata": {
    "editable": true
   },
   "outputs": [
    {
     "data": {
      "text/plain": [
       "dt                               0\n",
       "AverageTemperature               1\n",
       "AverageTemperatureUncertainty    1\n",
       "City                             0\n",
       "Country                          0\n",
       "Latitude                         0\n",
       "Longitude                        0\n",
       "dt_converted                     0\n",
       "dtype: int64"
      ]
     },
     "execution_count": 23,
     "metadata": {},
     "output_type": "execute_result"
    }
   ],
   "source": [
    "worldtempe_df.isnull().sum()"
   ]
  },
  {
   "cell_type": "code",
   "execution_count": 29,
   "metadata": {
    "editable": true
   },
   "outputs": [
    {
     "data": {
      "text/html": [
       "<div>\n",
       "<style scoped>\n",
       "    .dataframe tbody tr th:only-of-type {\n",
       "        vertical-align: middle;\n",
       "    }\n",
       "\n",
       "    .dataframe tbody tr th {\n",
       "        vertical-align: top;\n",
       "    }\n",
       "\n",
       "    .dataframe thead th {\n",
       "        text-align: right;\n",
       "    }\n",
       "</style>\n",
       "<table border=\"1\" class=\"dataframe\">\n",
       "  <thead>\n",
       "    <tr style=\"text-align: right;\">\n",
       "      <th></th>\n",
       "      <th>dt</th>\n",
       "      <th>AverageTemperature</th>\n",
       "      <th>AverageTemperatureUncertainty</th>\n",
       "      <th>City</th>\n",
       "      <th>Country</th>\n",
       "      <th>Latitude</th>\n",
       "      <th>Longitude</th>\n",
       "      <th>dt_converted</th>\n",
       "    </tr>\n",
       "  </thead>\n",
       "  <tbody>\n",
       "    <tr>\n",
       "      <th>287781</th>\n",
       "      <td>2013-09-01</td>\n",
       "      <td>NaN</td>\n",
       "      <td>NaN</td>\n",
       "      <td>Anchorage</td>\n",
       "      <td>United States</td>\n",
       "      <td>61.88N</td>\n",
       "      <td>151.13W</td>\n",
       "      <td>2013-09-01</td>\n",
       "    </tr>\n",
       "  </tbody>\n",
       "</table>\n",
       "</div>"
      ],
      "text/plain": [
       "                dt  AverageTemperature  AverageTemperatureUncertainty  \\\n",
       "287781  2013-09-01                 NaN                            NaN   \n",
       "\n",
       "             City        Country Latitude Longitude dt_converted  \n",
       "287781  Anchorage  United States   61.88N   151.13W   2013-09-01  "
      ]
     },
     "execution_count": 29,
     "metadata": {},
     "output_type": "execute_result"
    }
   ],
   "source": [
    "worldtempe_df[worldtempe_df['AverageTemperature'].isnull()]"
   ]
  },
  {
   "cell_type": "markdown",
   "metadata": {
    "editable": true
   },
   "source": [
    "*NULL* value doen't impact to join data ***i94 immigration*** on year 2016 only. Keep it as is."
   ]
  },
  {
   "cell_type": "markdown",
   "metadata": {
    "editable": true
   },
   "source": [
    "### Cleaning combination `City` and `dt_converted`"
   ]
  },
  {
   "cell_type": "code",
   "execution_count": 31,
   "metadata": {
    "editable": true
   },
   "outputs": [
    {
     "data": {
      "text/plain": [
       "dt                                 644\n",
       "AverageTemperature               34110\n",
       "AverageTemperatureUncertainty      985\n",
       "City                               248\n",
       "Country                              1\n",
       "Latitude                            15\n",
       "Longitude                           95\n",
       "dt_converted                       644\n",
       "dtype: int64"
      ]
     },
     "execution_count": 31,
     "metadata": {},
     "output_type": "execute_result"
    }
   ],
   "source": [
    "worldtempe_df.nunique()"
   ]
  },
  {
   "cell_type": "code",
   "execution_count": 37,
   "metadata": {
    "editable": true
   },
   "outputs": [],
   "source": [
    "worldtempe_df[\"City\"] = worldtempe_df[\"City\"].str.upper()"
   ]
  },
  {
   "cell_type": "code",
   "execution_count": 38,
   "metadata": {
    "editable": true
   },
   "outputs": [
    {
     "data": {
      "text/html": [
       "<div>\n",
       "<style scoped>\n",
       "    .dataframe tbody tr th:only-of-type {\n",
       "        vertical-align: middle;\n",
       "    }\n",
       "\n",
       "    .dataframe tbody tr th {\n",
       "        vertical-align: top;\n",
       "    }\n",
       "\n",
       "    .dataframe thead th {\n",
       "        text-align: right;\n",
       "    }\n",
       "</style>\n",
       "<table border=\"1\" class=\"dataframe\">\n",
       "  <thead>\n",
       "    <tr style=\"text-align: right;\">\n",
       "      <th></th>\n",
       "      <th>dt</th>\n",
       "      <th>AverageTemperature</th>\n",
       "      <th>AverageTemperatureUncertainty</th>\n",
       "      <th>City</th>\n",
       "      <th>Country</th>\n",
       "      <th>Latitude</th>\n",
       "      <th>Longitude</th>\n",
       "      <th>dt_converted</th>\n",
       "    </tr>\n",
       "  </thead>\n",
       "  <tbody>\n",
       "    <tr>\n",
       "      <th>49236</th>\n",
       "      <td>1960-02-01</td>\n",
       "      <td>4.995</td>\n",
       "      <td>0.325</td>\n",
       "      <td>ABILENE</td>\n",
       "      <td>United States</td>\n",
       "      <td>32.95N</td>\n",
       "      <td>100.53W</td>\n",
       "      <td>1960-02-01</td>\n",
       "    </tr>\n",
       "    <tr>\n",
       "      <th>49237</th>\n",
       "      <td>1960-03-01</td>\n",
       "      <td>8.575</td>\n",
       "      <td>0.303</td>\n",
       "      <td>ABILENE</td>\n",
       "      <td>United States</td>\n",
       "      <td>32.95N</td>\n",
       "      <td>100.53W</td>\n",
       "      <td>1960-03-01</td>\n",
       "    </tr>\n",
       "    <tr>\n",
       "      <th>49238</th>\n",
       "      <td>1960-04-01</td>\n",
       "      <td>18.452</td>\n",
       "      <td>0.282</td>\n",
       "      <td>ABILENE</td>\n",
       "      <td>United States</td>\n",
       "      <td>32.95N</td>\n",
       "      <td>100.53W</td>\n",
       "      <td>1960-04-01</td>\n",
       "    </tr>\n",
       "    <tr>\n",
       "      <th>49239</th>\n",
       "      <td>1960-05-01</td>\n",
       "      <td>21.709</td>\n",
       "      <td>0.286</td>\n",
       "      <td>ABILENE</td>\n",
       "      <td>United States</td>\n",
       "      <td>32.95N</td>\n",
       "      <td>100.53W</td>\n",
       "      <td>1960-05-01</td>\n",
       "    </tr>\n",
       "    <tr>\n",
       "      <th>49240</th>\n",
       "      <td>1960-06-01</td>\n",
       "      <td>27.714</td>\n",
       "      <td>0.387</td>\n",
       "      <td>ABILENE</td>\n",
       "      <td>United States</td>\n",
       "      <td>32.95N</td>\n",
       "      <td>100.53W</td>\n",
       "      <td>1960-06-01</td>\n",
       "    </tr>\n",
       "  </tbody>\n",
       "</table>\n",
       "</div>"
      ],
      "text/plain": [
       "               dt  AverageTemperature  AverageTemperatureUncertainty     City  \\\n",
       "49236  1960-02-01               4.995                          0.325  ABILENE   \n",
       "49237  1960-03-01               8.575                          0.303  ABILENE   \n",
       "49238  1960-04-01              18.452                          0.282  ABILENE   \n",
       "49239  1960-05-01              21.709                          0.286  ABILENE   \n",
       "49240  1960-06-01              27.714                          0.387  ABILENE   \n",
       "\n",
       "             Country Latitude Longitude dt_converted  \n",
       "49236  United States   32.95N   100.53W   1960-02-01  \n",
       "49237  United States   32.95N   100.53W   1960-03-01  \n",
       "49238  United States   32.95N   100.53W   1960-04-01  \n",
       "49239  United States   32.95N   100.53W   1960-05-01  \n",
       "49240  United States   32.95N   100.53W   1960-06-01  "
      ]
     },
     "execution_count": 38,
     "metadata": {},
     "output_type": "execute_result"
    }
   ],
   "source": [
    "worldtempe_df.head()"
   ]
  },
  {
   "cell_type": "code",
   "execution_count": 49,
   "metadata": {
    "editable": true
   },
   "outputs": [
    {
     "data": {
      "text/html": [
       "<div>\n",
       "<style scoped>\n",
       "    .dataframe tbody tr th:only-of-type {\n",
       "        vertical-align: middle;\n",
       "    }\n",
       "\n",
       "    .dataframe tbody tr th {\n",
       "        vertical-align: top;\n",
       "    }\n",
       "\n",
       "    .dataframe thead th {\n",
       "        text-align: right;\n",
       "    }\n",
       "</style>\n",
       "<table border=\"1\" class=\"dataframe\">\n",
       "  <thead>\n",
       "    <tr style=\"text-align: right;\">\n",
       "      <th></th>\n",
       "      <th>dt</th>\n",
       "      <th>AverageTemperature</th>\n",
       "      <th>AverageTemperatureUncertainty</th>\n",
       "      <th>City</th>\n",
       "      <th>Country</th>\n",
       "      <th>Latitude</th>\n",
       "      <th>Longitude</th>\n",
       "      <th>dt_converted</th>\n",
       "    </tr>\n",
       "  </thead>\n",
       "  <tbody>\n",
       "    <tr>\n",
       "      <th>49499</th>\n",
       "      <td>1982-01-01</td>\n",
       "      <td>5.807</td>\n",
       "      <td>0.429</td>\n",
       "      <td>ABILENE</td>\n",
       "      <td>United States</td>\n",
       "      <td>32.95N</td>\n",
       "      <td>100.53W</td>\n",
       "      <td>1982-01-01</td>\n",
       "    </tr>\n",
       "    <tr>\n",
       "      <th>49552</th>\n",
       "      <td>1986-06-01</td>\n",
       "      <td>25.614</td>\n",
       "      <td>0.162</td>\n",
       "      <td>ABILENE</td>\n",
       "      <td>United States</td>\n",
       "      <td>32.95N</td>\n",
       "      <td>100.53W</td>\n",
       "      <td>1986-06-01</td>\n",
       "    </tr>\n",
       "    <tr>\n",
       "      <th>49641</th>\n",
       "      <td>1993-11-01</td>\n",
       "      <td>8.751</td>\n",
       "      <td>0.260</td>\n",
       "      <td>ABILENE</td>\n",
       "      <td>United States</td>\n",
       "      <td>32.95N</td>\n",
       "      <td>100.53W</td>\n",
       "      <td>1993-11-01</td>\n",
       "    </tr>\n",
       "    <tr>\n",
       "      <th>49678</th>\n",
       "      <td>1996-12-01</td>\n",
       "      <td>8.166</td>\n",
       "      <td>0.227</td>\n",
       "      <td>ABILENE</td>\n",
       "      <td>United States</td>\n",
       "      <td>32.95N</td>\n",
       "      <td>100.53W</td>\n",
       "      <td>1996-12-01</td>\n",
       "    </tr>\n",
       "    <tr>\n",
       "      <th>140079</th>\n",
       "      <td>1994-12-01</td>\n",
       "      <td>2.173</td>\n",
       "      <td>0.289</td>\n",
       "      <td>AKRON</td>\n",
       "      <td>United States</td>\n",
       "      <td>40.99N</td>\n",
       "      <td>80.95W</td>\n",
       "      <td>1994-12-01</td>\n",
       "    </tr>\n",
       "    <tr>\n",
       "      <th>140172</th>\n",
       "      <td>2002-09-01</td>\n",
       "      <td>20.116</td>\n",
       "      <td>0.122</td>\n",
       "      <td>AKRON</td>\n",
       "      <td>United States</td>\n",
       "      <td>40.99N</td>\n",
       "      <td>80.95W</td>\n",
       "      <td>2002-09-01</td>\n",
       "    </tr>\n",
       "    <tr>\n",
       "      <th>140273</th>\n",
       "      <td>2011-02-01</td>\n",
       "      <td>-1.359</td>\n",
       "      <td>0.274</td>\n",
       "      <td>AKRON</td>\n",
       "      <td>United States</td>\n",
       "      <td>40.99N</td>\n",
       "      <td>80.95W</td>\n",
       "      <td>2011-02-01</td>\n",
       "    </tr>\n",
       "    <tr>\n",
       "      <th>140274</th>\n",
       "      <td>2011-03-01</td>\n",
       "      <td>2.899</td>\n",
       "      <td>0.238</td>\n",
       "      <td>AKRON</td>\n",
       "      <td>United States</td>\n",
       "      <td>40.99N</td>\n",
       "      <td>80.95W</td>\n",
       "      <td>2011-03-01</td>\n",
       "    </tr>\n",
       "    <tr>\n",
       "      <th>170072</th>\n",
       "      <td>1986-06-01</td>\n",
       "      <td>20.277</td>\n",
       "      <td>0.342</td>\n",
       "      <td>ALBUQUERQUE</td>\n",
       "      <td>United States</td>\n",
       "      <td>34.56N</td>\n",
       "      <td>107.03W</td>\n",
       "      <td>1986-06-01</td>\n",
       "    </tr>\n",
       "    <tr>\n",
       "      <th>170094</th>\n",
       "      <td>1988-04-01</td>\n",
       "      <td>10.597</td>\n",
       "      <td>0.209</td>\n",
       "      <td>ALBUQUERQUE</td>\n",
       "      <td>United States</td>\n",
       "      <td>34.56N</td>\n",
       "      <td>107.03W</td>\n",
       "      <td>1988-04-01</td>\n",
       "    </tr>\n",
       "    <tr>\n",
       "      <th>170178</th>\n",
       "      <td>1995-04-01</td>\n",
       "      <td>9.407</td>\n",
       "      <td>0.231</td>\n",
       "      <td>ALBUQUERQUE</td>\n",
       "      <td>United States</td>\n",
       "      <td>34.56N</td>\n",
       "      <td>107.03W</td>\n",
       "      <td>1995-04-01</td>\n",
       "    </tr>\n",
       "    <tr>\n",
       "      <th>170344</th>\n",
       "      <td>2009-02-01</td>\n",
       "      <td>4.307</td>\n",
       "      <td>0.338</td>\n",
       "      <td>ALBUQUERQUE</td>\n",
       "      <td>United States</td>\n",
       "      <td>34.56N</td>\n",
       "      <td>107.03W</td>\n",
       "      <td>2009-02-01</td>\n",
       "    </tr>\n",
       "    <tr>\n",
       "      <th>170350</th>\n",
       "      <td>2009-08-01</td>\n",
       "      <td>22.303</td>\n",
       "      <td>0.400</td>\n",
       "      <td>ALBUQUERQUE</td>\n",
       "      <td>United States</td>\n",
       "      <td>34.56N</td>\n",
       "      <td>107.03W</td>\n",
       "      <td>2009-08-01</td>\n",
       "    </tr>\n",
       "    <tr>\n",
       "      <th>170353</th>\n",
       "      <td>2009-11-01</td>\n",
       "      <td>5.515</td>\n",
       "      <td>0.313</td>\n",
       "      <td>ALBUQUERQUE</td>\n",
       "      <td>United States</td>\n",
       "      <td>34.56N</td>\n",
       "      <td>107.03W</td>\n",
       "      <td>2009-11-01</td>\n",
       "    </tr>\n",
       "    <tr>\n",
       "      <th>190199</th>\n",
       "      <td>1966-06-01</td>\n",
       "      <td>22.431</td>\n",
       "      <td>0.190</td>\n",
       "      <td>ALEXANDRIA</td>\n",
       "      <td>United States</td>\n",
       "      <td>39.38N</td>\n",
       "      <td>76.99W</td>\n",
       "      <td>1966-06-01</td>\n",
       "    </tr>\n",
       "    <tr>\n",
       "      <th>190228</th>\n",
       "      <td>1968-11-01</td>\n",
       "      <td>7.943</td>\n",
       "      <td>0.107</td>\n",
       "      <td>ALEXANDRIA</td>\n",
       "      <td>United States</td>\n",
       "      <td>39.38N</td>\n",
       "      <td>76.99W</td>\n",
       "      <td>1968-11-01</td>\n",
       "    </tr>\n",
       "    <tr>\n",
       "      <th>190357</th>\n",
       "      <td>1979-08-01</td>\n",
       "      <td>23.344</td>\n",
       "      <td>0.327</td>\n",
       "      <td>ALEXANDRIA</td>\n",
       "      <td>United States</td>\n",
       "      <td>39.38N</td>\n",
       "      <td>76.99W</td>\n",
       "      <td>1979-08-01</td>\n",
       "    </tr>\n",
       "    <tr>\n",
       "      <th>190414</th>\n",
       "      <td>1984-05-01</td>\n",
       "      <td>16.622</td>\n",
       "      <td>0.200</td>\n",
       "      <td>ALEXANDRIA</td>\n",
       "      <td>United States</td>\n",
       "      <td>39.38N</td>\n",
       "      <td>76.99W</td>\n",
       "      <td>1984-05-01</td>\n",
       "    </tr>\n",
       "    <tr>\n",
       "      <th>190497</th>\n",
       "      <td>1991-04-01</td>\n",
       "      <td>12.929</td>\n",
       "      <td>0.205</td>\n",
       "      <td>ALEXANDRIA</td>\n",
       "      <td>United States</td>\n",
       "      <td>39.38N</td>\n",
       "      <td>76.99W</td>\n",
       "      <td>1991-04-01</td>\n",
       "    </tr>\n",
       "    <tr>\n",
       "      <th>190516</th>\n",
       "      <td>1992-11-01</td>\n",
       "      <td>7.429</td>\n",
       "      <td>0.211</td>\n",
       "      <td>ALEXANDRIA</td>\n",
       "      <td>United States</td>\n",
       "      <td>39.38N</td>\n",
       "      <td>76.99W</td>\n",
       "      <td>1992-11-01</td>\n",
       "    </tr>\n",
       "    <tr>\n",
       "      <th>190545</th>\n",
       "      <td>1995-04-01</td>\n",
       "      <td>11.465</td>\n",
       "      <td>0.307</td>\n",
       "      <td>ALEXANDRIA</td>\n",
       "      <td>United States</td>\n",
       "      <td>39.38N</td>\n",
       "      <td>76.99W</td>\n",
       "      <td>1995-04-01</td>\n",
       "    </tr>\n",
       "    <tr>\n",
       "      <th>190611</th>\n",
       "      <td>2000-10-01</td>\n",
       "      <td>13.848</td>\n",
       "      <td>0.356</td>\n",
       "      <td>ALEXANDRIA</td>\n",
       "      <td>United States</td>\n",
       "      <td>39.38N</td>\n",
       "      <td>76.99W</td>\n",
       "      <td>2000-10-01</td>\n",
       "    </tr>\n",
       "    <tr>\n",
       "      <th>190681</th>\n",
       "      <td>2006-08-01</td>\n",
       "      <td>25.315</td>\n",
       "      <td>0.250</td>\n",
       "      <td>ALEXANDRIA</td>\n",
       "      <td>United States</td>\n",
       "      <td>39.38N</td>\n",
       "      <td>76.99W</td>\n",
       "      <td>2006-08-01</td>\n",
       "    </tr>\n",
       "    <tr>\n",
       "      <th>190710</th>\n",
       "      <td>2009-01-01</td>\n",
       "      <td>-2.133</td>\n",
       "      <td>0.228</td>\n",
       "      <td>ALEXANDRIA</td>\n",
       "      <td>United States</td>\n",
       "      <td>39.38N</td>\n",
       "      <td>76.99W</td>\n",
       "      <td>2009-01-01</td>\n",
       "    </tr>\n",
       "    <tr>\n",
       "      <th>205303</th>\n",
       "      <td>1998-03-01</td>\n",
       "      <td>5.169</td>\n",
       "      <td>0.147</td>\n",
       "      <td>ALLENTOWN</td>\n",
       "      <td>United States</td>\n",
       "      <td>40.99N</td>\n",
       "      <td>74.56W</td>\n",
       "      <td>1998-03-01</td>\n",
       "    </tr>\n",
       "    <tr>\n",
       "      <th>205318</th>\n",
       "      <td>1999-06-01</td>\n",
       "      <td>21.254</td>\n",
       "      <td>0.196</td>\n",
       "      <td>ALLENTOWN</td>\n",
       "      <td>United States</td>\n",
       "      <td>40.99N</td>\n",
       "      <td>74.56W</td>\n",
       "      <td>1999-06-01</td>\n",
       "    </tr>\n",
       "    <tr>\n",
       "      <th>205440</th>\n",
       "      <td>2009-08-01</td>\n",
       "      <td>22.769</td>\n",
       "      <td>0.277</td>\n",
       "      <td>ALLENTOWN</td>\n",
       "      <td>United States</td>\n",
       "      <td>40.99N</td>\n",
       "      <td>74.56W</td>\n",
       "      <td>2009-08-01</td>\n",
       "    </tr>\n",
       "    <tr>\n",
       "      <th>205479</th>\n",
       "      <td>2012-11-01</td>\n",
       "      <td>4.103</td>\n",
       "      <td>0.298</td>\n",
       "      <td>ALLENTOWN</td>\n",
       "      <td>United States</td>\n",
       "      <td>40.99N</td>\n",
       "      <td>74.56W</td>\n",
       "      <td>2012-11-01</td>\n",
       "    </tr>\n",
       "    <tr>\n",
       "      <th>233540</th>\n",
       "      <td>1973-03-01</td>\n",
       "      <td>9.993</td>\n",
       "      <td>0.343</td>\n",
       "      <td>AMARILLO</td>\n",
       "      <td>United States</td>\n",
       "      <td>34.56N</td>\n",
       "      <td>101.19W</td>\n",
       "      <td>1973-03-01</td>\n",
       "    </tr>\n",
       "    <tr>\n",
       "      <th>233594</th>\n",
       "      <td>1977-09-01</td>\n",
       "      <td>24.375</td>\n",
       "      <td>0.448</td>\n",
       "      <td>AMARILLO</td>\n",
       "      <td>United States</td>\n",
       "      <td>34.56N</td>\n",
       "      <td>101.19W</td>\n",
       "      <td>1977-09-01</td>\n",
       "    </tr>\n",
       "    <tr>\n",
       "      <th>...</th>\n",
       "      <td>...</td>\n",
       "      <td>...</td>\n",
       "      <td>...</td>\n",
       "      <td>...</td>\n",
       "      <td>...</td>\n",
       "      <td>...</td>\n",
       "      <td>...</td>\n",
       "      <td>...</td>\n",
       "    </tr>\n",
       "    <tr>\n",
       "      <th>8223759</th>\n",
       "      <td>1990-03-01</td>\n",
       "      <td>3.378</td>\n",
       "      <td>0.280</td>\n",
       "      <td>WINDSOR</td>\n",
       "      <td>United States</td>\n",
       "      <td>42.59N</td>\n",
       "      <td>82.91W</td>\n",
       "      <td>1990-03-01</td>\n",
       "    </tr>\n",
       "    <tr>\n",
       "      <th>8223810</th>\n",
       "      <td>1994-06-01</td>\n",
       "      <td>20.544</td>\n",
       "      <td>0.293</td>\n",
       "      <td>WINDSOR</td>\n",
       "      <td>United States</td>\n",
       "      <td>42.59N</td>\n",
       "      <td>82.91W</td>\n",
       "      <td>1994-06-01</td>\n",
       "    </tr>\n",
       "    <tr>\n",
       "      <th>8223812</th>\n",
       "      <td>1994-08-01</td>\n",
       "      <td>19.993</td>\n",
       "      <td>0.280</td>\n",
       "      <td>WINDSOR</td>\n",
       "      <td>United States</td>\n",
       "      <td>42.59N</td>\n",
       "      <td>82.91W</td>\n",
       "      <td>1994-08-01</td>\n",
       "    </tr>\n",
       "    <tr>\n",
       "      <th>8223886</th>\n",
       "      <td>2000-10-01</td>\n",
       "      <td>12.261</td>\n",
       "      <td>0.324</td>\n",
       "      <td>WINDSOR</td>\n",
       "      <td>United States</td>\n",
       "      <td>42.59N</td>\n",
       "      <td>82.91W</td>\n",
       "      <td>2000-10-01</td>\n",
       "    </tr>\n",
       "    <tr>\n",
       "      <th>8223911</th>\n",
       "      <td>2002-11-01</td>\n",
       "      <td>3.504</td>\n",
       "      <td>0.162</td>\n",
       "      <td>WINDSOR</td>\n",
       "      <td>United States</td>\n",
       "      <td>42.59N</td>\n",
       "      <td>82.91W</td>\n",
       "      <td>2002-11-01</td>\n",
       "    </tr>\n",
       "    <tr>\n",
       "      <th>8223983</th>\n",
       "      <td>2008-11-01</td>\n",
       "      <td>3.707</td>\n",
       "      <td>0.229</td>\n",
       "      <td>WINDSOR</td>\n",
       "      <td>United States</td>\n",
       "      <td>42.59N</td>\n",
       "      <td>82.91W</td>\n",
       "      <td>2008-11-01</td>\n",
       "    </tr>\n",
       "    <tr>\n",
       "      <th>8224031</th>\n",
       "      <td>2012-11-01</td>\n",
       "      <td>3.800</td>\n",
       "      <td>0.222</td>\n",
       "      <td>WINDSOR</td>\n",
       "      <td>United States</td>\n",
       "      <td>42.59N</td>\n",
       "      <td>82.91W</td>\n",
       "      <td>2012-11-01</td>\n",
       "    </tr>\n",
       "    <tr>\n",
       "      <th>8229698</th>\n",
       "      <td>1970-02-01</td>\n",
       "      <td>4.411</td>\n",
       "      <td>0.146</td>\n",
       "      <td>WINSTON SALEM</td>\n",
       "      <td>United States</td>\n",
       "      <td>36.17N</td>\n",
       "      <td>79.56W</td>\n",
       "      <td>1970-02-01</td>\n",
       "    </tr>\n",
       "    <tr>\n",
       "      <th>8229746</th>\n",
       "      <td>1974-02-01</td>\n",
       "      <td>5.547</td>\n",
       "      <td>0.226</td>\n",
       "      <td>WINSTON SALEM</td>\n",
       "      <td>United States</td>\n",
       "      <td>36.17N</td>\n",
       "      <td>79.56W</td>\n",
       "      <td>1974-02-01</td>\n",
       "    </tr>\n",
       "    <tr>\n",
       "      <th>8229804</th>\n",
       "      <td>1978-12-01</td>\n",
       "      <td>5.547</td>\n",
       "      <td>0.421</td>\n",
       "      <td>WINSTON SALEM</td>\n",
       "      <td>United States</td>\n",
       "      <td>36.17N</td>\n",
       "      <td>79.56W</td>\n",
       "      <td>1978-12-01</td>\n",
       "    </tr>\n",
       "    <tr>\n",
       "      <th>8229842</th>\n",
       "      <td>1982-02-01</td>\n",
       "      <td>6.214</td>\n",
       "      <td>0.298</td>\n",
       "      <td>WINSTON SALEM</td>\n",
       "      <td>United States</td>\n",
       "      <td>36.17N</td>\n",
       "      <td>79.56W</td>\n",
       "      <td>1982-02-01</td>\n",
       "    </tr>\n",
       "    <tr>\n",
       "      <th>8229956</th>\n",
       "      <td>1991-08-01</td>\n",
       "      <td>24.843</td>\n",
       "      <td>0.306</td>\n",
       "      <td>WINSTON SALEM</td>\n",
       "      <td>United States</td>\n",
       "      <td>36.17N</td>\n",
       "      <td>79.56W</td>\n",
       "      <td>1991-08-01</td>\n",
       "    </tr>\n",
       "    <tr>\n",
       "      <th>8229974</th>\n",
       "      <td>1993-02-01</td>\n",
       "      <td>3.955</td>\n",
       "      <td>0.236</td>\n",
       "      <td>WINSTON SALEM</td>\n",
       "      <td>United States</td>\n",
       "      <td>36.17N</td>\n",
       "      <td>79.56W</td>\n",
       "      <td>1993-02-01</td>\n",
       "    </tr>\n",
       "    <tr>\n",
       "      <th>8230016</th>\n",
       "      <td>1996-08-01</td>\n",
       "      <td>24.086</td>\n",
       "      <td>0.213</td>\n",
       "      <td>WINSTON SALEM</td>\n",
       "      <td>United States</td>\n",
       "      <td>36.17N</td>\n",
       "      <td>79.56W</td>\n",
       "      <td>1996-08-01</td>\n",
       "    </tr>\n",
       "    <tr>\n",
       "      <th>8230066</th>\n",
       "      <td>2000-10-01</td>\n",
       "      <td>15.557</td>\n",
       "      <td>0.243</td>\n",
       "      <td>WINSTON SALEM</td>\n",
       "      <td>United States</td>\n",
       "      <td>36.17N</td>\n",
       "      <td>79.56W</td>\n",
       "      <td>2000-10-01</td>\n",
       "    </tr>\n",
       "    <tr>\n",
       "      <th>8230071</th>\n",
       "      <td>2001-03-01</td>\n",
       "      <td>8.166</td>\n",
       "      <td>0.348</td>\n",
       "      <td>WINSTON SALEM</td>\n",
       "      <td>United States</td>\n",
       "      <td>36.17N</td>\n",
       "      <td>79.56W</td>\n",
       "      <td>2001-03-01</td>\n",
       "    </tr>\n",
       "    <tr>\n",
       "      <th>8230173</th>\n",
       "      <td>2009-09-01</td>\n",
       "      <td>20.964</td>\n",
       "      <td>0.182</td>\n",
       "      <td>WINSTON SALEM</td>\n",
       "      <td>United States</td>\n",
       "      <td>36.17N</td>\n",
       "      <td>79.56W</td>\n",
       "      <td>2009-09-01</td>\n",
       "    </tr>\n",
       "    <tr>\n",
       "      <th>8230218</th>\n",
       "      <td>2013-06-01</td>\n",
       "      <td>24.032</td>\n",
       "      <td>0.296</td>\n",
       "      <td>WINSTON SALEM</td>\n",
       "      <td>United States</td>\n",
       "      <td>36.17N</td>\n",
       "      <td>79.56W</td>\n",
       "      <td>2013-06-01</td>\n",
       "    </tr>\n",
       "    <tr>\n",
       "      <th>8255175</th>\n",
       "      <td>1987-06-01</td>\n",
       "      <td>18.530</td>\n",
       "      <td>0.330</td>\n",
       "      <td>WORCESTER</td>\n",
       "      <td>United States</td>\n",
       "      <td>42.59N</td>\n",
       "      <td>72.00W</td>\n",
       "      <td>1987-06-01</td>\n",
       "    </tr>\n",
       "    <tr>\n",
       "      <th>8255212</th>\n",
       "      <td>1990-07-01</td>\n",
       "      <td>21.379</td>\n",
       "      <td>0.423</td>\n",
       "      <td>WORCESTER</td>\n",
       "      <td>United States</td>\n",
       "      <td>42.59N</td>\n",
       "      <td>72.00W</td>\n",
       "      <td>1990-07-01</td>\n",
       "    </tr>\n",
       "    <tr>\n",
       "      <th>8255273</th>\n",
       "      <td>1995-08-01</td>\n",
       "      <td>20.228</td>\n",
       "      <td>0.487</td>\n",
       "      <td>WORCESTER</td>\n",
       "      <td>United States</td>\n",
       "      <td>42.59N</td>\n",
       "      <td>72.00W</td>\n",
       "      <td>1995-08-01</td>\n",
       "    </tr>\n",
       "    <tr>\n",
       "      <th>8255296</th>\n",
       "      <td>1997-07-01</td>\n",
       "      <td>20.729</td>\n",
       "      <td>0.452</td>\n",
       "      <td>WORCESTER</td>\n",
       "      <td>United States</td>\n",
       "      <td>42.59N</td>\n",
       "      <td>72.00W</td>\n",
       "      <td>1997-07-01</td>\n",
       "    </tr>\n",
       "    <tr>\n",
       "      <th>8255344</th>\n",
       "      <td>2001-07-01</td>\n",
       "      <td>19.568</td>\n",
       "      <td>0.262</td>\n",
       "      <td>WORCESTER</td>\n",
       "      <td>United States</td>\n",
       "      <td>42.59N</td>\n",
       "      <td>72.00W</td>\n",
       "      <td>2001-07-01</td>\n",
       "    </tr>\n",
       "    <tr>\n",
       "      <th>8255373</th>\n",
       "      <td>2003-12-01</td>\n",
       "      <td>-1.849</td>\n",
       "      <td>0.347</td>\n",
       "      <td>WORCESTER</td>\n",
       "      <td>United States</td>\n",
       "      <td>42.59N</td>\n",
       "      <td>72.00W</td>\n",
       "      <td>2003-12-01</td>\n",
       "    </tr>\n",
       "    <tr>\n",
       "      <th>8255406</th>\n",
       "      <td>2006-09-01</td>\n",
       "      <td>15.376</td>\n",
       "      <td>0.181</td>\n",
       "      <td>WORCESTER</td>\n",
       "      <td>United States</td>\n",
       "      <td>42.59N</td>\n",
       "      <td>72.00W</td>\n",
       "      <td>2006-09-01</td>\n",
       "    </tr>\n",
       "    <tr>\n",
       "      <th>8255482</th>\n",
       "      <td>2013-01-01</td>\n",
       "      <td>-4.140</td>\n",
       "      <td>0.355</td>\n",
       "      <td>WORCESTER</td>\n",
       "      <td>United States</td>\n",
       "      <td>42.59N</td>\n",
       "      <td>72.00W</td>\n",
       "      <td>2013-01-01</td>\n",
       "    </tr>\n",
       "    <tr>\n",
       "      <th>8439060</th>\n",
       "      <td>1998-03-01</td>\n",
       "      <td>5.169</td>\n",
       "      <td>0.147</td>\n",
       "      <td>YONKERS</td>\n",
       "      <td>United States</td>\n",
       "      <td>40.99N</td>\n",
       "      <td>74.56W</td>\n",
       "      <td>1998-03-01</td>\n",
       "    </tr>\n",
       "    <tr>\n",
       "      <th>8439075</th>\n",
       "      <td>1999-06-01</td>\n",
       "      <td>21.254</td>\n",
       "      <td>0.196</td>\n",
       "      <td>YONKERS</td>\n",
       "      <td>United States</td>\n",
       "      <td>40.99N</td>\n",
       "      <td>74.56W</td>\n",
       "      <td>1999-06-01</td>\n",
       "    </tr>\n",
       "    <tr>\n",
       "      <th>8439197</th>\n",
       "      <td>2009-08-01</td>\n",
       "      <td>22.769</td>\n",
       "      <td>0.277</td>\n",
       "      <td>YONKERS</td>\n",
       "      <td>United States</td>\n",
       "      <td>40.99N</td>\n",
       "      <td>74.56W</td>\n",
       "      <td>2009-08-01</td>\n",
       "    </tr>\n",
       "    <tr>\n",
       "      <th>8439236</th>\n",
       "      <td>2012-11-01</td>\n",
       "      <td>4.103</td>\n",
       "      <td>0.298</td>\n",
       "      <td>YONKERS</td>\n",
       "      <td>United States</td>\n",
       "      <td>40.99N</td>\n",
       "      <td>74.56W</td>\n",
       "      <td>2012-11-01</td>\n",
       "    </tr>\n",
       "  </tbody>\n",
       "</table>\n",
       "<p>2381 rows × 8 columns</p>\n",
       "</div>"
      ],
      "text/plain": [
       "                 dt  AverageTemperature  AverageTemperatureUncertainty  \\\n",
       "49499    1982-01-01               5.807                          0.429   \n",
       "49552    1986-06-01              25.614                          0.162   \n",
       "49641    1993-11-01               8.751                          0.260   \n",
       "49678    1996-12-01               8.166                          0.227   \n",
       "140079   1994-12-01               2.173                          0.289   \n",
       "140172   2002-09-01              20.116                          0.122   \n",
       "140273   2011-02-01              -1.359                          0.274   \n",
       "140274   2011-03-01               2.899                          0.238   \n",
       "170072   1986-06-01              20.277                          0.342   \n",
       "170094   1988-04-01              10.597                          0.209   \n",
       "170178   1995-04-01               9.407                          0.231   \n",
       "170344   2009-02-01               4.307                          0.338   \n",
       "170350   2009-08-01              22.303                          0.400   \n",
       "170353   2009-11-01               5.515                          0.313   \n",
       "190199   1966-06-01              22.431                          0.190   \n",
       "190228   1968-11-01               7.943                          0.107   \n",
       "190357   1979-08-01              23.344                          0.327   \n",
       "190414   1984-05-01              16.622                          0.200   \n",
       "190497   1991-04-01              12.929                          0.205   \n",
       "190516   1992-11-01               7.429                          0.211   \n",
       "190545   1995-04-01              11.465                          0.307   \n",
       "190611   2000-10-01              13.848                          0.356   \n",
       "190681   2006-08-01              25.315                          0.250   \n",
       "190710   2009-01-01              -2.133                          0.228   \n",
       "205303   1998-03-01               5.169                          0.147   \n",
       "205318   1999-06-01              21.254                          0.196   \n",
       "205440   2009-08-01              22.769                          0.277   \n",
       "205479   2012-11-01               4.103                          0.298   \n",
       "233540   1973-03-01               9.993                          0.343   \n",
       "233594   1977-09-01              24.375                          0.448   \n",
       "...             ...                 ...                            ...   \n",
       "8223759  1990-03-01               3.378                          0.280   \n",
       "8223810  1994-06-01              20.544                          0.293   \n",
       "8223812  1994-08-01              19.993                          0.280   \n",
       "8223886  2000-10-01              12.261                          0.324   \n",
       "8223911  2002-11-01               3.504                          0.162   \n",
       "8223983  2008-11-01               3.707                          0.229   \n",
       "8224031  2012-11-01               3.800                          0.222   \n",
       "8229698  1970-02-01               4.411                          0.146   \n",
       "8229746  1974-02-01               5.547                          0.226   \n",
       "8229804  1978-12-01               5.547                          0.421   \n",
       "8229842  1982-02-01               6.214                          0.298   \n",
       "8229956  1991-08-01              24.843                          0.306   \n",
       "8229974  1993-02-01               3.955                          0.236   \n",
       "8230016  1996-08-01              24.086                          0.213   \n",
       "8230066  2000-10-01              15.557                          0.243   \n",
       "8230071  2001-03-01               8.166                          0.348   \n",
       "8230173  2009-09-01              20.964                          0.182   \n",
       "8230218  2013-06-01              24.032                          0.296   \n",
       "8255175  1987-06-01              18.530                          0.330   \n",
       "8255212  1990-07-01              21.379                          0.423   \n",
       "8255273  1995-08-01              20.228                          0.487   \n",
       "8255296  1997-07-01              20.729                          0.452   \n",
       "8255344  2001-07-01              19.568                          0.262   \n",
       "8255373  2003-12-01              -1.849                          0.347   \n",
       "8255406  2006-09-01              15.376                          0.181   \n",
       "8255482  2013-01-01              -4.140                          0.355   \n",
       "8439060  1998-03-01               5.169                          0.147   \n",
       "8439075  1999-06-01              21.254                          0.196   \n",
       "8439197  2009-08-01              22.769                          0.277   \n",
       "8439236  2012-11-01               4.103                          0.298   \n",
       "\n",
       "                  City        Country Latitude Longitude dt_converted  \n",
       "49499          ABILENE  United States   32.95N   100.53W   1982-01-01  \n",
       "49552          ABILENE  United States   32.95N   100.53W   1986-06-01  \n",
       "49641          ABILENE  United States   32.95N   100.53W   1993-11-01  \n",
       "49678          ABILENE  United States   32.95N   100.53W   1996-12-01  \n",
       "140079           AKRON  United States   40.99N    80.95W   1994-12-01  \n",
       "140172           AKRON  United States   40.99N    80.95W   2002-09-01  \n",
       "140273           AKRON  United States   40.99N    80.95W   2011-02-01  \n",
       "140274           AKRON  United States   40.99N    80.95W   2011-03-01  \n",
       "170072     ALBUQUERQUE  United States   34.56N   107.03W   1986-06-01  \n",
       "170094     ALBUQUERQUE  United States   34.56N   107.03W   1988-04-01  \n",
       "170178     ALBUQUERQUE  United States   34.56N   107.03W   1995-04-01  \n",
       "170344     ALBUQUERQUE  United States   34.56N   107.03W   2009-02-01  \n",
       "170350     ALBUQUERQUE  United States   34.56N   107.03W   2009-08-01  \n",
       "170353     ALBUQUERQUE  United States   34.56N   107.03W   2009-11-01  \n",
       "190199      ALEXANDRIA  United States   39.38N    76.99W   1966-06-01  \n",
       "190228      ALEXANDRIA  United States   39.38N    76.99W   1968-11-01  \n",
       "190357      ALEXANDRIA  United States   39.38N    76.99W   1979-08-01  \n",
       "190414      ALEXANDRIA  United States   39.38N    76.99W   1984-05-01  \n",
       "190497      ALEXANDRIA  United States   39.38N    76.99W   1991-04-01  \n",
       "190516      ALEXANDRIA  United States   39.38N    76.99W   1992-11-01  \n",
       "190545      ALEXANDRIA  United States   39.38N    76.99W   1995-04-01  \n",
       "190611      ALEXANDRIA  United States   39.38N    76.99W   2000-10-01  \n",
       "190681      ALEXANDRIA  United States   39.38N    76.99W   2006-08-01  \n",
       "190710      ALEXANDRIA  United States   39.38N    76.99W   2009-01-01  \n",
       "205303       ALLENTOWN  United States   40.99N    74.56W   1998-03-01  \n",
       "205318       ALLENTOWN  United States   40.99N    74.56W   1999-06-01  \n",
       "205440       ALLENTOWN  United States   40.99N    74.56W   2009-08-01  \n",
       "205479       ALLENTOWN  United States   40.99N    74.56W   2012-11-01  \n",
       "233540        AMARILLO  United States   34.56N   101.19W   1973-03-01  \n",
       "233594        AMARILLO  United States   34.56N   101.19W   1977-09-01  \n",
       "...                ...            ...      ...       ...          ...  \n",
       "8223759        WINDSOR  United States   42.59N    82.91W   1990-03-01  \n",
       "8223810        WINDSOR  United States   42.59N    82.91W   1994-06-01  \n",
       "8223812        WINDSOR  United States   42.59N    82.91W   1994-08-01  \n",
       "8223886        WINDSOR  United States   42.59N    82.91W   2000-10-01  \n",
       "8223911        WINDSOR  United States   42.59N    82.91W   2002-11-01  \n",
       "8223983        WINDSOR  United States   42.59N    82.91W   2008-11-01  \n",
       "8224031        WINDSOR  United States   42.59N    82.91W   2012-11-01  \n",
       "8229698  WINSTON SALEM  United States   36.17N    79.56W   1970-02-01  \n",
       "8229746  WINSTON SALEM  United States   36.17N    79.56W   1974-02-01  \n",
       "8229804  WINSTON SALEM  United States   36.17N    79.56W   1978-12-01  \n",
       "8229842  WINSTON SALEM  United States   36.17N    79.56W   1982-02-01  \n",
       "8229956  WINSTON SALEM  United States   36.17N    79.56W   1991-08-01  \n",
       "8229974  WINSTON SALEM  United States   36.17N    79.56W   1993-02-01  \n",
       "8230016  WINSTON SALEM  United States   36.17N    79.56W   1996-08-01  \n",
       "8230066  WINSTON SALEM  United States   36.17N    79.56W   2000-10-01  \n",
       "8230071  WINSTON SALEM  United States   36.17N    79.56W   2001-03-01  \n",
       "8230173  WINSTON SALEM  United States   36.17N    79.56W   2009-09-01  \n",
       "8230218  WINSTON SALEM  United States   36.17N    79.56W   2013-06-01  \n",
       "8255175      WORCESTER  United States   42.59N    72.00W   1987-06-01  \n",
       "8255212      WORCESTER  United States   42.59N    72.00W   1990-07-01  \n",
       "8255273      WORCESTER  United States   42.59N    72.00W   1995-08-01  \n",
       "8255296      WORCESTER  United States   42.59N    72.00W   1997-07-01  \n",
       "8255344      WORCESTER  United States   42.59N    72.00W   2001-07-01  \n",
       "8255373      WORCESTER  United States   42.59N    72.00W   2003-12-01  \n",
       "8255406      WORCESTER  United States   42.59N    72.00W   2006-09-01  \n",
       "8255482      WORCESTER  United States   42.59N    72.00W   2013-01-01  \n",
       "8439060        YONKERS  United States   40.99N    74.56W   1998-03-01  \n",
       "8439075        YONKERS  United States   40.99N    74.56W   1999-06-01  \n",
       "8439197        YONKERS  United States   40.99N    74.56W   2009-08-01  \n",
       "8439236        YONKERS  United States   40.99N    74.56W   2012-11-01  \n",
       "\n",
       "[2381 rows x 8 columns]"
      ]
     },
     "execution_count": 49,
     "metadata": {},
     "output_type": "execute_result"
    }
   ],
   "source": [
    "worldtempe_df[worldtempe_df[['City','AverageTemperature']].duplicated()]"
   ]
  },
  {
   "cell_type": "code",
   "execution_count": 55,
   "metadata": {
    "editable": true
   },
   "outputs": [
    {
     "data": {
      "text/html": [
       "<div>\n",
       "<style scoped>\n",
       "    .dataframe tbody tr th:only-of-type {\n",
       "        vertical-align: middle;\n",
       "    }\n",
       "\n",
       "    .dataframe tbody tr th {\n",
       "        vertical-align: top;\n",
       "    }\n",
       "\n",
       "    .dataframe thead th {\n",
       "        text-align: right;\n",
       "    }\n",
       "</style>\n",
       "<table border=\"1\" class=\"dataframe\">\n",
       "  <thead>\n",
       "    <tr style=\"text-align: right;\">\n",
       "      <th></th>\n",
       "      <th>dt</th>\n",
       "      <th>AverageTemperature</th>\n",
       "      <th>AverageTemperatureUncertainty</th>\n",
       "      <th>City</th>\n",
       "      <th>Country</th>\n",
       "      <th>Latitude</th>\n",
       "      <th>Longitude</th>\n",
       "      <th>dt_converted</th>\n",
       "    </tr>\n",
       "  </thead>\n",
       "  <tbody>\n",
       "    <tr>\n",
       "      <th>7148658</th>\n",
       "      <td>2013-05-01</td>\n",
       "      <td>14.309</td>\n",
       "      <td>0.331</td>\n",
       "      <td>SPRINGFIELD</td>\n",
       "      <td>United States</td>\n",
       "      <td>42.59N</td>\n",
       "      <td>72.00W</td>\n",
       "      <td>2013-05-01</td>\n",
       "    </tr>\n",
       "    <tr>\n",
       "      <th>7148659</th>\n",
       "      <td>2013-06-01</td>\n",
       "      <td>19.313</td>\n",
       "      <td>0.353</td>\n",
       "      <td>SPRINGFIELD</td>\n",
       "      <td>United States</td>\n",
       "      <td>42.59N</td>\n",
       "      <td>72.00W</td>\n",
       "      <td>2013-06-01</td>\n",
       "    </tr>\n",
       "    <tr>\n",
       "      <th>7148660</th>\n",
       "      <td>2013-07-01</td>\n",
       "      <td>23.629</td>\n",
       "      <td>0.447</td>\n",
       "      <td>SPRINGFIELD</td>\n",
       "      <td>United States</td>\n",
       "      <td>42.59N</td>\n",
       "      <td>72.00W</td>\n",
       "      <td>2013-07-01</td>\n",
       "    </tr>\n",
       "    <tr>\n",
       "      <th>7148661</th>\n",
       "      <td>2013-08-01</td>\n",
       "      <td>19.579</td>\n",
       "      <td>0.336</td>\n",
       "      <td>SPRINGFIELD</td>\n",
       "      <td>United States</td>\n",
       "      <td>42.59N</td>\n",
       "      <td>72.00W</td>\n",
       "      <td>2013-08-01</td>\n",
       "    </tr>\n",
       "    <tr>\n",
       "      <th>7148662</th>\n",
       "      <td>2013-09-01</td>\n",
       "      <td>15.883</td>\n",
       "      <td>1.368</td>\n",
       "      <td>SPRINGFIELD</td>\n",
       "      <td>United States</td>\n",
       "      <td>42.59N</td>\n",
       "      <td>72.00W</td>\n",
       "      <td>2013-09-01</td>\n",
       "    </tr>\n",
       "  </tbody>\n",
       "</table>\n",
       "</div>"
      ],
      "text/plain": [
       "                 dt  AverageTemperature  AverageTemperatureUncertainty  \\\n",
       "7148658  2013-05-01              14.309                          0.331   \n",
       "7148659  2013-06-01              19.313                          0.353   \n",
       "7148660  2013-07-01              23.629                          0.447   \n",
       "7148661  2013-08-01              19.579                          0.336   \n",
       "7148662  2013-09-01              15.883                          1.368   \n",
       "\n",
       "                City        Country Latitude Longitude dt_converted  \n",
       "7148658  SPRINGFIELD  United States   42.59N    72.00W   2013-05-01  \n",
       "7148659  SPRINGFIELD  United States   42.59N    72.00W   2013-06-01  \n",
       "7148660  SPRINGFIELD  United States   42.59N    72.00W   2013-07-01  \n",
       "7148661  SPRINGFIELD  United States   42.59N    72.00W   2013-08-01  \n",
       "7148662  SPRINGFIELD  United States   42.59N    72.00W   2013-09-01  "
      ]
     },
     "execution_count": 55,
     "metadata": {},
     "output_type": "execute_result"
    }
   ],
   "source": [
    "worldtempe_df[worldtempe_df[['City','dt_converted']].duplicated()].tail()"
   ]
  },
  {
   "cell_type": "code",
   "execution_count": 48,
   "metadata": {
    "editable": true
   },
   "outputs": [
    {
     "data": {
      "text/html": [
       "<div>\n",
       "<style scoped>\n",
       "    .dataframe tbody tr th:only-of-type {\n",
       "        vertical-align: middle;\n",
       "    }\n",
       "\n",
       "    .dataframe tbody tr th {\n",
       "        vertical-align: top;\n",
       "    }\n",
       "\n",
       "    .dataframe thead th {\n",
       "        text-align: right;\n",
       "    }\n",
       "</style>\n",
       "<table border=\"1\" class=\"dataframe\">\n",
       "  <thead>\n",
       "    <tr style=\"text-align: right;\">\n",
       "      <th></th>\n",
       "      <th>dt</th>\n",
       "      <th>AverageTemperature</th>\n",
       "      <th>AverageTemperatureUncertainty</th>\n",
       "      <th>City</th>\n",
       "      <th>Country</th>\n",
       "      <th>Latitude</th>\n",
       "      <th>Longitude</th>\n",
       "      <th>dt_converted</th>\n",
       "    </tr>\n",
       "  </thead>\n",
       "  <tbody>\n",
       "    <tr>\n",
       "      <th>7142183</th>\n",
       "      <td>2013-08-01</td>\n",
       "      <td>24.568</td>\n",
       "      <td>0.303</td>\n",
       "      <td>SPRINGFIELD</td>\n",
       "      <td>United States</td>\n",
       "      <td>37.78N</td>\n",
       "      <td>93.56W</td>\n",
       "      <td>2013-08-01</td>\n",
       "    </tr>\n",
       "    <tr>\n",
       "      <th>7145422</th>\n",
       "      <td>2013-08-01</td>\n",
       "      <td>23.645</td>\n",
       "      <td>0.378</td>\n",
       "      <td>SPRINGFIELD</td>\n",
       "      <td>United States</td>\n",
       "      <td>39.38N</td>\n",
       "      <td>89.48W</td>\n",
       "      <td>2013-08-01</td>\n",
       "    </tr>\n",
       "    <tr>\n",
       "      <th>7148661</th>\n",
       "      <td>2013-08-01</td>\n",
       "      <td>19.579</td>\n",
       "      <td>0.336</td>\n",
       "      <td>SPRINGFIELD</td>\n",
       "      <td>United States</td>\n",
       "      <td>42.59N</td>\n",
       "      <td>72.00W</td>\n",
       "      <td>2013-08-01</td>\n",
       "    </tr>\n",
       "  </tbody>\n",
       "</table>\n",
       "</div>"
      ],
      "text/plain": [
       "                 dt  AverageTemperature  AverageTemperatureUncertainty  \\\n",
       "7142183  2013-08-01              24.568                          0.303   \n",
       "7145422  2013-08-01              23.645                          0.378   \n",
       "7148661  2013-08-01              19.579                          0.336   \n",
       "\n",
       "                City        Country Latitude Longitude dt_converted  \n",
       "7142183  SPRINGFIELD  United States   37.78N    93.56W   2013-08-01  \n",
       "7145422  SPRINGFIELD  United States   39.38N    89.48W   2013-08-01  \n",
       "7148661  SPRINGFIELD  United States   42.59N    72.00W   2013-08-01  "
      ]
     },
     "execution_count": 48,
     "metadata": {},
     "output_type": "execute_result"
    }
   ],
   "source": [
    "worldtempe_df[(worldtempe_df['City'] == 'SPRINGFIELD') & (worldtempe_df.dt == '2013-08-01')]"
   ]
  },
  {
   "cell_type": "code",
   "execution_count": 54,
   "metadata": {
    "editable": true
   },
   "outputs": [
    {
     "data": {
      "text/html": [
       "<div>\n",
       "<style scoped>\n",
       "    .dataframe tbody tr th:only-of-type {\n",
       "        vertical-align: middle;\n",
       "    }\n",
       "\n",
       "    .dataframe tbody tr th {\n",
       "        vertical-align: top;\n",
       "    }\n",
       "\n",
       "    .dataframe thead th {\n",
       "        text-align: right;\n",
       "    }\n",
       "</style>\n",
       "<table border=\"1\" class=\"dataframe\">\n",
       "  <thead>\n",
       "    <tr style=\"text-align: right;\">\n",
       "      <th></th>\n",
       "      <th>dt</th>\n",
       "      <th>AverageTemperature</th>\n",
       "      <th>AverageTemperatureUncertainty</th>\n",
       "      <th>City</th>\n",
       "      <th>Country</th>\n",
       "      <th>Latitude</th>\n",
       "      <th>Longitude</th>\n",
       "      <th>dt_converted</th>\n",
       "    </tr>\n",
       "  </thead>\n",
       "  <tbody>\n",
       "    <tr>\n",
       "      <th>8439245</th>\n",
       "      <td>2013-08-01</td>\n",
       "      <td>21.001</td>\n",
       "      <td>0.323</td>\n",
       "      <td>YONKERS</td>\n",
       "      <td>United States</td>\n",
       "      <td>40.99N</td>\n",
       "      <td>74.56W</td>\n",
       "      <td>2013-08-01</td>\n",
       "    </tr>\n",
       "  </tbody>\n",
       "</table>\n",
       "</div>"
      ],
      "text/plain": [
       "                 dt  AverageTemperature  AverageTemperatureUncertainty  \\\n",
       "8439245  2013-08-01              21.001                          0.323   \n",
       "\n",
       "            City        Country Latitude Longitude dt_converted  \n",
       "8439245  YONKERS  United States   40.99N    74.56W   2013-08-01  "
      ]
     },
     "execution_count": 54,
     "metadata": {},
     "output_type": "execute_result"
    }
   ],
   "source": [
    "worldtempe_df[(worldtempe_df['City'] == 'YONKERS') & (worldtempe_df.dt == '2013-08-01')]"
   ]
  },
  {
   "cell_type": "code",
   "execution_count": 53,
   "metadata": {
    "editable": true
   },
   "outputs": [
    {
     "data": {
      "text/html": [
       "<div>\n",
       "<style scoped>\n",
       "    .dataframe tbody tr th:only-of-type {\n",
       "        vertical-align: middle;\n",
       "    }\n",
       "\n",
       "    .dataframe tbody tr th {\n",
       "        vertical-align: top;\n",
       "    }\n",
       "\n",
       "    .dataframe thead th {\n",
       "        text-align: right;\n",
       "    }\n",
       "</style>\n",
       "<table border=\"1\" class=\"dataframe\">\n",
       "  <thead>\n",
       "    <tr style=\"text-align: right;\">\n",
       "      <th></th>\n",
       "      <th>dt</th>\n",
       "      <th>AverageTemperature</th>\n",
       "      <th>AverageTemperatureUncertainty</th>\n",
       "      <th>City</th>\n",
       "      <th>Country</th>\n",
       "      <th>Latitude</th>\n",
       "      <th>Longitude</th>\n",
       "      <th>dt_converted</th>\n",
       "    </tr>\n",
       "  </thead>\n",
       "  <tbody>\n",
       "    <tr>\n",
       "      <th>8229698</th>\n",
       "      <td>1970-02-01</td>\n",
       "      <td>4.411</td>\n",
       "      <td>0.146</td>\n",
       "      <td>WINSTON SALEM</td>\n",
       "      <td>United States</td>\n",
       "      <td>36.17N</td>\n",
       "      <td>79.56W</td>\n",
       "      <td>1970-02-01</td>\n",
       "    </tr>\n",
       "  </tbody>\n",
       "</table>\n",
       "</div>"
      ],
      "text/plain": [
       "                 dt  AverageTemperature  AverageTemperatureUncertainty  \\\n",
       "8229698  1970-02-01               4.411                          0.146   \n",
       "\n",
       "                  City        Country Latitude Longitude dt_converted  \n",
       "8229698  WINSTON SALEM  United States   36.17N    79.56W   1970-02-01  "
      ]
     },
     "execution_count": 53,
     "metadata": {},
     "output_type": "execute_result"
    }
   ],
   "source": [
    "worldtempe_df[(worldtempe_df['City'] == 'WINSTON SALEM') & (worldtempe_df.dt == '1970-02-01')]"
   ]
  },
  {
   "cell_type": "markdown",
   "metadata": {
    "editable": true
   },
   "source": [
    "Seem like there are multi temperature sensor was distributed many points of a city. The temperature results of a city are difference not much."
   ]
  },
  {
   "cell_type": "code",
   "execution_count": 42,
   "metadata": {
    "editable": true
   },
   "outputs": [
    {
     "data": {
      "text/html": [
       "<div>\n",
       "<style scoped>\n",
       "    .dataframe tbody tr th:only-of-type {\n",
       "        vertical-align: middle;\n",
       "    }\n",
       "\n",
       "    .dataframe tbody tr th {\n",
       "        vertical-align: top;\n",
       "    }\n",
       "\n",
       "    .dataframe thead th {\n",
       "        text-align: right;\n",
       "    }\n",
       "</style>\n",
       "<table border=\"1\" class=\"dataframe\">\n",
       "  <thead>\n",
       "    <tr style=\"text-align: right;\">\n",
       "      <th></th>\n",
       "      <th>dt</th>\n",
       "      <th>AverageTemperature</th>\n",
       "      <th>AverageTemperatureUncertainty</th>\n",
       "      <th>City</th>\n",
       "      <th>Country</th>\n",
       "      <th>Latitude</th>\n",
       "      <th>Longitude</th>\n",
       "      <th>dt_converted</th>\n",
       "    </tr>\n",
       "  </thead>\n",
       "  <tbody>\n",
       "    <tr>\n",
       "      <th>487934</th>\n",
       "      <td>1986-11-01</td>\n",
       "      <td>2.766</td>\n",
       "      <td>0.194</td>\n",
       "      <td>AURORA</td>\n",
       "      <td>United States</td>\n",
       "      <td>40.99N</td>\n",
       "      <td>87.34W</td>\n",
       "      <td>1986-11-01</td>\n",
       "    </tr>\n",
       "    <tr>\n",
       "      <th>7144796</th>\n",
       "      <td>1961-06-01</td>\n",
       "      <td>21.821</td>\n",
       "      <td>0.404</td>\n",
       "      <td>SPRINGFIELD</td>\n",
       "      <td>United States</td>\n",
       "      <td>39.38N</td>\n",
       "      <td>89.48W</td>\n",
       "      <td>1961-06-01</td>\n",
       "    </tr>\n",
       "  </tbody>\n",
       "</table>\n",
       "</div>"
      ],
      "text/plain": [
       "                 dt  AverageTemperature  AverageTemperatureUncertainty  \\\n",
       "487934   1986-11-01               2.766                          0.194   \n",
       "7144796  1961-06-01              21.821                          0.404   \n",
       "\n",
       "                City        Country Latitude Longitude dt_converted  \n",
       "487934        AURORA  United States   40.99N    87.34W   1986-11-01  \n",
       "7144796  SPRINGFIELD  United States   39.38N    89.48W   1961-06-01  "
      ]
     },
     "execution_count": 42,
     "metadata": {},
     "output_type": "execute_result"
    }
   ],
   "source": [
    "worldtempe_df[worldtempe_df[['City','dt_converted','AverageTemperature']].duplicated()].tail()"
   ]
  },
  {
   "cell_type": "markdown",
   "metadata": {
    "editable": true
   },
   "source": [
    "Unique values should be the combination of `'City','dt_converted','AverageTemperature'`"
   ]
  },
  {
   "cell_type": "markdown",
   "metadata": {
    "editable": true
   },
   "source": [
    "### Standalizing column names format"
   ]
  },
  {
   "cell_type": "markdown",
   "metadata": {
    "editable": true
   },
   "source": [
    "Convert column names to ***snake_case*** format. Format ex: *customer_name, billing_address, ...*"
   ]
  },
  {
   "cell_type": "code",
   "execution_count": 56,
   "metadata": {
    "editable": true
   },
   "outputs": [
    {
     "data": {
      "text/plain": [
       "Index(['dt', 'averagetemperature', 'averagetemperatureuncertainty', 'city',\n",
       "       'country', 'latitude', 'longitude', 'dt_converted'],\n",
       "      dtype='object')"
      ]
     },
     "execution_count": 56,
     "metadata": {},
     "output_type": "execute_result"
    }
   ],
   "source": [
    "convert_column_names(worldtempe_df)\n",
    "worldtempe_df.columns"
   ]
  },
  {
   "cell_type": "code",
   "execution_count": 57,
   "metadata": {
    "editable": true
   },
   "outputs": [
    {
     "data": {
      "text/plain": [
       "Index(['dt', 'averagetemperature', 'averagetemperatureuncertainty', 'city',\n",
       "       'dt_converted', 'country'],\n",
       "      dtype='object')"
      ]
     },
     "execution_count": 57,
     "metadata": {},
     "output_type": "execute_result"
    }
   ],
   "source": [
    "staging_cols = ['dt', 'averagetemperature', 'averagetemperatureuncertainty', 'city', 'dt_converted','country']\n",
    "worldtempe_df = worldtempe_df[staging_cols]\n",
    "worldtempe_df.columns"
   ]
  },
  {
   "cell_type": "code",
   "execution_count": 58,
   "metadata": {
    "editable": true
   },
   "outputs": [
    {
     "data": {
      "text/html": [
       "<div>\n",
       "<style scoped>\n",
       "    .dataframe tbody tr th:only-of-type {\n",
       "        vertical-align: middle;\n",
       "    }\n",
       "\n",
       "    .dataframe tbody tr th {\n",
       "        vertical-align: top;\n",
       "    }\n",
       "\n",
       "    .dataframe thead th {\n",
       "        text-align: right;\n",
       "    }\n",
       "</style>\n",
       "<table border=\"1\" class=\"dataframe\">\n",
       "  <thead>\n",
       "    <tr style=\"text-align: right;\">\n",
       "      <th></th>\n",
       "      <th>dt</th>\n",
       "      <th>averagetemperature</th>\n",
       "      <th>averagetemperatureuncertainty</th>\n",
       "      <th>city</th>\n",
       "      <th>dt_converted</th>\n",
       "      <th>country</th>\n",
       "    </tr>\n",
       "  </thead>\n",
       "  <tbody>\n",
       "    <tr>\n",
       "      <th>49236</th>\n",
       "      <td>1960-02-01</td>\n",
       "      <td>4.995</td>\n",
       "      <td>0.325</td>\n",
       "      <td>ABILENE</td>\n",
       "      <td>1960-02-01</td>\n",
       "      <td>United States</td>\n",
       "    </tr>\n",
       "    <tr>\n",
       "      <th>49237</th>\n",
       "      <td>1960-03-01</td>\n",
       "      <td>8.575</td>\n",
       "      <td>0.303</td>\n",
       "      <td>ABILENE</td>\n",
       "      <td>1960-03-01</td>\n",
       "      <td>United States</td>\n",
       "    </tr>\n",
       "    <tr>\n",
       "      <th>49238</th>\n",
       "      <td>1960-04-01</td>\n",
       "      <td>18.452</td>\n",
       "      <td>0.282</td>\n",
       "      <td>ABILENE</td>\n",
       "      <td>1960-04-01</td>\n",
       "      <td>United States</td>\n",
       "    </tr>\n",
       "    <tr>\n",
       "      <th>49239</th>\n",
       "      <td>1960-05-01</td>\n",
       "      <td>21.709</td>\n",
       "      <td>0.286</td>\n",
       "      <td>ABILENE</td>\n",
       "      <td>1960-05-01</td>\n",
       "      <td>United States</td>\n",
       "    </tr>\n",
       "    <tr>\n",
       "      <th>49240</th>\n",
       "      <td>1960-06-01</td>\n",
       "      <td>27.714</td>\n",
       "      <td>0.387</td>\n",
       "      <td>ABILENE</td>\n",
       "      <td>1960-06-01</td>\n",
       "      <td>United States</td>\n",
       "    </tr>\n",
       "  </tbody>\n",
       "</table>\n",
       "</div>"
      ],
      "text/plain": [
       "               dt  averagetemperature  averagetemperatureuncertainty     city  \\\n",
       "49236  1960-02-01               4.995                          0.325  ABILENE   \n",
       "49237  1960-03-01               8.575                          0.303  ABILENE   \n",
       "49238  1960-04-01              18.452                          0.282  ABILENE   \n",
       "49239  1960-05-01              21.709                          0.286  ABILENE   \n",
       "49240  1960-06-01              27.714                          0.387  ABILENE   \n",
       "\n",
       "      dt_converted        country  \n",
       "49236   1960-02-01  United States  \n",
       "49237   1960-03-01  United States  \n",
       "49238   1960-04-01  United States  \n",
       "49239   1960-05-01  United States  \n",
       "49240   1960-06-01  United States  "
      ]
     },
     "execution_count": 58,
     "metadata": {},
     "output_type": "execute_result"
    }
   ],
   "source": [
    "worldtempe_df.head()"
   ]
  },
  {
   "cell_type": "code",
   "execution_count": 59,
   "metadata": {
    "editable": true
   },
   "outputs": [
    {
     "name": "stdout",
     "output_type": "stream",
     "text": [
      "<class 'pandas.core.frame.DataFrame'>\n",
      "Int64Index: 165508 entries, 49236 to 8439246\n",
      "Data columns (total 6 columns):\n",
      "dt                               165508 non-null object\n",
      "averagetemperature               165507 non-null float64\n",
      "averagetemperatureuncertainty    165507 non-null float64\n",
      "city                             165508 non-null object\n",
      "dt_converted                     165508 non-null datetime64[ns]\n",
      "country                          165508 non-null object\n",
      "dtypes: datetime64[ns](1), float64(2), object(3)\n",
      "memory usage: 8.8+ MB\n"
     ]
    }
   ],
   "source": [
    "worldtempe_df.info()"
   ]
  },
  {
   "cell_type": "markdown",
   "metadata": {
    "editable": true
   },
   "source": [
    "### Baseline dataframe World Teperature"
   ]
  },
  {
   "cell_type": "code",
   "execution_count": 60,
   "metadata": {
    "editable": true
   },
   "outputs": [],
   "source": [
    "worldtempe_df.to_csv('worldtempe_df_clean.csv', index=False, header=True)"
   ]
  },
  {
   "cell_type": "code",
   "execution_count": 62,
   "metadata": {
    "editable": true
   },
   "outputs": [
    {
     "name": "stdout",
     "output_type": "stream",
     "text": [
      "<class 'pandas.core.frame.DataFrame'>\n",
      "RangeIndex: 165508 entries, 0 to 165507\n",
      "Data columns (total 6 columns):\n",
      "dt                               165508 non-null object\n",
      "averagetemperature               165507 non-null float64\n",
      "averagetemperatureuncertainty    165507 non-null float64\n",
      "city                             165508 non-null object\n",
      "dt_converted                     165508 non-null object\n",
      "country                          165508 non-null object\n",
      "dtypes: float64(2), object(4)\n",
      "memory usage: 7.6+ MB\n"
     ]
    }
   ],
   "source": [
    "# Verify\n",
    "worldtempe_df = pd.read_csv('worldtempe_df_clean.csv',sep=\",\")\n",
    "worldtempe_df.info()"
   ]
  },
  {
   "cell_type": "code",
   "execution_count": 63,
   "metadata": {
    "editable": true
   },
   "outputs": [
    {
     "data": {
      "text/html": [
       "<div>\n",
       "<style scoped>\n",
       "    .dataframe tbody tr th:only-of-type {\n",
       "        vertical-align: middle;\n",
       "    }\n",
       "\n",
       "    .dataframe tbody tr th {\n",
       "        vertical-align: top;\n",
       "    }\n",
       "\n",
       "    .dataframe thead th {\n",
       "        text-align: right;\n",
       "    }\n",
       "</style>\n",
       "<table border=\"1\" class=\"dataframe\">\n",
       "  <thead>\n",
       "    <tr style=\"text-align: right;\">\n",
       "      <th></th>\n",
       "      <th>dt</th>\n",
       "      <th>averagetemperature</th>\n",
       "      <th>averagetemperatureuncertainty</th>\n",
       "      <th>city</th>\n",
       "      <th>dt_converted</th>\n",
       "      <th>country</th>\n",
       "    </tr>\n",
       "  </thead>\n",
       "  <tbody>\n",
       "    <tr>\n",
       "      <th>0</th>\n",
       "      <td>1960-02-01</td>\n",
       "      <td>4.995</td>\n",
       "      <td>0.325</td>\n",
       "      <td>ABILENE</td>\n",
       "      <td>1960-02-01</td>\n",
       "      <td>United States</td>\n",
       "    </tr>\n",
       "    <tr>\n",
       "      <th>1</th>\n",
       "      <td>1960-03-01</td>\n",
       "      <td>8.575</td>\n",
       "      <td>0.303</td>\n",
       "      <td>ABILENE</td>\n",
       "      <td>1960-03-01</td>\n",
       "      <td>United States</td>\n",
       "    </tr>\n",
       "    <tr>\n",
       "      <th>2</th>\n",
       "      <td>1960-04-01</td>\n",
       "      <td>18.452</td>\n",
       "      <td>0.282</td>\n",
       "      <td>ABILENE</td>\n",
       "      <td>1960-04-01</td>\n",
       "      <td>United States</td>\n",
       "    </tr>\n",
       "    <tr>\n",
       "      <th>3</th>\n",
       "      <td>1960-05-01</td>\n",
       "      <td>21.709</td>\n",
       "      <td>0.286</td>\n",
       "      <td>ABILENE</td>\n",
       "      <td>1960-05-01</td>\n",
       "      <td>United States</td>\n",
       "    </tr>\n",
       "    <tr>\n",
       "      <th>4</th>\n",
       "      <td>1960-06-01</td>\n",
       "      <td>27.714</td>\n",
       "      <td>0.387</td>\n",
       "      <td>ABILENE</td>\n",
       "      <td>1960-06-01</td>\n",
       "      <td>United States</td>\n",
       "    </tr>\n",
       "  </tbody>\n",
       "</table>\n",
       "</div>"
      ],
      "text/plain": [
       "           dt  averagetemperature  averagetemperatureuncertainty     city  \\\n",
       "0  1960-02-01               4.995                          0.325  ABILENE   \n",
       "1  1960-03-01               8.575                          0.303  ABILENE   \n",
       "2  1960-04-01              18.452                          0.282  ABILENE   \n",
       "3  1960-05-01              21.709                          0.286  ABILENE   \n",
       "4  1960-06-01              27.714                          0.387  ABILENE   \n",
       "\n",
       "  dt_converted        country  \n",
       "0   1960-02-01  United States  \n",
       "1   1960-03-01  United States  \n",
       "2   1960-04-01  United States  \n",
       "3   1960-05-01  United States  \n",
       "4   1960-06-01  United States  "
      ]
     },
     "execution_count": 63,
     "metadata": {},
     "output_type": "execute_result"
    }
   ],
   "source": [
    "worldtempe_df.head()"
   ]
  },
  {
   "cell_type": "raw",
   "metadata": {
    "editable": true
   },
   "source": [
    "===========================================================================================================\n",
    "    \n",
    "==========================================================================================================="
   ]
  },
  {
   "cell_type": "markdown",
   "metadata": {
    "editable": true
   },
   "source": [
    "### Staging cleaned `WORLD TEMPERATURE` from saved csv partitions"
   ]
  },
  {
   "cell_type": "code",
   "execution_count": null,
   "metadata": {
    "editable": true
   },
   "outputs": [],
   "source": [
    "# clear old dir\n",
    "rmdir(Path(\"worldtempe_df_clean\"))"
   ]
  },
  {
   "cell_type": "code",
   "execution_count": 65,
   "metadata": {
    "editable": true
   },
   "outputs": [],
   "source": [
    "worldtempe_df = spark.read.csv(\"worldtempe_df_clean.csv\", header=True)"
   ]
  },
  {
   "cell_type": "code",
   "execution_count": null,
   "metadata": {
    "editable": true
   },
   "outputs": [],
   "source": [
    "# Write dataframe to CSV partitions use Spark\n",
    "# worldtempe_df.write.options(header=\"True\", delimiter=\",\").csv(\"worldtempe_df_clean\")\n",
    "# worldtempe_df.write.mode('overwrite').csv(\"worldtempe_df_clean\")\n",
    "# worldtempe_df.write.options(header=\"True\", delimiter=\",\").csv(\"worldtempe_df_clean\")\n",
    "\n",
    "# Read out from CSV file to spark dataframe\n",
    "# worldtempe_df = spark.read.csv(\"worldtempe_df_clean.csv\")\n",
    "# worldtempe_df = spark.read.options(inferSchema=\"true\", delimiter=\",\", header = \"true\").csv(\"worldtempe_df_clean\")"
   ]
  },
  {
   "cell_type": "code",
   "execution_count": 66,
   "metadata": {
    "editable": true
   },
   "outputs": [
    {
     "name": "stdout",
     "output_type": "stream",
     "text": [
      "+----------+------------------+-----------------------------+-------+------------+-------------+\n",
      "|        dt|averagetemperature|averagetemperatureuncertainty|   city|dt_converted|      country|\n",
      "+----------+------------------+-----------------------------+-------+------------+-------------+\n",
      "|1960-02-01|             4.995|                        0.325|ABILENE|  1960-02-01|United States|\n",
      "|1960-03-01| 8.575000000000001|                        0.303|ABILENE|  1960-03-01|United States|\n",
      "|1960-04-01|            18.452|                        0.282|ABILENE|  1960-04-01|United States|\n",
      "|1960-05-01|            21.709|          0.28600000000000003|ABILENE|  1960-05-01|United States|\n",
      "|1960-06-01|            27.714|                        0.387|ABILENE|  1960-06-01|United States|\n",
      "|1960-07-01|            27.646|                        0.326|ABILENE|  1960-07-01|United States|\n",
      "|1960-08-01|            27.481|                        0.341|ABILENE|  1960-08-01|United States|\n",
      "|1960-09-01|            24.413|                        0.241|ABILENE|  1960-09-01|United States|\n",
      "|1960-10-01|18.929000000000002|          0.28600000000000003|ABILENE|  1960-10-01|United States|\n",
      "|1960-11-01|            12.531|                        0.235|ABILENE|  1960-11-01|United States|\n",
      "|1960-12-01|             4.114|                        0.214|ABILENE|  1960-12-01|United States|\n",
      "|1961-01-01|             3.827|                        0.337|ABILENE|  1961-01-01|United States|\n",
      "|1961-02-01|              7.63|                        0.349|ABILENE|  1961-02-01|United States|\n",
      "|1961-03-01|12.799000000000001|                        0.329|ABILENE|  1961-03-01|United States|\n",
      "|1961-04-01|            17.142|                        0.397|ABILENE|  1961-04-01|United States|\n",
      "|1961-05-01|            22.582|                        0.254|ABILENE|  1961-05-01|United States|\n",
      "|1961-06-01|             24.53|                        0.333|ABILENE|  1961-06-01|United States|\n",
      "|1961-07-01|            25.783|                         0.24|ABILENE|  1961-07-01|United States|\n",
      "|1961-08-01|26.052000000000003|                        0.205|ABILENE|  1961-08-01|United States|\n",
      "|1961-09-01|22.875999999999998|                        0.391|ABILENE|  1961-09-01|United States|\n",
      "+----------+------------------+-----------------------------+-------+------------+-------------+\n",
      "only showing top 20 rows\n",
      "\n"
     ]
    }
   ],
   "source": [
    "# Verify loaded dataframe\n",
    "worldtempe_df.show()"
   ]
  },
  {
   "cell_type": "code",
   "execution_count": 67,
   "metadata": {
    "editable": true
   },
   "outputs": [],
   "source": [
    "# Create table from dataframe\n",
    "worldtempe_df.createOrReplaceTempView('worldtempe_table')"
   ]
  },
  {
   "cell_type": "code",
   "execution_count": 68,
   "metadata": {
    "editable": true
   },
   "outputs": [
    {
     "name": "stdout",
     "output_type": "stream",
     "text": [
      "+----------------------+\n",
      "|amount_worldtempe_rows|\n",
      "+----------------------+\n",
      "|                165508|\n",
      "+----------------------+\n",
      "\n"
     ]
    }
   ],
   "source": [
    "# Verify created table will be using for staging\n",
    "spark.sql(\"\"\"\n",
    "    SELECT COUNT(*) as amount_worldtempe_rows\n",
    "    FROM worldtempe_table\n",
    "\"\"\").show()"
   ]
  },
  {
   "cell_type": "code",
   "execution_count": null,
   "metadata": {
    "editable": true
   },
   "outputs": [],
   "source": []
  },
  {
   "cell_type": "code",
   "execution_count": null,
   "metadata": {
    "editable": true
   },
   "outputs": [],
   "source": []
  },
  {
   "cell_type": "code",
   "execution_count": null,
   "metadata": {
    "editable": true
   },
   "outputs": [],
   "source": []
  },
  {
   "cell_type": "code",
   "execution_count": null,
   "metadata": {
    "editable": true
   },
   "outputs": [],
   "source": []
  },
  {
   "cell_type": "code",
   "execution_count": null,
   "metadata": {
    "editable": true
   },
   "outputs": [],
   "source": []
  }
 ],
 "metadata": {
  "kernelspec": {
   "display_name": "Python 3",
   "language": "python",
   "name": "python3"
  },
  "language_info": {
   "codemirror_mode": {
    "name": "ipython",
    "version": 3
   },
   "file_extension": ".py",
   "mimetype": "text/x-python",
   "name": "python",
   "nbconvert_exporter": "python",
   "pygments_lexer": "ipython3",
   "version": "3.10.8"
  },
  "vscode": {
   "interpreter": {
    "hash": "6f19dfd6b1cd7fd360d4f2c4802461aa893d068ea99183b3eab6718091575a5a"
   }
  }
 },
 "nbformat": 4,
 "nbformat_minor": 4
}
